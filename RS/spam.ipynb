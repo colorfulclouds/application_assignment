{
 "cells": [
  {
   "cell_type": "code",
   "execution_count": 45,
   "metadata": {
    "collapsed": true
   },
   "outputs": [],
   "source": [
    "import re\n",
    "import math\n",
    "import sqlite3"
   ]
  },
  {
   "cell_type": "code",
   "execution_count": 6,
   "metadata": {
    "collapsed": true
   },
   "outputs": [],
   "source": [
    "#取出文档中的单词 并将单词全部变为小写\n",
    "def getwords(doc):\n",
    "    splitter = re.compile('\\\\W*')\n",
    "    \n",
    "    words = [s.lower() for s in splitter.split(doc) \n",
    "             if len(s) > 2 and len(s) < 20]\n",
    "    \n",
    "    return dict([(w , 1) for w in words])\n",
    "\n",
    "\n",
    "#导入一些简单的训练数据\n",
    "def sampletrain(c1):\n",
    "    c1.train('Nobody owns the water' , 'good')\n",
    "    c1.train('the quick rabbit jumps fences' , 'good')\n",
    "    c1.train('buy pharmaceuticals now' , 'bad')\n",
    "    c1.train('make quick money at the online casino' , 'bad')\n",
    "    c1.train('the quick brown fox jumps' , 'good')"
   ]
  },
  {
   "cell_type": "code",
   "execution_count": 62,
   "metadata": {
    "collapsed": true
   },
   "outputs": [],
   "source": [
    "class classifier:\n",
    "    def __init__(self , getfeatures , filename = None):\n",
    "        self.fc = {} #统计特征 分类组合\n",
    "        self.cc = {} #每个类别中文档数量\n",
    "        self.getfeatures = getfeatures\n",
    "        #add\n",
    "        self.thresholds = {}\n",
    "        \n",
    "    #def incf(self , f , cat):\n",
    "    #    self.fc.setdefault(f , {})\n",
    "    #    self.fc[f].setdefault(cat , 0)\n",
    "    #    self.fc[f][cat] += 1\n",
    "    #\n",
    "    #def incc(self , cat):\n",
    "    #    self.cc.setdefault(cat , 0)\n",
    "    #    self.cc[cat] += 1\n",
    "    #    \n",
    "    #def fcount(self , f , cat):\n",
    "    #    if f in self.fc and cat in self.fc[f]:\n",
    "    #        return float(self.fc[f][cat])\n",
    "    #\n",
    "    #    return 0.0\n",
    "    #\n",
    "    #def catcount(self , cat):\n",
    "    #    if cat in self.cc:\n",
    "    #        return float(self.cc[cat])\n",
    "    #    \n",
    "    #    return 0\n",
    "    \n",
    "    #def totalcount(self):\n",
    "    #    return sum(self.cc.values())\n",
    "    #\n",
    "    #def categories(self):\n",
    "    #    return self.cc.keys()\n",
    "    \n",
    "    #训练方法 目前就是对特征单词出现的次数进行统计\n",
    "    def train(self , item , cat):\n",
    "        features = self.getfeatures(item)\n",
    "        \n",
    "        for f in features:\n",
    "            self.incf(f , cat)\n",
    "        \n",
    "        self.incc(cat)\n",
    "        \n",
    "        #下面这句话是在增加数据库操作之后添加的\n",
    "        self.con.commit()\n",
    "        \n",
    "    #计算概率\n",
    "    def fprob(self , f , cat):\n",
    "        if self.catcount(cat) == 0:\n",
    "            return 0\n",
    "    \n",
    "        return self.fcount(f , cat) / self.catcount(cat)\n",
    "    \n",
    "    def weightedprob(self , f , cat , prf , weight=1.0 , ap = 0.5):\n",
    "        basicprob = prf(f , cat)\n",
    "        \n",
    "        totals = sum([self.fcount(f , c) for c in self.categories()])\n",
    "        \n",
    "        bp = ((weight*ap) + (totals*basicprob)) / (weight+totals)\n",
    "        \n",
    "        return bp\n",
    "    \n",
    "    def setthreshold(self , cat , t):\n",
    "        self.thresholds[cat] = t\n",
    "    \n",
    "    def getthreshold(self , cat):\n",
    "        if cat not in self.thresholds:\n",
    "            return 1.0\n",
    "        \n",
    "        return self.thresholds[cat]\n",
    "    \n",
    "    def classify(self , item , default = None):\n",
    "        probs = {}\n",
    "        \n",
    "        max = 0.0\n",
    "        for cat in self.categories():\n",
    "            probs[cat] = self.prob(item , cat)\n",
    "            if probs[cat]>max:\n",
    "                max = probs[cat]\n",
    "                best = cat\n",
    "            \n",
    "        for cat in probs:\n",
    "            if cat == best:\n",
    "                continue\n",
    "            if probs[cat]*self.getthreshold(best)>probs[best]:\n",
    "                return default\n",
    "        \n",
    "        return best\n",
    "    \n",
    "    #===========\n",
    "    #+++++++++++\n",
    "    #植入数据库\n",
    "    def setdb(self , dbfile):\n",
    "        self.con = sqlite3.connect(dbfile)\n",
    "        self.con.execute('create table if not exists fc(feature , category,count)')\n",
    "        self.con.execute('create table if not exists cc(category , count)')\n",
    "        \n",
    "    def incf(self , f , cat):\n",
    "        count = self.fcount(f , cat)\n",
    "        if count == 0:\n",
    "            self.con.execute(\"insert into fc values ('%s','%s',1)\" % (f , cat))\n",
    "        else:\n",
    "            self.con.execute(\n",
    "            \"update fc set count=%d where feature='%s' and category='%s'\" \n",
    "            % (count+1 , f , cat))\n",
    "    \n",
    "    def fcount(self , f ,cat):\n",
    "        res = self.con.execute(\n",
    "        \"select count from fc where feature='%s' and category ='%s'\" \n",
    "        % (f,cat)).fetchone()\n",
    "        \n",
    "        if res == None:\n",
    "            return 0\n",
    "        else:\n",
    "            return float(res[0])\n",
    "        \n",
    "    def incc(self , cat):\n",
    "        count = self.catcount(cat)\n",
    "        if count == 0:\n",
    "            self.con.execute(\n",
    "            \"insert into cc values ('%s' , 1)\" % (cat))\n",
    "        else:\n",
    "            self.con.execute(\n",
    "            \"update cc set count=%d where category='%s'\" % (count+1 , cat))\n",
    "        \n",
    "    def catcount(self , cat):\n",
    "        res = self.con.execute(\n",
    "        \"select count from cc where category='%s'\" % (cat)).fetchone()\n",
    "        \n",
    "        if res == None:\n",
    "            return 0\n",
    "        else:\n",
    "            return float(res[0])\n",
    "        \n",
    "    def categories(self):\n",
    "        cur = self.con.execute(\n",
    "        \"select category from cc\")\n",
    "        return [d[0] for d in cur]\n",
    "    \n",
    "    def totalcount(self):\n",
    "        res = self.con.execute(\n",
    "        \"select sum(count) from cc\").fetchone()\n",
    "        \n",
    "        if res == None:\n",
    "            return 0\n",
    "        \n",
    "        return res[0]"
   ]
  },
  {
   "cell_type": "code",
   "execution_count": 4,
   "metadata": {},
   "outputs": [
    {
     "data": {
      "text/plain": [
       "1.0"
      ]
     },
     "execution_count": 4,
     "metadata": {},
     "output_type": "execute_result"
    }
   ],
   "source": [
    "c1 = classifier(getwords)\n",
    "c1.train('the quick brown fox jumps over the lazy dog' , 'good')\n",
    "c1.train('make quick money in the online casino' , 'bad')\n",
    "\n",
    "c1.fcount('quick' , 'good')"
   ]
  },
  {
   "cell_type": "code",
   "execution_count": 5,
   "metadata": {},
   "outputs": [
    {
     "data": {
      "text/plain": [
       "1.0"
      ]
     },
     "execution_count": 5,
     "metadata": {},
     "output_type": "execute_result"
    }
   ],
   "source": [
    "c1.fcount('quick' , 'bad')"
   ]
  },
  {
   "cell_type": "code",
   "execution_count": 8,
   "metadata": {},
   "outputs": [
    {
     "data": {
      "text/plain": [
       "0.6666666666666666"
      ]
     },
     "execution_count": 8,
     "metadata": {},
     "output_type": "execute_result"
    }
   ],
   "source": [
    "c1 = classifier(getwords)\n",
    "sampletrain(c1)\n",
    "c1.fprob('quick' , 'good')"
   ]
  },
  {
   "cell_type": "code",
   "execution_count": 11,
   "metadata": {},
   "outputs": [
    {
     "data": {
      "text/plain": [
       "0.25"
      ]
     },
     "execution_count": 11,
     "metadata": {},
     "output_type": "execute_result"
    }
   ],
   "source": [
    "c1 = classifier(getwords)\n",
    "sampletrain(c1)\n",
    "c1.weightedprob('money' , 'good' , c1.fprob)"
   ]
  },
  {
   "cell_type": "code",
   "execution_count": 12,
   "metadata": {},
   "outputs": [
    {
     "data": {
      "text/plain": [
       "0.16666666666666666"
      ]
     },
     "execution_count": 12,
     "metadata": {},
     "output_type": "execute_result"
    }
   ],
   "source": [
    "sampletrain(c1)\n",
    "c1.weightedprob('money' , 'good' , c1.fprob)"
   ]
  },
  {
   "cell_type": "code",
   "execution_count": 59,
   "metadata": {
    "collapsed": true
   },
   "outputs": [],
   "source": [
    "#naive bayes\n",
    "class naivebayes(classifier):\n",
    "    def docprob(self , item , cat):\n",
    "        features = self.getfeatures(item)\n",
    "        \n",
    "        p = 1\n",
    "        for f in features:\n",
    "            p *= self.weightedprob(f , cat , self.fprob)\n",
    "            \n",
    "        return p\n",
    "    \n",
    "    def prob(self , item , cat):\n",
    "        catprob = self.catcount(cat)/self.totalcount()\n",
    "        docprob = self.docprob(item , cat)\n",
    "        \n",
    "        return docprob * catprob\n",
    "    \n",
    "    "
   ]
  },
  {
   "cell_type": "code",
   "execution_count": 15,
   "metadata": {},
   "outputs": [
    {
     "data": {
      "text/plain": [
       "0.15624999999999997"
      ]
     },
     "execution_count": 15,
     "metadata": {},
     "output_type": "execute_result"
    }
   ],
   "source": [
    "c1 = naivebayes(getwords)\n",
    "sampletrain(c1)\n",
    "\n",
    "c1.prob('quick rabbit' , 'good')\n"
   ]
  },
  {
   "cell_type": "code",
   "execution_count": 16,
   "metadata": {},
   "outputs": [
    {
     "data": {
      "text/plain": [
       "0.05"
      ]
     },
     "execution_count": 16,
     "metadata": {},
     "output_type": "execute_result"
    }
   ],
   "source": [
    "c1.prob('quick rabbit' , 'bad')"
   ]
  },
  {
   "cell_type": "code",
   "execution_count": 25,
   "metadata": {},
   "outputs": [
    {
     "data": {
      "text/plain": [
       "'good'"
      ]
     },
     "execution_count": 25,
     "metadata": {},
     "output_type": "execute_result"
    }
   ],
   "source": [
    "c1 = naivebayes(getwords)\n",
    "sampletrain(c1)\n",
    "\n",
    "c1.classify('quick rabbit' , default = 'unknown')"
   ]
  },
  {
   "cell_type": "code",
   "execution_count": 26,
   "metadata": {},
   "outputs": [
    {
     "data": {
      "text/plain": [
       "'bad'"
      ]
     },
     "execution_count": 26,
     "metadata": {},
     "output_type": "execute_result"
    }
   ],
   "source": [
    "c1.classify('quick money' , default='unknown')"
   ]
  },
  {
   "cell_type": "code",
   "execution_count": 27,
   "metadata": {},
   "outputs": [
    {
     "data": {
      "text/plain": [
       "'unknown'"
      ]
     },
     "execution_count": 27,
     "metadata": {},
     "output_type": "execute_result"
    }
   ],
   "source": [
    "c1.setthreshold('bad' , 3.0)\n",
    "c1.classify('quick money' , default='unknown')"
   ]
  },
  {
   "cell_type": "code",
   "execution_count": 28,
   "metadata": {},
   "outputs": [
    {
     "data": {
      "text/plain": [
       "'bad'"
      ]
     },
     "execution_count": 28,
     "metadata": {},
     "output_type": "execute_result"
    }
   ],
   "source": [
    "for i in range(10):\n",
    "    sampletrain(c1)\n",
    "    \n",
    "c1.classify('quick money' , default='unknown')"
   ]
  },
  {
   "cell_type": "code",
   "execution_count": 67,
   "metadata": {
    "collapsed": true
   },
   "outputs": [],
   "source": [
    "#费舍尔方法\n",
    "class fisherclassifier(classifier):\n",
    "    def cprob(self , f , cat):\n",
    "        clf = self.fprob(f , cat)\n",
    "        \n",
    "        if clf == 0:\n",
    "            return 0\n",
    "        \n",
    "        freqsum = sum([self.fprob(f , c) for c in self.categories()])\n",
    "        \n",
    "        p = clf/(freqsum)\n",
    "        \n",
    "        return p\n",
    "    \n",
    "    def fisherprob(self , item , cat):\n",
    "        p = 1\n",
    "        \n",
    "        features = self.getfeatures(item)\n",
    "        \n",
    "        for f in features:\n",
    "            p*= (self.weightedprob(f , cat , self.cprob))\n",
    "        \n",
    "        fscore = -2*math.log(p)\n",
    "        \n",
    "        return self.invchi2(fscore , len(features)*2)\n",
    "    \n",
    "    #倒置对数卡方函数\n",
    "    def invchi2(self , chi , df):\n",
    "        m = chi/2.0\n",
    "        \n",
    "        sum_ = term = math.exp(-m)\n",
    "        \n",
    "        for i in range(1 , df//2):\n",
    "            term *= m/i\n",
    "            sum_ += term\n",
    "        \n",
    "        return min(sum_ , 1.0)\n",
    "    \n",
    "    def __init__(self , getfeatures):\n",
    "        classifier.__init__(self , getfeatures)\n",
    "        self.minimums = {}\n",
    "        \n",
    "    \n",
    "    def setminimum(self , cat , min_):\n",
    "        self.minimums[cat] = min_\n",
    "        \n",
    "    def getminimum(self , cat):\n",
    "        if cat not in self.minimums:\n",
    "            return 0\n",
    "        \n",
    "        return self.minimums[cat]\n",
    "    \n",
    "    def classify(self , item , default = None):\n",
    "        best = default\n",
    "        max_ = 0.0\n",
    "        \n",
    "        for c in self.categories():\n",
    "            p = self.fisherprob(item , c)\n",
    "            \n",
    "            if p>self.getminimum(c) and p>max_:\n",
    "                best = c\n",
    "                max_ = p\n",
    "        \n",
    "        return best"
   ]
  },
  {
   "cell_type": "code",
   "execution_count": 33,
   "metadata": {},
   "outputs": [
    {
     "data": {
      "text/plain": [
       "0.5714285714285715"
      ]
     },
     "execution_count": 33,
     "metadata": {},
     "output_type": "execute_result"
    }
   ],
   "source": [
    "c1 = fisherclassifier(getwords)\n",
    "sampletrain(c1)\n",
    "c1.cprob('quick' , 'good')"
   ]
  },
  {
   "cell_type": "code",
   "execution_count": 34,
   "metadata": {},
   "outputs": [
    {
     "data": {
      "text/plain": [
       "1.0"
      ]
     },
     "execution_count": 34,
     "metadata": {},
     "output_type": "execute_result"
    }
   ],
   "source": [
    "c1.cprob('money' , 'bad')"
   ]
  },
  {
   "cell_type": "code",
   "execution_count": 35,
   "metadata": {},
   "outputs": [
    {
     "data": {
      "text/plain": [
       "0.75"
      ]
     },
     "execution_count": 35,
     "metadata": {},
     "output_type": "execute_result"
    }
   ],
   "source": [
    "c1.weightedprob('money','bad' , c1.cprob)"
   ]
  },
  {
   "cell_type": "code",
   "execution_count": 38,
   "metadata": {},
   "outputs": [
    {
     "data": {
      "text/plain": [
       "0.5714285714285715"
      ]
     },
     "execution_count": 38,
     "metadata": {},
     "output_type": "execute_result"
    }
   ],
   "source": [
    "c1 = fisherclassifier(getwords)\n",
    "sampletrain(c1)\n",
    "c1.cprob('quick' , 'good')"
   ]
  },
  {
   "cell_type": "code",
   "execution_count": 39,
   "metadata": {},
   "outputs": [
    {
     "data": {
      "text/plain": [
       "0.78013986588958"
      ]
     },
     "execution_count": 39,
     "metadata": {},
     "output_type": "execute_result"
    }
   ],
   "source": [
    "c1.fisherprob('quick rabbit' , 'good')"
   ]
  },
  {
   "cell_type": "code",
   "execution_count": 40,
   "metadata": {},
   "outputs": [
    {
     "data": {
      "text/plain": [
       "0.3563359628333526"
      ]
     },
     "execution_count": 40,
     "metadata": {},
     "output_type": "execute_result"
    }
   ],
   "source": [
    "c1.fisherprob('quick rabbit' , 'bad')"
   ]
  },
  {
   "cell_type": "code",
   "execution_count": 43,
   "metadata": {},
   "outputs": [
    {
     "data": {
      "text/plain": [
       "'good'"
      ]
     },
     "execution_count": 43,
     "metadata": {},
     "output_type": "execute_result"
    }
   ],
   "source": [
    "c1 = fisherclassifier(getwords)\n",
    "sampletrain(c1)\n",
    "c1.classify('quick rabbit')"
   ]
  },
  {
   "cell_type": "code",
   "execution_count": 44,
   "metadata": {},
   "outputs": [
    {
     "data": {
      "text/plain": [
       "'bad'"
      ]
     },
     "execution_count": 44,
     "metadata": {},
     "output_type": "execute_result"
    }
   ],
   "source": [
    "c1.classify('quick money')"
   ]
  },
  {
   "cell_type": "code",
   "execution_count": 69,
   "metadata": {},
   "outputs": [
    {
     "data": {
      "text/plain": [
       "u'bad'"
      ]
     },
     "execution_count": 69,
     "metadata": {},
     "output_type": "execute_result"
    }
   ],
   "source": [
    "c1 = fisherclassifier(getwords)\n",
    "c1.setdb('test1.db')\n",
    "sampletrain(c1)\n",
    "\n",
    "c2 = naivebayes(getwords)\n",
    "c2.setdb('test1.db')\n",
    "c2.classify('quick money')"
   ]
  },
  {
   "cell_type": "code",
   "execution_count": null,
   "metadata": {
    "collapsed": true
   },
   "outputs": [],
   "source": []
  }
 ],
 "metadata": {
  "kernelspec": {
   "display_name": "Python 2",
   "language": "python",
   "name": "python2"
  },
  "language_info": {
   "codemirror_mode": {
    "name": "ipython",
    "version": 2
   },
   "file_extension": ".py",
   "mimetype": "text/x-python",
   "name": "python",
   "nbconvert_exporter": "python",
   "pygments_lexer": "ipython2",
   "version": "2.7.13"
  }
 },
 "nbformat": 4,
 "nbformat_minor": 2
}
