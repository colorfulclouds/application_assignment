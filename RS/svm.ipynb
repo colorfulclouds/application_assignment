{
 "cells": [
  {
   "cell_type": "code",
   "execution_count": 1,
   "metadata": {
    "collapsed": true
   },
   "outputs": [],
   "source": [
    "class matchrow:\n",
    "    def __init__(self , row , allnum = False):\n",
    "        if allnum:\n",
    "            self.data = [float(row[i]) for i in range(len(row)-1)]\n",
    "        else:\n",
    "            self.data = row[0:len(row) - 1]\n",
    "        \n",
    "        self.match = int(row[len(row) - 1])\n",
    "\n",
    "def loadmatch(f , allnum = False):\n",
    "    rows = []\n",
    "    \n",
    "    for line in file(f):\n",
    "        rows.append(matchrow(line/split(',') , allnum))\n",
    "    \n",
    "    return rows"
   ]
  },
  {
   "cell_type": "code",
   "execution_count": 2,
   "metadata": {
    "collapsed": true
   },
   "outputs": [],
   "source": [
    "def lineartrain(rows):\n",
    "    averages = {}\n",
    "    counts = {}\n",
    "    \n",
    "    for row in rows:\n",
    "        c1 = row.match\n",
    "        \n",
    "        averages.setdefault(c1 , [0.0]*(len(row.data)))\n",
    "        counts.setdefault(c1 , 0)\n",
    "        \n",
    "        for i in range(len(row.data)):\n",
    "            averages[c1][i] += float(row.data[i])\n",
    "        \n",
    "        counts[c1]+=1\n",
    "    \n",
    "    for c1 , avg in averages.items():\n",
    "        for i in range(len(avg)):\n",
    "            avg[i] /= counts[c1]\n",
    "        \n",
    "    return averages"
   ]
  },
  {
   "cell_type": "code",
   "execution_count": 3,
   "metadata": {
    "collapsed": true
   },
   "outputs": [],
   "source": [
    "def dotporduct(v1 , v2):\n",
    "    return sum([v1[i]*v2[i] for i in range(len(v1))])"
   ]
  },
  {
   "cell_type": "code",
   "execution_count": 4,
   "metadata": {
    "collapsed": true
   },
   "outputs": [],
   "source": [
    "def dpclassify(point , avgs):\n",
    "    b = (dotporduct(avgs[1] , avgs[1]) - dotporduct(avgs[0] , avgs[0]))/2\n",
    "    y = dotporduct(point , avgs[0]) - dotporduct(point , avgs[1]) + b\n",
    "    \n",
    "    if y>0:\n",
    "        return 0\n",
    "    else:\n",
    "        return 1"
   ]
  },
  {
   "cell_type": "code",
   "execution_count": 5,
   "metadata": {
    "collapsed": true
   },
   "outputs": [],
   "source": [
    "def yesno(v):\n",
    "    if v=='yes':\n",
    "        return 1\n",
    "    elif v == 'no':\n",
    "        return -1\n",
    "    else:\n",
    "        return 0"
   ]
  },
  {
   "cell_type": "code",
   "execution_count": 6,
   "metadata": {
    "collapsed": true
   },
   "outputs": [],
   "source": [
    "def matchcount(interest1 , interest2):\n",
    "    l1 = interest1.split(':')\n",
    "    l2 = interest2.split(':')\n",
    "    \n",
    "    x=0\n",
    "    \n",
    "    for v in l1:\n",
    "        if v in l2:\n",
    "            x+=1\n",
    "    \n",
    "    return x"
   ]
  },
  {
   "cell_type": "code",
   "execution_count": 7,
   "metadata": {
    "collapsed": true
   },
   "outputs": [],
   "source": [
    "def milesdistance(a1 , a3):\n",
    "    return 0"
   ]
  },
  {
   "cell_type": "code",
   "execution_count": 8,
   "metadata": {
    "collapsed": true
   },
   "outputs": [],
   "source": [
    "#根据经纬度计算欧几里得距离\n",
    "def milesdistance(a1 , a2):\n",
    "    lat1 , long1 = getlocation(a1)\n",
    "    lat2 , long2 = getlocation(a2)\n",
    "    \n",
    "    latdif = 69.1*(lat2-lat1)\n",
    "    longdif = 53.0*(long2 - long1)\n",
    "    \n",
    "    return (latdif**2 + longdif**2)**0.5\n",
    "\n"
   ]
  },
  {
   "cell_type": "code",
   "execution_count": 9,
   "metadata": {
    "collapsed": true
   },
   "outputs": [],
   "source": [
    "def loadnumerical():\n",
    "    oldrows = loadmatch('matchmaker.csv')\n",
    "    newrows = []\n",
    "    \n",
    "    for row in oldrows:\n",
    "        d = row.data\n",
    "        data = [float(d[0]) , yesno(d[1]),yesno(d[2]),\n",
    "                float(d[5]) , yesno(d[6]) , yesno(d[7]),\n",
    "                matchcount(d[3] , d[8]),\n",
    "                milesdistance(d[4] , d[9]),\n",
    "                row.match]\n",
    "        newrows.append(matchcount(data))\n",
    "    \n",
    "    return newrows"
   ]
  },
  {
   "cell_type": "code",
   "execution_count": 10,
   "metadata": {
    "collapsed": true
   },
   "outputs": [],
   "source": [
    "def scaledata(rows):\n",
    "    low = [999999999.0]*len(rows[0].data)\n",
    "    high = [-999999999.0]*len(rows[0].data)\n",
    "    \n",
    "    for row in rows:\n",
    "        d = row.data\n",
    "        for i in range(len(d)):\n",
    "            if d[i]<low[i]:\n",
    "                low[i] = d[i]\n",
    "            \n",
    "            if d[i]>high[i]:\n",
    "                high[i] = d[i]\n",
    "            \n",
    "    \n",
    "    def scaleinput(d):\n",
    "        return [(d.data[i]-low[i])/(high[i]-low[i]) \n",
    "               for i in range(len(low))]\n",
    "\n",
    "    newrows = [matchrow(scaleinput(row.data)+[row.match]) \n",
    "              for row in rows]\n",
    "    \n",
    "    return newrows , scaleinput"
   ]
  },
  {
   "cell_type": "code",
   "execution_count": 11,
   "metadata": {
    "collapsed": true
   },
   "outputs": [],
   "source": [
    "#径向基核函数(高斯核函数)\n",
    "def rbf(v1 , v2 , gamma=20):\n",
    "    dv = [v1[i] - v2[i] for i in range(len(v1))]\n",
    "    l = veclength(dv)\n",
    "    \n",
    "    return math.e**(-gamma*l)"
   ]
  },
  {
   "cell_type": "code",
   "execution_count": 12,
   "metadata": {
    "collapsed": true
   },
   "outputs": [],
   "source": [
    "def nlclassify(point , rows , offset , gamma=10):\n",
    "    sum0 = 0.0\n",
    "    sum1 = 0.0\n",
    "    count0 = 0\n",
    "    count1 = 0\n",
    "    \n",
    "    for row in rows:\n",
    "        if row.match == 0:\n",
    "            sum0 += rbf(point , row.data , gamma)\n",
    "            count0 += 1\n",
    "        else:\n",
    "            sum1 += rbf(point , row.data , gamma)\n",
    "            count1 += 1\n",
    "    \n",
    "    y = (1.0/count0)*sum0-(1.0/count1)*sum1 + offset\n",
    "    \n",
    "    if y<0:\n",
    "        return 0\n",
    "    else:\n",
    "        return 1\n",
    "    \n",
    "def getoffset(rows , gamma = 10):\n",
    "    l0 = []\n",
    "    l1 = []\n",
    "    \n",
    "    for row in rows:\n",
    "        if row.match == 0:\n",
    "            l0.append(row.data)\n",
    "        else:\n",
    "            l1.appen(row.data)\n",
    "    \n",
    "    sum0 = sum(sum([rbf(v1 , v2 , gamma) for v1 in l0]) for v2 in l0)\n",
    "    sum1 = sum(sum([rbf(v1 , v2 , gamma) for v1 in l1]) for v2 in l1)\n",
    "    \n",
    "    return (1.0/(len(l1)**2))*sum1 - (1.0/(len(l0)**2)) * sum0"
   ]
  },
  {
   "cell_type": "code",
   "execution_count": 13,
   "metadata": {
    "collapsed": true
   },
   "outputs": [],
   "source": [
    "from svm import *"
   ]
  },
  {
   "cell_type": "code",
   "execution_count": 14,
   "metadata": {
    "collapsed": true
   },
   "outputs": [],
   "source": [
    "prob = svm_problem([1,-1] , [[1,0,1],[-1,0,-1]])"
   ]
  },
  {
   "cell_type": "code",
   "execution_count": 18,
   "metadata": {
    "collapsed": true
   },
   "outputs": [
    {
     "ename": "TypeError",
     "evalue": "__init__() takes at most 2 arguments (3 given)",
     "output_type": "error",
     "traceback": [
      "\u001b[1;31m---------------------------------------------------------------------------\u001b[0m",
      "\u001b[1;31mTypeError\u001b[0m                                 Traceback (most recent call last)",
      "\u001b[1;32m<ipython-input-18-24890501c6af>\u001b[0m in \u001b[0;36m<module>\u001b[1;34m()\u001b[0m\n\u001b[1;32m----> 1\u001b[1;33m \u001b[0mparam\u001b[0m \u001b[1;33m=\u001b[0m \u001b[0msvm_parameter\u001b[0m\u001b[1;33m(\u001b[0m\u001b[0mLINEAR\u001b[0m \u001b[1;33m,\u001b[0m \u001b[1;36m10\u001b[0m\u001b[1;33m)\u001b[0m\u001b[1;33m\u001b[0m\u001b[0m\n\u001b[0m",
      "\u001b[1;31mTypeError\u001b[0m: __init__() takes at most 2 arguments (3 given)"
     ]
    }
   ],
   "source": [
    "param = svm_parameter(LINEAR , 10)"
   ]
  },
  {
   "cell_type": "code",
   "execution_count": null,
   "metadata": {
    "collapsed": true
   },
   "outputs": [],
   "source": [
    "m = svm_model(prob , param)"
   ]
  },
  {
   "cell_type": "code",
   "execution_count": null,
   "metadata": {
    "collapsed": true
   },
   "outputs": [],
   "source": [
    "#保存模型 导入模型\n",
    "m.save(test.model)\n",
    "m = svm_model(test.model)"
   ]
  },
  {
   "cell_type": "code",
   "execution_count": 19,
   "metadata": {
    "collapsed": true
   },
   "outputs": [
    {
     "ename": "NameError",
     "evalue": "name 'scaledset' is not defined",
     "output_type": "error",
     "traceback": [
      "\u001b[1;31m---------------------------------------------------------------------------\u001b[0m",
      "\u001b[1;31mNameError\u001b[0m                                 Traceback (most recent call last)",
      "\u001b[1;32m<ipython-input-19-9ec74e4e2c69>\u001b[0m in \u001b[0;36m<module>\u001b[1;34m()\u001b[0m\n\u001b[1;32m----> 1\u001b[1;33m \u001b[0manswers\u001b[0m \u001b[1;33m,\u001b[0m \u001b[0minputs\u001b[0m \u001b[1;33m=\u001b[0m \u001b[1;33m[\u001b[0m\u001b[0mr\u001b[0m\u001b[1;33m.\u001b[0m\u001b[0mmatch\u001b[0m \u001b[1;32mfor\u001b[0m \u001b[0mr\u001b[0m \u001b[1;32min\u001b[0m \u001b[0mscaledset\u001b[0m\u001b[1;33m]\u001b[0m \u001b[1;33m,\u001b[0m \u001b[1;33m[\u001b[0m\u001b[0mr\u001b[0m\u001b[1;33m.\u001b[0m\u001b[0mdata\u001b[0m \u001b[1;32mfor\u001b[0m \u001b[0mr\u001b[0m \u001b[1;32min\u001b[0m \u001b[0mscaledset\u001b[0m\u001b[1;33m]\u001b[0m\u001b[1;33m\u001b[0m\u001b[0m\n\u001b[0m",
      "\u001b[1;31mNameError\u001b[0m: name 'scaledset' is not defined"
     ]
    }
   ],
   "source": [
    "answers , inputs = [r.match for r in scaledset] , [r.data for r in scaledset]"
   ]
  },
  {
   "cell_type": "code",
   "execution_count": null,
   "metadata": {
    "collapsed": true
   },
   "outputs": [],
   "source": [
    "param = svm_parameter(kernel_type  = RBF)\n",
    "prob = svm_problem(answers , inputs)\n",
    "m = svm_model(prob , param)"
   ]
  },
  {
   "cell_type": "code",
   "execution_count": 20,
   "metadata": {
    "collapsed": true
   },
   "outputs": [
    {
     "ename": "NameError",
     "evalue": "name 'cross_validation' is not defined",
     "output_type": "error",
     "traceback": [
      "\u001b[1;31m---------------------------------------------------------------------------\u001b[0m",
      "\u001b[1;31mNameError\u001b[0m                                 Traceback (most recent call last)",
      "\u001b[1;32m<ipython-input-20-6ff944a22b7c>\u001b[0m in \u001b[0;36m<module>\u001b[1;34m()\u001b[0m\n\u001b[1;32m----> 1\u001b[1;33m \u001b[0mguesses\u001b[0m \u001b[1;33m=\u001b[0m \u001b[0mcross_validation\u001b[0m\u001b[1;33m(\u001b[0m\u001b[0mprob\u001b[0m \u001b[1;33m,\u001b[0m \u001b[0mparam\u001b[0m \u001b[1;33m,\u001b[0m \u001b[1;36m4\u001b[0m\u001b[1;33m)\u001b[0m\u001b[1;33m\u001b[0m\u001b[0m\n\u001b[0m",
      "\u001b[1;31mNameError\u001b[0m: name 'cross_validation' is not defined"
     ]
    }
   ],
   "source": [
    "guesses = cross_validation(prob , param , 4)\n",
    "guesses"
   ]
  },
  {
   "cell_type": "code",
   "execution_count": null,
   "metadata": {
    "collapsed": true
   },
   "outputs": [],
   "source": [
    "sum([abs(answers[i] - guesses[i]) for i in range(len(guesses))])"
   ]
  }
 ],
 "metadata": {
  "kernelspec": {
   "display_name": "Python 2",
   "language": "python",
   "name": "python2"
  },
  "language_info": {
   "codemirror_mode": {
    "name": "ipython",
    "version": 2
   },
   "file_extension": ".py",
   "mimetype": "text/x-python",
   "name": "python",
   "nbconvert_exporter": "python",
   "pygments_lexer": "ipython2",
   "version": "2.7.13"
  }
 },
 "nbformat": 4,
 "nbformat_minor": 2
}
