{
 "cells": [
  {
   "cell_type": "code",
   "execution_count": 1,
   "metadata": {
    "collapsed": true
   },
   "outputs": [],
   "source": [
    "from math import tanh\n",
    "import sqlite3"
   ]
  },
  {
   "cell_type": "code",
   "execution_count": 17,
   "metadata": {
    "collapsed": true
   },
   "outputs": [],
   "source": [
    "def dtanh(y):\n",
    "    return 1.0 - y**2\n",
    "\n",
    "class searchnet:\n",
    "    def __init__(self , dbname):\n",
    "        self.con = sqlite3.connect(dbname)\n",
    "        \n",
    "    def __del__(self):\n",
    "        self.con.close()\n",
    "        \n",
    "    \n",
    "    def maketables(self):\n",
    "        self.con.execute('create table hiddennode(create_key)')\n",
    "        self.con.execute('create table wordhidden(fromid , toid , strength)')\n",
    "        self.con.execute('create table hiddenurl(fromid , toid , strength)')\n",
    "        \n",
    "        self.con.commit()\n",
    "    \n",
    "    \n",
    "    #查看权重\n",
    "    def getstrength(self , fromid , toid , layer):\n",
    "        if layer == 0:\n",
    "            table = 'wordhidden'\n",
    "        else:\n",
    "            table = 'hiddenurl'\n",
    "        \n",
    "        res = self.con.execute('select strength from %s where fromid=%d and toid=%d' % (table , fromid , toid)).fetchone()\n",
    "        \n",
    "        if res == None:\n",
    "            if layer == 0:\n",
    "                return -0.2\n",
    "            if layer == 1:\n",
    "                return 0\n",
    "        \n",
    "        return res[0]\n",
    "    \n",
    "    #判断神经元之间的连接是否存在 创建连接\n",
    "    def setstrength(self , fromid , toid , layer , strength):\n",
    "        if layer == 0:\n",
    "            table = 'wordhidden'\n",
    "        else:\n",
    "            table = 'hiddenurl'\n",
    "            \n",
    "        res = self.con.execute('select rowid from %s where fromid=%d and toid=%d' %\n",
    "                              (table , fromid , toid)).fetchone()\n",
    "        \n",
    "        if res == None:\n",
    "            self.con.execute('insert into %s (fromid , toid , strength) values (%d,%d,%f)'%\n",
    "                            (table , fromid , toid , strength))\n",
    "        else:\n",
    "            rowid = res[0]\n",
    "            self.con.execute('update %s set strength=%f where rowid=%d'% \n",
    "                            (table , strength , rowid))\n",
    "    \n",
    "    def generatehiddennode(self , wordids , urls):\n",
    "        if len(wordids)>3:\n",
    "            return None\n",
    "        \n",
    "        createkey = '_'.join(sorted([str(wi) for wi in wordids]))\n",
    "        \n",
    "        res = self.con.execute(\n",
    "        \"select rowid from hiddennode where create_key='%s'\" % createkey).fetchone()\n",
    "        \n",
    "        if res == None:\n",
    "            cur = self.con.execute(\n",
    "            \"insert into hiddennode (create_key) values ('%s')\" % createkey)\n",
    "            \n",
    "            hiddenid = cur.lastrowid\n",
    "            \n",
    "            for wordid in wordids:\n",
    "                self.setstrength(wordid , hiddenid , 0 , 1.0/len(wordids))\n",
    "            \n",
    "            for urlid in urls:\n",
    "                self.setstrength(hiddenid , urlid , 1 , 0.1)\n",
    "            \n",
    "            self.con.commit()\n",
    "    \n",
    "    def getallhiddenids(self , wordids , urlids):\n",
    "        l1 = {}\n",
    "        \n",
    "        for wordid in wordids:\n",
    "            cur = self.con.execute(\n",
    "            \"select toid from wordhidden where fromid=%d\" % wordid)\n",
    "            \n",
    "            for row in cur:\n",
    "                l1[row[0]] = 1\n",
    "        \n",
    "        for urlid in urlids:\n",
    "            cur = self.con.execute(\n",
    "            \"select fromid from hiddenurl where toid =%d\" % urlid)\n",
    "            \n",
    "            for row in cur:\n",
    "                l1[row[0]] = 1\n",
    "        \n",
    "        return l1.keys()\n",
    "    \n",
    "    def setupnetwork(self , wordids , urlids):\n",
    "        self.wordids = wordids\n",
    "        self.hiddenids = self.getallhiddenids(wordids , urlids)\n",
    "        self.urlids = urlids\n",
    "        \n",
    "        self.ai = [1.0]*len(self.wordids)\n",
    "        self.ah = [1.0]*len(self.hiddenids)\n",
    "        self.ao = [1.0]*len(self.urlids)\n",
    "        \n",
    "        self.wi = [[self.getstrength(wordid , hiddenid , 0) \n",
    "                   for hiddenid in self.hiddenids] \n",
    "                   for wordid in self.wordids]\n",
    "        \n",
    "        self.wo = [[self.getstrength(hiddenid , urlid , 1) \n",
    "                   for urlid in self.urlids] \n",
    "                   for hiddenid in self.hiddenids]\n",
    "        \n",
    "    #前馈计算\n",
    "    def feedforward(self):\n",
    "        for i in range(len(self.wordids)):\n",
    "            self.ai[i] = 1.0\n",
    "        \n",
    "        for j in range(len(self.hiddenids)):\n",
    "            sum_ = 0.0\n",
    "            for i in range(len(self.wordids)):\n",
    "                sum_ = sum_ + self.ai[i] * self.wi[i][j]\n",
    "            \n",
    "            self.ah[j] = tanh(sum_)\n",
    "        \n",
    "        for k in range(len(self.urlids)):\n",
    "            sum_ = 0.0\n",
    "            for j in range(len(self.hiddenids)):\n",
    "                sum_ = sum_ + self.ah[j] * self.wo[j][k]\n",
    "            \n",
    "            self.ao[k] = tanh(sum_)\n",
    "            \n",
    "        \n",
    "        return self.ao[:]\n",
    "    \n",
    "    #BP过程\n",
    "    def backPropagate(self , targets , N = 0.5):\n",
    "        output_deltas = [0.0] * len(self.urlids)\n",
    "        \n",
    "        for k in range(len(self.urlids)):\n",
    "            error = targets[k] - self.ao[k]\n",
    "            output_deltas[k] = dtanh(self.ao[k]) * error\n",
    "        \n",
    "        hidden_deltas = [0.0] * len(self.hiddenids)\n",
    "        \n",
    "        for j in range(len(self.hiddenids)):\n",
    "            error = 0.0\n",
    "            for k in range(len(self.urlids)):\n",
    "                error = error + output_deltas[k]*self.wo[j][k]\n",
    "            \n",
    "            hidden_deltas[j] = dtanh(self.ah[j]) * error\n",
    "        \n",
    "        for j in range(len(self.hiddenids)):\n",
    "            for k in range(len(self.urlids)):\n",
    "                change = output_deltas[k]*self.ah[j]\n",
    "                self.wo[j][k] = self.wo[j][k] + N * change\n",
    "            \n",
    "        \n",
    "        for i in range(len(self.wordids)):\n",
    "            for j in range(len(self.hiddenids)):\n",
    "                change = hidden_deltas[j] * self.ai[i]\n",
    "                self.wi[i][j] = self.wi[i][j] + N*change\n",
    "            \n",
    "    #整个网络的创建和训练\n",
    "    def trainquery(self , wordids , urlids , selectedurl):\n",
    "        self.generatehiddennode(wordids , urlids)\n",
    "        \n",
    "        self.setupnetwork(wordids , urlids)\n",
    "        self.feedforward()\n",
    "        \n",
    "        targets = [0.0]*len(urlids)\n",
    "        targets[urlids.index(selectedurl)] = 1.0\n",
    "        \n",
    "        self.backPropagate(targets)\n",
    "        self.updatedatabase()\n",
    "        \n",
    "    #更新数据库信息\n",
    "    def updatedatabase(self):\n",
    "        for i in range(len(self.wordids)):\n",
    "            for j in range(len(self.hiddenids)):\n",
    "                self.setstrength(self.wordids[i] , self.hiddenids[j] , 0 , self.wi[i][j])\n",
    "        \n",
    "        for j in range(len(self.hiddenids)):\n",
    "            for k in range(len(self.urlids)):\n",
    "                self.setstrength(self.hiddenids[j] , self.urlids[k] , 1 , self.wo[j][k])\n",
    "         \n",
    "        self.con.commit()\n",
    "        \n",
    "    #测试函数\n",
    "    def getresult(self , wordids , urlids):\n",
    "        self.setupnetwork(wordids , urlids)\n",
    "        \n",
    "        return self.feedforward()"
   ]
  },
  {
   "cell_type": "code",
   "execution_count": 5,
   "metadata": {
    "collapsed": true
   },
   "outputs": [],
   "source": [
    "mynet = searchnet('nn.db')"
   ]
  },
  {
   "cell_type": "code",
   "execution_count": 6,
   "metadata": {
    "collapsed": true
   },
   "outputs": [],
   "source": [
    "mynet.maketables()"
   ]
  },
  {
   "cell_type": "code",
   "execution_count": 7,
   "metadata": {
    "collapsed": true
   },
   "outputs": [],
   "source": [
    "wWorld , wRiver , wBank = 101,102,103\n",
    "uWorldBank , uRiver , uEarth = 201,202,203\n",
    "\n",
    "mynet.generatehiddennode([wWorld , wBank],\n",
    "                         [uWorldBank , uRiver , uEarth])\n"
   ]
  },
  {
   "cell_type": "code",
   "execution_count": 8,
   "metadata": {},
   "outputs": [
    {
     "name": "stdout",
     "output_type": "stream",
     "text": [
      "(101, 1, 0.5)\n",
      "(103, 1, 0.5)\n"
     ]
    }
   ],
   "source": [
    "for c in mynet.con.execute('select * from wordhidden'):\n",
    "    print(c)"
   ]
  },
  {
   "cell_type": "code",
   "execution_count": 9,
   "metadata": {},
   "outputs": [
    {
     "name": "stdout",
     "output_type": "stream",
     "text": [
      "(1, 201, 0.1)\n",
      "(1, 202, 0.1)\n",
      "(1, 203, 0.1)\n"
     ]
    }
   ],
   "source": [
    "for c in mynet.con.execute('select * from hiddenurl'):\n",
    "    print(c)"
   ]
  },
  {
   "cell_type": "code",
   "execution_count": 13,
   "metadata": {
    "collapsed": true
   },
   "outputs": [],
   "source": [
    "mynet = searchnet('nn.db')"
   ]
  },
  {
   "cell_type": "code",
   "execution_count": 14,
   "metadata": {},
   "outputs": [
    {
     "data": {
      "text/plain": [
       "[0.07601250837541615, 0.07601250837541615, 0.07601250837541615]"
      ]
     },
     "execution_count": 14,
     "metadata": {},
     "output_type": "execute_result"
    }
   ],
   "source": [
    "mynet.getresult([wWorld , wBank] , [uWorldBank , uRiver , uEarth])"
   ]
  },
  {
   "cell_type": "code",
   "execution_count": 18,
   "metadata": {
    "collapsed": true
   },
   "outputs": [],
   "source": [
    "mynet = searchnet('nn.db')"
   ]
  },
  {
   "cell_type": "code",
   "execution_count": 19,
   "metadata": {},
   "outputs": [
    {
     "data": {
      "text/plain": [
       "[0.3350632467125331, 0.055127057492087995, 0.055127057492087995]"
      ]
     },
     "execution_count": 19,
     "metadata": {},
     "output_type": "execute_result"
    }
   ],
   "source": [
    "mynet.trainquery([wWorld , wBank] , [uWorldBank , uRiver , uEarth] , uWorldBank)\n",
    "mynet.getresult([wWorld , wBank] , [uWorldBank , uRiver , uEarth])"
   ]
  },
  {
   "cell_type": "code",
   "execution_count": 20,
   "metadata": {
    "collapsed": true
   },
   "outputs": [],
   "source": [
    "allurls = [uWorldBank , uRiver , uEarth]\n",
    "\n",
    "for i in range(30):\n",
    "    mynet.trainquery([wWorld , wBank] , allurls , uWorldBank)\n",
    "    mynet.trainquery([wRiver , wBank] , allurls , uRiver)\n",
    "    mynet.trainquery([wWorld] , allurls , uEarth)"
   ]
  },
  {
   "cell_type": "code",
   "execution_count": 21,
   "metadata": {},
   "outputs": [
    {
     "data": {
      "text/plain": [
       "[0.861547977173944, 0.01107121517146442, 0.015725794221216588]"
      ]
     },
     "execution_count": 21,
     "metadata": {},
     "output_type": "execute_result"
    }
   ],
   "source": [
    "mynet.getresult([wWorld , wBank] , allurls)"
   ]
  },
  {
   "cell_type": "code",
   "execution_count": 22,
   "metadata": {},
   "outputs": [
    {
     "data": {
      "text/plain": [
       "[-0.030344006191459796, 0.8829814980448912, 0.005509562270886237]"
      ]
     },
     "execution_count": 22,
     "metadata": {},
     "output_type": "execute_result"
    }
   ],
   "source": [
    "mynet.getresult([wRiver , wBank] , allurls)"
   ]
  },
  {
   "cell_type": "code",
   "execution_count": 23,
   "metadata": {},
   "outputs": [
    {
     "data": {
      "text/plain": [
       "[0.8654047612070324, -0.0006785911691591055, -0.8519156725080675]"
      ]
     },
     "execution_count": 23,
     "metadata": {},
     "output_type": "execute_result"
    }
   ],
   "source": [
    "mynet.getresult([wBank] , allurls)"
   ]
  },
  {
   "cell_type": "code",
   "execution_count": null,
   "metadata": {
    "collapsed": true
   },
   "outputs": [],
   "source": []
  }
 ],
 "metadata": {
  "kernelspec": {
   "display_name": "Python 2",
   "language": "python",
   "name": "python2"
  },
  "language_info": {
   "codemirror_mode": {
    "name": "ipython",
    "version": 2
   },
   "file_extension": ".py",
   "mimetype": "text/x-python",
   "name": "python",
   "nbconvert_exporter": "python",
   "pygments_lexer": "ipython2",
   "version": "2.7.13"
  }
 },
 "nbformat": 4,
 "nbformat_minor": 2
}
