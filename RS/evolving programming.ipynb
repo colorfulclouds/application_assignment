{
 "cells": [
  {
   "cell_type": "code",
   "execution_count": 2,
   "metadata": {
    "collapsed": true
   },
   "outputs": [],
   "source": [
    "from random import random , randint , choice\n",
    "from copy import deepcopy\n",
    "from math import log"
   ]
  },
  {
   "cell_type": "code",
   "execution_count": 3,
   "metadata": {
    "collapsed": true
   },
   "outputs": [],
   "source": [
    "class fwrapper:\n",
    "    def __init__(self , function , childcount , name):\n",
    "        self.function = function\n",
    "        self.childcount = childcount\n",
    "        self.name = name\n",
    "    \n",
    "\n",
    "class node:\n",
    "    def __init__(self , fw , children):\n",
    "        self.function = fw.function\n",
    "        self.name = fw.name\n",
    "        self.children = children\n",
    "        \n",
    "    def evaluate(self , inp):\n",
    "        results = [n.evaluate(inp) for n in self.children]\n",
    "        \n",
    "        return self.function(results)\n",
    "    \n",
    "    def display(self , indent = 0):\n",
    "        print(' '*indent + self.name)\n",
    "        \n",
    "        for c in self.children:\n",
    "            c.display(indent+1)\n",
    "\n",
    "\n",
    "class paramnode:\n",
    "    def __init__(self , idx):\n",
    "        self.idx = idx\n",
    "    \n",
    "    def evaluate(self , inp):\n",
    "        return inp[self.idx]\n",
    "    \n",
    "    def display(self , indent=0):\n",
    "        print('%sp%d' % (' '*indent , self.idx))\n",
    "\n",
    "    \n",
    "class constnode:\n",
    "    def __init__(self , v):\n",
    "        self.v = v\n",
    "    \n",
    "    def evaluate(self , inp):\n",
    "        return self.v\n",
    "    \n",
    "    def display(self , indent = 0):\n",
    "        print('%s%d' % (' '*indent , self.v))"
   ]
  },
  {
   "cell_type": "code",
   "execution_count": 4,
   "metadata": {
    "collapsed": true
   },
   "outputs": [],
   "source": [
    "addw = fwrapper(lambda l: l[0]+l[1] , 2 , 'add')\n",
    "subw = fwrapper(lambda l: l[0]-l[1] , 2 , 'subtract')\n",
    "mulw = fwrapper(lambda l: l[0]-l[1] , 2 , 'multiply')\n",
    "\n",
    "def iffunc(l):\n",
    "    if l[0]>0:\n",
    "        return l[1]\n",
    "    else:\n",
    "        return l[2]\n",
    "\n",
    "ifw = fwrapper(iffunc , 3 , 'if')\n",
    "\n",
    "def isgreater(l):\n",
    "    if l[0]>l[1]:\n",
    "        return 1\n",
    "    else:\n",
    "        return 0\n",
    "\n",
    "gtw = fwrapper(isgreater , 2 , 'isgreater')\n",
    "\n",
    "flist = [addw , mulw , ifw , gtw , subw]"
   ]
  },
  {
   "cell_type": "code",
   "execution_count": 5,
   "metadata": {
    "collapsed": true
   },
   "outputs": [],
   "source": [
    "def exampletree():\n",
    "    return node(ifw , [\n",
    "        node(gtw , [paramnode(0) , constnode(3)]),\n",
    "        node(addw ,[paramnode(1) , constnode(5)]),\n",
    "        node(subw ,[paramnode(1) , constnode(2)]),\n",
    "    ])"
   ]
  },
  {
   "cell_type": "code",
   "execution_count": 5,
   "metadata": {
    "collapsed": true
   },
   "outputs": [],
   "source": [
    "exampletree_ = exampletree()"
   ]
  },
  {
   "cell_type": "code",
   "execution_count": 6,
   "metadata": {},
   "outputs": [
    {
     "data": {
      "text/plain": [
       "1"
      ]
     },
     "execution_count": 6,
     "metadata": {},
     "output_type": "execute_result"
    }
   ],
   "source": [
    "exampletree_.evaluate([2,3])"
   ]
  },
  {
   "cell_type": "code",
   "execution_count": 7,
   "metadata": {},
   "outputs": [
    {
     "data": {
      "text/plain": [
       "8"
      ]
     },
     "execution_count": 7,
     "metadata": {},
     "output_type": "execute_result"
    }
   ],
   "source": [
    "exampletree_.evaluate([5,3])"
   ]
  },
  {
   "cell_type": "code",
   "execution_count": 9,
   "metadata": {
    "collapsed": true
   },
   "outputs": [],
   "source": [
    "exampletree_ = exampletree()"
   ]
  },
  {
   "cell_type": "code",
   "execution_count": 10,
   "metadata": {},
   "outputs": [
    {
     "name": "stdout",
     "output_type": "stream",
     "text": [
      "if\n",
      " isgreater\n",
      "  p0\n",
      "  3\n",
      " add\n",
      "  p1\n",
      "  5\n",
      " subtract\n",
      "  p1\n",
      "  2\n"
     ]
    }
   ],
   "source": [
    "exampletree_.display()"
   ]
  },
  {
   "cell_type": "code",
   "execution_count": 6,
   "metadata": {
    "collapsed": true
   },
   "outputs": [],
   "source": [
    "def makerandomtree(pc , maxdepth=4 , fpr=0.5 , ppr = 0.6):\n",
    "    if random()<fpr and maxdepth>0:\n",
    "        f = choice(flist)\n",
    "        \n",
    "        children = [makerandomtree(pc , maxdepth-1 , fpr , ppr) \n",
    "                   for i in range(f.childcount)]\n",
    "        \n",
    "        return node(f , children)\n",
    "    elif random()<ppr:\n",
    "        return paramnode(randint(0,pc-1))\n",
    "    else:\n",
    "        return constnode(randint(0 , 10))"
   ]
  },
  {
   "cell_type": "code",
   "execution_count": 35,
   "metadata": {},
   "outputs": [],
   "source": [
    "random1 = makerandomtree(2)"
   ]
  },
  {
   "cell_type": "code",
   "execution_count": 15,
   "metadata": {},
   "outputs": [
    {
     "data": {
      "text/plain": [
       "1"
      ]
     },
     "execution_count": 15,
     "metadata": {},
     "output_type": "execute_result"
    }
   ],
   "source": [
    "random1.evaluate([7,1])"
   ]
  },
  {
   "cell_type": "code",
   "execution_count": 36,
   "metadata": {},
   "outputs": [
    {
     "name": "stdout",
     "output_type": "stream",
     "text": [
      "8\n"
     ]
    }
   ],
   "source": [
    "random1.display()"
   ]
  },
  {
   "cell_type": "code",
   "execution_count": 7,
   "metadata": {
    "collapsed": true
   },
   "outputs": [],
   "source": [
    "#准备进行预测的函数\n",
    "def hiddenfunction(x , y):\n",
    "    return x**2+2*y+3*x+5"
   ]
  },
  {
   "cell_type": "code",
   "execution_count": 8,
   "metadata": {
    "collapsed": true
   },
   "outputs": [],
   "source": [
    "def buildhiddenset():\n",
    "    rows = []\n",
    "    \n",
    "    for i in range(200):\n",
    "        x = randint(0 , 40)\n",
    "        y = randint(0 , 40)\n",
    "        rows.append([x, y,hiddenfunction(x,y)])\n",
    "    \n",
    "    return rows"
   ]
  },
  {
   "cell_type": "code",
   "execution_count": 20,
   "metadata": {
    "collapsed": true
   },
   "outputs": [],
   "source": [
    "hiddenset = buildhiddenset()"
   ]
  },
  {
   "cell_type": "code",
   "execution_count": 21,
   "metadata": {
    "collapsed": true
   },
   "outputs": [
    {
     "data": {
      "text/plain": [
       "[[33, 36, 1265],\n",
       " [20, 28, 521],\n",
       " [8, 27, 147],\n",
       " [30, 2, 999],\n",
       " [20, 8, 481],\n",
       " [34, 1, 1265],\n",
       " [37, 9, 1503],\n",
       " [20, 18, 501],\n",
       " [30, 30, 1055],\n",
       " [29, 22, 977],\n",
       " [27, 25, 865],\n",
       " [2, 10, 35],\n",
       " [6, 27, 113],\n",
       " [33, 13, 1219],\n",
       " [16, 6, 321],\n",
       " [6, 9, 77],\n",
       " [12, 26, 237],\n",
       " [10, 31, 197],\n",
       " [8, 17, 127],\n",
       " [9, 40, 193],\n",
       " [14, 40, 323],\n",
       " [39, 22, 1687],\n",
       " [3, 25, 73],\n",
       " [9, 38, 189],\n",
       " [10, 9, 153],\n",
       " [24, 10, 673],\n",
       " [16, 2, 313],\n",
       " [20, 34, 533],\n",
       " [37, 1, 1487],\n",
       " [10, 36, 207],\n",
       " [7, 24, 123],\n",
       " [39, 8, 1659],\n",
       " [18, 1, 385],\n",
       " [11, 6, 171],\n",
       " [31, 2, 1063],\n",
       " [7, 8, 91],\n",
       " [38, 35, 1633],\n",
       " [28, 17, 907],\n",
       " [25, 20, 745],\n",
       " [5, 14, 73],\n",
       " [31, 19, 1097],\n",
       " [5, 29, 103],\n",
       " [37, 20, 1525],\n",
       " [1, 36, 81],\n",
       " [32, 14, 1153],\n",
       " [20, 32, 529],\n",
       " [0, 24, 53],\n",
       " [27, 36, 887],\n",
       " [8, 28, 149],\n",
       " [22, 34, 623],\n",
       " [19, 5, 433],\n",
       " [34, 15, 1293],\n",
       " [8, 24, 141],\n",
       " [17, 1, 347],\n",
       " [28, 2, 877],\n",
       " [21, 14, 537],\n",
       " [29, 31, 995],\n",
       " [29, 40, 1013],\n",
       " [3, 23, 69],\n",
       " [13, 6, 225],\n",
       " [3, 25, 73],\n",
       " [35, 14, 1363],\n",
       " [37, 8, 1501],\n",
       " [30, 29, 1053],\n",
       " [18, 21, 425],\n",
       " [20, 2, 469],\n",
       " [13, 7, 227],\n",
       " [21, 35, 579],\n",
       " [4, 12, 57],\n",
       " [8, 36, 165],\n",
       " [39, 6, 1655],\n",
       " [6, 37, 133],\n",
       " [30, 29, 1053],\n",
       " [31, 24, 1107],\n",
       " [35, 16, 1367],\n",
       " [27, 6, 827],\n",
       " [20, 37, 539],\n",
       " [18, 1, 385],\n",
       " [5, 18, 81],\n",
       " [8, 8, 109],\n",
       " [7, 40, 155],\n",
       " [6, 6, 71],\n",
       " [24, 31, 715],\n",
       " [36, 34, 1477],\n",
       " [14, 34, 311],\n",
       " [35, 25, 1385],\n",
       " [39, 39, 1721],\n",
       " [24, 10, 673],\n",
       " [25, 6, 717],\n",
       " [2, 9, 33],\n",
       " [27, 29, 873],\n",
       " [37, 10, 1505],\n",
       " [13, 37, 287],\n",
       " [38, 35, 1633],\n",
       " [37, 11, 1507],\n",
       " [29, 22, 977],\n",
       " [27, 32, 879],\n",
       " [8, 16, 125],\n",
       " [2, 33, 81],\n",
       " [17, 9, 363],\n",
       " [30, 19, 1033],\n",
       " [30, 21, 1037],\n",
       " [22, 36, 627],\n",
       " [18, 35, 453],\n",
       " [1, 21, 51],\n",
       " [20, 4, 473],\n",
       " [7, 29, 133],\n",
       " [33, 35, 1263],\n",
       " [27, 23, 861],\n",
       " [6, 21, 101],\n",
       " [17, 40, 425],\n",
       " [11, 14, 187],\n",
       " [25, 16, 737],\n",
       " [17, 4, 353],\n",
       " [39, 14, 1671],\n",
       " [15, 40, 355],\n",
       " [13, 24, 261],\n",
       " [35, 32, 1399],\n",
       " [13, 5, 223],\n",
       " [10, 20, 175],\n",
       " [18, 19, 421],\n",
       " [6, 5, 69],\n",
       " [22, 14, 583],\n",
       " [0, 15, 35],\n",
       " [26, 15, 789],\n",
       " [23, 26, 655],\n",
       " [11, 17, 193],\n",
       " [33, 7, 1207],\n",
       " [32, 13, 1151],\n",
       " [22, 32, 619],\n",
       " [14, 27, 297],\n",
       " [21, 33, 575],\n",
       " [8, 1, 95],\n",
       " [19, 33, 489],\n",
       " [1, 37, 83],\n",
       " [34, 22, 1307],\n",
       " [8, 21, 135],\n",
       " [24, 23, 699],\n",
       " [24, 30, 713],\n",
       " [12, 8, 201],\n",
       " [35, 29, 1393],\n",
       " [40, 22, 1769],\n",
       " [17, 37, 419],\n",
       " [8, 3, 99],\n",
       " [29, 36, 1005],\n",
       " [23, 31, 665],\n",
       " [23, 0, 603],\n",
       " [29, 11, 955],\n",
       " [6, 1, 61],\n",
       " [38, 38, 1639],\n",
       " [39, 2, 1647],\n",
       " [13, 24, 261],\n",
       " [34, 26, 1315],\n",
       " [38, 31, 1625],\n",
       " [19, 34, 491],\n",
       " [13, 23, 259],\n",
       " [35, 5, 1345],\n",
       " [10, 22, 179],\n",
       " [15, 28, 331],\n",
       " [1, 9, 27],\n",
       " [37, 17, 1519],\n",
       " [17, 13, 371],\n",
       " [39, 37, 1717],\n",
       " [35, 0, 1335],\n",
       " [36, 6, 1421],\n",
       " [8, 34, 161],\n",
       " [18, 14, 411],\n",
       " [14, 38, 319],\n",
       " [30, 32, 1059],\n",
       " [29, 38, 1009],\n",
       " [39, 35, 1713],\n",
       " [11, 5, 169],\n",
       " [27, 25, 865],\n",
       " [0, 37, 79],\n",
       " [31, 30, 1119],\n",
       " [21, 39, 587],\n",
       " [11, 20, 199],\n",
       " [0, 29, 63],\n",
       " [4, 11, 55],\n",
       " [36, 33, 1475],\n",
       " [22, 39, 633],\n",
       " [20, 32, 529],\n",
       " [6, 11, 81],\n",
       " [16, 29, 367],\n",
       " [1, 37, 83],\n",
       " [15, 2, 279],\n",
       " [22, 35, 625],\n",
       " [39, 11, 1665],\n",
       " [40, 31, 1787],\n",
       " [7, 10, 95],\n",
       " [12, 9, 203],\n",
       " [14, 3, 249],\n",
       " [26, 33, 825],\n",
       " [10, 3, 141],\n",
       " [38, 31, 1625],\n",
       " [5, 1, 47],\n",
       " [2, 32, 79],\n",
       " [11, 25, 209],\n",
       " [32, 30, 1185],\n",
       " [19, 35, 493]]"
      ]
     },
     "execution_count": 21,
     "metadata": {},
     "output_type": "execute_result"
    }
   ],
   "source": [
    "hiddenset"
   ]
  },
  {
   "cell_type": "code",
   "execution_count": 9,
   "metadata": {
    "collapsed": true
   },
   "outputs": [],
   "source": [
    "#衡量程序的好坏\n",
    "#相当于适应度函数\n",
    "def scorefunction(tree , s):\n",
    "    dif = 0\n",
    "    \n",
    "    for data in s:\n",
    "        v = tree.evaluate([data[0] , data[1]])\n",
    "        dif += abs(v-data[2])\n",
    "    \n",
    "    return dif"
   ]
  },
  {
   "cell_type": "code",
   "execution_count": 23,
   "metadata": {},
   "outputs": [
    {
     "data": {
      "text/plain": [
       "126236"
      ]
     },
     "execution_count": 23,
     "metadata": {},
     "output_type": "execute_result"
    }
   ],
   "source": [
    "scorefunction(random1 , hiddenset)"
   ]
  },
  {
   "cell_type": "code",
   "execution_count": 10,
   "metadata": {
    "collapsed": true
   },
   "outputs": [],
   "source": [
    "#变异\n",
    "def mutate(t , pc , probchange = 0.1):\n",
    "    if random()<probchange:\n",
    "        return makerandomtree(pc)\n",
    "    else:\n",
    "        result = deepcopy(t)\n",
    "        if isinstance(t , node):\n",
    "            result.children = [mutate(c , pc , probchange) for c in t.children]\n",
    "        \n",
    "        return result"
   ]
  },
  {
   "cell_type": "code",
   "execution_count": 34,
   "metadata": {},
   "outputs": [
    {
     "name": "stdout",
     "output_type": "stream",
     "text": [
      "4\n"
     ]
    }
   ],
   "source": [
    "random1.display()"
   ]
  },
  {
   "cell_type": "code",
   "execution_count": 37,
   "metadata": {
    "collapsed": true
   },
   "outputs": [],
   "source": [
    "random1 = exampletree_"
   ]
  },
  {
   "cell_type": "code",
   "execution_count": 38,
   "metadata": {},
   "outputs": [
    {
     "name": "stdout",
     "output_type": "stream",
     "text": [
      "if\n",
      " isgreater\n",
      "  p0\n",
      "  3\n",
      " add\n",
      "  p1\n",
      "  5\n",
      " subtract\n",
      "  p1\n",
      "  2\n"
     ]
    }
   ],
   "source": [
    "random1.display()"
   ]
  },
  {
   "cell_type": "code",
   "execution_count": 39,
   "metadata": {
    "collapsed": true
   },
   "outputs": [],
   "source": [
    "muttree = mutate(random1 , 2)"
   ]
  },
  {
   "cell_type": "code",
   "execution_count": 40,
   "metadata": {},
   "outputs": [
    {
     "name": "stdout",
     "output_type": "stream",
     "text": [
      "if\n",
      " isgreater\n",
      "  p0\n",
      "  3\n",
      " add\n",
      "  isgreater\n",
      "   2\n",
      "   isgreater\n",
      "    6\n",
      "    subtract\n",
      "     isgreater\n",
      "      p0\n",
      "      p1\n",
      "     8\n",
      "  0\n",
      " subtract\n",
      "  p1\n",
      "  2\n"
     ]
    }
   ],
   "source": [
    "muttree.display()"
   ]
  },
  {
   "cell_type": "code",
   "execution_count": 41,
   "metadata": {},
   "outputs": [
    {
     "data": {
      "text/plain": [
       "125348"
      ]
     },
     "execution_count": 41,
     "metadata": {},
     "output_type": "execute_result"
    }
   ],
   "source": [
    "scorefunction(random1 , hiddenset)"
   ]
  },
  {
   "cell_type": "code",
   "execution_count": 42,
   "metadata": {},
   "outputs": [
    {
     "data": {
      "text/plain": [
       "129886"
      ]
     },
     "execution_count": 42,
     "metadata": {},
     "output_type": "execute_result"
    }
   ],
   "source": [
    "scorefunction(muttree , hiddenset)"
   ]
  },
  {
   "cell_type": "code",
   "execution_count": 11,
   "metadata": {
    "collapsed": true
   },
   "outputs": [],
   "source": [
    "#交叉\n",
    "def crossover(t1 , t2 , probswap=0.7 , top=1):\n",
    "    if random()<probswap and not top:\n",
    "        return deepcopy(t2)\n",
    "    else:\n",
    "        result = deepcopy(t1)\n",
    "        \n",
    "        if isinstance(t1 , node) and isinstance(t2 , node):\n",
    "            result.children = [crossover(c,choice(t2.children),probswap,0) \n",
    "                              for c in t1.children]\n",
    "        \n",
    "        return result"
   ]
  },
  {
   "cell_type": "code",
   "execution_count": 44,
   "metadata": {
    "collapsed": true
   },
   "outputs": [],
   "source": [
    "random2 = makerandomtree(2)"
   ]
  },
  {
   "cell_type": "code",
   "execution_count": 45,
   "metadata": {},
   "outputs": [
    {
     "name": "stdout",
     "output_type": "stream",
     "text": [
      "p0\n"
     ]
    }
   ],
   "source": [
    "random2.display()"
   ]
  },
  {
   "cell_type": "code",
   "execution_count": 46,
   "metadata": {
    "collapsed": true
   },
   "outputs": [],
   "source": [
    "cross = crossover(random1 , random2)"
   ]
  },
  {
   "cell_type": "code",
   "execution_count": 47,
   "metadata": {},
   "outputs": [
    {
     "name": "stdout",
     "output_type": "stream",
     "text": [
      "if\n",
      " isgreater\n",
      "  p0\n",
      "  3\n",
      " add\n",
      "  p1\n",
      "  5\n",
      " subtract\n",
      "  p1\n",
      "  2\n"
     ]
    }
   ],
   "source": [
    "cross.display()"
   ]
  },
  {
   "cell_type": "code",
   "execution_count": 48,
   "metadata": {},
   "outputs": [
    {
     "data": {
      "text/plain": [
       "125348"
      ]
     },
     "execution_count": 48,
     "metadata": {},
     "output_type": "execute_result"
    }
   ],
   "source": [
    "scorefunction(cross , hiddenset)"
   ]
  },
  {
   "cell_type": "code",
   "execution_count": 12,
   "metadata": {
    "collapsed": true
   },
   "outputs": [],
   "source": [
    "#开始进化\n",
    "def evolve(pc , popsize , rankfunction , maxgen=500,\n",
    "          mutationrate=0.1 , breedingrate=0.4 , pexp=0.7 , pnew=0.05):\n",
    "    def selectindex():\n",
    "        return int(log(random()) / log(pexp))\n",
    "    \n",
    "    population = [makerandomtree(pc) for i in range(popsize)]\n",
    "    \n",
    "    for i in range(maxgen):\n",
    "        scores = rankfunction(population)\n",
    "        \n",
    "        print(scores[0][0])\n",
    "        \n",
    "        if scores[0][0] == 0:\n",
    "            break\n",
    "        \n",
    "        newpop = [scores[0][1] , scores[1][1]]\n",
    "        \n",
    "        while len(newpop)<popsize:\n",
    "            if random()>pnew:\n",
    "                newpop.append(mutate(\n",
    "                crossover(scores[selectindex()][1],\n",
    "                         scores[selectindex()][1],\n",
    "                         probswap = breedingrate),\n",
    "                pc , probchange=mutationrate))\n",
    "            else:\n",
    "                newpop.append(makerandomtree(pc))\n",
    "        \n",
    "        population = newpop\n",
    "    \n",
    "    scores[0][1].display()\n",
    "    \n",
    "    return scores[0][1]"
   ]
  },
  {
   "cell_type": "code",
   "execution_count": 13,
   "metadata": {
    "collapsed": true
   },
   "outputs": [],
   "source": [
    "def getrankfunction(dataset):\n",
    "    def rankfunction(population):\n",
    "        scores = [(scorefunction(t , dataset) , t) for t in population]\n",
    "        scores.sort()\n",
    "        return scores\n",
    "    \n",
    "    return rankfunction\n"
   ]
  },
  {
   "cell_type": "code",
   "execution_count": 51,
   "metadata": {
    "collapsed": true
   },
   "outputs": [],
   "source": [
    "rf = getrankfunction(buildhiddenset())"
   ]
  },
  {
   "cell_type": "code",
   "execution_count": null,
   "metadata": {
    "collapsed": true
   },
   "outputs": [
    {
     "name": "stdout",
     "output_type": "stream",
     "text": [
      "109937\n",
      "104348\n",
      "97898\n",
      "92343\n",
      "81398\n",
      "80921\n",
      "70843\n",
      "66247\n",
      "64505\n",
      "60666\n",
      "58422\n",
      "58422\n",
      "56956\n",
      "56956\n",
      "52470\n",
      "52470\n",
      "52470\n",
      "52470\n",
      "46549\n",
      "46549\n",
      "46549\n",
      "46549\n",
      "46549\n",
      "46549\n",
      "46549\n",
      "46549\n",
      "46549\n",
      "43685\n",
      "43685\n",
      "43685\n",
      "42609\n",
      "42609\n",
      "42609\n",
      "37383\n",
      "37383\n",
      "37383\n",
      "34997\n",
      "34997\n",
      "34997\n",
      "34997\n",
      "34997\n",
      "34997\n",
      "34997\n",
      "34997\n",
      "34997\n",
      "34997\n",
      "33551\n",
      "33551\n",
      "33551\n",
      "33551\n",
      "33551\n",
      "33551\n",
      "33551\n",
      "33551\n",
      "33551\n",
      "33551\n",
      "33551\n",
      "33551\n",
      "33551\n",
      "33551\n",
      "33551\n",
      "33551\n",
      "33551\n",
      "33551\n",
      "33551\n",
      "33551\n",
      "33551\n",
      "33551\n",
      "33551\n",
      "33551\n",
      "33551\n",
      "33551\n",
      "33551\n",
      "33551\n",
      "33551\n",
      "33551\n",
      "33551\n",
      "33551\n",
      "33551\n",
      "33551\n",
      "33551\n",
      "33551\n",
      "33551\n",
      "33551\n",
      "33551\n",
      "33551\n",
      "33551\n",
      "33551\n",
      "33551\n",
      "33551\n",
      "33551\n",
      "33551\n",
      "33551\n",
      "33551\n",
      "33551\n",
      "33551\n",
      "33551\n",
      "33551\n",
      "33551\n",
      "33551\n",
      "33551\n",
      "33551\n",
      "33551\n",
      "33551\n",
      "33551\n",
      "33551\n",
      "33551\n",
      "33551\n",
      "33551\n",
      "33551\n",
      "33551\n",
      "33551\n",
      "33551\n",
      "33551\n",
      "33551\n",
      "33551\n",
      "33551\n",
      "33551\n",
      "33551\n"
     ]
    }
   ],
   "source": [
    "evolve(2 , 500 , rf , mutationrate=0.2 , breedingrate=0.1 , pexp=0.7 , pnew=0.1)"
   ]
  },
  {
   "cell_type": "code",
   "execution_count": 14,
   "metadata": {
    "collapsed": true
   },
   "outputs": [],
   "source": [
    "def gridgame(p):\n",
    "    max_ = (3,3)\n",
    "    \n",
    "    lastmove=[-1,-1]\n",
    "    location = [[randint(0,max_[0]) , randint(0,max_[1])]]\n",
    "    \n",
    "    location.append([(location[0][0] + 2) % 4 , (location[0][1]+2)%4])\n",
    "    \n",
    "    for o in range(50):\n",
    "        for i in range(2):\n",
    "            locs = location[i][:] + location[1-i][:]\n",
    "            locs.append(lastmove[i])\n",
    "            move = p[i].evaluate(locs)%4\n",
    "            \n",
    "            if lastmove[i] == move:\n",
    "                return 1-i\n",
    "            \n",
    "            lastmove[i] = move\n",
    "            \n",
    "            if move==0:\n",
    "                location[i][0] -= 1\n",
    "                \n",
    "                if location[i][0]<0:\n",
    "                    location[i][0] = 0\n",
    "            if move == 1:\n",
    "                location[i][0] += 1\n",
    "                if location[i][0]>max_[0]:\n",
    "                    location[i][0] = max_[0]\n",
    "            \n",
    "            if move == 2:\n",
    "                location[i][1] -= 1\n",
    "                if location[i][1]<0:\n",
    "                    location[i][1] = 0\n",
    "            \n",
    "            if move==3:\n",
    "                location[i][1] += 1\n",
    "                if location[i][1] > max_[1]:\n",
    "                    location[i][1] = max_[1]\n",
    "            \n",
    "            \n",
    "            if location[i] == location[1-i]:\n",
    "                return i\n",
    "    \n",
    "    return -1"
   ]
  },
  {
   "cell_type": "code",
   "execution_count": 15,
   "metadata": {
    "collapsed": true
   },
   "outputs": [],
   "source": [
    "p1 = makerandomtree(5)\n",
    "p2 = makerandomtree(5)"
   ]
  },
  {
   "cell_type": "code",
   "execution_count": 16,
   "metadata": {},
   "outputs": [
    {
     "data": {
      "text/plain": [
       "1"
      ]
     },
     "execution_count": 16,
     "metadata": {},
     "output_type": "execute_result"
    }
   ],
   "source": [
    "gridgame([p1 , p2])"
   ]
  },
  {
   "cell_type": "code",
   "execution_count": 17,
   "metadata": {
    "collapsed": true
   },
   "outputs": [],
   "source": [
    "def tournament(p1):\n",
    "    losses = [0 for p in p1]\n",
    "    \n",
    "    for i in range(len(p1)):\n",
    "        for j in range(len(p1)):\n",
    "            if i == j:\n",
    "                continue\n",
    "            \n",
    "            winner = gridgame([p1[i] , p1[j]])\n",
    "            \n",
    "            if winner == 0:\n",
    "                losses[j] += 2\n",
    "            elif winner == 1:\n",
    "                losses[j] += 2\n",
    "            elif winner == -1:\n",
    "                losses[i] += 1\n",
    "                losses[i] += 1\n",
    "                pass\n",
    "        \n",
    "    z = zip(losses , p1)\n",
    "    z.sort()\n",
    "    \n",
    "    return z"
   ]
  },
  {
   "cell_type": "code",
   "execution_count": 20,
   "metadata": {
    "scrolled": true
   },
   "outputs": [
    {
     "name": "stdout",
     "output_type": "stream",
     "text": [
      "180\n",
      "182\n",
      "184\n",
      "178\n",
      "176\n",
      "178\n",
      "180\n",
      "174\n",
      "174\n",
      "182\n",
      "184\n",
      "182\n",
      "178\n",
      "182\n",
      "178\n",
      "168\n",
      "178\n",
      "178\n",
      "180\n",
      "178\n",
      "178\n",
      "178\n",
      "186\n",
      "180\n",
      "178\n",
      "182\n",
      "180\n",
      "176\n",
      "178\n",
      "178\n",
      "182\n",
      "172\n",
      "178\n",
      "182\n",
      "182\n",
      "184\n",
      "170\n",
      "180\n",
      "178\n",
      "178\n",
      "182\n",
      "182\n",
      "182\n",
      "170\n",
      "174\n",
      "180\n",
      "172\n",
      "178\n",
      "176\n",
      "174\n",
      "multiply\n",
      " multiply\n",
      "  subtract\n",
      "   subtract\n",
      "    5\n",
      "    p3\n",
      "   p0\n",
      "  p1\n",
      " p3\n"
     ]
    }
   ],
   "source": [
    "winner = evolve(5 , 100 , tournament , maxgen=50)"
   ]
  },
  {
   "cell_type": "code",
   "execution_count": 26,
   "metadata": {},
   "outputs": [],
   "source": [
    "class humanplayer:\n",
    "    def evaluate(self , board):\n",
    "        me = tuple(board[0:2])\n",
    "        others = [tuple(board[x:x+2]) for x in range(2 , len(board)-1 , 2)]\n",
    "        \n",
    "        for i in range(4):\n",
    "            for j in range(4):\n",
    "                if (i,j) == me:\n",
    "                    print 'O'\n",
    "                elif (i,j) in others:\n",
    "                    print 'X'\n",
    "                else:\n",
    "                    print '.'\n",
    "        \n",
    "        print()\n",
    "        \n",
    "        print('your last move %d' % board[len(board) - 1 ])\n",
    "        print(' 0')\n",
    "        print('2  3')\n",
    "        print(' 1')\n",
    "        print('enter move:')\n",
    "        \n",
    "        move = int(raw_input())\n",
    "        \n",
    "        return move"
   ]
  },
  {
   "cell_type": "code",
   "execution_count": 27,
   "metadata": {
    "collapsed": true
   },
   "outputs": [
    {
     "name": "stdout",
     "output_type": "stream",
     "text": [
      ".\n",
      ".\n",
      ".\n",
      ".\n",
      ".\n",
      ".\n",
      ".\n",
      "X\n",
      ".\n",
      ".\n",
      ".\n",
      ".\n",
      ".\n",
      "O\n",
      ".\n",
      ".\n",
      "()\n",
      "your last move -1\n",
      " 0\n",
      "2  3\n",
      " 1\n",
      "enter move:\n",
      "1\n"
     ]
    },
    {
     "data": {
      "text/plain": [
       "1"
      ]
     },
     "execution_count": 27,
     "metadata": {},
     "output_type": "execute_result"
    }
   ],
   "source": [
    "gridgame([winner , humanplayer()])"
   ]
  },
  {
   "cell_type": "code",
   "execution_count": null,
   "metadata": {
    "collapsed": true
   },
   "outputs": [],
   "source": []
  }
 ],
 "metadata": {
  "kernelspec": {
   "display_name": "Python 2",
   "language": "python",
   "name": "python2"
  },
  "language_info": {
   "codemirror_mode": {
    "name": "ipython",
    "version": 2
   },
   "file_extension": ".py",
   "mimetype": "text/x-python",
   "name": "python",
   "nbconvert_exporter": "python",
   "pygments_lexer": "ipython2",
   "version": "2.7.13"
  }
 },
 "nbformat": 4,
 "nbformat_minor": 2
}
