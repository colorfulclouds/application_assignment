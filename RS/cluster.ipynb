{
 "cells": [
  {
   "cell_type": "code",
   "execution_count": 2,
   "metadata": {
    "collapsed": true
   },
   "outputs": [],
   "source": [
    "import feedparser\n",
    "import re"
   ]
  },
  {
   "cell_type": "code",
   "execution_count": 3,
   "metadata": {
    "collapsed": true
   },
   "outputs": [],
   "source": [
    "def getwordcounts(url):\n",
    "    d = feedparser.parse(url)\n",
    "    wc = {}\n",
    "    \n",
    "    for e in d.entries:\n",
    "        if 'summary' in e:\n",
    "            summary = e.summary\n",
    "        else:\n",
    "            summary = e.description\n",
    "        \n",
    "        words = getwords(e.title + ' ' + summary)\n",
    "        \n",
    "        for word in words:\n",
    "            wc.setdefault(word , 0)\n",
    "            wc[word] += 1\n",
    "        \n",
    "    \n",
    "    return d.feed.title , wc"
   ]
  },
  {
   "cell_type": "code",
   "execution_count": 4,
   "metadata": {
    "collapsed": true
   },
   "outputs": [],
   "source": [
    "def getwords(html):\n",
    "    txt = re.compile(r'<[^>]+>').sub('' , html)\n",
    "    \n",
    "    words = re.compile(r'[^A-Z^a-z]+').split(txt)\n",
    "    \n",
    "    return [word.lower() for word in words if word != '']\n",
    "\n"
   ]
  },
  {
   "cell_type": "code",
   "execution_count": 6,
   "metadata": {
    "collapsed": true
   },
   "outputs": [
    {
     "ename": "FileNotFoundError",
     "evalue": "[Errno 2] No such file or directory: 'feedlist.txt'",
     "output_type": "error",
     "traceback": [
      "\u001b[1;31m---------------------------------------------------------------------------\u001b[0m",
      "\u001b[1;31mFileNotFoundError\u001b[0m                         Traceback (most recent call last)",
      "\u001b[1;32m<ipython-input-6-271ee23a05cb>\u001b[0m in \u001b[0;36m<module>\u001b[1;34m()\u001b[0m\n\u001b[0;32m      2\u001b[0m \u001b[0mwordcounts\u001b[0m \u001b[1;33m=\u001b[0m \u001b[1;33m{\u001b[0m\u001b[1;33m}\u001b[0m\u001b[1;33m\u001b[0m\u001b[0m\n\u001b[0;32m      3\u001b[0m \u001b[1;33m\u001b[0m\u001b[0m\n\u001b[1;32m----> 4\u001b[1;33m \u001b[0mfeedlist\u001b[0m \u001b[1;33m=\u001b[0m \u001b[1;33m[\u001b[0m\u001b[0mline\u001b[0m \u001b[1;32mfor\u001b[0m \u001b[0mline\u001b[0m \u001b[1;32min\u001b[0m \u001b[0mopen\u001b[0m\u001b[1;33m(\u001b[0m\u001b[1;34m'feedlist.txt'\u001b[0m\u001b[1;33m)\u001b[0m\u001b[1;33m.\u001b[0m\u001b[0mlines\u001b[0m\u001b[1;33m(\u001b[0m\u001b[1;33m)\u001b[0m\u001b[1;33m]\u001b[0m\u001b[1;33m\u001b[0m\u001b[0m\n\u001b[0m\u001b[0;32m      5\u001b[0m \u001b[1;33m\u001b[0m\u001b[0m\n\u001b[0;32m      6\u001b[0m \u001b[1;32mfor\u001b[0m \u001b[0mfeedurl\u001b[0m \u001b[1;32min\u001b[0m \u001b[0mfeedlist\u001b[0m\u001b[1;33m:\u001b[0m\u001b[1;33m\u001b[0m\u001b[0m\n",
      "\u001b[1;31mFileNotFoundError\u001b[0m: [Errno 2] No such file or directory: 'feedlist.txt'"
     ]
    }
   ],
   "source": [
    "apcount = {}\n",
    "wordcounts = {}\n",
    "\n",
    "feedlist = [line for line in open('feedlist.txt').lines()]\n",
    "\n",
    "for feedurl in feedlist:\n",
    "    title , wc = getwordcounts(feedurl)\n",
    "    wordcounts[title] = wc\n",
    "    \n",
    "    for word , count in wc.items():\n",
    "        apcount.setdefault(word , 0)\n",
    "        \n",
    "        if count > 1:\n",
    "            apcount[word]+=1"
   ]
  },
  {
   "cell_type": "code",
   "execution_count": 7,
   "metadata": {
    "collapsed": true
   },
   "outputs": [],
   "source": [
    "wordlist = []\n",
    "\n",
    "for w , bc in apcount.items():\n",
    "    frac = float(bc)/len(feedlist)\n",
    "    if frac>0.1 and frac<0.5:\n",
    "        wordlist.append(w)\n",
    "    "
   ]
  },
  {
   "cell_type": "code",
   "execution_count": null,
   "metadata": {
    "collapsed": true
   },
   "outputs": [],
   "source": [
    "out = open('blogdata.txt' , 'w')\n",
    "out.write('Blog')\n",
    "\n",
    "for word in wordlist:\n",
    "    out.write('\\t%s' % word)\n",
    "\n",
    "out.write('\\n')\n",
    "\n",
    "for blog , wc in wordcounts.items():\n",
    "    out.write(blog)\n",
    "    \n",
    "    for word in wordlist:\n",
    "        if word in wc:\n",
    "            out.write('\\t%d' % wc[word])\n",
    "        else:\n",
    "            out.write('\\t0')\n",
    "    \n",
    "    out.write('\\n')"
   ]
  },
  {
   "cell_type": "code",
   "execution_count": 8,
   "metadata": {
    "collapsed": true
   },
   "outputs": [],
   "source": [
    "def readfile(filename):\n",
    "    lines = [line for line in open(filename)]\n",
    "    \n",
    "    colnames = lines[0].strip().split('\\t')[1:]\n",
    "    rownames = []\n",
    "    data = []\n",
    "    \n",
    "    for line in lines[1:]:\n",
    "        p = line.strip().split('\\t')\n",
    "        rownames.append(p[0])\n",
    "        \n",
    "        data.append([float(x) for x in p[1:]])\n",
    "        \n",
    "    \n",
    "    return rownames , colnames , data"
   ]
  },
  {
   "cell_type": "code",
   "execution_count": 9,
   "metadata": {
    "collapsed": true
   },
   "outputs": [],
   "source": [
    "from math import sqrt"
   ]
  },
  {
   "cell_type": "code",
   "execution_count": 11,
   "metadata": {},
   "outputs": [],
   "source": [
    "def pearson(v1 , v2):\n",
    "    sum1 = sum(v1)\n",
    "    sum2 = sum(v2)\n",
    "    \n",
    "    sum1Sq = sum([pow(v , 2) for v in v1])\n",
    "    sum2Sq = sum([pow(v , 2) for v in v2])\n",
    "    \n",
    "    pSum = sum([v1[i] * v2[i] for i in range(len(v1))])\n",
    "    \n",
    "    num = pSum - (sum1*sum2/len(v1))\n",
    "    den = sqrt((sum1Sq - pow(sum1 , 2)/len(v1))*(sum2Sq-pow(sum2, 2)/len(v1)))\n",
    "    \n",
    "    if  den == 0:\n",
    "        return 0\n",
    "\n",
    "    return 1.0 - num/den"
   ]
  },
  {
   "cell_type": "code",
   "execution_count": 14,
   "metadata": {
    "collapsed": true
   },
   "outputs": [],
   "source": [
    "class bicluster:\n",
    "    def __init__(self , vec , left = None , right = None ,\n",
    "                distance = 0.0 , id = None):\n",
    "        self.left = left\n",
    "        self.right = right\n",
    "        self.vec = vec\n",
    "        self.id = id\n",
    "        self.distance = distance\n",
    "        \n",
    "        \n",
    "def hcluster(rows , distance = pearson):\n",
    "    distances= {}\n",
    "    currentclustid = -1\n",
    "\n",
    "    clust = [bicluster(rows[i] , id = 1) for i in range(len(rows))]\n",
    "\n",
    "    while len(clust)>1:\n",
    "        lowestpair = (0 , 1)\n",
    "        closest = distance(clust[0].vec , clust[1].vec)\n",
    "\n",
    "        for i in range(len(clust)):\n",
    "            for j in range(i+1 , len(clust)):\n",
    "                if (clust[i].id , clust[j].id not in distances):\n",
    "                    distances[(clust[i].id , clust[j].id)] = distance(clust[i].vec , clust[j].vec)\n",
    "\n",
    "                d = distances[(clust[i].id , clust[j].id)]\n",
    "\n",
    "                if d<closest:\n",
    "                    closest = d\n",
    "                    lowestpair = [i , j]\n",
    "        mergevec = [\n",
    "            (clust[lowestpair[0]].vec[i] + clust[lowestpair[1]].vec[i])/2.0 \n",
    "            for i in range(len(clust[0].vec))\n",
    "        ]\n",
    "\n",
    "        newcluster = bicluster(mergevec , left=clust[lowestpair[0]],\n",
    "                              right = clust[lowestpair[1]],\n",
    "                              distance=closest , id=currentclustid)\n",
    "\n",
    "        currentclustid -= 1\n",
    "\n",
    "        del clust[lowestpair[1]]\n",
    "        del clust[lowestpair[0]]\n",
    "\n",
    "        clust.append(newcluster)\n",
    "\n",
    "    return clust[0]"
   ]
  },
  {
   "cell_type": "code",
   "execution_count": null,
   "metadata": {
    "collapsed": true
   },
   "outputs": [],
   "source": [
    "blognames , words , data = readfile('blogdata.txt')\n",
    "clust = hcluster(data)"
   ]
  },
  {
   "cell_type": "code",
   "execution_count": 15,
   "metadata": {
    "collapsed": true
   },
   "outputs": [],
   "source": [
    "def printclust(clust , labels = None , n = 0):\n",
    "    for i in range(n):\n",
    "        print(' ')\n",
    "    \n",
    "    if clust.id<0:\n",
    "        print('-')\n",
    "    else:\n",
    "        if labels == None:\n",
    "            print(clust.id)\n",
    "        else:\n",
    "            print(labels[clust.id])\n",
    "            \n",
    "    if clust.left != None:\n",
    "        printclust(clust.left , labels = labels , n=n+1)\n",
    "    \n",
    "    if clust.right != None:\n",
    "        printclust(clust.right , labels = labels , n=n+1)"
   ]
  },
  {
   "cell_type": "code",
   "execution_count": null,
   "metadata": {
    "collapsed": true
   },
   "outputs": [],
   "source": []
  },
  {
   "cell_type": "code",
   "execution_count": null,
   "metadata": {
    "collapsed": true
   },
   "outputs": [],
   "source": [
    "printclust(clust , labels=blognames)"
   ]
  },
  {
   "cell_type": "code",
   "execution_count": 18,
   "metadata": {
    "collapsed": true
   },
   "outputs": [],
   "source": [
    "from PIL import Image , ImageDraw"
   ]
  },
  {
   "cell_type": "code",
   "execution_count": 16,
   "metadata": {
    "collapsed": true
   },
   "outputs": [],
   "source": [
    "def getheight(clust):\n",
    "    if clust.left == None and clust.right == None:\n",
    "        return 1\n",
    "\n",
    "    return getheight(clust.left) + getheight(clust.right)"
   ]
  },
  {
   "cell_type": "code",
   "execution_count": 17,
   "metadata": {
    "collapsed": true
   },
   "outputs": [],
   "source": [
    "def getdepth(clust):\n",
    "    if clust.left == None and clust.right == None:\n",
    "        return 0\n",
    "    \n",
    "    return max(getdepth(clust.left) , getdepth(clust.right)) + clust.distance"
   ]
  },
  {
   "cell_type": "code",
   "execution_count": 19,
   "metadata": {
    "collapsed": true
   },
   "outputs": [],
   "source": [
    "def drawdendrogram(clust , labels , jepg = 'clusters.jpg'):\n",
    "    h = getheight(clust) * 20\n",
    "    w = 1200\n",
    "    depth = getdepth(clust)\n",
    "    \n",
    "    scaling = float(w-150) / depth\n",
    "    \n",
    "    img = Image.new('RGB' , (w, h) , (255,255,255))\n",
    "    draw = ImageDraw.Draw(img)\n",
    "    \n",
    "    draw.line((0 , h/2 , 10 , h/2) , fill(255 , 0 , 0))\n",
    "    \n",
    "    drawnode(draw , clust , 10 , (h/2) , scaling , labels)\n",
    "    \n",
    "    img.save(jpeg , 'JPEG')"
   ]
  },
  {
   "cell_type": "code",
   "execution_count": 21,
   "metadata": {},
   "outputs": [],
   "source": [
    "def drawnode(draw , clust , x , y , scaling , labels):\n",
    "    if clust.id<0:\n",
    "        h1 = getheight(clust.left) * 20\n",
    "        h2 = getheight(clust.right) * 20\n",
    "        \n",
    "        top = y-(h1+h2)/2\n",
    "        bottom = y+(h1+h2)/2\n",
    "        \n",
    "        l1 = clust.distance*scaling\n",
    "        \n",
    "        draw.line((x , top+h1/2 , x , bottom-h2/2) , fill = (255 , 0 , 0))\n",
    "        \n",
    "        draw.line((x , top+h1/2 , x+l1 , top+h1/2) , fill = (255 , 0 , 0))\n",
    "        \n",
    "        draw.line((x , bottom-h2/2 , x+l1 , bottom-h2/2) , fill=(255,0,0))\n",
    "        \n",
    "        drawnode(draw , clust.left , x+l1 , top+h1/2 , scaling , labels)\n",
    "        drawnode(draw , clust.right , x+l1 , bottom-h2/2 , scaling , labels)\n",
    "    else:\n",
    "        draw.test((x+5 , y-7) , labels[clust.id] , (0,0,0))"
   ]
  },
  {
   "cell_type": "code",
   "execution_count": null,
   "metadata": {
    "collapsed": true
   },
   "outputs": [],
   "source": [
    "drawdendrogram(clust , blognames , jpeg='blogclust.jpg')"
   ]
  },
  {
   "cell_type": "code",
   "execution_count": 22,
   "metadata": {
    "collapsed": true
   },
   "outputs": [],
   "source": [
    "def rotatematrix(data):\n",
    "    newdata = []\n",
    "    \n",
    "    for i in range(len(data[0])):\n",
    "        newrow = [data[j][i] for j in range(len(data))]\n",
    "        newdata.append(newrow)\n",
    "    \n",
    "    return newdata"
   ]
  },
  {
   "cell_type": "code",
   "execution_count": null,
   "metadata": {
    "collapsed": true
   },
   "outputs": [],
   "source": [
    "rdata = rotatematrix(data)\n",
    "wordclust = hcluster(rdata)\n",
    "drawdendrogram(wordclust , labels = words , jpeg='wordclust.jpg')"
   ]
  },
  {
   "cell_type": "markdown",
   "metadata": {},
   "source": [
    "### kmeans cluster"
   ]
  },
  {
   "cell_type": "code",
   "execution_count": 23,
   "metadata": {
    "collapsed": true
   },
   "outputs": [],
   "source": [
    "import random"
   ]
  },
  {
   "cell_type": "code",
   "execution_count": 25,
   "metadata": {},
   "outputs": [],
   "source": [
    "def kcluster(rows , distance = pearson , k = 4):\n",
    "    ranges = [(min([row[i] for row in rows]) , max([row[i] for row in rows])) \n",
    "             for i in range(len(rows[0]))]\n",
    "    \n",
    "    clusters = [[random.random() * (ranges[i][1] - ranges[i][0])+ranges[i][0] \n",
    "                for i in range(len(rows[0]))] for j in range(k)]\n",
    "    \n",
    "    lastmatches = None\n",
    "    \n",
    "    for t in range(100):\n",
    "        print('Iteration %d' % t)\n",
    "        bestmatches = [[] for i in range(k)]\n",
    "        \n",
    "        for j in range(len(rows)):\n",
    "            row = rows[j]\n",
    "            bestmatches = 0\n",
    "            \n",
    "            for i in range(k):\n",
    "                d = distance(clusters[i] , row)\n",
    "                \n",
    "                if d<distance(clusters[bestmatches] , row):\n",
    "                    bestmatches = i\n",
    "                \n",
    "            bestmatches[bestmatches].append(j)\n",
    "        \n",
    "        if bestmatches == lastmatches:\n",
    "            break\n",
    "        \n",
    "        lastmatches = bestmatches\n",
    "        \n",
    "        for i in range(k):\n",
    "            avgs = [0.0]*len(rows[0])\n",
    "            if len(bestmatches[i]) > 0:\n",
    "                for rowid in bestmatches[i]:\n",
    "                    for m in range(len(rows[rowid])):\n",
    "                        avgs[m] += rows[rowid][m]\n",
    "                \n",
    "                for j in range(len(avgs)):\n",
    "                    avgs[j]/= len(bestmatches[i])\n",
    "                clusters[i] = avgs\n",
    "    \n",
    "    return bestmatches"
   ]
  },
  {
   "cell_type": "code",
   "execution_count": null,
   "metadata": {
    "collapsed": true
   },
   "outputs": [],
   "source": [
    "kclust = kcluster(data , k = 10)\n",
    "[blognames[r] for r in kclust[0]]"
   ]
  },
  {
   "cell_type": "code",
   "execution_count": null,
   "metadata": {
    "collapsed": true
   },
   "outputs": [],
   "source": [
    "[blognames[r] for r in kclust[1]]"
   ]
  },
  {
   "cell_type": "code",
   "execution_count": null,
   "metadata": {
    "collapsed": true
   },
   "outputs": [],
   "source": []
  }
 ],
 "metadata": {
  "kernelspec": {
   "display_name": "Python 3",
   "language": "python",
   "name": "python3"
  },
  "language_info": {
   "codemirror_mode": {
    "name": "ipython",
    "version": 3
   },
   "file_extension": ".py",
   "mimetype": "text/x-python",
   "name": "python",
   "nbconvert_exporter": "python",
   "pygments_lexer": "ipython3",
   "version": "3.6.1"
  }
 },
 "nbformat": 4,
 "nbformat_minor": 2
}
