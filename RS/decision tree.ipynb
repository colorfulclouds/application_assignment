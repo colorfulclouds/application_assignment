{
 "cells": [
  {
   "cell_type": "code",
   "execution_count": 1,
   "metadata": {
    "collapsed": true
   },
   "outputs": [],
   "source": [
    "my_data =[['slashdot','USA','yes',18,'None'],\n",
    "          ['google','France','yes',23,'Premium'],\n",
    "          ['digg','USA','yes',24,'Basic'],\n",
    "          ['kiwitobes','France','yes',23,'Basic'],\n",
    "          ['google','UK','no',21,'Premium'],\n",
    "          ['(direct)','New Zealand','no',12,'None'],\n",
    "          ['(direct)','UK','no',21,'Basic'],\n",
    "          ['google','USA','no',24,'Premium'],\n",
    "          ['slashdot','France','yes',19,'None'],\n",
    "          ['digg','USA','no',18,'None'],\n",
    "          ['google','UK','no',18,'None'],\n",
    "          ['kiwitobes','UK','no',19,'None'],\n",
    "          ['digg','New Zealand','yes',12,'Basic'],\n",
    "          ['google','UK','yes',18,'Basic'],\n",
    "          ['kiwitobes','France','yes',19,'Basic']]"
   ]
  },
  {
   "cell_type": "code",
   "execution_count": 2,
   "metadata": {
    "collapsed": true
   },
   "outputs": [],
   "source": [
    "class decisionnode:\n",
    "    def __init__(self , col = -1 , value = None , results = None , tb=None , fb = None):\n",
    "        self.col = col\n",
    "        self.value = value\n",
    "        self.results = results\n",
    "        self.tb = tb\n",
    "        self.fb = fb"
   ]
  },
  {
   "cell_type": "code",
   "execution_count": 3,
   "metadata": {
    "collapsed": true
   },
   "outputs": [],
   "source": [
    "def divideset(rows , column , value):\n",
    "    split_function = None\n",
    "    \n",
    "    if isinstance(value , int) or isinstance(value , float):\n",
    "        #数值型数据\n",
    "        split_function = lambda row: row[column] >= value\n",
    "    else:\n",
    "        #标称型数据\n",
    "        split_function = lambda row: row[column] == value\n",
    "        \n",
    "    set1 = [row for row in rows if split_function(row)]\n",
    "    set2 = [row for row in rows if not split_function(row)]\n",
    "    \n",
    "    return (set1 , set2)"
   ]
  },
  {
   "cell_type": "code",
   "execution_count": 4,
   "metadata": {},
   "outputs": [
    {
     "data": {
      "text/plain": [
       "([['slashdot', 'USA', 'yes', 18, 'None'],\n",
       "  ['google', 'France', 'yes', 23, 'Premium'],\n",
       "  ['digg', 'USA', 'yes', 24, 'Basic'],\n",
       "  ['kiwitobes', 'France', 'yes', 23, 'Basic'],\n",
       "  ['slashdot', 'France', 'yes', 19, 'None'],\n",
       "  ['digg', 'New Zealand', 'yes', 12, 'Basic'],\n",
       "  ['google', 'UK', 'yes', 18, 'Basic'],\n",
       "  ['kiwitobes', 'France', 'yes', 19, 'Basic']],\n",
       " [['google', 'UK', 'no', 21, 'Premium'],\n",
       "  ['(direct)', 'New Zealand', 'no', 12, 'None'],\n",
       "  ['(direct)', 'UK', 'no', 21, 'Basic'],\n",
       "  ['google', 'USA', 'no', 24, 'Premium'],\n",
       "  ['digg', 'USA', 'no', 18, 'None'],\n",
       "  ['google', 'UK', 'no', 18, 'None'],\n",
       "  ['kiwitobes', 'UK', 'no', 19, 'None']])"
      ]
     },
     "execution_count": 4,
     "metadata": {},
     "output_type": "execute_result"
    }
   ],
   "source": [
    "divideset(my_data , 2 , 'yes')"
   ]
  },
  {
   "cell_type": "code",
   "execution_count": 5,
   "metadata": {
    "collapsed": true
   },
   "outputs": [],
   "source": [
    "def uniquecounts(rows):\n",
    "    results = {}\n",
    "    \n",
    "    for row in rows:\n",
    "        r = row[len(row) - 1]\n",
    "        \n",
    "        if r not in results:\n",
    "            results[r] = 0\n",
    "        \n",
    "        results[r] += 1\n",
    "    \n",
    "    return results"
   ]
  },
  {
   "cell_type": "code",
   "execution_count": 9,
   "metadata": {
    "collapsed": true
   },
   "outputs": [],
   "source": [
    "def giniimpurity(rows):\n",
    "    total = len(rows)\n",
    "    \n",
    "    counts = uniquecounts(rows)\n",
    "    \n",
    "    imp = 0\n",
    "    \n",
    "    for k1 in counts:\n",
    "        p1 = float(counts[k1]) / total\n",
    "        \n",
    "        for k2 in counts:\n",
    "            if k1 == k2:\n",
    "                continue\n",
    "            p2 = float(counts[k2])/total\n",
    "            \n",
    "            imp += p1*p2\n",
    "    \n",
    "    return imp"
   ]
  },
  {
   "cell_type": "code",
   "execution_count": 17,
   "metadata": {
    "collapsed": true
   },
   "outputs": [],
   "source": [
    "from math import log\n",
    "\n",
    "def entropy(rows):\n",
    "    log2 = lambda x: log(x)/log(2)\n",
    "    \n",
    "    results = uniquecounts(rows)\n",
    "    \n",
    "    ent = 0.0\n",
    "    \n",
    "    for r in results.keys():\n",
    "        p = float(results[r] / len(rows))\n",
    "        if p - 0.0<0.00000001:\n",
    "            ent = ent - 0\n",
    "        else:\n",
    "            ent = ent - p*log(p+0.0000001,2)#log2(p)\n",
    "    \n",
    "    return ent"
   ]
  },
  {
   "cell_type": "code",
   "execution_count": 10,
   "metadata": {},
   "outputs": [
    {
     "data": {
      "text/plain": [
       "0.6400000000000001"
      ]
     },
     "execution_count": 10,
     "metadata": {},
     "output_type": "execute_result"
    }
   ],
   "source": [
    "giniimpurity(my_data)"
   ]
  },
  {
   "cell_type": "code",
   "execution_count": 18,
   "metadata": {},
   "outputs": [
    {
     "data": {
      "text/plain": [
       "0.0"
      ]
     },
     "execution_count": 18,
     "metadata": {},
     "output_type": "execute_result"
    }
   ],
   "source": [
    "entropy(my_data)"
   ]
  },
  {
   "cell_type": "code",
   "execution_count": 12,
   "metadata": {},
   "outputs": [
    {
     "data": {
      "text/plain": [
       "2.0"
      ]
     },
     "execution_count": 12,
     "metadata": {},
     "output_type": "execute_result"
    }
   ],
   "source": [
    "log(4,2)"
   ]
  },
  {
   "cell_type": "code",
   "execution_count": 19,
   "metadata": {
    "collapsed": true
   },
   "outputs": [],
   "source": [
    "def buildtree(rows , scoref = entropy):\n",
    "    if len(rows) == 0:\n",
    "        return decisionnode()\n",
    "    \n",
    "    current_score = scoref(rows)\n",
    "    \n",
    "    best_gain = 0.0\n",
    "    best_criteria = None\n",
    "    best_sets = None\n",
    "    \n",
    "    column_count = len(rows[0]) - 1\n",
    "    \n",
    "    for col in range(0 , column_count):\n",
    "        column_values = {}\n",
    "        \n",
    "        for row in rows:\n",
    "            column_values[row[col]] = 1\n",
    "        \n",
    "        for value in column_values.keys():\n",
    "            (set1 , set2) = divideset(rows , col , value)\n",
    "            \n",
    "            p = float(len(set1))/len(rows)\n",
    "            \n",
    "            gain = current_score - p*scoref(set1)-(1-p)*scoref(set2)\n",
    "            if gain>best_gain and len(set1)>0 and len(set2)>0:\n",
    "                best_gain = gain\n",
    "                best_criteria = (col , value)\n",
    "                best_sets = (set1 , set2)\n",
    "    \n",
    "    if best_gain>0:\n",
    "        trueBranch = buildtree(best_sets[0])\n",
    "        falseBranch = buildtree(best_sets[1])\n",
    "        \n",
    "        return decisionnode(col=best_criteria[0],value=best_criteria[1],\n",
    "                           tb=trueBranch , fb = falseBranch)\n",
    "    else:\n",
    "        return decisionnode(results=uniquecounts(rows))"
   ]
  },
  {
   "cell_type": "code",
   "execution_count": 21,
   "metadata": {},
   "outputs": [],
   "source": [
    "tree = buildtree(my_data)"
   ]
  },
  {
   "cell_type": "code",
   "execution_count": 22,
   "metadata": {
    "collapsed": true
   },
   "outputs": [],
   "source": [
    "def printtree(tree , indent = ' '):\n",
    "    if tree.results != None:\n",
    "        print(str(tree.results))\n",
    "    else:\n",
    "        print(str(tree.col)+':'+str(tree.value)+'? ')\n",
    "        \n",
    "        print(indent+'T->')\n",
    "        printtree(tree.tb , indent+'  ')\n",
    "        print(indent+'F->')\n",
    "        printtree(tree.fb , indent+'  ')"
   ]
  },
  {
   "cell_type": "code",
   "execution_count": 23,
   "metadata": {},
   "outputs": [
    {
     "name": "stdout",
     "output_type": "stream",
     "text": [
      "0:slashdot? \n",
      " T->\n",
      "{'None': 2}\n",
      " F->\n",
      "{'None': 4, 'Premium': 3, 'Basic': 6}\n"
     ]
    }
   ],
   "source": [
    "printtree(tree)"
   ]
  },
  {
   "cell_type": "code",
   "execution_count": 24,
   "metadata": {
    "collapsed": true
   },
   "outputs": [],
   "source": [
    "def classify(observation , tree):\n",
    "    if tree.results != None:\n",
    "        return tree.results\n",
    "    else:\n",
    "        v = observation[tree.col]\n",
    "        branch = None\n",
    "        \n",
    "        if isinstance(v , int) or isinstance(v , float):\n",
    "            if v>= tree.value:\n",
    "                branck = tree.tb\n",
    "            else:\n",
    "                branch = tree.fb\n",
    "        else:\n",
    "            if v == tree.value:\n",
    "                branch = tree.tb\n",
    "            else:\n",
    "                branch = tree.fb\n",
    "        \n",
    "        return classify(observation , branch)"
   ]
  },
  {
   "cell_type": "code",
   "execution_count": 25,
   "metadata": {},
   "outputs": [
    {
     "data": {
      "text/plain": [
       "{'Basic': 6, 'None': 4, 'Premium': 3}"
      ]
     },
     "execution_count": 25,
     "metadata": {},
     "output_type": "execute_result"
    }
   ],
   "source": [
    "classify(['(direct)' , 'USA' , 'yes' , 5] , tree)"
   ]
  },
  {
   "cell_type": "code",
   "execution_count": 26,
   "metadata": {
    "collapsed": true
   },
   "outputs": [],
   "source": [
    "def prune(tree , mingain): #熵增益的阈值\n",
    "    if tree.tb.results == None:\n",
    "        prune(tree.tb , mingain)\n",
    "    \n",
    "    if tree.fb.results == None:\n",
    "        prune(tree.fb , mingain)\n",
    "    \n",
    "    if tree.tb.results != None and tree.fb.results != None:\n",
    "        tb , fb = [] , []\n",
    "        \n",
    "        for v , c in tree.tb.results.items():\n",
    "            tb += [[v]] * c\n",
    "        \n",
    "        for v , c in tree.fb.results.items():\n",
    "            fb += [[v]] * c\n",
    "        \n",
    "        delta = entropy(tb+fb) - (entropy(tb)+entropy(fb)/2)\n",
    "        \n",
    "        if delta<mingain:\n",
    "            tree.tf , tree.fb = None , None\n",
    "            tree.results = uniquecounts(tb+fb)"
   ]
  },
  {
   "cell_type": "code",
   "execution_count": 27,
   "metadata": {
    "collapsed": true
   },
   "outputs": [],
   "source": [
    "#对缺失值能够处理 的分类方法\n",
    "def mdclassify(observation , tree):\n",
    "    if tree.results != None:\n",
    "        return tree.results\n",
    "    else:\n",
    "        v = observation[tree.col]\n",
    "        if v == None:\n",
    "            tr , fr = mdclassify(observation , tree.tb),mdclassify(observation , tree.fb)\n",
    "            tcount = sum(tr.values())\n",
    "            fcount = sum(fr.values())\n",
    "            \n",
    "            tw = float(tcount)/(tcount + fcount)\n",
    "            fw = float(fcount)/(tcount + fcount)\n",
    "            \n",
    "            result = {}\n",
    "            \n",
    "            for k , v in tr.items():\n",
    "                result[k] = v * tw\n",
    "                \n",
    "            for k , v in fr.items():\n",
    "                if k not in result:\n",
    "                    result[k] = 0\n",
    "                    result[k] += v*fw\n",
    "            return result\n",
    "        else:\n",
    "            if isinstance(v , int) or isinstance(v , float):\n",
    "                if v>=tree.value:\n",
    "                    branch = tree.tb\n",
    "                else:\n",
    "                    branch = tree.fb\n",
    "            else:\n",
    "                if v == tree.value:\n",
    "                    branch = tree.tb\n",
    "                else:\n",
    "                    branch = tree.fb\n",
    "            return mdclassify(observation , branch)"
   ]
  },
  {
   "cell_type": "code",
   "execution_count": 28,
   "metadata": {
    "collapsed": true
   },
   "outputs": [],
   "source": [
    "def variance(rows):\n",
    "    if len(rows) == 0:\n",
    "        return 0\n",
    "    \n",
    "    data = [float(row[len(row) - 1]) for row in rows]\n",
    "    mean = sum(data)/len(data)\n",
    "    variance = sum([(d-mean)**2 for d in data])/len(data)\n",
    "    \n",
    "    return variance"
   ]
  },
  {
   "cell_type": "code",
   "execution_count": null,
   "metadata": {
    "collapsed": true
   },
   "outputs": [],
   "source": []
  }
 ],
 "metadata": {
  "kernelspec": {
   "display_name": "Python 2",
   "language": "python",
   "name": "python2"
  },
  "language_info": {
   "codemirror_mode": {
    "name": "ipython",
    "version": 2
   },
   "file_extension": ".py",
   "mimetype": "text/x-python",
   "name": "python",
   "nbconvert_exporter": "python",
   "pygments_lexer": "ipython2",
   "version": "2.7.13"
  }
 },
 "nbformat": 4,
 "nbformat_minor": 2
}
