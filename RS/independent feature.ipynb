{
 "cells": [
  {
   "cell_type": "code",
   "execution_count": 1,
   "metadata": {
    "collapsed": true
   },
   "outputs": [],
   "source": [
    "import feedparser\n",
    "import re\n",
    "\n",
    "feedlist=['http://today.reuters.com/rss/topNews',\n",
    "          'http://today.reuters.com/rss/domesticNews',\n",
    "          'http://today.reuters.com/rss/worldNews',\n",
    "          'http://hosted.ap.org/lineups/TOPHEADS-rss_2.0.xml',\n",
    "          'http://hosted.ap.org/lineups/USHEADS-rss_2.0.xml',\n",
    "          'http://hosted.ap.org/lineups/WORLDHEADS-rss_2.0.xml',\n",
    "          'http://hosted.ap.org/lineups/POLITICSHEADS-rss_2.0.xml',\n",
    "          'http://www.nytimes.com/services/xml/rss/nyt/HomePage.xml',\n",
    "          'http://www.nytimes.com/services/xml/rss/nyt/International.xml',\n",
    "          'http://news.google.com/?output=rss',\n",
    "          'http://feeds.salon.com/salon/news',\n",
    "          'http://www.foxnews.com/xmlfeed/rss/0,4313,0,00.rss',\n",
    "          'http://www.foxnews.com/xmlfeed/rss/0,4313,80,00.rss',\n",
    "          'http://www.foxnews.com/xmlfeed/rss/0,4313,81,00.rss',\n",
    "          'http://rss.cnn.com/rss/edition.rss',\n",
    "          'http://rss.cnn.com/rss/edition_world.rss',\n",
    "          'http://rss.cnn.com/rss/edition_us.rss']"
   ]
  },
  {
   "cell_type": "code",
   "execution_count": 2,
   "metadata": {
    "collapsed": true
   },
   "outputs": [],
   "source": [
    "def stripHTML(h):\n",
    "    p=''\n",
    "    s=0\n",
    "    \n",
    "    for c in h:\n",
    "        if c=='<':\n",
    "            s=1\n",
    "        elif c == '>':\n",
    "            s=0\n",
    "            p+=' '\n",
    "        elif s==0:\n",
    "            p+=c\n",
    "    \n",
    "    return p"
   ]
  },
  {
   "cell_type": "code",
   "execution_count": 3,
   "metadata": {
    "collapsed": true
   },
   "outputs": [],
   "source": [
    "def separatewords(text):\n",
    "    splitter = re.compile('\\\\W*')\n",
    "    return [s.lower() for s in splitter.split(text) if len(s)>3]"
   ]
  },
  {
   "cell_type": "code",
   "execution_count": 4,
   "metadata": {
    "collapsed": true
   },
   "outputs": [],
   "source": [
    "def getarticlewords():\n",
    "    allwords = {}\n",
    "    articlewords = []\n",
    "    articletitles = []\n",
    "    ec = 0\n",
    "    \n",
    "    for feed in feedlist:\n",
    "        f = feedparser.parse(feed)\n",
    "        \n",
    "        for e in f.entries:\n",
    "            if e.title in articletitles:\n",
    "                continue\n",
    "            \n",
    "            txt = e.title.encode('utf8')+stripHTML(e.description.encode('utf8'))\n",
    "            words = separatewords(txt)\n",
    "            articlewords.append({})\n",
    "            articletitles.append(e.title)\n",
    "            \n",
    "            for word in words:\n",
    "                allwords.setdefault(word , 0)\n",
    "                allwords[word] += 1\n",
    "                articlewords[ec].setdefault(word , 0)\n",
    "                articlewords[ec][word] += 1\n",
    "            ec += 1\n",
    "            \n",
    "    return allwords  , articlewords , articletitles"
   ]
  },
  {
   "cell_type": "code",
   "execution_count": 5,
   "metadata": {
    "collapsed": true
   },
   "outputs": [],
   "source": [
    "#构造成矩阵\n",
    "def makematrix(allw , articlew):\n",
    "    wordvec = []\n",
    "    \n",
    "    for w , c in allw.items():\n",
    "        if c>3 and c<len(articlew)*0.6:\n",
    "            wordvec.append(w)\n",
    "            \n",
    "    l1 = [[(word in f and f[word] or 0) for word in wordvec] \n",
    "         for f in articlew]\n",
    "    \n",
    "    return l1 , wordvec"
   ]
  },
  {
   "cell_type": "code",
   "execution_count": 6,
   "metadata": {
    "collapsed": true
   },
   "outputs": [],
   "source": [
    "allw , artw , artt = getarticlewords()"
   ]
  },
  {
   "cell_type": "code",
   "execution_count": 9,
   "metadata": {
    "collapsed": true
   },
   "outputs": [],
   "source": [
    "wordmatrix , wordvec = makematrix(allw , artw)"
   ]
  },
  {
   "cell_type": "code",
   "execution_count": 12,
   "metadata": {
    "collapsed": true
   },
   "outputs": [
    {
     "data": {
      "text/plain": [
       "[u\"North Korea warns of 'abyss of doom' if 'old lunatic' Trump remains president\",\n",
       " u'Brazile says CNN\\u20ac&trade;s Tapper betrayed her after debate flap',\n",
       " u'Nasty notes that spurred Air Force general\\u20ac&trade;s lecture written by &acirc;\\u20ac&tilde;victim&acirc;\\u20ac&trade;',\n",
       " u'Woman killed \\u20ac&tilde;sugar daddy&acirc;\\u20ac&trade; when relationship soured: prosecutors',\n",
       " u'Exclusive: Undercover teams record grisly remote Faroe Islands whale slaughter',\n",
       " u'Wrestler had 15 drinks a day, slept with 10,000 women, documentary reveals',\n",
       " u'What critter has been found hidden in Van Gogh painting?',\n",
       " u\"Germany must legally recognize 'third gender' from birth, top court rules\",\n",
       " u'Lightning strike instantly kills two surfers',\n",
       " u\"'Super mom' Sherri Papini filmed running to safety the morning she was found\",\n",
       " u'Ex-news anchor whose reporter girlfriend was killed on live TV wins election',\n",
       " u\"Tom Fitton: Mueller probe is 'fruit of the poison tree,' should be shut down\",\n",
       " u'Pence responds to attacks on prayer after Texas shooting',\n",
       " u'LiAngelo Ball, two UCLA players arrested in China for alleged shoplifting',\n",
       " u\"Twitter apologizes for 'bisexual' technical glitch\",\n",
       " u\"Author Gay Talese blasts Kevin Spacey accuser who 'ruined' actor's career\",\n",
       " u'WATCH: Tucker rips calls for gun control after Texas shooting',\n",
       " u'Teacher, 40, allegedly sent nude pics, lewd love letters to teen student',\n",
       " u'Bill de Blasio re-elected to second term as NYC mayor',\n",
       " u'Justice Department drops case against Code Pink protester who laughed at Jeff Sessions',\n",
       " u'Abby Patterson disappearance: $10K reward offered in missing woman case',\n",
       " u\"REALITY CHECK: Patriot's Rob Gronkowski offers advice to younger NFL players\",\n",
       " u'US-bound flights get tougher screening procedures for passengers',\n",
       " u'Husband of Michigan teacher missing for months is found dead in possible suicide',\n",
       " u'Arizona woman arrested in deadly wreck had 3-year-old daughter in car during crash',\n",
       " u\"'It' factor: California cops pose for viral photo inspired by horror film\",\n",
       " u'Tom Brady: I hope Kaepernick gets another chance in NFL',\n",
       " u'Oklahoma police officers shot while serving a search warrant',\n",
       " u\"'Hell on wheels': Five disabled New Yorkers file hundreds of lawsuits\",\n",
       " u'University of Virginia to remove Confederate plaques, ban open flames - Which Confederate statues were removed? A running list',\n",
       " u'Chevy brings back diesel',\n",
       " u'Reinventing football helmets',\n",
       " u\"'Cheers' fact shocks\",\n",
       " u\"JLaw's film anti-Christian?\",\n",
       " u'From fat-shamed to billionaire',\n",
       " u'Breastfeeding mom called out',\n",
       " u'Where militaries window shop',\n",
       " u'Star Wars: Should we care?',\n",
       " u\"Bette Davis' shocking betrayal\",\n",
       " u\"'View' hosts cause a stir\",\n",
       " u\"'Bounty' star vow to fight\",\n",
       " u\"3 arrested for 'rape table'\",\n",
       " u'Gross &lsquo;fatberg&rsquo; clogs sewer',\n",
       " u'&lsquo;Sexualized&rsquo; for her wardrobe']"
      ]
     },
     "execution_count": 12,
     "metadata": {},
     "output_type": "execute_result"
    }
   ],
   "source": [
    "artt"
   ]
  },
  {
   "cell_type": "code",
   "execution_count": 13,
   "metadata": {
    "collapsed": true
   },
   "outputs": [
    {
     "data": {
      "text/plain": [
       "[[0],\n",
       " [1],\n",
       " [2],\n",
       " [1],\n",
       " [0],\n",
       " [0],\n",
       " [0],\n",
       " [0],\n",
       " [0],\n",
       " [0],\n",
       " [0],\n",
       " [0],\n",
       " [0],\n",
       " [0],\n",
       " [0],\n",
       " [0],\n",
       " [0],\n",
       " [0],\n",
       " [0],\n",
       " [0],\n",
       " [0],\n",
       " [0],\n",
       " [0],\n",
       " [0],\n",
       " [0],\n",
       " [0],\n",
       " [0],\n",
       " [0],\n",
       " [0],\n",
       " [0],\n",
       " [0],\n",
       " [0],\n",
       " [0],\n",
       " [0],\n",
       " [0],\n",
       " [0],\n",
       " [0],\n",
       " [0],\n",
       " [0],\n",
       " [0],\n",
       " [0],\n",
       " [0],\n",
       " [0],\n",
       " [0]]"
      ]
     },
     "execution_count": 13,
     "metadata": {},
     "output_type": "execute_result"
    }
   ],
   "source": [
    "wordmatrix"
   ]
  },
  {
   "cell_type": "code",
   "execution_count": 6,
   "metadata": {
    "collapsed": true
   },
   "outputs": [],
   "source": [
    "def wordmatrixfeatures(x):\n",
    "    return [wordvec[w] for w in range(len(x)) if x[w]>0]"
   ]
  },
  {
   "cell_type": "code",
   "execution_count": 7,
   "metadata": {
    "collapsed": true
   },
   "outputs": [],
   "source": [
    "from numpy import *"
   ]
  },
  {
   "cell_type": "code",
   "execution_count": 8,
   "metadata": {
    "collapsed": true
   },
   "outputs": [],
   "source": [
    "def difcost(a , b):\n",
    "    dif = 0\n",
    "    \n",
    "    for i in range(shape(a)[0]):\n",
    "        for j in range(shape(a)[1]):\n",
    "            dif += pow(a[i,j]-b[i,j] , 2)\n",
    "    \n",
    "    return dif"
   ]
  },
  {
   "cell_type": "code",
   "execution_count": 9,
   "metadata": {
    "collapsed": true
   },
   "outputs": [],
   "source": [
    "def factorize(v , pc=10 , iter_ = 50):\n",
    "    ic = shape(v)[0]\n",
    "    fc = shape(v)[1]\n",
    "    \n",
    "    w = matrix([[random.random() for j in range(pc)] for i in range(ic)])\n",
    "    h = matrix([[random.random() for i in range(fc)] for i in range(pc)])\n",
    "    \n",
    "    for i in range(iter_):\n",
    "        wh = w*h\n",
    "        \n",
    "        cost = difcost(v , wh)\n",
    "        \n",
    "        if i%10 == 0:\n",
    "            print(cost)\n",
    "        \n",
    "        if cost == 0:\n",
    "            break\n",
    "        \n",
    "        hn = (transpose(w)*v)\n",
    "        hd = (transpose(w)*w*h)\n",
    "        \n",
    "        h = matrix(array(h)*array(hn)/array(hd))\n",
    "        \n",
    "        wn = (v*transpose(h))\n",
    "        wd = (w*h*transpose(h))\n",
    "        \n",
    "        w = matrix(array(w)*array(wn)/array(wd))\n",
    "    \n",
    "    return w , h"
   ]
  },
  {
   "cell_type": "code",
   "execution_count": 20,
   "metadata": {
    "collapsed": true
   },
   "outputs": [],
   "source": [
    "l1 = [[1,2,3],[4,5,6]]\n",
    "m1 = matrix(l1)\n",
    "\n",
    "m2=matrix([[1,2],[3,4],[5,6]])\n"
   ]
  },
  {
   "cell_type": "code",
   "execution_count": 21,
   "metadata": {
    "collapsed": true
   },
   "outputs": [
    {
     "name": "stdout",
     "output_type": "stream",
     "text": [
      "7516.381880715774\n",
      "0.2496424756487585\n",
      "0.1452219990324857\n",
      "0.08562946465731655\n",
      "0.050948208734387705\n",
      "0.03049986879497617\n",
      "0.018336390474338653\n",
      "0.011056885032405381\n",
      "0.006681680512550269\n",
      "0.004044058972053215\n"
     ]
    }
   ],
   "source": [
    "w , h = factorize(m1*m2 , pc = 3 , iter_=100)"
   ]
  },
  {
   "cell_type": "code",
   "execution_count": 27,
   "metadata": {},
   "outputs": [
    {
     "data": {
      "text/plain": [
       "matrix([[0.1986195 , 0.04891173, 0.58601606],\n",
       "        [0.52625237, 0.28558996, 1.07536792]])"
      ]
     },
     "execution_count": 27,
     "metadata": {},
     "output_type": "execute_result"
    }
   ],
   "source": [
    "w"
   ]
  },
  {
   "cell_type": "code",
   "execution_count": 28,
   "metadata": {},
   "outputs": [
    {
     "data": {
      "text/plain": [
       "matrix([[10.21180522,  7.67731926],\n",
       "        [35.21206604, 58.41777306],\n",
       "        [31.20221152, 40.2545605 ]])"
      ]
     },
     "execution_count": 28,
     "metadata": {},
     "output_type": "execute_result"
    }
   ],
   "source": [
    "h"
   ]
  },
  {
   "cell_type": "code",
   "execution_count": 22,
   "metadata": {},
   "outputs": [
    {
     "data": {
      "text/plain": [
       "matrix([[22.03554401, 27.97199898],\n",
       "        [48.98405673, 64.01220021]])"
      ]
     },
     "execution_count": 22,
     "metadata": {},
     "output_type": "execute_result"
    }
   ],
   "source": [
    "w*h"
   ]
  },
  {
   "cell_type": "code",
   "execution_count": 24,
   "metadata": {},
   "outputs": [
    {
     "data": {
      "text/plain": [
       "matrix([[22, 28],\n",
       "        [49, 64]])"
      ]
     },
     "execution_count": 24,
     "metadata": {},
     "output_type": "execute_result"
    }
   ],
   "source": [
    "m1*m2"
   ]
  },
  {
   "cell_type": "code",
   "execution_count": 25,
   "metadata": {
    "collapsed": true
   },
   "outputs": [],
   "source": [
    "v = matrix(wordmatrix)"
   ]
  },
  {
   "cell_type": "code",
   "execution_count": 26,
   "metadata": {},
   "outputs": [
    {
     "name": "stdout",
     "output_type": "stream",
     "text": [
      "699.6976441388856\n",
      "nan\n",
      "nan\n",
      "nan\n",
      "nan\n"
     ]
    },
    {
     "name": "stderr",
     "output_type": "stream",
     "text": [
      "I:\\Anaconda3\\envs\\ipykernel_py2\\lib\\site-packages\\ipykernel_launcher.py:27: RuntimeWarning: invalid value encountered in divide\n",
      "I:\\Anaconda3\\envs\\ipykernel_py2\\lib\\site-packages\\ipykernel_launcher.py:6: RuntimeWarning: invalid value encountered in double_scalars\n",
      "  \n"
     ]
    }
   ],
   "source": [
    "weights , feat = factorize(v , pc = 20 , iter_=50)"
   ]
  },
  {
   "cell_type": "code",
   "execution_count": 10,
   "metadata": {
    "collapsed": true
   },
   "outputs": [],
   "source": [
    "def showfeatures(w , h , titles,  wordvec , out='features.txt'):\n",
    "    outfile = open(out , 'w')\n",
    "    pc , wc = shape(h)\n",
    "    toppatterns = [[] for i in range(len(titles))]\n",
    "    patternnames = []\n",
    "    \n",
    "    for i in range(pc):\n",
    "        slist = []\n",
    "        for j in range(wc):\n",
    "            slist.append((h[i,j] , wordvec[j]))\n",
    "        \n",
    "        slist.sort()\n",
    "        slist.reverse()\n",
    "        \n",
    "        n=[s[1] for s in slist[0:6]]\n",
    "        outfile.write(str(n)+'\\n')\n",
    "        patternnames.append(n)\n",
    "        \n",
    "        flist = []\n",
    "        \n",
    "        for j in range(len(titles)):\n",
    "            flist.append((w[j,i] , titles[j]))\n",
    "            toppatterns[j].append((w[j,i] , i , titles[j]))\n",
    "        \n",
    "        flist.sort()\n",
    "        flist.reverse()\n",
    "    \n",
    "        for f in flist[0:3]:\n",
    "            outfile.write(str(f) + '\\n')\n",
    "        \n",
    "        outfile.write('\\n')\n",
    "    \n",
    "    outfile.close()\n",
    "    \n",
    "    return toppatterns , patternnames"
   ]
  },
  {
   "cell_type": "code",
   "execution_count": 30,
   "metadata": {
    "collapsed": true
   },
   "outputs": [],
   "source": [
    "topp , pn = showfeatures(weights , feat , artt , wordvec)"
   ]
  },
  {
   "cell_type": "code",
   "execution_count": 11,
   "metadata": {
    "collapsed": true
   },
   "outputs": [],
   "source": [
    "def showarticles(titles , toppatterns , patternnames , out='articles.txt'):\n",
    "    outfile = open(out , 'w')\n",
    "    \n",
    "    for j in range(len(titles)):\n",
    "        outfile.write(titles[j].encode('utf8')+'\\n')\n",
    "        \n",
    "        toppatterns[j].sort()\n",
    "        toppatterns[j].reverse()\n",
    "        \n",
    "        for i  in range(3):\n",
    "            outfile.write(str(toppatterns[j][i][0])+' '+\n",
    "                         str(patternnames[toppatterns[j][i][1]])+'\\n')\n",
    "            \n",
    "        outfile.write('\\n')\n",
    "    \n",
    "    outfile.close()"
   ]
  },
  {
   "cell_type": "code",
   "execution_count": 33,
   "metadata": {
    "collapsed": true
   },
   "outputs": [],
   "source": [
    "showarticles(artt , topp , pn)"
   ]
  },
  {
   "cell_type": "code",
   "execution_count": 13,
   "metadata": {
    "collapsed": true
   },
   "outputs": [],
   "source": [
    "import urllib2\n"
   ]
  },
  {
   "cell_type": "code",
   "execution_count": 14,
   "metadata": {
    "collapsed": true
   },
   "outputs": [],
   "source": [
    "tickers = ['YHOO','AVP','BIIB','BP','CL','CVX',\n",
    "           'DNA','EXPE','GOOG','PG','XOM','AMGN']\n",
    "\n",
    "shortest = 300\n",
    "prices = {}\n",
    "datas = None"
   ]
  },
  {
   "cell_type": "code",
   "execution_count": 15,
   "metadata": {
    "collapsed": true
   },
   "outputs": [
    {
     "ename": "URLError",
     "evalue": "<urlopen error [Errno 11001] getaddrinfo failed>",
     "output_type": "error",
     "traceback": [
      "\u001b[1;31m---------------------------------------------------------------------------\u001b[0m",
      "\u001b[1;31mURLError\u001b[0m                                  Traceback (most recent call last)",
      "\u001b[1;32m<ipython-input-15-4c4564a3588b>\u001b[0m in \u001b[0;36m<module>\u001b[1;34m()\u001b[0m\n\u001b[0;32m      1\u001b[0m \u001b[1;32mfor\u001b[0m \u001b[0mt\u001b[0m \u001b[1;32min\u001b[0m \u001b[0mtickers\u001b[0m\u001b[1;33m:\u001b[0m\u001b[1;33m\u001b[0m\u001b[0m\n\u001b[1;32m----> 2\u001b[1;33m     \u001b[0mrows\u001b[0m \u001b[1;33m=\u001b[0m \u001b[0murllib2\u001b[0m\u001b[1;33m.\u001b[0m\u001b[0murlopen\u001b[0m\u001b[1;33m(\u001b[0m\u001b[1;34m'http://ichart.finance.yahoo.com/table.csv?s=%s&d=11&e=26&f=2006&g=d&a=3&b=12&c=1996&ignore=.csv'\u001b[0m\u001b[1;33m%\u001b[0m\u001b[0mt\u001b[0m\u001b[1;33m)\u001b[0m\u001b[1;33m.\u001b[0m\u001b[0mreadlines\u001b[0m\u001b[1;33m(\u001b[0m\u001b[1;33m)\u001b[0m\u001b[1;33m\u001b[0m\u001b[0m\n\u001b[0m\u001b[0;32m      3\u001b[0m     \u001b[0mprices\u001b[0m\u001b[1;33m[\u001b[0m\u001b[0mt\u001b[0m\u001b[1;33m]\u001b[0m \u001b[1;33m=\u001b[0m \u001b[1;33m[\u001b[0m\u001b[0mfloat\u001b[0m\u001b[1;33m(\u001b[0m\u001b[0mr\u001b[0m\u001b[1;33m.\u001b[0m\u001b[0msplit\u001b[0m\u001b[1;33m(\u001b[0m\u001b[1;34m','\u001b[0m\u001b[1;33m)\u001b[0m\u001b[1;33m[\u001b[0m\u001b[1;36m5\u001b[0m\u001b[1;33m]\u001b[0m\u001b[1;33m)\u001b[0m \u001b[1;32mfor\u001b[0m \u001b[0mr\u001b[0m \u001b[1;32min\u001b[0m \u001b[0mrows\u001b[0m\u001b[1;33m[\u001b[0m\u001b[1;36m1\u001b[0m\u001b[1;33m:\u001b[0m\u001b[1;33m]\u001b[0m \u001b[1;32mif\u001b[0m \u001b[0mr\u001b[0m\u001b[1;33m.\u001b[0m\u001b[0mstrip\u001b[0m\u001b[1;33m(\u001b[0m\u001b[1;33m)\u001b[0m \u001b[1;33m!=\u001b[0m \u001b[1;34m''\u001b[0m\u001b[1;33m]\u001b[0m\u001b[1;33m\u001b[0m\u001b[0m\n\u001b[0;32m      4\u001b[0m \u001b[1;33m\u001b[0m\u001b[0m\n\u001b[0;32m      5\u001b[0m     \u001b[1;32mif\u001b[0m \u001b[0mlen\u001b[0m\u001b[1;33m(\u001b[0m\u001b[0mprices\u001b[0m\u001b[1;33m[\u001b[0m\u001b[0mt\u001b[0m\u001b[1;33m]\u001b[0m\u001b[1;33m)\u001b[0m\u001b[1;33m<\u001b[0m\u001b[0mshortest\u001b[0m\u001b[1;33m:\u001b[0m\u001b[1;33m\u001b[0m\u001b[0m\n",
      "\u001b[1;32mI:\\Anaconda3\\envs\\ipykernel_py2\\lib\\urllib2.pyc\u001b[0m in \u001b[0;36murlopen\u001b[1;34m(url, data, timeout, cafile, capath, cadefault, context)\u001b[0m\n\u001b[0;32m    152\u001b[0m     \u001b[1;32melse\u001b[0m\u001b[1;33m:\u001b[0m\u001b[1;33m\u001b[0m\u001b[0m\n\u001b[0;32m    153\u001b[0m         \u001b[0mopener\u001b[0m \u001b[1;33m=\u001b[0m \u001b[0m_opener\u001b[0m\u001b[1;33m\u001b[0m\u001b[0m\n\u001b[1;32m--> 154\u001b[1;33m     \u001b[1;32mreturn\u001b[0m \u001b[0mopener\u001b[0m\u001b[1;33m.\u001b[0m\u001b[0mopen\u001b[0m\u001b[1;33m(\u001b[0m\u001b[0murl\u001b[0m\u001b[1;33m,\u001b[0m \u001b[0mdata\u001b[0m\u001b[1;33m,\u001b[0m \u001b[0mtimeout\u001b[0m\u001b[1;33m)\u001b[0m\u001b[1;33m\u001b[0m\u001b[0m\n\u001b[0m\u001b[0;32m    155\u001b[0m \u001b[1;33m\u001b[0m\u001b[0m\n\u001b[0;32m    156\u001b[0m \u001b[1;32mdef\u001b[0m \u001b[0minstall_opener\u001b[0m\u001b[1;33m(\u001b[0m\u001b[0mopener\u001b[0m\u001b[1;33m)\u001b[0m\u001b[1;33m:\u001b[0m\u001b[1;33m\u001b[0m\u001b[0m\n",
      "\u001b[1;32mI:\\Anaconda3\\envs\\ipykernel_py2\\lib\\urllib2.pyc\u001b[0m in \u001b[0;36mopen\u001b[1;34m(self, fullurl, data, timeout)\u001b[0m\n\u001b[0;32m    427\u001b[0m             \u001b[0mreq\u001b[0m \u001b[1;33m=\u001b[0m \u001b[0mmeth\u001b[0m\u001b[1;33m(\u001b[0m\u001b[0mreq\u001b[0m\u001b[1;33m)\u001b[0m\u001b[1;33m\u001b[0m\u001b[0m\n\u001b[0;32m    428\u001b[0m \u001b[1;33m\u001b[0m\u001b[0m\n\u001b[1;32m--> 429\u001b[1;33m         \u001b[0mresponse\u001b[0m \u001b[1;33m=\u001b[0m \u001b[0mself\u001b[0m\u001b[1;33m.\u001b[0m\u001b[0m_open\u001b[0m\u001b[1;33m(\u001b[0m\u001b[0mreq\u001b[0m\u001b[1;33m,\u001b[0m \u001b[0mdata\u001b[0m\u001b[1;33m)\u001b[0m\u001b[1;33m\u001b[0m\u001b[0m\n\u001b[0m\u001b[0;32m    430\u001b[0m \u001b[1;33m\u001b[0m\u001b[0m\n\u001b[0;32m    431\u001b[0m         \u001b[1;31m# post-process response\u001b[0m\u001b[1;33m\u001b[0m\u001b[1;33m\u001b[0m\u001b[0m\n",
      "\u001b[1;32mI:\\Anaconda3\\envs\\ipykernel_py2\\lib\\urllib2.pyc\u001b[0m in \u001b[0;36m_open\u001b[1;34m(self, req, data)\u001b[0m\n\u001b[0;32m    445\u001b[0m         \u001b[0mprotocol\u001b[0m \u001b[1;33m=\u001b[0m \u001b[0mreq\u001b[0m\u001b[1;33m.\u001b[0m\u001b[0mget_type\u001b[0m\u001b[1;33m(\u001b[0m\u001b[1;33m)\u001b[0m\u001b[1;33m\u001b[0m\u001b[0m\n\u001b[0;32m    446\u001b[0m         result = self._call_chain(self.handle_open, protocol, protocol +\n\u001b[1;32m--> 447\u001b[1;33m                                   '_open', req)\n\u001b[0m\u001b[0;32m    448\u001b[0m         \u001b[1;32mif\u001b[0m \u001b[0mresult\u001b[0m\u001b[1;33m:\u001b[0m\u001b[1;33m\u001b[0m\u001b[0m\n\u001b[0;32m    449\u001b[0m             \u001b[1;32mreturn\u001b[0m \u001b[0mresult\u001b[0m\u001b[1;33m\u001b[0m\u001b[0m\n",
      "\u001b[1;32mI:\\Anaconda3\\envs\\ipykernel_py2\\lib\\urllib2.pyc\u001b[0m in \u001b[0;36m_call_chain\u001b[1;34m(self, chain, kind, meth_name, *args)\u001b[0m\n\u001b[0;32m    405\u001b[0m             \u001b[0mfunc\u001b[0m \u001b[1;33m=\u001b[0m \u001b[0mgetattr\u001b[0m\u001b[1;33m(\u001b[0m\u001b[0mhandler\u001b[0m\u001b[1;33m,\u001b[0m \u001b[0mmeth_name\u001b[0m\u001b[1;33m)\u001b[0m\u001b[1;33m\u001b[0m\u001b[0m\n\u001b[0;32m    406\u001b[0m \u001b[1;33m\u001b[0m\u001b[0m\n\u001b[1;32m--> 407\u001b[1;33m             \u001b[0mresult\u001b[0m \u001b[1;33m=\u001b[0m \u001b[0mfunc\u001b[0m\u001b[1;33m(\u001b[0m\u001b[1;33m*\u001b[0m\u001b[0margs\u001b[0m\u001b[1;33m)\u001b[0m\u001b[1;33m\u001b[0m\u001b[0m\n\u001b[0m\u001b[0;32m    408\u001b[0m             \u001b[1;32mif\u001b[0m \u001b[0mresult\u001b[0m \u001b[1;32mis\u001b[0m \u001b[1;32mnot\u001b[0m \u001b[0mNone\u001b[0m\u001b[1;33m:\u001b[0m\u001b[1;33m\u001b[0m\u001b[0m\n\u001b[0;32m    409\u001b[0m                 \u001b[1;32mreturn\u001b[0m \u001b[0mresult\u001b[0m\u001b[1;33m\u001b[0m\u001b[0m\n",
      "\u001b[1;32mI:\\Anaconda3\\envs\\ipykernel_py2\\lib\\urllib2.pyc\u001b[0m in \u001b[0;36mhttp_open\u001b[1;34m(self, req)\u001b[0m\n\u001b[0;32m   1226\u001b[0m \u001b[1;33m\u001b[0m\u001b[0m\n\u001b[0;32m   1227\u001b[0m     \u001b[1;32mdef\u001b[0m \u001b[0mhttp_open\u001b[0m\u001b[1;33m(\u001b[0m\u001b[0mself\u001b[0m\u001b[1;33m,\u001b[0m \u001b[0mreq\u001b[0m\u001b[1;33m)\u001b[0m\u001b[1;33m:\u001b[0m\u001b[1;33m\u001b[0m\u001b[0m\n\u001b[1;32m-> 1228\u001b[1;33m         \u001b[1;32mreturn\u001b[0m \u001b[0mself\u001b[0m\u001b[1;33m.\u001b[0m\u001b[0mdo_open\u001b[0m\u001b[1;33m(\u001b[0m\u001b[0mhttplib\u001b[0m\u001b[1;33m.\u001b[0m\u001b[0mHTTPConnection\u001b[0m\u001b[1;33m,\u001b[0m \u001b[0mreq\u001b[0m\u001b[1;33m)\u001b[0m\u001b[1;33m\u001b[0m\u001b[0m\n\u001b[0m\u001b[0;32m   1229\u001b[0m \u001b[1;33m\u001b[0m\u001b[0m\n\u001b[0;32m   1230\u001b[0m     \u001b[0mhttp_request\u001b[0m \u001b[1;33m=\u001b[0m \u001b[0mAbstractHTTPHandler\u001b[0m\u001b[1;33m.\u001b[0m\u001b[0mdo_request_\u001b[0m\u001b[1;33m\u001b[0m\u001b[0m\n",
      "\u001b[1;32mI:\\Anaconda3\\envs\\ipykernel_py2\\lib\\urllib2.pyc\u001b[0m in \u001b[0;36mdo_open\u001b[1;34m(self, http_class, req, **http_conn_args)\u001b[0m\n\u001b[0;32m   1196\u001b[0m         \u001b[1;32mexcept\u001b[0m \u001b[0msocket\u001b[0m\u001b[1;33m.\u001b[0m\u001b[0merror\u001b[0m\u001b[1;33m,\u001b[0m \u001b[0merr\u001b[0m\u001b[1;33m:\u001b[0m \u001b[1;31m# XXX what error?\u001b[0m\u001b[1;33m\u001b[0m\u001b[0m\n\u001b[0;32m   1197\u001b[0m             \u001b[0mh\u001b[0m\u001b[1;33m.\u001b[0m\u001b[0mclose\u001b[0m\u001b[1;33m(\u001b[0m\u001b[1;33m)\u001b[0m\u001b[1;33m\u001b[0m\u001b[0m\n\u001b[1;32m-> 1198\u001b[1;33m             \u001b[1;32mraise\u001b[0m \u001b[0mURLError\u001b[0m\u001b[1;33m(\u001b[0m\u001b[0merr\u001b[0m\u001b[1;33m)\u001b[0m\u001b[1;33m\u001b[0m\u001b[0m\n\u001b[0m\u001b[0;32m   1199\u001b[0m         \u001b[1;32melse\u001b[0m\u001b[1;33m:\u001b[0m\u001b[1;33m\u001b[0m\u001b[0m\n\u001b[0;32m   1200\u001b[0m             \u001b[1;32mtry\u001b[0m\u001b[1;33m:\u001b[0m\u001b[1;33m\u001b[0m\u001b[0m\n",
      "\u001b[1;31mURLError\u001b[0m: <urlopen error [Errno 11001] getaddrinfo failed>"
     ]
    }
   ],
   "source": [
    "for t in tickers:\n",
    "    rows = urllib2.urlopen('http://ichart.finance.yahoo.com/table.csv?s=%s&d=11&e=26&f=2006&g=d&a=3&b=12&c=1996&ignore=.csv'%t).readlines()\n",
    "    prices[t] = [float(r.split(',')[5]) for r in rows[1:] if r.strip() != '']\n",
    "    \n",
    "    if len(prices[t])<shortest:\n",
    "        shortest = len(prices[t])\n",
    "    \n",
    "    if not datas:\n",
    "        dates = [r.split(',')[0] for r in rows[1:] if r.strip() != '']"
   ]
  },
  {
   "cell_type": "code",
   "execution_count": null,
   "metadata": {
    "collapsed": true
   },
   "outputs": [],
   "source": [
    "l1 = [[prices[tickers[i]][j] for i in range(len(tickers))] \n",
    "     for j in range(shortest)]"
   ]
  },
  {
   "cell_type": "code",
   "execution_count": null,
   "metadata": {
    "collapsed": true
   },
   "outputs": [],
   "source": [
    "w , h = factorize(matrix(l1) , pc=5)"
   ]
  },
  {
   "cell_type": "code",
   "execution_count": null,
   "metadata": {
    "collapsed": true
   },
   "outputs": [],
   "source": []
  }
 ],
 "metadata": {
  "kernelspec": {
   "display_name": "Python 2",
   "language": "python",
   "name": "python2"
  },
  "language_info": {
   "codemirror_mode": {
    "name": "ipython",
    "version": 2
   },
   "file_extension": ".py",
   "mimetype": "text/x-python",
   "name": "python",
   "nbconvert_exporter": "python",
   "pygments_lexer": "ipython2",
   "version": "2.7.13"
  }
 },
 "nbformat": 4,
 "nbformat_minor": 2
}
