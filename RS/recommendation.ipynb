{
 "cells": [
  {
   "cell_type": "code",
   "execution_count": 14,
   "metadata": {
    "collapsed": true
   },
   "outputs": [],
   "source": [
    "import numpy as np\n",
    "import pandas as pd\n",
    "import random\n",
    "import math\n",
    "\n",
    "import operator"
   ]
  },
  {
   "cell_type": "code",
   "execution_count": 3,
   "metadata": {
    "collapsed": true
   },
   "outputs": [],
   "source": [
    "#k-fold交叉验证\n",
    "\n",
    "def SplitData(data , M , k , seed):\n",
    "    test = []\n",
    "    train = []\n",
    "    \n",
    "    random.seed(seed)\n",
    "    \n",
    "    for user , item in data:\n",
    "        if random.randint(0 , M) == k:\n",
    "            test.append([user , item])\n",
    "        else:\n",
    "            train.append([user , item])\n",
    "    \n",
    "    return train , test\n"
   ]
  },
  {
   "cell_type": "code",
   "execution_count": 5,
   "metadata": {
    "collapsed": true
   },
   "outputs": [],
   "source": [
    "def Recall(train , test , N):\n",
    "    hit = 0\n",
    "    all_ = 0\n",
    "    \n",
    "    for user in train.keys():\n",
    "        tu = test[user]\n",
    "        rank = GetRecommendation(user , N)\n",
    "        \n",
    "        for item , pui in rank:\n",
    "            if item in tu:\n",
    "                hit += 1\n",
    "        \n",
    "        all_ += len(tu)\n",
    "    \n",
    "    return hit/(all_ * 1.0)\n",
    "\n",
    "def Precision(train , test , N):\n",
    "    hit = 0\n",
    "    all_ = 0\n",
    "    \n",
    "    for user in train.keys():\n",
    "        tu = test[user]\n",
    "        rank = GetRecommendation(user , N)\n",
    "        \n",
    "        for item , pui in rank:\n",
    "            if item in tu:\n",
    "                hit += 1\n",
    "            \n",
    "        all += N\n",
    "        \n",
    "    return hit/(all_ * 1.0)\n",
    "\n"
   ]
  },
  {
   "cell_type": "code",
   "execution_count": 6,
   "metadata": {},
   "outputs": [],
   "source": [
    "#覆盖率 越高 越能把长尾商品推荐给用户\n",
    "def Coverage(train , test , N):\n",
    "    recommmend_items = set()\n",
    "    all_items = set()\n",
    "    \n",
    "    for user in train.keys():\n",
    "        for item in train[user].keys():\n",
    "            all_items.add(item)\n",
    "        \n",
    "        rank = GetRecommendation(user , N)\n",
    "        \n",
    "        for item , pui in rank:\n",
    "            recommmend_items.add(item)\n",
    "        \n",
    "    return len(recommmend_items)/(len(all_items) * 1.0)\n"
   ]
  },
  {
   "cell_type": "code",
   "execution_count": 8,
   "metadata": {
    "collapsed": true
   },
   "outputs": [],
   "source": [
    "#新颖度\n",
    "def Popularity(train , test , N):\n",
    "    item_popularity = dict()\n",
    "    \n",
    "    for user , items in train.items():\n",
    "        for item in items.keys():\n",
    "            if item not in item_popularity:\n",
    "                item_popularity[item] = 0\n",
    "            \n",
    "            item_popularity[item] += 1\n",
    "        \n",
    "    ret = 0\n",
    "    n = 0\n",
    "    \n",
    "    for user in train.keys():\n",
    "        rank = GetRecommendation(user , N)\n",
    "        \n",
    "        for item , pui in rank:\n",
    "            ret += math.log(1 + item_popularity[item])\n",
    "            n += 1\n",
    "        \n",
    "    ret /= n*1.0\n",
    "    \n",
    "    return ret"
   ]
  },
  {
   "cell_type": "code",
   "execution_count": 12,
   "metadata": {
    "collapsed": true
   },
   "outputs": [],
   "source": [
    "#余弦相似度\n",
    "def UserSimilarity_(train):\n",
    "    W = dict()\n",
    "    \n",
    "    for u in train.keys():\n",
    "        for v in train.keys():\n",
    "            if u == v:\n",
    "                continue\n",
    "                \n",
    "            W[u][v] = len(train[u] & train[v])\n",
    "            W[u][v] /= math.sqrt(len(train[u])\\\n",
    "                                *len(train[v]))\n",
    "    \n",
    "    return W"
   ]
  },
  {
   "cell_type": "code",
   "execution_count": 13,
   "metadata": {
    "collapsed": true
   },
   "outputs": [],
   "source": [
    "def UserSimilarity(train):\n",
    "    #创建倒排表\n",
    "    item_user = dict()\n",
    "    \n",
    "    for u , items in train.items():\n",
    "        for i in items.keys():\n",
    "            if i not in item_user:\n",
    "                item_user[i] = set()\n",
    "            \n",
    "            item_user[i].add(u)\n",
    "    \n",
    "    C = dict()\n",
    "    N = dict()\n",
    "    \n",
    "    for i , users in item_user.items():\n",
    "        for u in users:\n",
    "            N[u] += 1\n",
    "            \n",
    "            for v in users:\n",
    "                if u == v:\n",
    "                    continue\n",
    "                C[u][v] += 1\n",
    "                #下面是增加惩罚项\n",
    "                #C[u][v] += 1/math.log(1+len(users))\n",
    "            \n",
    "    \n",
    "    W = dict()\n",
    "    \n",
    "    for u , related_users in C.items():\n",
    "        for v , cuv in related_users.items():\n",
    "            W[u][v] = cuv/math.sqrt(N[u] * N[v])\n",
    "    \n",
    "    return W"
   ]
  },
  {
   "cell_type": "code",
   "execution_count": 15,
   "metadata": {
    "collapsed": true
   },
   "outputs": [],
   "source": [
    "def Recommend(user , train , W):\n",
    "    rank = dict()\n",
    "    interacted_items = train[user]\n",
    "    \n",
    "    for v  , wuv in sorted(W[u].items , key = operator.itemgetter(1),\n",
    "                          reverse = True)[0:K]:\n",
    "        for i , rvi in train[v].items:\n",
    "            if i in interacted_items:\n",
    "                continue\n",
    "            \n",
    "            rank[i] += wuv * rvi\n",
    "        \n",
    "    return rank"
   ]
  },
  {
   "cell_type": "code",
   "execution_count": null,
   "metadata": {
    "collapsed": true
   },
   "outputs": [],
   "source": []
  }
 ],
 "metadata": {
  "kernelspec": {
   "display_name": "Python 3",
   "language": "python",
   "name": "python3"
  },
  "language_info": {
   "codemirror_mode": {
    "name": "ipython",
    "version": 3
   },
   "file_extension": ".py",
   "mimetype": "text/x-python",
   "name": "python",
   "nbconvert_exporter": "python",
   "pygments_lexer": "ipython3",
   "version": "3.6.1"
  }
 },
 "nbformat": 4,
 "nbformat_minor": 2
}
