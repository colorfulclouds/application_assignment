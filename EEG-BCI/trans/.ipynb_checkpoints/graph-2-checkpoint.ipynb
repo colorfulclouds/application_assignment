{
 "cells": [
  {
   "cell_type": "code",
   "execution_count": 3,
   "metadata": {
    "collapsed": true
   },
   "outputs": [],
   "source": [
    "import numpy as np\n",
    "import matplotlib.pyplot as plt\n",
    "import seaborn as sns\n",
    "import pandas as pd\n",
    "\n",
    "%matplotlib inline"
   ]
  },
  {
   "cell_type": "markdown",
   "metadata": {},
   "source": [
    "# 不同的通道对比 different channels(全部降到32-d) \n",
    "## SBP"
   ]
  },
  {
   "cell_type": "code",
   "execution_count": 4,
   "metadata": {
    "collapsed": true
   },
   "outputs": [],
   "source": [
    "#accuracy\n",
    "#all channels\n",
    "ofreq_6 = np.array([[0.468599033],\n",
    "                    [0.789855072],\n",
    "                    [0.541062801],\n",
    "                    [0.659420289],\n",
    "                    [0.867149758],\n",
    "                    [0.840579710],\n",
    "                    [0.550724637],\n",
    "                    [0.922705314],\n",
    "                    [0.881642512],\n",
    "                    [0.797101449]])\n",
    "                \n",
    "ofreq_7_5=np.array([[0.4033816425],\n",
    "                    [0.7826086956],\n",
    "                    [0.9227053140],\n",
    "                    [0.6086956521],\n",
    "                    [0.7053140096],\n",
    "                    [0.7874396135],\n",
    "                    [0.7028985507],\n",
    "                    [0.8236714975],\n",
    "                    [0.9444444444],\n",
    "                    [0.6304347826]])\n",
    "                \n",
    "ofreq_8_5=np.array([[0.6425120772],\n",
    "                    [0.6932367149],\n",
    "                    [0.4492753623],\n",
    "                    [0.6014492753],\n",
    "                    [0.7729468599],\n",
    "                    [0.8212560386],\n",
    "                    [0.7632850241],\n",
    "                    [0.9154589371],\n",
    "                    [0.7898550724],\n",
    "                    [0.7342995169]])\n",
    "                \n",
    "ofreq_10 =np.array([[0.400966183],\n",
    "                    [0.642512077],\n",
    "                    [0.673913043],\n",
    "                    [0.572463768],\n",
    "                    [0.712560386],\n",
    "                    [0.983091787],\n",
    "                    [0.876811594],\n",
    "                    [0.997584541],\n",
    "                    [0.734299516],\n",
    "                    [0.762962962]])\n",
    "\n",
    "#occipital channels\n",
    "efreq_6 = np.array([[0.485507246],\n",
    "                    [0.751207729],\n",
    "                    [0.425120772],\n",
    "                    [0.608695652],\n",
    "                    [0.862318840],\n",
    "                    [0.840579710],\n",
    "                    [0.538647342],\n",
    "                    [0.971014492],\n",
    "                    [0.886473429],\n",
    "                    [0.804347826]])\n",
    "                \n",
    "efreq_7_5=np.array([[0.495169082],\n",
    "                    [0.809178743],\n",
    "                    [0.958937198],\n",
    "                    [0.642512077],\n",
    "                    [0.659420289],\n",
    "                    [0.743961352],\n",
    "                    [0.620772946],\n",
    "                    [0.782608695],\n",
    "                    [0.963768115],\n",
    "                    [0.671497584]])\n",
    "                \n",
    "efreq_8_5=np.array([[0.528985507],\n",
    "                    [0.577294685],\n",
    "                    [0.466183574],\n",
    "                    [0.615942028],\n",
    "                    [0.719806763],\n",
    "                    [0.806763285],\n",
    "                    [0.770531400],\n",
    "                    [0.908212560],\n",
    "                    [0.770531400],\n",
    "                    [0.775362318]])\n",
    "                \n",
    "efreq_10 =np.array([[0.311594202],\n",
    "                    [0.647342995],\n",
    "                    [0.673913043],\n",
    "                    [0.555555555],\n",
    "                    [0.719806763],\n",
    "                    [0.961352657],\n",
    "                    [0.864734299],\n",
    "                    [1.0],\n",
    "                    [0.724637681],\n",
    "                    [0.745679012]])"
   ]
  },
  {
   "cell_type": "code",
   "execution_count": 5,
   "metadata": {
    "collapsed": true
   },
   "outputs": [],
   "source": [
    "o_0 = (ofreq_6[0][0] + ofreq_7_5[0][0] + ofreq_8_5[0][0] + ofreq_10[0][0])/4\n",
    "o_1 = (ofreq_6[1][0] + ofreq_7_5[1][0] + ofreq_8_5[1][0] + ofreq_10[1][0])/4\n",
    "o_2 = (ofreq_6[2][0] + ofreq_7_5[2][0] + ofreq_8_5[2][0] + ofreq_10[2][0])/4\n",
    "o_3 = (ofreq_6[3][0] + ofreq_7_5[3][0] + ofreq_8_5[3][0] + ofreq_10[3][0])/4\n",
    "o_4 = (ofreq_6[4][0] + ofreq_7_5[4][0] + ofreq_8_5[4][0] + ofreq_10[4][0])/4\n",
    "o_5 = (ofreq_6[5][0] + ofreq_7_5[5][0] + ofreq_8_5[5][0] + ofreq_10[5][0])/4\n",
    "o_6 = (ofreq_6[6][0] + ofreq_7_5[6][0] + ofreq_8_5[6][0] + ofreq_10[6][0])/4\n",
    "o_7 = (ofreq_6[7][0] + ofreq_7_5[7][0] + ofreq_8_5[7][0] + ofreq_10[7][0])/4\n",
    "o_8 = (ofreq_6[8][0] + ofreq_7_5[8][0] + ofreq_8_5[8][0] + ofreq_10[8][0])/4\n",
    "o_9 = (ofreq_6[9][0] + ofreq_7_5[9][0] + ofreq_8_5[9][0] + ofreq_10[9][0])/4\n",
    "\n",
    "e_0 = (efreq_6[0][0] + efreq_7_5[0][0] + efreq_8_5[0][0] + efreq_10[0][0])/4\n",
    "e_1 = (efreq_6[1][0] + efreq_7_5[1][0] + efreq_8_5[1][0] + efreq_10[1][0])/4\n",
    "e_2 = (efreq_6[2][0] + efreq_7_5[2][0] + efreq_8_5[2][0] + efreq_10[2][0])/4\n",
    "e_3 = (efreq_6[3][0] + efreq_7_5[3][0] + efreq_8_5[3][0] + efreq_10[3][0])/4\n",
    "e_4 = (efreq_6[4][0] + efreq_7_5[4][0] + efreq_8_5[4][0] + efreq_10[4][0])/4\n",
    "e_5 = (efreq_6[5][0] + efreq_7_5[5][0] + efreq_8_5[5][0] + efreq_10[5][0])/4\n",
    "e_6 = (efreq_6[6][0] + efreq_7_5[6][0] + efreq_8_5[6][0] + efreq_10[6][0])/4\n",
    "e_7 = (efreq_6[7][0] + efreq_7_5[7][0] + efreq_8_5[7][0] + efreq_10[7][0])/4\n",
    "e_8 = (efreq_6[8][0] + efreq_7_5[8][0] + efreq_8_5[8][0] + efreq_10[8][0])/4\n",
    "e_9 = (efreq_6[9][0] + efreq_7_5[9][0] + efreq_8_5[9][0] + efreq_10[9][0])/4\n"
   ]
  },
  {
   "cell_type": "code",
   "execution_count": 6,
   "metadata": {
    "collapsed": true
   },
   "outputs": [],
   "source": [
    "ogi_chan = np.array([o_0 , o_1 , o_2 , o_3 , o_4 , o_5 , o_6 , o_7 , o_8 , o_9]) * 100\n",
    "eig_chan = np.array([e_0 , e_1 , e_2 , e_3 , e_4 , e_5 , e_6 , e_7 , e_8 , e_9]) * 100\n",
    "\n",
    "sessions = [1 , 2 , 3 , 4 , 5 , 6 , 7 , 8 , 9 , 10]"
   ]
  },
  {
   "cell_type": "code",
   "execution_count": 7,
   "metadata": {},
   "outputs": [
    {
     "data": {
      "image/png": "[encoded data removed]",
      "text/plain": [
       "<Figure size 432x288 with 1 Axes>"
      ]
     },
     "metadata": {},
     "output_type": "display_data"
    }
   ],
   "source": [
    "plt.plot(sessions , ogi_chan , marker='o' , label='All Channels')\n",
    "plt.plot(sessions , eig_chan , marker='s' , label='Occipital Channels')\n",
    "\n",
    "plt.legend(loc=3)\n",
    "plt.ylabel('Accuracy(%)')\n",
    "plt.xlabel('Session')\n",
    "\n",
    "plt.xticks(sessions)\n",
    "\n",
    "plt.grid() #去掉网格线\n",
    "plt.show()\n",
    "plt.close()"
   ]
  },
  {
   "cell_type": "code",
   "execution_count": 8,
   "metadata": {},
   "outputs": [
    {
     "data": {
      "image/png": "[encoded data removed]",
      "text/plain": [
       "<Figure size 432x288 with 1 Axes>"
      ]
     },
     "metadata": {},
     "output_type": "display_data"
    }
   ],
   "source": [
    "size = 10\n",
    "a = ogi_chan\n",
    "b = eig_chan\n",
    "\n",
    "x = np.arange(size)\n",
    "\n",
    "total_width, n = 0.8, 4     # 有多少个类型，只需更改n即可\n",
    "width = total_width / n\n",
    "#x = x - (total_width - width) / 2\n",
    "fig, ax = plt.subplots()\n",
    "plt.bar(x, a,  width=width, label='6Hz' ,            color='#B0E0E6', edgecolor = 'black')\n",
    "plt.bar(x + width, b, width=width, label='7.5Hz' ,     color='#87CEEB', edgecolor = 'black')\n",
    "\n",
    "#freq = [str(_) for _ in range(1,11)]\n",
    "#ax.set_xticklabels(freq)\n",
    "plt.xticks(np.arange(10) + 0.5*width, ('1','2','3','4','5','6','7','8','9','10'))\n",
    "\n",
    "plt.ylabel('Accuracy(%)')\n",
    "plt.xlabel('Session')\n",
    "\n",
    "plt.legend()\n",
    "plt.show()\n",
    "plt.close()"
   ]
  },
  {
   "cell_type": "markdown",
   "metadata": {},
   "source": [
    "# AR"
   ]
  },
  {
   "cell_type": "code",
   "execution_count": 9,
   "metadata": {
    "collapsed": true
   },
   "outputs": [],
   "source": [
    "#accuracy\n",
    "#all channels\n",
    "ofreq_6 = np.array([[0.5362318840],\n",
    "                    [0.7922705314],\n",
    "                    [0.5579710144],\n",
    "                    [0.7415458937],\n",
    "                    [0.9734299516],\n",
    "                    [0.9251207729],\n",
    "                    [0.6714975845],\n",
    "                    [0.9782608695],\n",
    "                    [0.9202898550],\n",
    "                    [0.8478260869]])\n",
    "                \n",
    "ofreq_7_5=np.array([[0.446859903],\n",
    "                    [0.874396135],\n",
    "                    [0.995169082],\n",
    "                    [0.690821256],\n",
    "                    [0.719806763],\n",
    "                    [0.787439613],\n",
    "                    [0.753623188],\n",
    "                    [0.809178743],\n",
    "                    [0.985507246],\n",
    "                    [0.724637681]])\n",
    "                \n",
    "ofreq_8_5=np.array([[0.736714975],\n",
    "                    [0.591787439],\n",
    "                    [0.577294685],\n",
    "                    [0.702898550],\n",
    "                    [0.804347826],\n",
    "                    [0.830917874],\n",
    "                    [0.797101449],\n",
    "                    [0.922705314],\n",
    "                    [0.951690821],\n",
    "                    [0.874396135]])\n",
    "                \n",
    "ofreq_10 =np.array([[0.46135265],\n",
    "                    [0.65700483],\n",
    "                    [0.82367149],\n",
    "                    [0.66908212],\n",
    "                    [0.69806763],\n",
    "                    [0.99758454],\n",
    "                    [0.87922705],\n",
    "                    [1.0],\n",
    "                    [0.76811594],\n",
    "                    [0.74320987]])\n",
    "\n",
    "#occipital channels\n",
    "efreq_6 = np.array([[0.548309178],\n",
    "                    [0.785024154],\n",
    "                    [0.669082125],\n",
    "                    [0.777777777],\n",
    "                    [0.956521739],\n",
    "                    [0.809178743],\n",
    "                    [0.647342995],\n",
    "                    [0.983091787],\n",
    "                    [0.900966183],\n",
    "                    [0.864734299]])\n",
    "                \n",
    "efreq_7_5=np.array([[0.495169082],\n",
    "                    [0.842995169],\n",
    "                    [0.956521739],\n",
    "                    [0.657004830],\n",
    "                    [0.734299516],\n",
    "                    [0.811594202],\n",
    "                    [0.816425120],\n",
    "                    [0.828502415],\n",
    "                    [0.997584541],\n",
    "                    [0.823671497]])\n",
    "                \n",
    "efreq_8_5=np.array([[0.727053140],\n",
    "                    [0.724637681],\n",
    "                    [0.618357487],\n",
    "                    [0.741545893],\n",
    "                    [0.828502415],\n",
    "                    [0.908212560],\n",
    "                    [0.814009661],\n",
    "                    [0.903381642],\n",
    "                    [0.898550724],\n",
    "                    [0.891304347]])\n",
    "                \n",
    "efreq_10 =np.array([[0.4178743961],\n",
    "                    [0.7028985507],\n",
    "                    [0.8019323671],\n",
    "                    [0.5652173913],\n",
    "                    [0.6980676328],\n",
    "                    [0.9951690821],\n",
    "                    [0.8864734299],\n",
    "                    [1.0],\n",
    "                    [0.8140096618],\n",
    "                    [0.7407407407]])"
   ]
  },
  {
   "cell_type": "code",
   "execution_count": 10,
   "metadata": {
    "collapsed": true
   },
   "outputs": [],
   "source": [
    "o_0 = (ofreq_6[0][0] + ofreq_7_5[0][0] + ofreq_8_5[0][0] + ofreq_10[0][0])/4\n",
    "o_1 = (ofreq_6[1][0] + ofreq_7_5[1][0] + ofreq_8_5[1][0] + ofreq_10[1][0])/4\n",
    "o_2 = (ofreq_6[2][0] + ofreq_7_5[2][0] + ofreq_8_5[2][0] + ofreq_10[2][0])/4\n",
    "o_3 = (ofreq_6[3][0] + ofreq_7_5[3][0] + ofreq_8_5[3][0] + ofreq_10[3][0])/4\n",
    "o_4 = (ofreq_6[4][0] + ofreq_7_5[4][0] + ofreq_8_5[4][0] + ofreq_10[4][0])/4\n",
    "o_5 = (ofreq_6[5][0] + ofreq_7_5[5][0] + ofreq_8_5[5][0] + ofreq_10[5][0])/4\n",
    "o_6 = (ofreq_6[6][0] + ofreq_7_5[6][0] + ofreq_8_5[6][0] + ofreq_10[6][0])/4\n",
    "o_7 = (ofreq_6[7][0] + ofreq_7_5[7][0] + ofreq_8_5[7][0] + ofreq_10[7][0])/4\n",
    "o_8 = (ofreq_6[8][0] + ofreq_7_5[8][0] + ofreq_8_5[8][0] + ofreq_10[8][0])/4\n",
    "o_9 = (ofreq_6[9][0] + ofreq_7_5[9][0] + ofreq_8_5[9][0] + ofreq_10[9][0])/4\n",
    "\n",
    "e_0 = (efreq_6[0][0] + efreq_7_5[0][0] + efreq_8_5[0][0] + efreq_10[0][0])/4\n",
    "e_1 = (efreq_6[1][0] + efreq_7_5[1][0] + efreq_8_5[1][0] + efreq_10[1][0])/4\n",
    "e_2 = (efreq_6[2][0] + efreq_7_5[2][0] + efreq_8_5[2][0] + efreq_10[2][0])/4\n",
    "e_3 = (efreq_6[3][0] + efreq_7_5[3][0] + efreq_8_5[3][0] + efreq_10[3][0])/4\n",
    "e_4 = (efreq_6[4][0] + efreq_7_5[4][0] + efreq_8_5[4][0] + efreq_10[4][0])/4\n",
    "e_5 = (efreq_6[5][0] + efreq_7_5[5][0] + efreq_8_5[5][0] + efreq_10[5][0])/4\n",
    "e_6 = (efreq_6[6][0] + efreq_7_5[6][0] + efreq_8_5[6][0] + efreq_10[6][0])/4\n",
    "e_7 = (efreq_6[7][0] + efreq_7_5[7][0] + efreq_8_5[7][0] + efreq_10[7][0])/4\n",
    "e_8 = (efreq_6[8][0] + efreq_7_5[8][0] + efreq_8_5[8][0] + efreq_10[8][0])/4\n",
    "e_9 = (efreq_6[9][0] + efreq_7_5[9][0] + efreq_8_5[9][0] + efreq_10[9][0])/4\n"
   ]
  },
  {
   "cell_type": "code",
   "execution_count": 11,
   "metadata": {
    "collapsed": true
   },
   "outputs": [],
   "source": [
    "ogi_chan = np.array([o_0 , o_1 , o_2 , o_3 , o_4 , o_5 , o_6 , o_7 , o_8 , o_9]) * 100\n",
    "eig_chan = np.array([e_0 , e_1 , e_2 , e_3 , e_4 , e_5 , e_6 , e_7 , e_8 , e_9]) * 100\n",
    "\n",
    "sessions = [1 , 2 , 3 , 4 , 5 , 6 , 7 , 8 , 9 , 10]"
   ]
  },
  {
   "cell_type": "code",
   "execution_count": 12,
   "metadata": {},
   "outputs": [
    {
     "data": {
      "image/png": "[encoded data removed]",
      "text/plain": [
       "<Figure size 432x288 with 1 Axes>"
      ]
     },
     "metadata": {},
     "output_type": "display_data"
    }
   ],
   "source": [
    "plt.plot(sessions , ogi_chan , marker='o' , label='All Channels')\n",
    "plt.plot(sessions , eig_chan , marker='s' , label='Occipital Channels')\n",
    "\n",
    "plt.legend(loc=3)\n",
    "plt.ylabel('Accuracy(%)')\n",
    "plt.xlabel('Session')\n",
    "\n",
    "plt.xticks(sessions)\n",
    "\n",
    "plt.grid() #去掉网格线"
   ]
  },
  {
   "cell_type": "code",
   "execution_count": null,
   "metadata": {
    "collapsed": true
   },
   "outputs": [],
   "source": []
  },
  {
   "cell_type": "markdown",
   "metadata": {},
   "source": [
    "# MFCC"
   ]
  },
  {
   "cell_type": "code",
   "execution_count": 13,
   "metadata": {
    "collapsed": true
   },
   "outputs": [],
   "source": [
    "#accuracy\n",
    "#all channels\n",
    "ofreq_6 = np.array([[0.574879227],\n",
    "                    [0.666666666],\n",
    "                    [0.364734299],\n",
    "                    [0.487922705],\n",
    "                    [0.903381642],\n",
    "                    [0.806763285],\n",
    "                    [0.856543212],\n",
    "                    [0.878454531],\n",
    "                    [0.908445646],\n",
    "                    [0.913154856]])\n",
    "                \n",
    "ofreq_7_5=np.array([[0.285024154],\n",
    "                    [0.741545893],\n",
    "                    [1.0],\n",
    "                    [0.688405797],\n",
    "                    [0.704654831],\n",
    "                    [0.754613218],\n",
    "                    [0.690654651],\n",
    "                    [0.794604646],\n",
    "                    [0.814646484],\n",
    "                    [0.889046545]])\n",
    "                \n",
    "ofreq_8_5=np.array([[0.285024154],\n",
    "                    [0.741545893],\n",
    "                    [1.0],\n",
    "                    [0.688405797],\n",
    "                    [0.704654831],\n",
    "                    [0.754613218],\n",
    "                    [0.690654651],\n",
    "                    [0.794604646],\n",
    "                    [0.814646484],\n",
    "                    [0.889046545]])\n",
    "                \n",
    "ofreq_10 =np.array([[0.487922705],\n",
    "                    [0.560386473],\n",
    "                    [0.557971014],\n",
    "                    [0.403381642],\n",
    "                    [0.652173913],\n",
    "                    [0.975845410],\n",
    "                    [0.646546084],\n",
    "                    [0.804654087],\n",
    "                    [0.845461384],\n",
    "                    [0.906465806]])\n",
    "\n",
    "#occipital channels\n",
    "efreq_6 = np.array([[0.490338164],\n",
    "                    [0.736714975],\n",
    "                    [0.301932367],\n",
    "                    [0.528985507],\n",
    "                    [0.937198067],\n",
    "                    [0.794685990],\n",
    "                    [0.507246376],\n",
    "                    [0.869565217],\n",
    "                    [0.884613134],\n",
    "                    [0.904641315]])\n",
    "                \n",
    "efreq_7_5=np.array([[0.263285024],\n",
    "                    [0.763285024],\n",
    "                    [0.944444444],\n",
    "                    [0.685990338],\n",
    "                    [0.574879227],\n",
    "                    [0.579710144],\n",
    "                    [0.743961352],\n",
    "                    [0.847826086],\n",
    "                    [0.835664846],\n",
    "                    [0.894056120]])\n",
    "                \n",
    "efreq_8_5=np.array([[0.594202898],\n",
    "                    [0.673913043],\n",
    "                    [0.495169082],\n",
    "                    [0.618357487],\n",
    "                    [0.765700483],\n",
    "                    [0.637681159],\n",
    "                    [0.700483091],\n",
    "                    [0.944444444],\n",
    "                    [0.794513154],\n",
    "                    [0.906548706]])\n",
    "                \n",
    "efreq_10 =np.array([[0.594202898],\n",
    "                    [0.673913043],\n",
    "                    [0.495169082],\n",
    "                    [0.618357487],\n",
    "                    [0.765700483],\n",
    "                    [0.637681159],\n",
    "                    [0.700483091],\n",
    "                    [0.944444444],\n",
    "                    [0.794513154],\n",
    "                    [0.906548706]])"
   ]
  },
  {
   "cell_type": "code",
   "execution_count": 14,
   "metadata": {
    "collapsed": true
   },
   "outputs": [],
   "source": [
    "o_0 = (ofreq_6[0][0] + ofreq_7_5[0][0] + ofreq_8_5[0][0] + ofreq_10[0][0])/4\n",
    "o_1 = (ofreq_6[1][0] + ofreq_7_5[1][0] + ofreq_8_5[1][0] + ofreq_10[1][0])/4\n",
    "o_2 = (ofreq_6[2][0] + ofreq_7_5[2][0] + ofreq_8_5[2][0] + ofreq_10[2][0])/4\n",
    "o_3 = (ofreq_6[3][0] + ofreq_7_5[3][0] + ofreq_8_5[3][0] + ofreq_10[3][0])/4\n",
    "o_4 = (ofreq_6[4][0] + ofreq_7_5[4][0] + ofreq_8_5[4][0] + ofreq_10[4][0])/4\n",
    "o_5 = (ofreq_6[5][0] + ofreq_7_5[5][0] + ofreq_8_5[5][0] + ofreq_10[5][0])/4\n",
    "o_6 = (ofreq_6[6][0] + ofreq_7_5[6][0] + ofreq_8_5[6][0] + ofreq_10[6][0])/4\n",
    "o_7 = (ofreq_6[7][0] + ofreq_7_5[7][0] + ofreq_8_5[7][0] + ofreq_10[7][0])/4\n",
    "o_8 = (ofreq_6[8][0] + ofreq_7_5[8][0] + ofreq_8_5[8][0] + ofreq_10[8][0])/4\n",
    "o_9 = (ofreq_6[9][0] + ofreq_7_5[9][0] + ofreq_8_5[9][0] + ofreq_10[9][0])/4\n",
    "\n",
    "e_0 = (efreq_6[0][0] + efreq_7_5[0][0] + efreq_8_5[0][0] + efreq_10[0][0])/4\n",
    "e_1 = (efreq_6[1][0] + efreq_7_5[1][0] + efreq_8_5[1][0] + efreq_10[1][0])/4\n",
    "e_2 = (efreq_6[2][0] + efreq_7_5[2][0] + efreq_8_5[2][0] + efreq_10[2][0])/4\n",
    "e_3 = (efreq_6[3][0] + efreq_7_5[3][0] + efreq_8_5[3][0] + efreq_10[3][0])/4\n",
    "e_4 = (efreq_6[4][0] + efreq_7_5[4][0] + efreq_8_5[4][0] + efreq_10[4][0])/4\n",
    "e_5 = (efreq_6[5][0] + efreq_7_5[5][0] + efreq_8_5[5][0] + efreq_10[5][0])/4\n",
    "e_6 = (efreq_6[6][0] + efreq_7_5[6][0] + efreq_8_5[6][0] + efreq_10[6][0])/4\n",
    "e_7 = (efreq_6[7][0] + efreq_7_5[7][0] + efreq_8_5[7][0] + efreq_10[7][0])/4\n",
    "e_8 = (efreq_6[8][0] + efreq_7_5[8][0] + efreq_8_5[8][0] + efreq_10[8][0])/4\n",
    "e_9 = (efreq_6[9][0] + efreq_7_5[9][0] + efreq_8_5[9][0] + efreq_10[9][0])/4\n"
   ]
  },
  {
   "cell_type": "code",
   "execution_count": 15,
   "metadata": {
    "collapsed": true
   },
   "outputs": [],
   "source": [
    "ogi_chan = np.array([o_0 , o_1 , o_2 , o_3 , o_4 , o_5 , o_6 , o_7 , o_8 , o_9]) * 100\n",
    "eig_chan = np.array([e_0 , e_1 , e_2 , e_3 , e_4 , e_5 , e_6 , e_7 , e_8 , e_9]) * 100\n",
    "\n",
    "sessions = [1 , 2 , 3 , 4 , 5 , 6 , 7 , 8 , 9 , 10]"
   ]
  },
  {
   "cell_type": "code",
   "execution_count": 16,
   "metadata": {},
   "outputs": [
    {
     "data": {
      "image/png": "[encoded data removed]",
      "text/plain": [
       "<Figure size 432x288 with 1 Axes>"
      ]
     },
     "metadata": {},
     "output_type": "display_data"
    }
   ],
   "source": [
    "plt.plot(sessions , ogi_chan , marker='o' , label='All Channels')\n",
    "plt.plot(sessions , eig_chan , marker='s' , label='Occipital Channels')\n",
    "\n",
    "plt.legend(loc=3)\n",
    "plt.ylabel('Accuracy(%)')\n",
    "plt.xlabel('Session')\n",
    "\n",
    "plt.xticks(sessions)\n",
    "\n",
    "plt.grid() #去掉网格线"
   ]
  },
  {
   "cell_type": "code",
   "execution_count": null,
   "metadata": {
    "collapsed": true
   },
   "outputs": [],
   "source": []
  }
 ],
 "metadata": {
  "kernelspec": {
   "display_name": "Python 3",
   "language": "python",
   "name": "python3"
  },
  "language_info": {
   "codemirror_mode": {
    "name": "ipython",
    "version": 3
   },
   "file_extension": ".py",
   "mimetype": "text/x-python",
   "name": "python",
   "nbconvert_exporter": "python",
   "pygments_lexer": "ipython3",
   "version": "3.6.1"
  }
 },
 "nbformat": 4,
 "nbformat_minor": 2
}
