{
 "cells": [
  {
   "cell_type": "code",
   "execution_count": 1,
   "metadata": {
    "collapsed": true
   },
   "outputs": [],
   "source": [
    "import gumpy as gp\n",
    "import numpy as np\n",
    "import pywt\n",
    "\n",
    "import seaborn as sns #绘制confusion matrix heatmap\n",
    "\n",
    "import sklearn\n",
    "import os\n",
    "\n",
    "import tqdm\n",
    "\n",
    "import warnings\n",
    "\n",
    "warnings.simplefilter('ignore') #忽略警告"
   ]
  },
  {
   "cell_type": "code",
   "execution_count": 2,
   "metadata": {
    "collapsed": true
   },
   "outputs": [],
   "source": [
    "import scipy\n",
    "import scipy.io as sio\n",
    "\n",
    "import scipy.signal\n",
    "\n",
    "from scipy import linalg\n",
    "\n",
    "import pandas as pd\n",
    "from sklearn.decomposition import PCA\n",
    "#分类器\n",
    "from sklearn.svm import SVC\n",
    "from sklearn.ensemble import RandomForestClassifier\n",
    "from sklearn.ensemble import AdaBoostClassifier\n",
    "from sklearn.ensemble import GradientBoostingClassifier\n",
    "from sklearn.neighbors import KNeighborsClassifier\n",
    "from sklearn.tree import DecisionTreeClassifier\n",
    "from sklearn.lda import LDA\n",
    "from sklearn.naive_bayes import GaussianNB\n",
    "from sklearn.neural_network import MLPClassifier\n",
    "\n",
    "import xgboost\n",
    "import lightgbm\n",
    "\n",
    "\n",
    "#模型调节\n",
    "from mlxtend.feature_selection import SequentialFeatureSelector #特征选择函数 选择合适的feature\n",
    "\n",
    "#结果可视化\n",
    "from sklearn.metrics import classification_report , confusion_matrix #混淆矩阵\n",
    "\n",
    "#相关指标\n",
    "from sklearn.metrics import f1_score\n",
    "from sklearn.metrics import accuracy_score\n",
    "from sklearn.metrics import recall_score\n",
    "from sklearn.metrics import precision_score\n",
    "\n",
    "from sklearn.metrics import cohen_kappa_score\n",
    "\n",
    "from sklearn.metrics import roc_auc_score\n",
    "\n",
    "#二分类其多分类化\n",
    "#from sklearn.multiclass import OneVsOneClassifier\n",
    "#from sklearn.multiclass import OneVsRestClassifier\n",
    "\n",
    "#from sklearn.preprocessing import StandardScaler\n",
    "#from sklearn.cluster import KMeans\n",
    "\n",
    "#距离函数 度量向量距离\n",
    "from sklearn.metrics.pairwise import manhattan_distances\n",
    "from sklearn.metrics.pairwise import euclidean_distances\n",
    "from sklearn.metrics.pairwise import cosine_distances\n",
    "from sklearn.metrics.pairwise import cosine_similarity #余弦相似度\n",
    "\n",
    "#one-hot使用\n",
    "#from keras.utils import to_categorical\n",
    "\n",
    "from sklearn.preprocessing import label_binarize\n",
    "\n",
    "#绘图\n",
    "import matplotlib.pyplot as plt\n",
    "\n",
    "import scipy.linalg as la\n",
    "\n",
    "import gc\n",
    "\n",
    "%matplotlib inline"
   ]
  },
  {
   "cell_type": "code",
   "execution_count": 3,
   "metadata": {},
   "outputs": [
    {
     "name": "stderr",
     "output_type": "stream",
     "text": [
      "Using TensorFlow backend.\n"
     ]
    }
   ],
   "source": [
    "from keras.utils import to_categorical\n",
    "\n",
    "from statsmodels.tsa.ar_model import AR\n",
    "from python_speech_features import mfcc as pmfcc"
   ]
  },
  {
   "cell_type": "code",
   "execution_count": 4,
   "metadata": {
    "collapsed": true
   },
   "outputs": [],
   "source": [
    "sample_rate = 256 #hz\n",
    "origin_channel = 16 #5 channel eeg\n",
    "\n",
    "#采集的通道\n",
    "#共16 channel\n",
    "#未使用的channel使用none代替\n",
    "#reference:a study on performance increasing in ssvep based bci application\n",
    "SAMPLE_CHANNEL = ['Pz' , 'PO3' , 'PO4' , 'O1' , 'O2' , 'Oz' , 'O9' , 'FP2' ,\n",
    "                  'C4' , 'C6' , 'CP3' , 'CP1' ,\n",
    "                  'CPZ' , 'CP2' , 'CP4' , 'PO8']\n",
    "\n",
    "LABEL2STR = {0:'sen' , 1:'hong' , 2:'zhao',\n",
    "             3:'fen' , 4:'xiao' , 5:'yu' , \n",
    "             6:'bin' , 7:'wang' , 8:'wei' , \n",
    "             9:'fei'}\n",
    "\n",
    "# 减去前多少秒数据 second\n",
    "# 减去后多少秒数据 second\n",
    "CLIP_FORWARD = 1\n",
    "CLIP_BACKWARD = 1\n",
    "\n",
    "# 单个小段的实验时长\n",
    "trial_time = 3 #second\n",
    "\n",
    "#是否进行归一化\n",
    "#reference:a study on performance increasing in ssvep based bci application\n",
    "#IS_NORMALIZE = True\n",
    "\n",
    "#是否进行滤波\n",
    "#IS_FILTER = False\n",
    "#EEG频率范围\n",
    "#reference:a study on performance increasing in ssvep based bci application\n",
    "LO_FREQ = 0.5\n",
    "HI_FREQ = 40\n",
    "\n",
    "#是否陷波\n",
    "#IS_NOTCH = False\n",
    "NOTCH_FREQ = 50 #陷波 工频\n"
   ]
  },
  {
   "cell_type": "markdown",
   "metadata": {},
   "source": [
    "# load data step"
   ]
  },
  {
   "cell_type": "code",
   "execution_count": 5,
   "metadata": {
    "collapsed": true
   },
   "outputs": [],
   "source": [
    "def load_data(filename):\n",
    "    \n",
    "    data = sio.loadmat(file_name=filename)['data_received'] #length*16 matrix\n",
    "    \n",
    "    data = data[CLIP_FORWARD * sample_rate : - CLIP_BACKWARD * sample_rate] #首部 尾部 进行裁剪\n",
    "    \n",
    "    return data"
   ]
  },
  {
   "cell_type": "code",
   "execution_count": 6,
   "metadata": {
    "collapsed": true
   },
   "outputs": [],
   "source": [
    "def separate(data , label , overlap_length = 128):\n",
    "    train_data = []\n",
    "    train_labels = []\n",
    "\n",
    "    size = sample_rate * trial_time #一小段 256*3 个数据点\n",
    "    data_length = data.shape[0]\n",
    "    \n",
    "    idx = 0\n",
    "\n",
    "    while idx<data_length-size:\n",
    "        train_data.append(data[idx : idx+size , :])\n",
    "        train_labels.append(label)\n",
    "\n",
    "        idx = idx + (size - overlap_length)\n",
    "\n",
    "    return np.array(train_data) , np.array(train_labels)"
   ]
  },
  {
   "cell_type": "code",
   "execution_count": 7,
   "metadata": {
    "collapsed": true
   },
   "outputs": [],
   "source": [
    "def shuffle_t_v(filenames):\n",
    "    # np.random.shuffle(filenames)\n",
    "    \n",
    "    return np.random.choice(filenames , size=10) #20次的计算准确率中 每次随机选择10个样本进行训练测试\n",
    "\n",
    "def combine(freq):    \n",
    "    overlap_length = 2*256 #重叠2秒数据\n",
    "    \n",
    "    #保证随机性 进行置乱\n",
    "    person_0_filenames = shuffle_t_v( os.listdir('base_rf/%s/0/' % freq) )\n",
    "    person_1_filenames = shuffle_t_v( os.listdir('base_rf/%s/1/' % freq) )\n",
    "    person_2_filenames = shuffle_t_v( os.listdir('base_rf/%s/2/' % freq) )\n",
    "    person_3_filenames = shuffle_t_v( os.listdir('base_rf/%s/3/' % freq) )\n",
    "    person_4_filenames = shuffle_t_v( os.listdir('base_rf/%s/4/' % freq) )\n",
    "    person_5_filenames = shuffle_t_v( os.listdir('base_rf/%s/5/' % freq) )\n",
    "    person_6_filenames = shuffle_t_v( os.listdir('base_rf/%s/6/' % freq) )\n",
    "    person_7_filenames = shuffle_t_v( os.listdir('base_rf/%s/7/' % freq) )\n",
    "    person_8_filenames = shuffle_t_v( os.listdir('base_rf/%s/8/' % freq) )\n",
    "\n",
    "    #打开信号文件 并 合并\n",
    "    person_0 = np.concatenate([load_data('base_rf/%s/0/' % freq + filename) for filename in person_0_filenames] , axis = 0)\n",
    "    person_1 = np.concatenate([load_data('base_rf/%s/1/' % freq + filename) for filename in person_1_filenames] , axis = 0)\n",
    "    person_2 = np.concatenate([load_data('base_rf/%s/2/' % freq + filename) for filename in person_2_filenames] , axis = 0)\n",
    "    person_3 = np.concatenate([load_data('base_rf/%s/3/' % freq + filename) for filename in person_3_filenames] , axis = 0)\n",
    "    person_4 = np.concatenate([load_data('base_rf/%s/4/' % freq + filename) for filename in person_4_filenames] , axis = 0)\n",
    "    person_5 = np.concatenate([load_data('base_rf/%s/5/' % freq + filename) for filename in person_5_filenames] , axis = 0)\n",
    "    person_6 = np.concatenate([load_data('base_rf/%s/6/' % freq + filename) for filename in person_6_filenames] , axis = 0)\n",
    "    person_7 = np.concatenate([load_data('base_rf/%s/7/' % freq + filename) for filename in person_7_filenames] , axis = 0)\n",
    "    person_8 = np.concatenate([load_data('base_rf/%s/8/' % freq + filename) for filename in person_8_filenames] , axis = 0)\n",
    "    \n",
    "    #============\n",
    "    #训练数据分段\n",
    "    train_person_data_0 , train_person_labels_0 = separate(person_0 , label = 0 , overlap_length=overlap_length)\n",
    "    train_person_data_1 , train_person_labels_1 = separate(person_1 , label = 1 , overlap_length=overlap_length)\n",
    "    train_person_data_2 , train_person_labels_2 = separate(person_2 , label = 2 , overlap_length=overlap_length)\n",
    "    train_person_data_3 , train_person_labels_3 = separate(person_3 , label = 3 , overlap_length=overlap_length)\n",
    "    train_person_data_4 , train_person_labels_4 = separate(person_4 , label = 4 , overlap_length=overlap_length)\n",
    "    train_person_data_5 , train_person_labels_5 = separate(person_5 , label = 5 , overlap_length=overlap_length)\n",
    "    train_person_data_6 , train_person_labels_6 = separate(person_6 , label = 6 , overlap_length=overlap_length)\n",
    "    train_person_data_7 , train_person_labels_7 = separate(person_7 , label = 7 , overlap_length=overlap_length)\n",
    "    train_person_data_8 , train_person_labels_8 = separate(person_8 , label = 8 , overlap_length=overlap_length)\n",
    "\n",
    "    #合并数据\n",
    "    train_data = np.concatenate((train_person_data_0 , train_person_data_1 , train_person_data_2 ,\n",
    "                                 train_person_data_3 , train_person_data_4 , train_person_data_5 ,\n",
    "                                 train_person_data_6 , train_person_data_7 , train_person_data_8 ,\n",
    "                                 ))\n",
    "    \n",
    "    train_labels = np.concatenate((train_person_labels_0 , train_person_labels_1 , train_person_labels_2 ,\n",
    "                                   train_person_labels_3 , train_person_labels_4 , train_person_labels_5 ,\n",
    "                                   train_person_labels_6 , train_person_labels_7 , train_person_labels_8 ,\n",
    "                                    ))\n",
    "    \n",
    "    #产生索引并置乱\n",
    "    idx_train_data = list(range(train_data.shape[0]))\n",
    "    np.random.shuffle(idx_train_data)\n",
    "\n",
    "    #将训练数据置乱\n",
    "    train_data = train_data[idx_train_data]\n",
    "    train_labels = train_labels[idx_train_data]\n",
    "        \n",
    "    return train_data , train_labels\n"
   ]
  },
  {
   "cell_type": "code",
   "execution_count": 8,
   "metadata": {
    "collapsed": true
   },
   "outputs": [],
   "source": [
    "def session_data_labels(session_id , freq , is_training):\n",
    "    if is_training:\n",
    "        overlap_length = 256*2\n",
    "    else:\n",
    "        overlap_length = 0\n",
    "    \n",
    "    str_freq = str(freq)\n",
    "    \n",
    "    subjcets = os.listdir('incremental/%s/s%d/' % (str_freq , session_id)) #受试者ID\n",
    "    \n",
    "    data = []\n",
    "    labels = []\n",
    "    \n",
    "    for subjcet in subjcets:\n",
    "        filenames = os.listdir('incremental/%s/s%d/%s/' % (str_freq , session_id , subjcet))\n",
    "        \n",
    "        person = np.concatenate([load_data('incremental/%s/s%d/%s/%s' % (str_freq , session_id , subjcet , filename)) for filename in filenames] , axis = 0)\n",
    "        \n",
    "        person_data , person_label = separate( person , label = int(subjcet) , overlap_length = overlap_length)\n",
    "        \n",
    "        data.append(person_data)\n",
    "        labels.append(person_label)\n",
    "    \n",
    "    #合并数据\n",
    "    data = np.concatenate(data)\n",
    "    labels = np.concatenate(labels)\n",
    "    \n",
    "    #shuffle\n",
    "    idx_data = list(range(data.shape[0]))\n",
    "    np.random.shuffle(idx_data)\n",
    "\n",
    "    data = data[idx_data]\n",
    "    labels = labels[idx_data]\n",
    "    \n",
    "    return data , labels\n"
   ]
  },
  {
   "cell_type": "markdown",
   "metadata": {},
   "source": [
    "# SBP"
   ]
  },
  {
   "cell_type": "code",
   "execution_count": 9,
   "metadata": {
    "collapsed": true
   },
   "outputs": [],
   "source": [
    "def butter_worth(data , lowcut , highcut , order=6):\n",
    "    nyq = 0.5 * sample_rate\n",
    "    \n",
    "    lo = lowcut / nyq\n",
    "    hi = highcut / nyq\n",
    "    \n",
    "    b,a = scipy.signal.butter(order , [lo , hi] , btype='bandpass')\n",
    "\n",
    "    return np.array([scipy.signal.filtfilt(b , a , data[: , i]) for i in range(data.shape[1])]).reshape((-1 , origin_channel))\n",
    "\n",
    "def alpha_subBP_features(data):\n",
    "    alpha1 = butter_worth(data , 8.5 , 11.5)\n",
    "    alpha2 = butter_worth(data , 9.0 , 12.5)    \n",
    "    alpha3 = butter_worth(data , 9.5 , 13.5)   #11.5 后\n",
    "    alpha4 = butter_worth(data , 8.0 , 10.5)   \n",
    "    \n",
    "    return np.array([alpha1 , alpha2 , alpha3 , alpha4])\n",
    "\n",
    "def beta_subBP_features(data):\n",
    "    beta1 = butter_worth(data , 15.0 , 30.0) #14.0 前\n",
    "    beta2 = butter_worth(data , 16.0 , 17.0)    \n",
    "    beta3 = butter_worth(data , 17.0 , 18.0)    \n",
    "    beta4 = butter_worth(data , 18.0 , 19.0)    \n",
    "    \n",
    "    return np.array([beta1 , beta2 , beta3 , beta4])\n",
    "\n",
    "def powermean(data):\n",
    "    #官方demo跳4秒 前4秒为准备阶段\n",
    "    return np.power(data[ : , 0] , 2).mean(), \\\n",
    "            np.power(data[ : , 1] , 2).mean(), \\\n",
    "            np.power(data[ : , 2] , 2).mean(), \\\n",
    "            np.power(data[ : , 3] , 2).mean(), \\\n",
    "            np.power(data[ : , 4] , 2).mean(), \\\n",
    "            np.power(data[ : , 5] , 2).mean(), \\\n",
    "            np.power(data[ : , 6] , 2).mean(), \\\n",
    "            np.power(data[ : , 7] , 2).mean(), \\\n",
    "            np.power(data[ : , 8] , 2).mean(), \\\n",
    "            np.power(data[ : , 9] , 2).mean(), \\\n",
    "            np.power(data[ : , 10] , 2).mean(), \\\n",
    "            np.power(data[ : , 11] , 2).mean(), \\\n",
    "            np.power(data[ : , 12] , 2).mean(), \\\n",
    "            np.power(data[ : , 13] , 2).mean(), \\\n",
    "            np.power(data[ : , 14] , 2).mean(), \\\n",
    "            np.power(data[ : , 15] , 2).mean()      \n",
    "            \n",
    "def log_subBP_feature_extraction(alpha , beta):\n",
    "    #alpha\n",
    "    power_1_a = powermean(alpha[0])\n",
    "    power_2_a = powermean(alpha[1])\n",
    "    power_3_a = powermean(alpha[2])\n",
    "    power_4_a = powermean(alpha[3])\n",
    "    \n",
    "    #beta\n",
    "    power_1_b = powermean(beta[0])\n",
    "    power_2_b = powermean(beta[1])\n",
    "    power_3_b = powermean(beta[2])\n",
    "    power_4_b = powermean(beta[3])\n",
    "    \n",
    "    X= np.array(\n",
    "        [np.log(power_1_a) ,\n",
    "         np.log(power_2_a) ,\n",
    "         np.log(power_3_a) ,\n",
    "         np.log(power_4_a) ,\n",
    "         np.log(power_1_b) ,\n",
    "         np.log(power_2_b) ,\n",
    "         np.log(power_3_b) ,\n",
    "         np.log(power_4_b)\n",
    "        ]\n",
    "        ).flatten()\n",
    "\n",
    "    return X\n",
    "\n",
    "def feature_extraction_sub_band_power(data):\n",
    "    n_features = 128\n",
    "    X = np.zeros((data.shape[0] , n_features))\n",
    "    \n",
    "    for i , datum in enumerate(data):\n",
    "        alpha = alpha_subBP_features(datum)\n",
    "        beta = beta_subBP_features(datum)\n",
    "            \n",
    "        X[i, :] = log_subBP_feature_extraction(alpha , beta)\n",
    "\n",
    "    return X"
   ]
  },
  {
   "cell_type": "code",
   "execution_count": null,
   "metadata": {
    "collapsed": true
   },
   "outputs": [],
   "source": []
  },
  {
   "cell_type": "markdown",
   "metadata": {},
   "source": [
    "# AR"
   ]
  },
  {
   "cell_type": "code",
   "execution_count": 10,
   "metadata": {
    "collapsed": true
   },
   "outputs": [],
   "source": [
    "def ar(data):\n",
    "    X = []\n",
    "    \n",
    "    for i in range(16):\n",
    "        X.append( AR(data[: , i]).fit().params.reshape([1 , -1]).squeeze() )\n",
    "        \n",
    "    return np.array(X).reshape([1 , -1]).squeeze()\n",
    "\n",
    "\n",
    "def feature_extraction_ar(data):\n",
    "    X = []\n",
    "    \n",
    "    for datum in data:\n",
    "        X.append( ar(datum) )\n",
    "    \n",
    "    return np.array(X)"
   ]
  },
  {
   "cell_type": "markdown",
   "metadata": {},
   "source": [
    "# MFCC"
   ]
  },
  {
   "cell_type": "code",
   "execution_count": 11,
   "metadata": {
    "collapsed": true
   },
   "outputs": [],
   "source": [
    "def mfcc(data):\n",
    "    \n",
    "    X = []\n",
    "   \n",
    "    for i in range(16):\n",
    "        X.append( pmfcc( data[: , i] , samplerate=256).reshape([1 , -1]).squeeze() )\n",
    "        \n",
    "    return np.array( X ).reshape([1 , -1]).squeeze()\n",
    "\n",
    "def feature_extraction_mfcc(data):\n",
    "    X = []\n",
    "    \n",
    "    for datum in data:\n",
    "        X.append( mfcc(datum) )\n",
    "\n",
    "    return np.array(X)"
   ]
  },
  {
   "cell_type": "code",
   "execution_count": null,
   "metadata": {
    "collapsed": true
   },
   "outputs": [],
   "source": []
  },
  {
   "cell_type": "code",
   "execution_count": 12,
   "metadata": {
    "collapsed": true
   },
   "outputs": [],
   "source": [
    "def concat_and_shuffle(orig_X , orig_y , session_id , freq , method):\n",
    "    session_id_data , session_id_labels = session_data_labels(session_id , freq , is_training=True)\n",
    "    \n",
    "    if method == 'sbp':\n",
    "        session_id_data = feature_extraction_sub_band_power(session_id_data)\n",
    "    elif method == 'ar':\n",
    "        session_id_data = feature_extraction_ar(session_id_data)\n",
    "    else:\n",
    "        session_id_data = feature_extraction_mfcc(session_id_data)\n",
    "        \n",
    "    # session_id_labels = to_categorical(session_id_labels , num_classes=9)\n",
    "    \n",
    "    orig_X = np.concatenate((orig_X , session_id_data) , axis=0)\n",
    "    orig_y = np.concatenate((orig_y , session_id_labels) , axis=0)\n",
    "    \n",
    "    idx = list(range(orig_X.shape[0]))\n",
    "    np.random.shuffle(idx)\n",
    "    \n",
    "    orig_X = orig_X[idx]\n",
    "    orig_y = orig_y[idx]\n",
    "    \n",
    "    return orig_X , orig_y"
   ]
  },
  {
   "cell_type": "code",
   "execution_count": null,
   "metadata": {
    "collapsed": true
   },
   "outputs": [],
   "source": []
  },
  {
   "cell_type": "code",
   "execution_count": 13,
   "metadata": {},
   "outputs": [
    {
     "name": "stdout",
     "output_type": "stream",
     "text": [
      "6 1 0.46859903381642515\n",
      "6 3 0.7898550724637681\n",
      "6 5 0.5410628019323671\n",
      "6 6 0.6594202898550725\n",
      "6 7 0.8671497584541062\n",
      "6 8 0.8405797101449275\n",
      "6 9 0.5507246376811594\n",
      "6 11 0.9227053140096618\n",
      "6 12 0.8816425120772947\n",
      "6 13 0.7971014492753623\n",
      "7.5 1 0.4033816425120773\n",
      "7.5 3 0.782608695652174\n",
      "7.5 5 0.9227053140096618\n",
      "7.5 6 0.6086956521739131\n",
      "7.5 7 0.7053140096618358\n",
      "7.5 8 0.7874396135265701\n",
      "7.5 9 0.7028985507246377\n",
      "7.5 11 0.8236714975845411\n",
      "7.5 12 0.9444444444444444\n",
      "7.5 13 0.6304347826086957\n",
      "8.5 1 0.642512077294686\n",
      "8.5 3 0.6932367149758454\n",
      "8.5 5 0.4492753623188406\n",
      "8.5 6 0.6014492753623188\n",
      "8.5 7 0.7729468599033816\n",
      "8.5 8 0.821256038647343\n",
      "8.5 9 0.7632850241545893\n",
      "8.5 11 0.9154589371980676\n",
      "8.5 12 0.7898550724637681\n",
      "8.5 13 0.7342995169082126\n",
      "10 1 0.40096618357487923\n",
      "10 3 0.642512077294686\n",
      "10 5 0.6739130434782609\n",
      "10 6 0.572463768115942\n",
      "10 7 0.7125603864734299\n",
      "10 8 0.9830917874396136\n",
      "10 9 0.8768115942028986\n",
      "10 11 0.9975845410628019\n",
      "10 12 0.7342995169082126\n",
      "10 13 0.762962962962963\n"
     ]
    }
   ],
   "source": [
    "for freq in [6 , 7.5 , 8.5 , 10]:\n",
    "    #基分类器使用随机森林\n",
    "    train_X_ , train_y = combine(freq=freq) #6 7.5 8.5 10 hz\n",
    "    \n",
    "    train_X = feature_extraction_sub_band_power(train_X_) #SBP特征提取\n",
    "    # train_y = to_categorical(train_y_ , num_classes=9) #one-hot化\n",
    "    \n",
    "    pca = PCA(n_components=32)\n",
    "    pca.fit(train_X)\n",
    "    train_X_decomp = pca.transform(train_X)\n",
    "    \n",
    "    rf = RandomForestClassifier()\n",
    "    rf.fit(train_X_decomp , train_y)\n",
    "    \n",
    "    for session_id in [1,3,5,6,7,8,9,11,12,13]:\n",
    "        session_N_data , session_N_labels = session_data_labels(session_id , freq , is_training=False)\n",
    "        session_N_data = feature_extraction_sub_band_power(session_N_data)\n",
    "        session_N_data = pca.transform(session_N_data)\n",
    "        # session_N_labels = to_categorical(session_N_labels , num_classes=9)\n",
    "\n",
    "        print( freq , session_id , rf.score(session_N_data , session_N_labels) )\n",
    "\n",
    "        #更新模型\n",
    "        train_X , train_y = concat_and_shuffle(train_X , train_y , session_id , freq , 'sbp')\n",
    "        \n",
    "        pca = PCA(n_components=32)\n",
    "        pca.fit(train_X)\n",
    "        train_X_decomp = pca.transform(train_X)\n",
    "        \n",
    "        rf = RandomForestClassifier()\n",
    "        rf.fit(train_X_decomp , train_y)\n",
    "    \n",
    "    gc.collect()"
   ]
  },
  {
   "cell_type": "code",
   "execution_count": null,
   "metadata": {
    "collapsed": true
   },
   "outputs": [],
   "source": []
  },
  {
   "cell_type": "code",
   "execution_count": null,
   "metadata": {},
   "outputs": [
    {
     "name": "stdout",
     "output_type": "stream",
     "text": [
      "6 1 0.5362318840579711\n",
      "6 3 0.7922705314009661\n",
      "6 5 0.5579710144927537\n",
      "6 6 0.7415458937198067\n",
      "6 7 0.9734299516908212\n",
      "6 8 0.9251207729468599\n",
      "6 9 0.6714975845410628\n",
      "6 11 0.9782608695652174\n",
      "6 12 0.9202898550724637\n",
      "6 13 0.8478260869565217\n",
      "7.5 1 0.4468599033816425\n",
      "7.5 3 0.8743961352657005\n",
      "7.5 5 0.9951690821256038\n",
      "7.5 6 0.6908212560386473\n",
      "7.5 7 0.7198067632850241\n",
      "7.5 8 0.7874396135265701\n",
      "7.5 9 0.7536231884057971\n",
      "7.5 11 0.8091787439613527\n",
      "7.5 12 0.9855072463768116\n",
      "7.5 13 0.7246376811594203\n",
      "8.5 1 0.7367149758454107\n",
      "8.5 3 0.5917874396135265\n",
      "8.5 5 0.5772946859903382\n",
      "8.5 6 0.7028985507246377\n",
      "8.5 7 0.8043478260869565\n",
      "8.5 8 0.8309178743961353\n",
      "8.5 9 0.7971014492753623\n",
      "8.5 11 0.9227053140096618\n",
      "8.5 12 0.9516908212560387\n",
      "8.5 13 0.8743961352657005\n",
      "10 1 0.4613526570048309\n",
      "10 3 0.6570048309178744\n",
      "10 5 0.8236714975845411\n",
      "10 6 0.6690821256038647\n",
      "10 7 0.6980676328502415\n",
      "10 8 0.9975845410628019\n",
      "10 9 0.8792270531400966\n",
      "10 11 1.0\n",
      "10 12 0.7681159420289855\n",
      "10 13 0.7432098765432099\n"
     ]
    }
   ],
   "source": [
    "for freq in [6 , 7.5 , 8.5 , 10]:\n",
    "    #基分类器使用随机森林\n",
    "    train_X_ , train_y = combine(freq=freq) #6 7.5 8.5 10 hz\n",
    "    \n",
    "    train_X = feature_extraction_ar(train_X_) #SBP特征提取\n",
    "    # train_y = to_categorical(train_y_ , num_classes=9) #one-hot化\n",
    "    pca = PCA(n_components=32)\n",
    "    pca.fit(train_X)\n",
    "    train_X_decomp = pca.transform(train_X)\n",
    "    \n",
    "    rf = RandomForestClassifier()\n",
    "    rf.fit(train_X_decomp , train_y)\n",
    "    \n",
    "    for session_id in [1,3,5,6,7,8,9,11,12,13]:\n",
    "        session_N_data , session_N_labels = session_data_labels(session_id , freq , is_training=False)\n",
    "        session_N_data = feature_extraction_ar(session_N_data)\n",
    "        # session_N_labels = to_categorical(session_N_labels , num_classes=9)\n",
    "        session_N_data = pca.transform(session_N_data)\n",
    "\n",
    "        print( freq , session_id , rf.score(session_N_data , session_N_labels) )\n",
    "\n",
    "        #更新模型\n",
    "        train_X , train_y = concat_and_shuffle(train_X , train_y , session_id , freq , method='ar')\n",
    "        \n",
    "        pca = PCA(n_components=32)\n",
    "        pca.fit(train_X)\n",
    "        train_X_decomp = pca.transform(train_X)\n",
    "        \n",
    "        rf = RandomForestClassifier()\n",
    "        rf.fit(train_X_decomp , train_y)\n",
    "\n",
    "    gc.collect()"
   ]
  },
  {
   "cell_type": "code",
   "execution_count": null,
   "metadata": {
    "collapsed": true
   },
   "outputs": [],
   "source": []
  },
  {
   "cell_type": "code",
   "execution_count": null,
   "metadata": {},
   "outputs": [
    {
     "name": "stdout",
     "output_type": "stream",
     "text": [
      "10 1 0.48792270531400966\n",
      "10 3 0.5603864734299517\n",
      "10 5 0.5579710144927537\n",
      "10 6 0.4033816425120773\n",
      "10 7 0.6521739130434783\n",
      "10 8 0.9758454106280193\n"
     ]
    }
   ],
   "source": [
    "for freq in [10]:\n",
    "    #基分类器使用随机森林\n",
    "    train_X_ , train_y = combine(freq=freq) #6 7.5 8.5 10 hz\n",
    "    \n",
    "    train_X = feature_extraction_mfcc(train_X_) #SBP特征提取\n",
    "    # train_y = to_categorical(train_y_ , num_classes=9) #one-hot化\n",
    "    pca = PCA(n_components=32)\n",
    "    pca.fit(train_X)\n",
    "    train_X_decomp = pca.transform(train_X)\n",
    "    \n",
    "    rf = RandomForestClassifier()\n",
    "    rf.fit(train_X_decomp , train_y)\n",
    "    \n",
    "    for session_id in [1,3,5,6,7,8]:# , 9 ,11,12,13]:\n",
    "        session_N_data , session_N_labels = session_data_labels(session_id , freq , is_training=False)\n",
    "        session_N_data = feature_extraction_mfcc(session_N_data)\n",
    "        session_N_data = pca.transform(session_N_data)\n",
    "        # session_N_labels = to_categorical(session_N_labels , num_classes=9)\n",
    "\n",
    "        print( freq , session_id , rf.score(session_N_data , session_N_labels) )\n",
    "\n",
    "        #更新模型\n",
    "        #session_id_data , session_id_labels = session_data_labels(session_id , freq , is_training=True)\n",
    "        #session_id_data = feature_extraction_mfcc(session_id_data)\n",
    "        #session_id_data = pca.transform(session_id_data)\n",
    "        #\n",
    "        #rf.fit(session_id_data , session_id_labels)\n",
    "        \n",
    "        train_X , train_y = concat_and_shuffle(train_X , train_y , session_id , freq , method='mfcc')\n",
    "        \n",
    "        pca = PCA(n_components=32)\n",
    "        pca.fit(train_X)\n",
    "        train_X_decomp = pca.transform(train_X)\n",
    "        \n",
    "        rf = RandomForestClassifier()\n",
    "        rf.fit(train_X_decomp , train_y)\n",
    "    \n",
    "    gc.collect()"
   ]
  },
  {
   "cell_type": "code",
   "execution_count": null,
   "metadata": {
    "collapsed": true
   },
   "outputs": [],
   "source": [
    "6 1 0.5748792270531401\n",
    "6 3 0.6666666666666666\n",
    "6 5 0.3647342995169082\n",
    "6 6 0.48792270531400966\n",
    "6 7 0.9033816425120773\n",
    "6 8 0.8067632850241546\n",
    "\n",
    "7.5 1 0.28502415458937197\n",
    "7.5 3 0.7415458937198067\n",
    "7.5 5 1.0\n",
    "7.5 6 0.6884057971014492\n",
    "\n",
    "8.5 1 0.4420289855072464\n",
    "8.5 3 0.5289855072463768\n",
    "8.5 5 0.3164251207729469\n",
    "\n"
   ]
  },
  {
   "cell_type": "code",
   "execution_count": null,
   "metadata": {
    "collapsed": true
   },
   "outputs": [],
   "source": []
  },
  {
   "cell_type": "code",
   "execution_count": null,
   "metadata": {
    "collapsed": true
   },
   "outputs": [],
   "source": []
  },
  {
   "cell_type": "code",
   "execution_count": null,
   "metadata": {
    "collapsed": true
   },
   "outputs": [],
   "source": []
  },
  {
   "cell_type": "code",
   "execution_count": null,
   "metadata": {
    "collapsed": true
   },
   "outputs": [],
   "source": []
  },
  {
   "cell_type": "code",
   "execution_count": null,
   "metadata": {
    "collapsed": true
   },
   "outputs": [],
   "source": [
    "a=np.array([[1,2],[4,3]])"
   ]
  },
  {
   "cell_type": "code",
   "execution_count": null,
   "metadata": {
    "collapsed": true
   },
   "outputs": [],
   "source": [
    "np.argmax(a)"
   ]
  },
  {
   "cell_type": "code",
   "execution_count": null,
   "metadata": {
    "collapsed": true
   },
   "outputs": [],
   "source": []
  }
 ],
 "metadata": {
  "kernelspec": {
   "display_name": "Python 3",
   "language": "python",
   "name": "python3"
  },
  "language_info": {
   "codemirror_mode": {
    "name": "ipython",
    "version": 3
   },
   "file_extension": ".py",
   "mimetype": "text/x-python",
   "name": "python",
   "nbconvert_exporter": "python",
   "pygments_lexer": "ipython3",
   "version": "3.6.1"
  }
 },
 "nbformat": 4,
 "nbformat_minor": 2
}
