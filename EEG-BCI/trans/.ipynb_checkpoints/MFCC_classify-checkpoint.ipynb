{
 "cells": [
  {
   "cell_type": "code",
   "execution_count": 1,
   "metadata": {
    "collapsed": true
   },
   "outputs": [],
   "source": [
    "import numpy as np\n",
    "import pywt\n",
    "\n",
    "import seaborn as sns #绘制confusion matrix heatmap\n",
    "\n",
    "import os\n",
    "import scipy.io as sio\n",
    "\n",
    "\n",
    "from python_speech_features import mfcc as pmfcc\n",
    "\n",
    "import tqdm\n",
    "\n",
    "import matplotlib.pyplot as plt\n",
    "%matplotlib inline\n"
   ]
  },
  {
   "cell_type": "code",
   "execution_count": null,
   "metadata": {
    "collapsed": true
   },
   "outputs": [],
   "source": [
    "pmfcc()"
   ]
  },
  {
   "cell_type": "code",
   "execution_count": 2,
   "metadata": {
    "collapsed": true
   },
   "outputs": [],
   "source": [
    "import warnings\n",
    "warnings.simplefilter('ignore') #忽略警告"
   ]
  },
  {
   "cell_type": "code",
   "execution_count": 3,
   "metadata": {},
   "outputs": [
    {
     "name": "stderr",
     "output_type": "stream",
     "text": [
      "C:\\Anaconda3\\lib\\site-packages\\sklearn\\ensemble\\weight_boosting.py:29: DeprecationWarning: numpy.core.umath_tests is an internal NumPy module and should not be imported. It will be removed in a future NumPy release.\n",
      "  from numpy.core.umath_tests import inner1d\n"
     ]
    }
   ],
   "source": [
    "from sklearn.ensemble import RandomForestClassifier\n",
    "from sklearn.neighbors import KNeighborsClassifier\n",
    "from sklearn.naive_bayes import GaussianNB\n",
    "from sklearn.neural_network import MLPClassifier\n",
    "\n",
    "import xgboost"
   ]
  },
  {
   "cell_type": "code",
   "execution_count": null,
   "metadata": {
    "collapsed": true
   },
   "outputs": [],
   "source": []
  },
  {
   "cell_type": "code",
   "execution_count": 4,
   "metadata": {
    "collapsed": true
   },
   "outputs": [],
   "source": [
    "sample_rate = 256\n",
    "origin_channel = 16\n",
    "\n",
    "\n",
    "SAMPLE_CHANNEL = ['Pz' , 'PO3' , 'PO4' , 'O1' , 'O2' , 'Oz' , 'O9' , 'FP2' ,\n",
    "                  'C4' , 'C6' , 'CP3' , 'CP1' ,\n",
    "                  'CPZ' , 'CP2' , 'CP4' , 'PO8']\n",
    "\n",
    "LABEL2STR = {0:'sen' , 1:'hong' , 2:'zhao',\n",
    "             3:'fen' , 4:'xiao' , 5:'yu' , \n",
    "             6:'bin' , 7:'wang' , 8:'wei' , \n",
    "             9:'fei'}\n",
    "\n",
    "CLIP_FORWARD = 1 #首部裁掉时间\n",
    "CLIP_BACKWARD = 1 #尾部裁掉时间\n",
    "\n",
    "trial_time = 3 #segment second\n",
    "\n",
    "\n",
    "#是否进行归一化\n",
    "#reference:a study on performance increasing in ssvep based bci application\n",
    "#IS_NORMALIZE = True\n",
    "\n",
    "#是否进行滤波\n",
    "#IS_FILTER = False\n",
    "#EEG频率范围\n",
    "#reference:a study on performance increasing in ssvep based bci application\n",
    "LO_FREQ = 0.5\n",
    "HI_FREQ = 40\n",
    "\n",
    "#是否陷波\n",
    "#IS_NOTCH = False\n",
    "NOTCH_FREQ = 50 #陷波 工频\n"
   ]
  },
  {
   "cell_type": "code",
   "execution_count": 5,
   "metadata": {
    "collapsed": true
   },
   "outputs": [],
   "source": [
    "def load_data(filename):\n",
    "\n",
    "    data = sio.loadmat(file_name=filename)['data_received'] #length*16 matrix\n",
    "\n",
    "    data = data[CLIP_FORWARD * sample_rate : - CLIP_BACKWARD * sample_rate] #首部 尾部 进行裁剪\n",
    "   \n",
    "    return data "
   ]
  },
  {
   "cell_type": "code",
   "execution_count": 6,
   "metadata": {
    "collapsed": true
   },
   "outputs": [],
   "source": [
    "#data = load_data('./circle/0/10/1.mat')\n",
    "#amfcc = pmfcc(data[: , 0] , samplerate=256)\n",
    "#plt.plot(amfcc.T[5 , :])"
   ]
  },
  {
   "cell_type": "code",
   "execution_count": 7,
   "metadata": {
    "collapsed": true
   },
   "outputs": [],
   "source": [
    "#amfcc.shape #原数据的长度除以3 为1536"
   ]
  },
  {
   "cell_type": "code",
   "execution_count": 8,
   "metadata": {
    "collapsed": true
   },
   "outputs": [],
   "source": [
    "#data[: , 0].shape"
   ]
  },
  {
   "cell_type": "code",
   "execution_count": null,
   "metadata": {
    "collapsed": true
   },
   "outputs": [],
   "source": []
  },
  {
   "cell_type": "code",
   "execution_count": null,
   "metadata": {
    "collapsed": true
   },
   "outputs": [],
   "source": []
  },
  {
   "cell_type": "code",
   "execution_count": 6,
   "metadata": {
    "collapsed": true
   },
   "outputs": [],
   "source": [
    "def separate(data , label , overlap_length = 128):\n",
    "    '''\n",
    "    最长重叠长度为size长 256*3 个数据点\n",
    "    '''\n",
    "    train_data = []\n",
    "    train_labels = []\n",
    "\n",
    "    size = sample_rate * trial_time #一小段 256*3 个数据点\n",
    "    data_length = data.shape[0]\n",
    "\n",
    "    idx = 0\n",
    "\n",
    "    while idx<=data_length-size:\n",
    "        train_data.append(data[idx : idx+size , :])\n",
    "        train_labels.append(label)\n",
    "\n",
    "        idx = idx + (size - overlap_length)\n",
    "\n",
    "    return np.array(train_data) , np.array(train_labels)"
   ]
  },
  {
   "cell_type": "code",
   "execution_count": 7,
   "metadata": {
    "collapsed": true
   },
   "outputs": [],
   "source": [
    "def train_val(data , ratio = 0.9):\n",
    "    '''\n",
    "    将数据分为 训练集 和 验证集\n",
    "    '''\n",
    "    \n",
    "    seg = int(ratio * data.shape[0])\n",
    "    \n",
    "    return data[ : seg] , data[seg : ]\n",
    "\n",
    "def shuffle_t_v(filenames):\n",
    "    np.random.shuffle(filenames)\n",
    "    \n",
    "    return filenames\n",
    "\n",
    "def combine(freq = 10):\n",
    "    '''\n",
    "    训练数据与验证数据\n",
    "    :freq: 指定闪烁的频率\n",
    "    \n",
    "    '''\n",
    "    \n",
    "    if freq not in [10 , 15 , 20 , 25]:\n",
    "        print('freq must in 10,15,20,25')\n",
    "        return \n",
    "    \n",
    "    ratio = 0.9 #训练集的占比\n",
    "    overlap_length = 2*256 #重叠2秒数据\n",
    "    \n",
    "    #保证随机性 进行置乱\n",
    "    person_0_filenames = shuffle_t_v( os.listdir('circle/0/%s/' % freq) )\n",
    "    person_1_filenames = shuffle_t_v( os.listdir('circle/1/%s/' % freq) )\n",
    "    person_2_filenames = shuffle_t_v( os.listdir('circle/2/%s/' % freq) )\n",
    "    person_3_filenames = shuffle_t_v( os.listdir('circle/3/%s/' % freq) )\n",
    "    person_4_filenames = shuffle_t_v( os.listdir('circle/4/%s/' % freq) )\n",
    "    person_5_filenames = shuffle_t_v( os.listdir('circle/5/%s/' % freq) )\n",
    "    person_6_filenames = shuffle_t_v( os.listdir('circle/6/%s/' % freq) )\n",
    "    person_7_filenames = shuffle_t_v( os.listdir('circle/7/%s/' % freq) )\n",
    "    person_8_filenames = shuffle_t_v( os.listdir('circle/8/%s/' % freq) )\n",
    "    person_9_filenames = shuffle_t_v( os.listdir('circle/9/%s/' % freq) )\n",
    "\n",
    "    #打开信号文件 并 合并\n",
    "    person_0 = np.concatenate([load_data('circle/0/%s/' % freq + filename) for filename in person_0_filenames] , axis = 0)\n",
    "    person_1 = np.concatenate([load_data('circle/1/%s/' % freq + filename) for filename in person_1_filenames] , axis = 0)\n",
    "    person_2 = np.concatenate([load_data('circle/2/%s/' % freq + filename) for filename in person_2_filenames] , axis = 0)\n",
    "    person_3 = np.concatenate([load_data('circle/3/%s/' % freq + filename) for filename in person_3_filenames] , axis = 0)\n",
    "    person_4 = np.concatenate([load_data('circle/4/%s/' % freq + filename) for filename in person_4_filenames] , axis = 0)\n",
    "    person_5 = np.concatenate([load_data('circle/5/%s/' % freq + filename) for filename in person_5_filenames] , axis = 0)\n",
    "    person_6 = np.concatenate([load_data('circle/6/%s/' % freq + filename) for filename in person_6_filenames] , axis = 0)\n",
    "    person_7 = np.concatenate([load_data('circle/7/%s/' % freq + filename) for filename in person_7_filenames] , axis = 0)\n",
    "    person_8 = np.concatenate([load_data('circle/8/%s/' % freq + filename) for filename in person_8_filenames] , axis = 0)\n",
    "    person_9 = np.concatenate([load_data('circle/9/%s/' % freq + filename) for filename in person_9_filenames] , axis = 0)\n",
    "    \n",
    "    person_0_train , person_0_val = train_val(person_0)\n",
    "    person_1_train , person_1_val = train_val(person_1)\n",
    "    person_2_train , person_2_val = train_val(person_2)\n",
    "    person_3_train , person_3_val = train_val(person_3)\n",
    "    person_4_train , person_4_val = train_val(person_4)\n",
    "    person_5_train , person_5_val = train_val(person_5)\n",
    "    person_6_train , person_6_val = train_val(person_6)\n",
    "    person_7_train , person_7_val = train_val(person_7)\n",
    "    person_8_train , person_8_val = train_val(person_8)\n",
    "    person_9_train , person_9_val = train_val(person_9)\n",
    "    \n",
    "    #数据分段阶段\n",
    "    \n",
    "    #============\n",
    "    #训练数据分段\n",
    "    train_person_data_0 , train_person_labels_0 = separate(person_0_train , label = 0 , overlap_length=overlap_length)\n",
    "    train_person_data_1 , train_person_labels_1 = separate(person_1_train , label = 1 , overlap_length=overlap_length)\n",
    "    train_person_data_2 , train_person_labels_2 = separate(person_2_train , label = 2 , overlap_length=overlap_length)\n",
    "    train_person_data_3 , train_person_labels_3 = separate(person_3_train , label = 3 , overlap_length=overlap_length)\n",
    "    train_person_data_4 , train_person_labels_4 = separate(person_4_train , label = 4 , overlap_length=overlap_length)\n",
    "    train_person_data_5 , train_person_labels_5 = separate(person_5_train , label = 5 , overlap_length=overlap_length)\n",
    "    train_person_data_6 , train_person_labels_6 = separate(person_6_train , label = 6 , overlap_length=overlap_length)\n",
    "    train_person_data_7 , train_person_labels_7 = separate(person_7_train , label = 7 , overlap_length=overlap_length)\n",
    "    train_person_data_8 , train_person_labels_8 = separate(person_8_train , label = 8 , overlap_length=overlap_length)\n",
    "    train_person_data_9 , train_person_labels_9 = separate(person_9_train , label = 9 , overlap_length=overlap_length)\n",
    "\n",
    "    #合并数据\n",
    "    train_data = np.concatenate((train_person_data_0 , train_person_data_1 , train_person_data_2 ,\n",
    "                                 train_person_data_3 , train_person_data_4 , train_person_data_5 ,\n",
    "                                 train_person_data_6 , train_person_data_7 , train_person_data_8 ,\n",
    "                                 train_person_data_9 ))\n",
    "    \n",
    "    train_labels = np.concatenate((train_person_labels_0 , train_person_labels_1 , train_person_labels_2 ,\n",
    "                                   train_person_labels_3 , train_person_labels_4 , train_person_labels_5 ,\n",
    "                                   train_person_labels_6 , train_person_labels_7 , train_person_labels_8 ,\n",
    "                                   train_person_labels_9 ))\n",
    "    \n",
    "    #产生索引并置乱\n",
    "    idx_train_data = list(range(train_data.shape[0]))\n",
    "    np.random.shuffle(idx_train_data)\n",
    "\n",
    "    #将训练数据置乱\n",
    "    train_data = train_data[idx_train_data]\n",
    "    train_labels = train_labels[idx_train_data]\n",
    "    \n",
    "    #============\n",
    "    #验证数据分段\n",
    "    val_person_data_0 , val_person_labels_0 = separate(person_0_val , label = 0 , overlap_length=0)\n",
    "    val_person_data_1 , val_person_labels_1 = separate(person_1_val , label = 1 , overlap_length=0)\n",
    "    val_person_data_2 , val_person_labels_2 = separate(person_2_val , label = 2 , overlap_length=0)\n",
    "    val_person_data_3 , val_person_labels_3 = separate(person_3_val , label = 3 , overlap_length=0)\n",
    "    val_person_data_4 , val_person_labels_4 = separate(person_4_val , label = 4 , overlap_length=0)\n",
    "    val_person_data_5 , val_person_labels_5 = separate(person_5_val , label = 5 , overlap_length=0)\n",
    "    val_person_data_6 , val_person_labels_6 = separate(person_6_val , label = 6 , overlap_length=0)\n",
    "    val_person_data_7 , val_person_labels_7 = separate(person_7_val , label = 7 , overlap_length=0)\n",
    "    val_person_data_8 , val_person_labels_8 = separate(person_8_val , label = 8 , overlap_length=0)\n",
    "    val_person_data_9 , val_person_labels_9 = separate(person_9_val , label = 9 , overlap_length=0)\n",
    "    \n",
    "    #合并数据\n",
    "    val_data = np.concatenate((val_person_data_0 , val_person_data_1 , val_person_data_2 ,\n",
    "                               val_person_data_3 , val_person_data_4 , val_person_data_5 ,\n",
    "                               val_person_data_6 , val_person_data_7 , val_person_data_8 ,\n",
    "                               val_person_data_9 ))\n",
    "    \n",
    "    val_labels = np.concatenate((val_person_labels_0 , val_person_labels_1 , val_person_labels_2 ,\n",
    "                                 val_person_labels_3 , val_person_labels_4 , val_person_labels_5 ,\n",
    "                                 val_person_labels_6 , val_person_labels_7 , val_person_labels_8 ,\n",
    "                                 val_person_labels_9 ))\n",
    "    \n",
    "    #产生索引并置乱\n",
    "    idx_val_data = list(range(val_data.shape[0]))\n",
    "    np.random.shuffle(idx_val_data)\n",
    "\n",
    "    #将训练数据置乱\n",
    "    val_data = val_data[idx_val_data]\n",
    "    val_labels = val_labels[idx_val_data]\n",
    "    \n",
    "    return train_data , train_labels , val_data , val_labels\n",
    "\n",
    "def shuffle(data , labels):\n",
    "    idx_data = list(range(data.shape[0]))\n",
    "    np.random.shuffle(idx_data)\n",
    "\n",
    "    data = data[idx_data]\n",
    "    labels = labels[idx_data]\n",
    "    \n",
    "    return data , labels"
   ]
  },
  {
   "cell_type": "code",
   "execution_count": 12,
   "metadata": {
    "collapsed": true
   },
   "outputs": [],
   "source": [
    "train_X_ , train_y , val_X_ , val_y = combine(freq = 10) #10 15 20 25 hz"
   ]
  },
  {
   "cell_type": "code",
   "execution_count": 13,
   "metadata": {},
   "outputs": [
    {
     "name": "stdout",
     "output_type": "stream",
     "text": [
      "(1590, 768, 16) (1590,) (50, 768, 16) (50,)\n"
     ]
    }
   ],
   "source": [
    "print(train_X_.shape , train_y.shape , val_X_.shape , val_y.shape)"
   ]
  },
  {
   "cell_type": "code",
   "execution_count": 8,
   "metadata": {
    "collapsed": true
   },
   "outputs": [],
   "source": [
    "def mfcc(data):\n",
    "    \n",
    "    X = []\n",
    "   \n",
    "    for i in range(16):\n",
    "        X.append( pmfcc( data[: , i] , samplerate=256).reshape([1 , -1]).squeeze() )\n",
    "        \n",
    "    return np.array( X ).reshape([1 , -1]).squeeze()"
   ]
  },
  {
   "cell_type": "code",
   "execution_count": 9,
   "metadata": {
    "collapsed": true
   },
   "outputs": [],
   "source": [
    "def feature_extraction_mfcc(data):\n",
    "    X = []\n",
    "    \n",
    "    for datum in data:\n",
    "        X.append( mfcc(datum) )\n",
    "\n",
    "    return np.array(X)"
   ]
  },
  {
   "cell_type": "code",
   "execution_count": null,
   "metadata": {
    "collapsed": true
   },
   "outputs": [],
   "source": [
    "train_X = feature_extraction_mfcc(train_X_)\n",
    "val_X = feature_extraction_mfcc(val_X_)"
   ]
  },
  {
   "cell_type": "code",
   "execution_count": 16,
   "metadata": {
    "collapsed": true
   },
   "outputs": [],
   "source": [
    "print(train_X.shape , train_y.shape , val_X.shape , val_y.shape)"
   ]
  },
  {
   "cell_type": "code",
   "execution_count": null,
   "metadata": {
    "collapsed": true
   },
   "outputs": [],
   "source": []
  },
  {
   "cell_type": "code",
   "execution_count": 10,
   "metadata": {},
   "outputs": [
    {
     "name": "stderr",
     "output_type": "stream",
     "text": [
      "100%|█████████████████████████████████████████████████████████████████████████████████| 20/20 [45:29<00:00, 148.58s/it]\n"
     ]
    },
    {
     "name": "stdout",
     "output_type": "stream",
     "text": [
      "freq:10 rf:1.000000 knn:0.900000 gnb:0.983333\n"
     ]
    },
    {
     "name": "stderr",
     "output_type": "stream",
     "text": [
      "100%|█████████████████████████████████████████████████████████████████████████████████| 20/20 [49:18<00:00, 147.82s/it]\n"
     ]
    },
    {
     "name": "stdout",
     "output_type": "stream",
     "text": [
      "freq:15 rf:1.000000 knn:0.900000 gnb:1.000000\n"
     ]
    },
    {
     "name": "stderr",
     "output_type": "stream",
     "text": [
      "100%|█████████████████████████████████████████████████████████████████████████████████| 20/20 [48:53<00:00, 140.39s/it]\n"
     ]
    },
    {
     "name": "stdout",
     "output_type": "stream",
     "text": [
      "freq:20 rf:1.000000 knn:1.000000 gnb:0.983333\n"
     ]
    },
    {
     "name": "stderr",
     "output_type": "stream",
     "text": [
      "100%|█████████████████████████████████████████████████████████████████████████████████| 20/20 [43:16<00:00, 117.88s/it]\n"
     ]
    },
    {
     "name": "stdout",
     "output_type": "stream",
     "text": [
      "freq:25 rf:1.000000 knn:0.900000 gnb:1.000000\n"
     ]
    }
   ],
   "source": [
    "for freq in [10 , 15 , 20 , 25]:\n",
    "    \n",
    "    rf_score = []\n",
    "    knn_score = []\n",
    "    gnb_score = []\n",
    "    train_X_ , train_y , val_X_ , val_y = combine(freq = freq)\n",
    "    \n",
    "    for i in tqdm.tqdm( range(20) ):\n",
    "\n",
    "        train_X_ , train_y = shuffle(train_X_ , train_y)\n",
    "        val_X_ , val_y = shuffle(val_X_ , val_y)\n",
    "        \n",
    "        train_X = feature_extraction_mfcc(train_X_)\n",
    "        val_X = feature_extraction_mfcc(val_X_)\n",
    "\n",
    "        rf = RandomForestClassifier()\n",
    "        rf.fit(train_X , train_y)\n",
    "        rf_score.append( rf.score(val_X , val_y) )\n",
    "        \n",
    "        knn = KNeighborsClassifier()\n",
    "        knn.fit(train_X , train_y)\n",
    "        knn_score.append( knn.score(val_X , val_y) )\n",
    "        \n",
    "        gnb = GaussianNB()\n",
    "        gnb.fit(train_X , train_y)\n",
    "        gnb_score.append( gnb.score(val_X , val_y) )\n",
    "    \n",
    "    print('freq:%d rf:%f knn:%f gnb:%f' % (freq , np.average(rf_score) , np.average(knn_score) , np.average(gnb_score)))"
   ]
  },
  {
   "cell_type": "code",
   "execution_count": 17,
   "metadata": {},
   "outputs": [
    {
     "data": {
      "text/plain": [
       "1.0"
      ]
     },
     "execution_count": 17,
     "metadata": {},
     "output_type": "execute_result"
    }
   ],
   "source": []
  },
  {
   "cell_type": "code",
   "execution_count": null,
   "metadata": {
    "collapsed": true
   },
   "outputs": [],
   "source": []
  },
  {
   "cell_type": "code",
   "execution_count": 18,
   "metadata": {},
   "outputs": [
    {
     "data": {
      "text/plain": [
       "0.9"
      ]
     },
     "execution_count": 18,
     "metadata": {},
     "output_type": "execute_result"
    }
   ],
   "source": []
  },
  {
   "cell_type": "code",
   "execution_count": null,
   "metadata": {
    "collapsed": true
   },
   "outputs": [],
   "source": []
  },
  {
   "cell_type": "code",
   "execution_count": null,
   "metadata": {
    "collapsed": true
   },
   "outputs": [],
   "source": [
    "# xgb=xgboost.XGBClassifier()\n",
    "# xgb.fit(train_X , train_y)\n",
    "# xgb.score(val_X , val_y)"
   ]
  },
  {
   "cell_type": "code",
   "execution_count": null,
   "metadata": {
    "collapsed": true
   },
   "outputs": [],
   "source": []
  },
  {
   "cell_type": "code",
   "execution_count": 19,
   "metadata": {},
   "outputs": [
    {
     "data": {
      "text/plain": [
       "1.0"
      ]
     },
     "execution_count": 19,
     "metadata": {},
     "output_type": "execute_result"
    }
   ],
   "source": []
  },
  {
   "cell_type": "code",
   "execution_count": null,
   "metadata": {
    "collapsed": true
   },
   "outputs": [],
   "source": []
  },
  {
   "cell_type": "code",
   "execution_count": null,
   "metadata": {},
   "outputs": [
    {
     "data": {
      "text/plain": [
       "0.9"
      ]
     },
     "execution_count": 19,
     "metadata": {},
     "output_type": "execute_result"
    }
   ],
   "source": [
    "# mlp = MLPClassifier()\n",
    "# mlp.fit(train_X , train_y)\n",
    "# mlp.score(val_X , val_y)"
   ]
  },
  {
   "cell_type": "code",
   "execution_count": null,
   "metadata": {
    "collapsed": true
   },
   "outputs": [],
   "source": []
  }
 ],
 "metadata": {
  "kernelspec": {
   "display_name": "Python 3",
   "language": "python",
   "name": "python3"
  },
  "language_info": {
   "codemirror_mode": {
    "name": "ipython",
    "version": 3
   },
   "file_extension": ".py",
   "mimetype": "text/x-python",
   "name": "python",
   "nbconvert_exporter": "python",
   "pygments_lexer": "ipython3",
   "version": "3.6.1"
  }
 },
 "nbformat": 4,
 "nbformat_minor": 2
}
