{
 "cells": [
  {
   "cell_type": "code",
   "execution_count": 1,
   "metadata": {},
   "outputs": [
    {
     "name": "stderr",
     "output_type": "stream",
     "text": [
      "C:\\Anaconda3\\lib\\site-packages\\statsmodels\\compat\\pandas.py:56: FutureWarning: The pandas.core.datetools module is deprecated and will be removed in a future version. Please use the pandas.tseries module instead.\n",
      "  from pandas.core import datetools\n"
     ]
    }
   ],
   "source": [
    "import numpy as np\n",
    "import pywt\n",
    "\n",
    "import seaborn as sns #绘制confusion matrix heatmap\n",
    "\n",
    "import os\n",
    "import scipy.io as sio\n",
    "\n",
    "from statsmodels.tsa.ar_model import AR\n",
    "from python_speech_features import mfcc as pmfcc\n",
    "\n",
    "from sklearn.decomposition import PCA\n",
    "\n",
    "import tqdm\n",
    "import gc\n",
    "\n",
    "import matplotlib.pyplot as plt\n",
    "%matplotlib inline\n"
   ]
  },
  {
   "cell_type": "code",
   "execution_count": 2,
   "metadata": {
    "collapsed": true
   },
   "outputs": [],
   "source": [
    "import warnings\n",
    "warnings.simplefilter('ignore') #忽略警告"
   ]
  },
  {
   "cell_type": "code",
   "execution_count": 3,
   "metadata": {
    "collapsed": true
   },
   "outputs": [],
   "source": [
    "from sklearn.ensemble import RandomForestClassifier\n",
    "from sklearn.neighbors import KNeighborsClassifier\n",
    "from sklearn.naive_bayes import GaussianNB\n",
    "from sklearn.neural_network import MLPClassifier\n",
    "\n",
    "import xgboost"
   ]
  },
  {
   "cell_type": "code",
   "execution_count": 4,
   "metadata": {
    "collapsed": true
   },
   "outputs": [],
   "source": [
    "sample_rate = 256\n",
    "origin_channel = 8\n",
    "\n",
    "\n",
    "SAMPLE_CHANNEL = ['Pz' , 'PO3' , 'PO4' , 'O1' , 'O2' , 'Oz' , 'O9' , 'FP2' ,\n",
    "                  'C4' , 'C6' , 'CP3' , 'CP1' ,\n",
    "                  'CPZ' , 'CP2' , 'CP4' , 'PO8']\n",
    "\n",
    "LABEL2STR = {0:'sen' , 1:'hong' , 2:'zhao',\n",
    "             3:'fen' , 4:'xiao' , 5:'yu' , \n",
    "             6:'bin' , 7:'wang' , 8:'wei' , \n",
    "             9:'fei'}\n",
    "\n",
    "CLIP_FORWARD = 1 #首部裁掉时间\n",
    "CLIP_BACKWARD = 1 #尾部裁掉时间\n",
    "\n",
    "trial_time = 3 #segment second\n",
    "\n",
    "\n",
    "#是否进行归一化\n",
    "#reference:a study on performance increasing in ssvep based bci application\n",
    "#IS_NORMALIZE = True\n",
    "\n",
    "#是否进行滤波\n",
    "#IS_FILTER = False\n",
    "#EEG频率范围\n",
    "#reference:a study on performance increasing in ssvep based bci application\n",
    "LO_FREQ = 0.5\n",
    "HI_FREQ = 40\n",
    "\n",
    "#是否陷波\n",
    "#IS_NOTCH = False\n",
    "NOTCH_FREQ = 50 #陷波 工频\n"
   ]
  },
  {
   "cell_type": "code",
   "execution_count": 5,
   "metadata": {},
   "outputs": [
    {
     "name": "stderr",
     "output_type": "stream",
     "text": [
      "Using TensorFlow backend.\n"
     ]
    }
   ],
   "source": [
    "from keras.utils import to_categorical"
   ]
  },
  {
   "cell_type": "code",
   "execution_count": 6,
   "metadata": {
    "collapsed": true
   },
   "outputs": [],
   "source": [
    "def load_data(filename):\n",
    "\n",
    "    data = sio.loadmat(file_name=filename)['data_received'] #length*16 matrix\n",
    "\n",
    "    data = data[CLIP_FORWARD * sample_rate : - CLIP_BACKWARD * sample_rate] #首部 尾部 进行裁剪\n",
    "   \n",
    "    return data[:,[0,1,2,3,4,5,6,15]] #只使用枕叶位置的脑电信号"
   ]
  },
  {
   "cell_type": "code",
   "execution_count": 7,
   "metadata": {
    "collapsed": true
   },
   "outputs": [],
   "source": [
    "def separate(data , label , overlap_length):\n",
    "    '''\n",
    "    最长重叠长度为size长 256*3 个数据点\n",
    "    '''\n",
    "    train_data = []\n",
    "    train_labels = []\n",
    "\n",
    "    size = sample_rate * trial_time #一小段 256*3 个数据点\n",
    "    data_length = data.shape[0]\n",
    "\n",
    "    idx = 0\n",
    "    \n",
    "    while idx<=data_length-size:\n",
    "        train_data.append(data[idx : idx+size , :])\n",
    "        train_labels.append(label)\n",
    "\n",
    "        idx = idx + (size - overlap_length)\n",
    "        \n",
    "    return np.array(train_data) , np.array(train_labels)"
   ]
  },
  {
   "cell_type": "code",
   "execution_count": 8,
   "metadata": {
    "collapsed": true
   },
   "outputs": [],
   "source": [
    "def shuffle_t_v(filenames):\n",
    "    # np.random.shuffle(filenames)\n",
    "    \n",
    "    return np.random.choice(filenames , size=10) #20次的计算准确率中 每次随机选择10个样本进行训练测试\n",
    "\n",
    "def combine(freq):    \n",
    "    overlap_length = 2*256 #重叠2秒数据\n",
    "    \n",
    "    #保证随机性 进行置乱\n",
    "    person_0_filenames = shuffle_t_v( os.listdir('base_rf/%s/0/' % freq) )\n",
    "    person_1_filenames = shuffle_t_v( os.listdir('base_rf/%s/1/' % freq) )\n",
    "    person_2_filenames = shuffle_t_v( os.listdir('base_rf/%s/2/' % freq) )\n",
    "    person_3_filenames = shuffle_t_v( os.listdir('base_rf/%s/3/' % freq) )\n",
    "    person_4_filenames = shuffle_t_v( os.listdir('base_rf/%s/4/' % freq) )\n",
    "    person_5_filenames = shuffle_t_v( os.listdir('base_rf/%s/5/' % freq) )\n",
    "    person_6_filenames = shuffle_t_v( os.listdir('base_rf/%s/6/' % freq) )\n",
    "    person_7_filenames = shuffle_t_v( os.listdir('base_rf/%s/7/' % freq) )\n",
    "    person_8_filenames = shuffle_t_v( os.listdir('base_rf/%s/8/' % freq) )\n",
    "\n",
    "    #打开信号文件 并 合并\n",
    "    person_0 = np.concatenate([load_data('base_rf/%s/0/' % freq + filename) for filename in person_0_filenames] , axis = 0)\n",
    "    person_1 = np.concatenate([load_data('base_rf/%s/1/' % freq + filename) for filename in person_1_filenames] , axis = 0)\n",
    "    person_2 = np.concatenate([load_data('base_rf/%s/2/' % freq + filename) for filename in person_2_filenames] , axis = 0)\n",
    "    person_3 = np.concatenate([load_data('base_rf/%s/3/' % freq + filename) for filename in person_3_filenames] , axis = 0)\n",
    "    person_4 = np.concatenate([load_data('base_rf/%s/4/' % freq + filename) for filename in person_4_filenames] , axis = 0)\n",
    "    person_5 = np.concatenate([load_data('base_rf/%s/5/' % freq + filename) for filename in person_5_filenames] , axis = 0)\n",
    "    person_6 = np.concatenate([load_data('base_rf/%s/6/' % freq + filename) for filename in person_6_filenames] , axis = 0)\n",
    "    person_7 = np.concatenate([load_data('base_rf/%s/7/' % freq + filename) for filename in person_7_filenames] , axis = 0)\n",
    "    person_8 = np.concatenate([load_data('base_rf/%s/8/' % freq + filename) for filename in person_8_filenames] , axis = 0)\n",
    "    \n",
    "    #============\n",
    "    #训练数据分段\n",
    "    train_person_data_0 , train_person_labels_0 = separate(person_0 , label = 0 , overlap_length=overlap_length)\n",
    "    train_person_data_1 , train_person_labels_1 = separate(person_1 , label = 1 , overlap_length=overlap_length)\n",
    "    train_person_data_2 , train_person_labels_2 = separate(person_2 , label = 2 , overlap_length=overlap_length)\n",
    "    train_person_data_3 , train_person_labels_3 = separate(person_3 , label = 3 , overlap_length=overlap_length)\n",
    "    train_person_data_4 , train_person_labels_4 = separate(person_4 , label = 4 , overlap_length=overlap_length)\n",
    "    train_person_data_5 , train_person_labels_5 = separate(person_5 , label = 5 , overlap_length=overlap_length)\n",
    "    train_person_data_6 , train_person_labels_6 = separate(person_6 , label = 6 , overlap_length=overlap_length)\n",
    "    train_person_data_7 , train_person_labels_7 = separate(person_7 , label = 7 , overlap_length=overlap_length)\n",
    "    train_person_data_8 , train_person_labels_8 = separate(person_8 , label = 8 , overlap_length=overlap_length)\n",
    "\n",
    "    #合并数据\n",
    "    train_data = np.concatenate((train_person_data_0 , train_person_data_1 , train_person_data_2 ,\n",
    "                                 train_person_data_3 , train_person_data_4 , train_person_data_5 ,\n",
    "                                 train_person_data_6 , train_person_data_7 , train_person_data_8 ,\n",
    "                                 ))\n",
    "    \n",
    "    train_labels = np.concatenate((train_person_labels_0 , train_person_labels_1 , train_person_labels_2 ,\n",
    "                                   train_person_labels_3 , train_person_labels_4 , train_person_labels_5 ,\n",
    "                                   train_person_labels_6 , train_person_labels_7 , train_person_labels_8 ,\n",
    "                                    ))\n",
    "    \n",
    "    #产生索引并置乱\n",
    "    idx_train_data = list(range(train_data.shape[0]))\n",
    "    np.random.shuffle(idx_train_data)\n",
    "\n",
    "    #将训练数据置乱\n",
    "    train_data = train_data[idx_train_data]\n",
    "    train_labels = train_labels[idx_train_data]\n",
    "        \n",
    "    return train_data , train_labels\n"
   ]
  },
  {
   "cell_type": "code",
   "execution_count": 9,
   "metadata": {
    "collapsed": true
   },
   "outputs": [],
   "source": [
    "def session_data_labels(session_id , freq , is_training):\n",
    "    if is_training:\n",
    "        overlap_length = 256*2\n",
    "    else:\n",
    "        overlap_length = 0\n",
    "    \n",
    "    str_freq = str(freq)\n",
    "    \n",
    "    subjcets = os.listdir('incremental/%s/s%d/' % (str_freq , session_id)) #受试者ID\n",
    "    \n",
    "    data = []\n",
    "    labels = []\n",
    "    \n",
    "    for subjcet in subjcets:\n",
    "        filenames = os.listdir('incremental/%s/s%d/%s/' % (str_freq , session_id , subjcet))\n",
    "        \n",
    "        person = np.concatenate([load_data('incremental/%s/s%d/%s/%s' % (str_freq , session_id , subjcet , filename)) for filename in filenames] , axis = 0)\n",
    "        \n",
    "        person_data , person_label = separate( person , label = int(subjcet) , overlap_length = overlap_length)\n",
    "        \n",
    "        data.append(person_data)\n",
    "        labels.append(person_label)\n",
    "    \n",
    "    #合并数据\n",
    "    data = np.concatenate(data)\n",
    "    labels = np.concatenate(labels)\n",
    "    \n",
    "    #shuffle\n",
    "    idx_data = list(range(data.shape[0]))\n",
    "    np.random.shuffle(idx_data)\n",
    "\n",
    "    data = data[idx_data]\n",
    "    labels = labels[idx_data]\n",
    "    \n",
    "    return data , labels\n"
   ]
  },
  {
   "cell_type": "code",
   "execution_count": 10,
   "metadata": {
    "collapsed": true
   },
   "outputs": [],
   "source": [
    "def ar(data):\n",
    "    X = []\n",
    "    \n",
    "    for i in range(8):\n",
    "        X.append( AR(data[: , i]).fit().params.reshape([1 , -1]).squeeze() )\n",
    "        \n",
    "    return np.array(X).reshape([1 , -1]).squeeze()\n",
    "\n",
    "\n",
    "def feature_extraction_ar(data):\n",
    "    X = []\n",
    "    \n",
    "    for datum in data:\n",
    "        X.append( ar(datum) )\n",
    "    \n",
    "    return np.array(X)"
   ]
  },
  {
   "cell_type": "code",
   "execution_count": 11,
   "metadata": {
    "collapsed": true
   },
   "outputs": [],
   "source": [
    "def concat_and_shuffle(orig_X , orig_y , session_id , freq):\n",
    "    session_id_data , session_id_labels = session_data_labels(session_id , freq , is_training=True)\n",
    "    session_id_data = feature_extraction_ar(session_id_data)\n",
    "    # session_id_labels = to_categorical(session_id_labels , num_classes=9)\n",
    "    \n",
    "    orig_X = np.concatenate((orig_X , session_id_data) , axis=0)\n",
    "    orig_y = np.concatenate((orig_y , session_id_labels) , axis=0)\n",
    "    \n",
    "    idx = list(range(orig_X.shape[0]))\n",
    "    np.random.shuffle(idx)\n",
    "    \n",
    "    orig_X = orig_X[idx]\n",
    "    orig_y = orig_y[idx]\n",
    "    \n",
    "    return orig_X , orig_y"
   ]
  },
  {
   "cell_type": "code",
   "execution_count": 12,
   "metadata": {
    "scrolled": false
   },
   "outputs": [
    {
     "name": "stdout",
     "output_type": "stream",
     "text": [
      "6 1 0.5483091787439613\n",
      "6 3 0.785024154589372\n",
      "6 5 0.6690821256038647\n",
      "6 6 0.7777777777777778\n",
      "6 7 0.9565217391304348\n",
      "6 8 0.8091787439613527\n",
      "6 9 0.6473429951690821\n",
      "6 11 0.9830917874396136\n",
      "6 12 0.9009661835748792\n",
      "6 13 0.8647342995169082\n",
      "7.5 1 0.49516908212560384\n",
      "7.5 3 0.8429951690821256\n",
      "7.5 5 0.9565217391304348\n",
      "7.5 6 0.6570048309178744\n",
      "7.5 7 0.7342995169082126\n",
      "7.5 8 0.8115942028985508\n",
      "7.5 9 0.8164251207729468\n",
      "7.5 11 0.8285024154589372\n",
      "7.5 12 0.9975845410628019\n",
      "7.5 13 0.8236714975845411\n",
      "8.5 1 0.7270531400966184\n",
      "8.5 3 0.7246376811594203\n",
      "8.5 5 0.6183574879227053\n",
      "8.5 6 0.7415458937198067\n",
      "8.5 7 0.8285024154589372\n",
      "8.5 8 0.9082125603864735\n",
      "8.5 9 0.8140096618357487\n",
      "8.5 11 0.9033816425120773\n",
      "8.5 12 0.8985507246376812\n",
      "8.5 13 0.8913043478260869\n",
      "10 1 0.4178743961352657\n",
      "10 3 0.7028985507246377\n",
      "10 5 0.8019323671497585\n",
      "10 6 0.5652173913043478\n",
      "10 7 0.6980676328502415\n",
      "10 8 0.9951690821256038\n",
      "10 9 0.8864734299516909\n",
      "10 11 1.0\n",
      "10 12 0.8140096618357487\n",
      "10 13 0.7407407407407407\n"
     ]
    }
   ],
   "source": [
    "for freq in [6 , 7.5 , 8.5 , 10]:\n",
    "    #基分类器使用随机森林\n",
    "    train_X_ , train_y = combine(freq=freq) #6 7.5 8.5 10 hz\n",
    "    train_X = feature_extraction_ar(train_X_) #SBP特征提取\n",
    "    \n",
    "    pca = PCA(n_components=32)\n",
    "    pca.fit(train_X)\n",
    "    train_X_decomp = pca.transform(train_X)\n",
    "    \n",
    "    rf = RandomForestClassifier()\n",
    "    rf.fit(train_X_decomp , train_y)\n",
    "    \n",
    "    for session_id in [1,3,5,6,7,8,9,11,12,13]:\n",
    "        session_N_data , session_N_labels = session_data_labels(session_id , freq , is_training=False)\n",
    "        session_N_data = feature_extraction_ar(session_N_data)\n",
    "        \n",
    "        session_N_data = pca.transform(session_N_data)\n",
    "        \n",
    "        print( freq , session_id , rf.score(session_N_data , session_N_labels) )\n",
    "\n",
    "        #更新模型\n",
    "        train_X , train_y = concat_and_shuffle(train_X , train_y , session_id , freq)\n",
    "        \n",
    "        pca = PCA(n_components=32)\n",
    "        pca.fit(train_X)\n",
    "        train_X_decomp = pca.transform(train_X)\n",
    "        \n",
    "        rf = RandomForestClassifier()\n",
    "        rf.fit(train_X_decomp , train_y)\n",
    "\n",
    "    gc.collect()"
   ]
  },
  {
   "cell_type": "code",
   "execution_count": null,
   "metadata": {
    "collapsed": true
   },
   "outputs": [],
   "source": []
  },
  {
   "cell_type": "code",
   "execution_count": null,
   "metadata": {
    "collapsed": true
   },
   "outputs": [],
   "source": []
  }
 ],
 "metadata": {
  "kernelspec": {
   "display_name": "Python 3",
   "language": "python",
   "name": "python3"
  },
  "language_info": {
   "codemirror_mode": {
    "name": "ipython",
    "version": 3
   },
   "file_extension": ".py",
   "mimetype": "text/x-python",
   "name": "python",
   "nbconvert_exporter": "python",
   "pygments_lexer": "ipython3",
   "version": "3.6.1"
  }
 },
 "nbformat": 4,
 "nbformat_minor": 2
}
