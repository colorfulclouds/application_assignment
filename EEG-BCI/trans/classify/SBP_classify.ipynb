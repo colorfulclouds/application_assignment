{
 "cells": [
  {
   "cell_type": "code",
   "execution_count": 1,
   "metadata": {
    "collapsed": true
   },
   "outputs": [],
   "source": [
    "import gumpy as gp\n",
    "import numpy as np\n",
    "import pywt\n",
    "\n",
    "import seaborn as sns #绘制confusion matrix heatmap\n",
    "\n",
    "import sklearn\n",
    "import os\n",
    "\n",
    "import warnings\n",
    "\n",
    "warnings.simplefilter('ignore') #忽略警告"
   ]
  },
  {
   "cell_type": "code",
   "execution_count": 2,
   "metadata": {
    "collapsed": true
   },
   "outputs": [],
   "source": [
    "import scipy\n",
    "import scipy.io as sio\n",
    "\n",
    "import scipy.signal\n",
    "\n",
    "from scipy import linalg\n",
    "\n",
    "import pandas as pd\n",
    "from sklearn.decomposition import PCA\n",
    "#分类器\n",
    "from sklearn.svm import SVC\n",
    "from sklearn.ensemble import RandomForestClassifier\n",
    "from sklearn.ensemble import AdaBoostClassifier\n",
    "from sklearn.ensemble import GradientBoostingClassifier\n",
    "from sklearn.neighbors import KNeighborsClassifier\n",
    "from sklearn.tree import DecisionTreeClassifier\n",
    "from sklearn.lda import LDA\n",
    "from sklearn.naive_bayes import GaussianNB\n",
    "from sklearn.neural_network import MLPClassifier\n",
    "\n",
    "import xgboost\n",
    "import lightgbm\n",
    "\n",
    "\n",
    "#模型调节\n",
    "from mlxtend.feature_selection import SequentialFeatureSelector #特征选择函数 选择合适的feature\n",
    "\n",
    "#结果可视化\n",
    "from sklearn.metrics import classification_report , confusion_matrix #混淆矩阵\n",
    "\n",
    "#相关指标\n",
    "from sklearn.metrics import f1_score\n",
    "from sklearn.metrics import accuracy_score\n",
    "from sklearn.metrics import recall_score\n",
    "from sklearn.metrics import precision_score\n",
    "\n",
    "from sklearn.metrics import cohen_kappa_score\n",
    "\n",
    "from sklearn.metrics import roc_auc_score\n",
    "\n",
    "#二分类其多分类化\n",
    "#from sklearn.multiclass import OneVsOneClassifier\n",
    "#from sklearn.multiclass import OneVsRestClassifier\n",
    "\n",
    "#from sklearn.preprocessing import StandardScaler\n",
    "#from sklearn.cluster import KMeans\n",
    "\n",
    "#距离函数 度量向量距离\n",
    "from sklearn.metrics.pairwise import manhattan_distances\n",
    "from sklearn.metrics.pairwise import euclidean_distances\n",
    "from sklearn.metrics.pairwise import cosine_distances\n",
    "from sklearn.metrics.pairwise import cosine_similarity #余弦相似度\n",
    "\n",
    "#one-hot使用\n",
    "#from keras.utils import to_categorical\n",
    "\n",
    "from sklearn.preprocessing import label_binarize\n",
    "\n",
    "#绘图\n",
    "import matplotlib.pyplot as plt\n",
    "\n",
    "import scipy.linalg as la\n",
    "\n",
    "import gc\n",
    "\n",
    "%matplotlib inline"
   ]
  },
  {
   "cell_type": "code",
   "execution_count": 3,
   "metadata": {
    "collapsed": true
   },
   "outputs": [],
   "source": [
    "sample_rate = 256 #hz\n",
    "origin_channel = 16 #5 channel eeg\n",
    "\n",
    "#采集的通道\n",
    "#共16 channel\n",
    "#未使用的channel使用none代替\n",
    "#reference:a study on performance increasing in ssvep based bci application\n",
    "SAMPLE_CHANNEL = ['Pz' , 'PO3' , 'PO4' , 'O1' , 'O2' , 'Oz' , 'O9' , 'FP2' ,\n",
    "                  'C4' , 'C6' , 'CP3' , 'CP1' ,\n",
    "                  'CPZ' , 'CP2' , 'CP4' , 'PO8']\n",
    "\n",
    "LABEL2STR = {0:'sen' , 1:'hong' , 2:'zhao',\n",
    "             3:'fen' , 4:'xiao' , 5:'yu' , \n",
    "             6:'bin' , 7:'wang' , 8:'wei' , \n",
    "             9:'fei'}\n",
    "\n",
    "# 减去前多少秒数据 second\n",
    "# 减去后多少秒数据 second\n",
    "CLIP_FORWARD = 1\n",
    "CLIP_BACKWARD = 1\n",
    "\n",
    "# 单个小段的实验时长\n",
    "trial_time = 3 #second\n",
    "\n",
    "trial_offset = 0 #second\n",
    "start_trial_time = 0 #真正的实验开始时刻\n",
    "end_trial_time = 2 #真正的实验结束时刻(<trial_time)\n",
    "\n",
    "#是否进行归一化\n",
    "#reference:a study on performance increasing in ssvep based bci application\n",
    "#IS_NORMALIZE = True\n",
    "\n",
    "#是否进行滤波\n",
    "#IS_FILTER = False\n",
    "#EEG频率范围\n",
    "#reference:a study on performance increasing in ssvep based bci application\n",
    "LO_FREQ = 0.5\n",
    "HI_FREQ = 40\n",
    "\n",
    "#是否陷波\n",
    "#IS_NOTCH = False\n",
    "NOTCH_FREQ = 50 #陷波 工频\n",
    "\n"
   ]
  },
  {
   "cell_type": "markdown",
   "metadata": {},
   "source": [
    "# load data step"
   ]
  },
  {
   "cell_type": "code",
   "execution_count": 4,
   "metadata": {
    "collapsed": true
   },
   "outputs": [],
   "source": [
    "def load_data(filename):\n",
    "    \n",
    "    data = sio.loadmat(file_name=filename)['data_received'] #length*16 matrix\n",
    "    \n",
    "    data = data[CLIP_FORWARD * sample_rate : - CLIP_BACKWARD * sample_rate] #首部 尾部 进行裁剪\n",
    "    \n",
    "    return data"
   ]
  },
  {
   "cell_type": "code",
   "execution_count": 5,
   "metadata": {
    "collapsed": true
   },
   "outputs": [],
   "source": [
    "def separate(data , label , overlap_length = 128):\n",
    "    '''\n",
    "    最长重叠长度为size长 256*3 个数据点\n",
    "    '''\n",
    "    train_data = []\n",
    "    train_labels = []\n",
    "\n",
    "    size = sample_rate * trial_time #一小段 256*3 个数据点\n",
    "    data_length = data.shape[0]\n",
    "\n",
    "    idx = 0\n",
    "\n",
    "    while idx<data_length-size:\n",
    "        train_data.append(data[idx : idx+size , :])\n",
    "        train_labels.append(label)\n",
    "\n",
    "        idx = idx + (size - overlap_length)\n",
    "\n",
    "    return np.array(train_data) , np.array(train_labels)"
   ]
  },
  {
   "cell_type": "code",
   "execution_count": 6,
   "metadata": {
    "collapsed": true
   },
   "outputs": [],
   "source": [
    "def train_val(data , ratio = 0.9):\n",
    "    '''\n",
    "    将数据分为 训练集 和 验证集\n",
    "    '''\n",
    "    \n",
    "    seg = int(ratio * data.shape[0])\n",
    "    \n",
    "    return data[ : seg] , data[seg : ]\n",
    "\n",
    "def shuffle_t_v(filenames):\n",
    "    np.random.shuffle(filenames)\n",
    "    \n",
    "    return filenames\n",
    "\n",
    "def combine(freq = 10):\n",
    "    '''\n",
    "    训练数据与验证数据\n",
    "    :freq: 指定闪烁的频率\n",
    "    \n",
    "    '''\n",
    "    \n",
    "    if freq not in [10 , 15 , 20 , 25]:\n",
    "        print('freq must in 10,15,20,25')\n",
    "        return \n",
    "    \n",
    "    ratio = 0.9 #训练集的占比\n",
    "    overlap_length = 2*256 #重叠2秒数据\n",
    "    \n",
    "    #保证随机性 进行置乱\n",
    "    person_0_filenames = shuffle_t_v( os.listdir('circle/0/%s/' % freq) )\n",
    "    person_1_filenames = shuffle_t_v( os.listdir('circle/1/%s/' % freq) )\n",
    "    person_2_filenames = shuffle_t_v( os.listdir('circle/2/%s/' % freq) )\n",
    "    person_3_filenames = shuffle_t_v( os.listdir('circle/3/%s/' % freq) )\n",
    "    person_4_filenames = shuffle_t_v( os.listdir('circle/4/%s/' % freq) )\n",
    "    person_5_filenames = shuffle_t_v( os.listdir('circle/5/%s/' % freq) )\n",
    "    person_6_filenames = shuffle_t_v( os.listdir('circle/6/%s/' % freq) )\n",
    "    person_7_filenames = shuffle_t_v( os.listdir('circle/7/%s/' % freq) )\n",
    "    person_8_filenames = shuffle_t_v( os.listdir('circle/8/%s/' % freq) )\n",
    "    person_9_filenames = shuffle_t_v( os.listdir('circle/9/%s/' % freq) )\n",
    "\n",
    "    #打开信号文件 并 合并\n",
    "    person_0 = np.concatenate([load_data('circle/0/%s/' % freq + filename) for filename in person_0_filenames] , axis = 0)\n",
    "    person_1 = np.concatenate([load_data('circle/1/%s/' % freq + filename) for filename in person_1_filenames] , axis = 0)\n",
    "    person_2 = np.concatenate([load_data('circle/2/%s/' % freq + filename) for filename in person_2_filenames] , axis = 0)\n",
    "    person_3 = np.concatenate([load_data('circle/3/%s/' % freq + filename) for filename in person_3_filenames] , axis = 0)\n",
    "    person_4 = np.concatenate([load_data('circle/4/%s/' % freq + filename) for filename in person_4_filenames] , axis = 0)\n",
    "    person_5 = np.concatenate([load_data('circle/5/%s/' % freq + filename) for filename in person_5_filenames] , axis = 0)\n",
    "    person_6 = np.concatenate([load_data('circle/6/%s/' % freq + filename) for filename in person_6_filenames] , axis = 0)\n",
    "    person_7 = np.concatenate([load_data('circle/7/%s/' % freq + filename) for filename in person_7_filenames] , axis = 0)\n",
    "    person_8 = np.concatenate([load_data('circle/8/%s/' % freq + filename) for filename in person_8_filenames] , axis = 0)\n",
    "    person_9 = np.concatenate([load_data('circle/9/%s/' % freq + filename) for filename in person_9_filenames] , axis = 0)\n",
    "    \n",
    "    person_0_train , person_0_val = train_val(person_0)\n",
    "    person_1_train , person_1_val = train_val(person_1)\n",
    "    person_2_train , person_2_val = train_val(person_2)\n",
    "    person_3_train , person_3_val = train_val(person_3)\n",
    "    person_4_train , person_4_val = train_val(person_4)\n",
    "    person_5_train , person_5_val = train_val(person_5)\n",
    "    person_6_train , person_6_val = train_val(person_6)\n",
    "    person_7_train , person_7_val = train_val(person_7)\n",
    "    person_8_train , person_8_val = train_val(person_8)\n",
    "    person_9_train , person_9_val = train_val(person_9)\n",
    "    \n",
    "    #数据分段阶段\n",
    "    \n",
    "    #============\n",
    "    #训练数据分段\n",
    "    train_person_data_0 , train_person_labels_0 = separate(person_0_train , label = 0 , overlap_length=overlap_length)\n",
    "    train_person_data_1 , train_person_labels_1 = separate(person_1_train , label = 1 , overlap_length=overlap_length)\n",
    "    train_person_data_2 , train_person_labels_2 = separate(person_2_train , label = 2 , overlap_length=overlap_length)\n",
    "    train_person_data_3 , train_person_labels_3 = separate(person_3_train , label = 3 , overlap_length=overlap_length)\n",
    "    train_person_data_4 , train_person_labels_4 = separate(person_4_train , label = 4 , overlap_length=overlap_length)\n",
    "    train_person_data_5 , train_person_labels_5 = separate(person_5_train , label = 5 , overlap_length=overlap_length)\n",
    "    train_person_data_6 , train_person_labels_6 = separate(person_6_train , label = 6 , overlap_length=overlap_length)\n",
    "    train_person_data_7 , train_person_labels_7 = separate(person_7_train , label = 7 , overlap_length=overlap_length)\n",
    "    train_person_data_8 , train_person_labels_8 = separate(person_8_train , label = 8 , overlap_length=overlap_length)\n",
    "    train_person_data_9 , train_person_labels_9 = separate(person_9_train , label = 9 , overlap_length=overlap_length)\n",
    "\n",
    "    #合并数据\n",
    "    train_data = np.concatenate((train_person_data_0 , train_person_data_1 , train_person_data_2 ,\n",
    "                                 train_person_data_3 , train_person_data_4 , train_person_data_5 ,\n",
    "                                 train_person_data_6 , train_person_data_7 , train_person_data_8 ,\n",
    "                                 train_person_data_9 ))\n",
    "    \n",
    "    train_labels = np.concatenate((train_person_labels_0 , train_person_labels_1 , train_person_labels_2 ,\n",
    "                                   train_person_labels_3 , train_person_labels_4 , train_person_labels_5 ,\n",
    "                                   train_person_labels_6 , train_person_labels_7 , train_person_labels_8 ,\n",
    "                                   train_person_labels_9 ))\n",
    "    \n",
    "    #产生索引并置乱\n",
    "    idx_train_data = list(range(train_data.shape[0]))\n",
    "    np.random.shuffle(idx_train_data)\n",
    "\n",
    "    #将训练数据置乱\n",
    "    train_data = train_data[idx_train_data]\n",
    "    train_labels = train_labels[idx_train_data]\n",
    "    \n",
    "    #============\n",
    "    #验证数据分段\n",
    "    val_person_data_0 , val_person_labels_0 = separate(person_0_val , label = 0 , overlap_length=0)\n",
    "    val_person_data_1 , val_person_labels_1 = separate(person_1_val , label = 1 , overlap_length=0)\n",
    "    val_person_data_2 , val_person_labels_2 = separate(person_2_val , label = 2 , overlap_length=0)\n",
    "    val_person_data_3 , val_person_labels_3 = separate(person_3_val , label = 3 , overlap_length=0)\n",
    "    val_person_data_4 , val_person_labels_4 = separate(person_4_val , label = 4 , overlap_length=0)\n",
    "    val_person_data_5 , val_person_labels_5 = separate(person_5_val , label = 5 , overlap_length=0)\n",
    "    val_person_data_6 , val_person_labels_6 = separate(person_6_val , label = 6 , overlap_length=0)\n",
    "    val_person_data_7 , val_person_labels_7 = separate(person_7_val , label = 7 , overlap_length=0)\n",
    "    val_person_data_8 , val_person_labels_8 = separate(person_8_val , label = 8 , overlap_length=0)\n",
    "    val_person_data_9 , val_person_labels_9 = separate(person_9_val , label = 9 , overlap_length=0)\n",
    "    \n",
    "    #合并数据\n",
    "    val_data = np.concatenate((val_person_data_0 , val_person_data_1 , val_person_data_2 ,\n",
    "                               val_person_data_3 , val_person_data_4 , val_person_data_5 ,\n",
    "                               val_person_data_6 , val_person_data_7 , val_person_data_8 ,\n",
    "                               val_person_data_9 ))\n",
    "    \n",
    "    val_labels = np.concatenate((val_person_labels_0 , val_person_labels_1 , val_person_labels_2 ,\n",
    "                                 val_person_labels_3 , val_person_labels_4 , val_person_labels_5 ,\n",
    "                                 val_person_labels_6 , val_person_labels_7 , val_person_labels_8 ,\n",
    "                                 val_person_labels_9 ))\n",
    "    \n",
    "    #产生索引并置乱\n",
    "    idx_val_data = list(range(val_data.shape[0]))\n",
    "    np.random.shuffle(idx_val_data)\n",
    "\n",
    "    #将训练数据置乱\n",
    "    val_data = val_data[idx_val_data]\n",
    "    val_labels = val_labels[idx_val_data]\n",
    "    \n",
    "    return train_data , train_labels , val_data , val_labels\n",
    "\n",
    "def shuffle(data , labels):\n",
    "    idx_data = list(range(data.shape[0]))\n",
    "    np.random.shuffle(idx_data)\n",
    "\n",
    "    data = data[idx_data]\n",
    "    labels = labels[idx_data]\n",
    "    \n",
    "    return data , labels"
   ]
  },
  {
   "cell_type": "code",
   "execution_count": 7,
   "metadata": {
    "collapsed": true
   },
   "outputs": [],
   "source": [
    "train_X_ , train_y , val_X_ , val_y = combine(freq = 10) #10 15 20 25 hz"
   ]
  },
  {
   "cell_type": "code",
   "execution_count": 8,
   "metadata": {},
   "outputs": [
    {
     "name": "stdout",
     "output_type": "stream",
     "text": [
      "(1590, 768, 16) (1590,) (50, 768, 16) (50,)\n"
     ]
    }
   ],
   "source": [
    "print(train_X_.shape , train_y.shape , val_X_.shape , val_y.shape)"
   ]
  },
  {
   "cell_type": "code",
   "execution_count": 9,
   "metadata": {
    "collapsed": true
   },
   "outputs": [],
   "source": [
    "def butter_worth(data , lowcut , highcut , order=6):\n",
    "    nyq = 0.5 * sample_rate\n",
    "    \n",
    "    lo = lowcut / nyq\n",
    "    hi = highcut / nyq\n",
    "    \n",
    "    b,a = scipy.signal.butter(order , [lo , hi] , btype='bandpass')\n",
    "\n",
    "    return np.array([scipy.signal.filtfilt(b , a , data[: , i]) for i in range(data.shape[1])]).reshape((-1 , origin_channel))\n",
    "\n",
    "def alpha_subBP_features(data):\n",
    "    alpha1 = butter_worth(data , 8.5 , 11.5)\n",
    "    alpha2 = butter_worth(data , 9.0 , 12.5)    \n",
    "    alpha3 = butter_worth(data , 9.5 , 13.5)   #11.5 后\n",
    "    alpha4 = butter_worth(data , 8.0 , 10.5)   \n",
    "    \n",
    "    return np.array([alpha1 , alpha2 , alpha3 , alpha4])\n",
    "\n",
    "def beta_subBP_features(data):\n",
    "    beta1 = butter_worth(data , 15.0 , 30.0) #14.0 前\n",
    "    beta2 = butter_worth(data , 16.0 , 17.0)    \n",
    "    beta3 = butter_worth(data , 17.0 , 18.0)    \n",
    "    beta4 = butter_worth(data , 18.0 , 19.0)    \n",
    "    \n",
    "    return np.array([beta1 , beta2 , beta3 , beta4])\n",
    "\n",
    "def powermean(data):\n",
    "    #官方demo跳4秒 前4秒为准备阶段\n",
    "    return np.power(data[ : , 0] , 2).mean(), \\\n",
    "            np.power(data[ : , 1] , 2).mean(), \\\n",
    "            np.power(data[ : , 2] , 2).mean(), \\\n",
    "            np.power(data[ : , 3] , 2).mean(), \\\n",
    "            np.power(data[ : , 4] , 2).mean(), \\\n",
    "            np.power(data[ : , 5] , 2).mean(), \\\n",
    "            np.power(data[ : , 6] , 2).mean(), \\\n",
    "            np.power(data[ : , 7] , 2).mean(), \\\n",
    "            np.power(data[ : , 8] , 2).mean(), \\\n",
    "            np.power(data[ : , 9] , 2).mean(), \\\n",
    "            np.power(data[ : , 10] , 2).mean(), \\\n",
    "            np.power(data[ : , 11] , 2).mean(), \\\n",
    "            np.power(data[ : , 12] , 2).mean(), \\\n",
    "            np.power(data[ : , 13] , 2).mean(), \\\n",
    "            np.power(data[ : , 14] , 2).mean(), \\\n",
    "            np.power(data[ : , 15] , 2).mean()       \n",
    "            \n",
    "def log_subBP_feature_extraction(alpha , beta):\n",
    "    #alpha\n",
    "    power_1_a = powermean(alpha[0])\n",
    "    power_2_a = powermean(alpha[1])\n",
    "    power_3_a = powermean(alpha[2])\n",
    "    power_4_a = powermean(alpha[3])\n",
    "    \n",
    "    #beta\n",
    "    power_1_b = powermean(beta[0])\n",
    "    power_2_b = powermean(beta[1])\n",
    "    power_3_b = powermean(beta[2])\n",
    "    power_4_b = powermean(beta[3])\n",
    "    \n",
    "    X= np.array(\n",
    "        [np.log(power_1_a) ,\n",
    "         np.log(power_2_a) ,\n",
    "         np.log(power_3_a) ,\n",
    "         np.log(power_4_a) ,\n",
    "         np.log(power_1_b) ,\n",
    "         np.log(power_2_b) ,\n",
    "         np.log(power_3_b) ,\n",
    "         np.log(power_4_b)\n",
    "        ]\n",
    "        ).flatten()\n",
    "\n",
    "    return X\n",
    "\n",
    "\n",
    "def feature_extraction_sub_band_power(data):\n",
    "    n_features = 128\n",
    "    X = np.zeros((data.shape[0] , n_features))\n",
    "    \n",
    "    for i , datum in enumerate(data):\n",
    "        alpha = alpha_subBP_features(datum)\n",
    "        beta = beta_subBP_features(datum)\n",
    "            \n",
    "        X[i, :] = log_subBP_feature_extraction(alpha , beta)\n",
    "\n",
    "    return X"
   ]
  },
  {
   "cell_type": "code",
   "execution_count": null,
   "metadata": {
    "collapsed": true
   },
   "outputs": [],
   "source": []
  },
  {
   "cell_type": "code",
   "execution_count": 14,
   "metadata": {
    "collapsed": true
   },
   "outputs": [],
   "source": [
    "def con_mat(_feature , _labels , model):\n",
    "    '''\n",
    "    打印训练结果\n",
    "    '''\n",
    "    \n",
    "    print('val score:%f' % model.score(_feature , _labels))\n",
    "    print('real')\n",
    "    \n",
    "    print(confusion_matrix( _labels , model.predict(_feature) ))\n",
    "    print(classification_report( _labels , model.predict(_feature) ))\n",
    "\n",
    "def con_mat_heatmap(_feature , _labels , model , color , png_path):\n",
    "    \n",
    "    _labels_hat = model.predict(_feature)\n",
    "    \n",
    "    mat = confusion_matrix( _labels , _labels_hat )\n",
    "    \n",
    "    sns.heatmap(mat.T, square=True, annot=True, fmt='d', cbar=False , cmap=color )#,\n",
    "            #xticklabels=faces.target_names,\n",
    "            #yticklabels=faces.target_names)\n",
    "    \n",
    "    precision = precision_score(_labels , _labels_hat , average='macro')\n",
    "    recall = recall_score(_labels , _labels_hat , average='macro')\n",
    "    f1 = f1_score(_labels , _labels_hat , average='macro')\n",
    "    \n",
    "    plt.xlabel('precision:%.2f recall:%.2f f1:%.2f' % (precision , recall , f1) )\n",
    "    # plt.ylabel('predicted label');\n",
    "    plt.savefig(png_path) #保存起来\n",
    "    plt.close()\n",
    "\n",
    "def feature_selection(data , labels , model , num_features , cv=10):\n",
    "    '''\n",
    "    :model: classify model\n",
    "    :num_features: features count you expect(integer or tuple)\n",
    "    '''\n",
    "    \n",
    "    '''[8 20]'''\n",
    "    \n",
    "    sfs = SequentialFeatureSelector(model , k_features=num_features , cv=cv , verbose = 2 , n_jobs=-1) #all cpu cores\n",
    "    \n",
    "    sfs.fit(data , labels)\n",
    "    \n",
    "    #最优秀的特征索引\n",
    "    return sfs.k_feature_idx_\n",
    "\n",
    "\n",
    "def choose_common_feature_idx(data , labels , classifiers , use_ratio = 0.25 , num_features = 10 , num_features_threshold = 8):\n",
    "    '''\n",
    "    sub_band_power使用该函数 进行筛选特征\n",
    "    :use_ratio: 0.25 ~= 360/1500\n",
    "    :num_features:integer or tuple 期望的特征数量（待选择的数量）\n",
    "    :min_num_features: 特征数量阈值 小于时 停止选择\n",
    "    选择适合所有分类器的特征索引值\n",
    "    集合 与 运算\n",
    "    '''\n",
    "    \n",
    "    #将特征选择需要使用的数据 0.25 进行置乱\n",
    "    idxes_ratio = np.random.randint(0 , data.shape[0] , size = int(use_ratio * data.shape[0]) )\n",
    "    \n",
    "    \n",
    "    data_shuffle = data #[idxes_ratio]\n",
    "    labels_shuffle = labels #[idxes_ratio]\n",
    "    \n",
    "    feature_idxes = set(list(range(data.shape[1]))) #初始化为所有的特征索引值\n",
    "    \n",
    "    #============\n",
    "    random_idxes = np.random.randint(0 , data.shape[1] , size = 25)\n",
    "    \n",
    "    data_shuffle = data_shuffle[: , random_idxes]\n",
    "    labels_shuffle = labels_shuffle #保持完整性\n",
    "    #============\n",
    "    \n",
    "    for classifier in classifiers:\n",
    "        \n",
    "        idx = feature_selection(data_shuffle , labels_shuffle , classifier , num_features)\n",
    "        idx = set(idx)\n",
    "        \n",
    "        #寻找共同的特征索引\n",
    "        #寻找之前先测试 如果小于阈值 直接停止\n",
    "        if len(feature_idxes & idx) < num_features_threshold:\n",
    "            break\n",
    "            \n",
    "        feature_idxes = feature_idxes & idx\n",
    "        \n",
    "        break\n",
    "        \n",
    "    return np.array(list(feature_idxes))\n",
    "\n",
    "#新增函数 计算f1分数\n",
    "def f1_score_(_feature , _labels , model):\n",
    "    \n",
    "    _labels_hat = model.predict(_feature)\n",
    "    \n",
    "    accu = accuracy_score(_labels , _labels_hat )\n",
    "    precision = precision_score(_labels , _labels_hat , average='macro')\n",
    "    recall = recall_score(_labels , _labels_hat , average='macro')\n",
    "    f1 = f1_score(_labels , _labels_hat , average='macro')\n",
    "    kappa = cohen_kappa_score(_labels , _labels_hat)\n",
    "    \n",
    "    return accu , precision, recall , f1 , kappa\n",
    "\n",
    "def roc_auc(real_label , score):\n",
    "    return roc_auc_score( label_binarize(real_label , classes=[0,1,2,3,4,5,6,7,8,9]) , score , average='micro')\n",
    "\n",
    "def itrr(acc , N=10):\n",
    "    return np.log2(N) + acc*np.log2(acc) + (1-acc)*np.log2((1-acc)/(N-1))"
   ]
  },
  {
   "cell_type": "code",
   "execution_count": 13,
   "metadata": {
    "collapsed": true
   },
   "outputs": [],
   "source": [
    "train_X = feature_extraction_sub_band_power(train_X_)\n",
    "val_X = feature_extraction_sub_band_power(val_X_)"
   ]
  },
  {
   "cell_type": "code",
   "execution_count": 14,
   "metadata": {},
   "outputs": [
    {
     "name": "stdout",
     "output_type": "stream",
     "text": [
      "(1590, 128) (1590,) (50, 128) (50,)\n"
     ]
    }
   ],
   "source": [
    "print(train_X.shape , train_y.shape , val_X.shape , val_y.shape)"
   ]
  },
  {
   "cell_type": "code",
   "execution_count": null,
   "metadata": {
    "collapsed": true
   },
   "outputs": [],
   "source": []
  },
  {
   "cell_type": "code",
   "execution_count": 16,
   "metadata": {
    "collapsed": true
   },
   "outputs": [],
   "source": []
  },
  {
   "cell_type": "code",
   "execution_count": 19,
   "metadata": {},
   "outputs": [
    {
     "data": {
      "text/plain": [
       "0.82"
      ]
     },
     "execution_count": 19,
     "metadata": {},
     "output_type": "execute_result"
    }
   ],
   "source": [
    "rf = RandomForestClassifier()\n",
    "rf.fit(train_X , train_y)\n",
    "rf.score(val_X , val_y)"
   ]
  },
  {
   "cell_type": "code",
   "execution_count": null,
   "metadata": {
    "collapsed": true
   },
   "outputs": [],
   "source": []
  },
  {
   "cell_type": "code",
   "execution_count": 20,
   "metadata": {},
   "outputs": [
    {
     "data": {
      "text/plain": [
       "0.76"
      ]
     },
     "execution_count": 20,
     "metadata": {},
     "output_type": "execute_result"
    }
   ],
   "source": [
    "knn = KNeighborsClassifier()\n",
    "knn.fit(train_X , train_y)\n",
    "knn.score(val_X , val_y)"
   ]
  },
  {
   "cell_type": "code",
   "execution_count": null,
   "metadata": {
    "collapsed": true
   },
   "outputs": [],
   "source": []
  },
  {
   "cell_type": "code",
   "execution_count": 22,
   "metadata": {},
   "outputs": [
    {
     "data": {
      "text/plain": [
       "0.54"
      ]
     },
     "execution_count": 22,
     "metadata": {},
     "output_type": "execute_result"
    }
   ],
   "source": [
    "gnb = GaussianNB()\n",
    "gnb.fit(train_X , train_y)\n",
    "gnb.score(val_X , val_y)"
   ]
  },
  {
   "cell_type": "code",
   "execution_count": null,
   "metadata": {
    "collapsed": true
   },
   "outputs": [],
   "source": []
  },
  {
   "cell_type": "code",
   "execution_count": 23,
   "metadata": {},
   "outputs": [
    {
     "data": {
      "text/plain": [
       "0.9"
      ]
     },
     "execution_count": 23,
     "metadata": {},
     "output_type": "execute_result"
    }
   ],
   "source": [
    "lgbm = lightgbm.LGBMClassifier()\n",
    "lgbm.fit(train_X , train_y)\n",
    "lgbm.score(val_X , val_y)"
   ]
  },
  {
   "cell_type": "code",
   "execution_count": 24,
   "metadata": {},
   "outputs": [
    {
     "data": {
      "text/plain": [
       "0.88"
      ]
     },
     "execution_count": 24,
     "metadata": {},
     "output_type": "execute_result"
    }
   ],
   "source": [
    "xgb = xgboost.XGBClassifier()\n",
    "xgb.fit(train_X , train_y)\n",
    "xgb.score(val_X , val_y)"
   ]
  },
  {
   "cell_type": "code",
   "execution_count": 25,
   "metadata": {},
   "outputs": [
    {
     "data": {
      "text/plain": [
       "0.9"
      ]
     },
     "execution_count": 25,
     "metadata": {},
     "output_type": "execute_result"
    }
   ],
   "source": [
    "gbc = GradientBoostingClassifier()\n",
    "gbc.fit(train_X , train_y)\n",
    "gbc.score(val_X , val_y)"
   ]
  },
  {
   "cell_type": "code",
   "execution_count": 26,
   "metadata": {},
   "outputs": [
    {
     "data": {
      "text/plain": [
       "0.8"
      ]
     },
     "execution_count": 26,
     "metadata": {},
     "output_type": "execute_result"
    }
   ],
   "source": [
    "svc = SVC(probability=True)\n",
    "svc.fit(train_X , train_y)\n",
    "svc.score(val_X , val_y)"
   ]
  },
  {
   "cell_type": "code",
   "execution_count": null,
   "metadata": {
    "collapsed": true
   },
   "outputs": [],
   "source": []
  },
  {
   "cell_type": "code",
   "execution_count": null,
   "metadata": {
    "collapsed": true
   },
   "outputs": [],
   "source": []
  },
  {
   "cell_type": "code",
   "execution_count": 89,
   "metadata": {
    "collapsed": true
   },
   "outputs": [],
   "source": [
    "#初始化所有分类器\n",
    "lgbm = lightgbm.LGBMClassifier()\n",
    "xgb = xgboost.XGBClassifier()\n",
    "gbc = GradientBoostingClassifier()\n",
    "rf =  RandomForestClassifier()\n",
    "\n",
    "#svc = SVC(probability=True)\n",
    "#adaboost = AdaBoostClassifier()\n",
    "#knn = KNeighborsClassifier()\n",
    "#dt = DecisionTreeClassifier()\n",
    "#lda = LDA()\n",
    "#nb = GaussianNB()\n",
    "#mlp = MLPClassifier()\n",
    "\n",
    "#基分类器\n",
    "classifiers = [lgbm , rf]\n",
    "\n",
    "#基分类器\n",
    "estimators = [('lightgbm' , lgbm) , ('xgboost' , xgb) ,  ('gradientboosting' , gbc) ,\n",
    "                             ('randomforest' , rf) ]\n",
    "\n",
    "\n",
    "#下面的顺序按照三篇论文与经验得出\n",
    "#voting = VotingClassifier(estimators = estimators ,\n",
    "#                voting='soft' , n_jobs=-1)"
   ]
  },
  {
   "cell_type": "code",
   "execution_count": 18,
   "metadata": {},
   "outputs": [
    {
     "ename": "NameError",
     "evalue": "name 'itr' is not defined",
     "output_type": "error",
     "traceback": [
      "\u001b[1;31m---------------------------------------------------------------------------\u001b[0m",
      "\u001b[1;31mNameError\u001b[0m                                 Traceback (most recent call last)",
      "\u001b[1;32m<ipython-input-18-29f5c724328d>\u001b[0m in \u001b[0;36m<module>\u001b[1;34m()\u001b[0m\n\u001b[0;32m     15\u001b[0m \u001b[1;33m\u001b[0m\u001b[0m\n\u001b[0;32m     16\u001b[0m \u001b[1;33m\u001b[0m\u001b[0m\n\u001b[1;32m---> 17\u001b[1;33m \u001b[0mprint\u001b[0m\u001b[1;33m(\u001b[0m\u001b[1;34m'[%.6f %.6f %.6f %.6f]'\u001b[0m \u001b[1;33m%\u001b[0m \u001b[1;33m(\u001b[0m\u001b[0macc\u001b[0m \u001b[1;33m,\u001b[0m \u001b[0mkap\u001b[0m \u001b[1;33m,\u001b[0m \u001b[0mauc\u001b[0m \u001b[1;33m,\u001b[0m \u001b[0mitr\u001b[0m\u001b[1;33m)\u001b[0m \u001b[1;33m)\u001b[0m\u001b[1;33m\u001b[0m\u001b[0m\n\u001b[0m",
      "\u001b[1;31mNameError\u001b[0m: name 'itr' is not defined"
     ]
    }
   ],
   "source": [
    "voting = SVC(probability=True)\n",
    "\n",
    "train_X_ , train_y , val_X_ , val_y = combine(freq=10)\n",
    "\n",
    "#提取特征\n",
    "train_X = feature_extraction_sub_band_power(train_X_)\n",
    "val_X = feature_extraction_sub_band_power(val_X_)\n",
    "\n",
    "voting.fit(train_X , train_y)\n",
    "\n",
    "acc , pre, rec , f1s , kap = f1_score_(val_X , val_y , voting)\n",
    "\n",
    "auc = roc_auc(val_y , voting.predict_proba(val_X))\n",
    "\n",
    "\n",
    "\n",
    "print('[%.6f %.6f %.6f %.6f]' % (acc , kap , auc ) )"
   ]
  },
  {
   "cell_type": "code",
   "execution_count": 19,
   "metadata": {},
   "outputs": [
    {
     "name": "stdout",
     "output_type": "stream",
     "text": [
      "0.72 0.6911507936507937 0.72 0.681078921078921\n"
     ]
    }
   ],
   "source": [
    "print(acc , pre , rec , f1s)"
   ]
  },
  {
   "cell_type": "code",
   "execution_count": 91,
   "metadata": {
    "scrolled": true
   },
   "outputs": [
    {
     "name": "stdout",
     "output_type": "stream",
     "text": [
      "[0.880000 0.866667 0.980578 2.412176]\n",
      "[0.740000 0.711111 0.979156 1.671001]\n",
      "[0.820000 0.800000 0.973111 2.071265]\n",
      "[0.880000 0.866667 0.988578 2.412176]\n",
      "[0.820000 0.800000 0.991956 2.071265]\n",
      "[0.800000 0.777778 0.980711 1.966015]\n",
      "[0.840000 0.822222 0.992356 2.180431]\n",
      "[0.780000 0.755556 0.959867 1.864377]\n",
      "[0.840000 0.822222 0.988489 2.180431]\n",
      "[0.800000 0.777778 0.980044 1.966015]\n",
      "[10 0] 0.880000 0.740000 0.820000 0.001680 0.866667 0.711111 0.800000 0.002074 0.992356 0.959867 0.981484 0.000087 2.412176 1.671001 2.079515 0.048076\n",
      "[0.780000 0.755556 0.935711 1.864377]\n",
      "[0.740000 0.711111 0.975422 1.671001]\n",
      "[0.820000 0.800000 0.984844 2.071265]\n",
      "[0.820000 0.800000 0.985000 2.071265]\n",
      "[0.700000 0.666667 0.922378 1.489660]\n",
      "[0.760000 0.733333 0.933556 1.766106]\n",
      "[0.720000 0.688889 0.930133 1.578898]\n",
      "[0.780000 0.755556 0.975044 1.864377]\n",
      "[0.800000 0.777778 0.978578 1.966015]\n",
      "[0.740000 0.711111 0.914156 1.671001]\n",
      "[10 1] 0.820000 0.700000 0.766000 0.001524 0.800000 0.666667 0.740000 0.001881 0.985000 0.914156 0.953482 0.000733 2.071265 1.489660 1.801396 0.036263\n",
      "[0.920000 0.911111 0.996667 2.666155]\n",
      "[0.880000 0.866667 0.991911 2.412176]\n",
      "[0.920000 0.911111 0.994978 2.666155]\n",
      "[0.800000 0.777778 0.990667 1.966015]\n",
      "[0.860000 0.844444 0.991556 2.293900]\n",
      "[0.820000 0.800000 0.991689 2.071265]\n",
      "[0.860000 0.844444 0.995111 2.293900]\n",
      "[0.880000 0.866667 0.995156 2.412176]\n",
      "[0.740000 0.711111 0.983111 1.671001]\n",
      "[0.920000 0.911111 0.996800 2.666155]\n",
      "[15 0] 0.920000 0.740000 0.860000 0.003120 0.911111 0.711111 0.844444 0.003852 0.996800 0.983111 0.992764 0.000015 2.666155 1.671001 2.311890 0.098554\n",
      "[0.860000 0.844444 0.981244 2.293900]\n",
      "[0.840000 0.822222 0.979689 2.180431]\n",
      "[0.860000 0.844444 0.993044 2.293900]\n",
      "[0.860000 0.844444 0.983844 2.293900]\n",
      "[0.880000 0.866667 0.993956 2.412176]\n",
      "[0.840000 0.822222 0.992244 2.180431]\n",
      "[0.820000 0.800000 0.985889 2.071265]\n",
      "[0.840000 0.822222 0.982289 2.180431]\n",
      "[0.920000 0.911111 0.996111 2.666155]\n",
      "[0.760000 0.733333 0.955556 1.766106]\n",
      "[15 1] 0.920000 0.760000 0.848000 0.001536 0.911111 0.733333 0.831111 0.001896 0.996111 0.955556 0.984387 0.000124 2.666155 1.766106 2.233869 0.048329\n",
      "[0.900000 0.888889 0.987111 2.535940]\n",
      "[0.940000 0.933333 0.997644 2.804288]\n",
      "[0.920000 0.911111 0.996489 2.666155]\n",
      "[0.880000 0.866667 0.995867 2.412176]\n",
      "[0.880000 0.866667 0.994533 2.412176]\n",
      "[0.940000 0.933333 0.998622 2.804288]\n",
      "[0.760000 0.733333 0.966800 1.766106]\n",
      "[0.900000 0.888889 0.997644 2.535940]\n",
      "[0.820000 0.800000 0.971156 2.071265]\n",
      "[0.720000 0.688889 0.969111 1.578898]\n",
      "[20 0] 0.940000 0.720000 0.866000 0.005124 0.933333 0.688889 0.851111 0.006326 0.998622 0.966800 0.987498 0.000156 2.804288 1.578898 2.358723 0.160205\n",
      "[0.760000 0.733333 0.976956 1.766106]\n",
      "[0.840000 0.822222 0.981800 2.180431]\n",
      "[0.820000 0.800000 0.980044 2.071265]\n",
      "[0.920000 0.911111 0.996667 2.666155]\n",
      "[0.740000 0.711111 0.986622 1.671001]\n",
      "[0.860000 0.844444 0.995244 2.293900]\n",
      "[0.800000 0.777778 0.989089 1.966015]\n",
      "[0.820000 0.800000 0.981200 2.071265]\n",
      "[0.740000 0.711111 0.953000 1.671001]\n",
      "[0.720000 0.688889 0.975333 1.578898]\n",
      "[20 1] 0.920000 0.720000 0.802000 0.003556 0.911111 0.688889 0.780000 0.004390 0.996667 0.953000 0.981596 0.000138 2.666155 1.578898 1.993604 0.102211\n",
      "[0.780000 0.755556 0.979689 1.864377]\n",
      "[0.880000 0.866667 0.995689 2.412176]\n",
      "[0.840000 0.822222 0.984844 2.180431]\n",
      "[0.880000 0.866667 0.992978 2.412176]\n",
      "[0.920000 0.911111 0.988800 2.666155]\n",
      "[0.840000 0.822222 0.979422 2.180431]\n",
      "[0.800000 0.777778 0.983378 1.966015]\n",
      "[0.920000 0.911111 0.998267 2.666155]\n",
      "[0.840000 0.822222 0.991333 2.180431]\n",
      "[0.840000 0.822222 0.986133 2.180431]\n",
      "[25 0] 0.920000 0.780000 0.854000 0.001924 0.911111 0.755556 0.837778 0.002375 0.998267 0.979422 0.988053 0.000038 2.666155 1.864377 2.270878 0.064333\n",
      "[0.800000 0.777778 0.967422 1.966015]\n",
      "[0.760000 0.733333 0.970867 1.766106]\n",
      "[0.760000 0.733333 0.977067 1.766106]\n",
      "[0.880000 0.866667 0.992689 2.412176]\n",
      "[0.880000 0.866667 0.996800 2.412176]\n",
      "[0.860000 0.844444 0.983778 2.293900]\n",
      "[0.840000 0.822222 0.957533 2.180431]\n",
      "[0.900000 0.888889 0.995822 2.535940]\n",
      "[0.760000 0.733333 0.982933 1.766106]\n",
      "[0.840000 0.822222 0.992689 2.180431]\n",
      "[25 1] 0.900000 0.760000 0.828000 0.002656 0.888889 0.733333 0.808889 0.003279 0.996800 0.957533 0.981760 0.000160 2.535940 1.766106 2.127939 0.078009\n"
     ]
    }
   ],
   "source": [
    "for freq in [10 , 15 , 20 , 25]:\n",
    "    #for iter_classifier in iter_classifiers:\n",
    "        #estimators.append(iter_classifier)\n",
    "    \n",
    "    for (i , classifier) in enumerate(classifiers):\n",
    "        acc_s = []\n",
    "        pre_s = []\n",
    "        rec_s = []\n",
    "        f1s_s = []\n",
    "        kap_s = []\n",
    "        \n",
    "        auc_s = []\n",
    "        \n",
    "        itr_s = []\n",
    "                \n",
    "\n",
    "        for t in range(10): #循环20次 取平均值 作为最终结果\n",
    "            voting = classifier\n",
    "\n",
    "            train_X_ , train_y , val_X_ , val_y = combine(freq=freq)\n",
    "\n",
    "            #提取特征\n",
    "            train_X = feature_extraction_sub_band_power(train_X_)\n",
    "            val_X = feature_extraction_sub_band_power(val_X_)\n",
    "            \n",
    "            voting.fit(train_X , train_y)\n",
    "\n",
    "            acc , pre, rec , f1s , kap = f1_score_(val_X , val_y , voting)\n",
    "            \n",
    "            auc = roc_auc(val_y , voting.predict_proba(val_X))\n",
    "            \n",
    "            itr = itrr(acc)\n",
    "            \n",
    "            acc_s.append(acc)\n",
    "            #pre_s.append(pre)\n",
    "            #rec_s.append(rec)\n",
    "            #f1s_s.append(f1s)\n",
    "            kap_s.append(kap)\n",
    "            auc_s.append(auc)\n",
    "            itr_s.append(itr)\n",
    "            \n",
    "            print('[%.6f %.6f %.6f %.6f]' % (acc , kap , auc , itr) )\n",
    "            \n",
    "        print('[%d %d] %.6f %.6f %.6f %.6f %.6f %.6f %.6f %.6f %.6f %.6f %.6f %.6f %.6f %.6f %.6f %.6f' % (freq , i , np.max(acc_s) , np.min(acc_s) , np.mean(acc_s) , np.var(acc_s) , np.max(kap_s) , np.min(kap_s) , np.mean(kap_s) , np.var(kap_s) ,np.max(auc_s) , np.min(auc_s) , np.mean(auc_s) , np.var(auc_s) ,np.max(itr_s) , np.min(itr_s) , np.mean(itr_s) , np.var(itr_s)) )"
   ]
  },
  {
   "cell_type": "code",
   "execution_count": null,
   "metadata": {
    "collapsed": true
   },
   "outputs": [],
   "source": []
  },
  {
   "cell_type": "code",
   "execution_count": null,
   "metadata": {
    "collapsed": true
   },
   "outputs": [],
   "source": []
  },
  {
   "cell_type": "code",
   "execution_count": 92,
   "metadata": {},
   "outputs": [
    {
     "name": "stdout",
     "output_type": "stream",
     "text": [
      "[0.820000 0.800000 0.989289 2.071265]\n",
      "[0.840000 0.822222 0.992889 2.180431]\n",
      "[0.820000 0.800000 0.989244 2.071265]\n",
      "[0.840000 0.822222 0.990711 2.180431]\n",
      "[0.820000 0.800000 0.985067 2.071265]\n",
      "[0.840000 0.822222 0.990622 2.180431]\n",
      "[0.860000 0.844444 0.985289 2.293900]\n",
      "[0.840000 0.822222 0.992756 2.180431]\n",
      "[0.880000 0.866667 0.990800 2.412176]\n",
      "[0.780000 0.755556 0.976267 1.864377]\n",
      "10 0.880000 0.780000 0.834000 0.000644 0.866667 0.755556 0.815556 0.000795 0.992889 0.976267 0.988293 0.000022 2.412176 1.864377 2.150597 0.019332\n",
      "[1.000000 1.000000 1.000000 nan]\n",
      "[0.900000 0.888889 0.996133 2.535940]\n",
      "[0.900000 0.888889 0.995556 2.535940]\n",
      "[0.920000 0.911111 0.995911 2.666155]\n",
      "[0.920000 0.911111 0.994800 2.666155]\n",
      "[0.940000 0.933333 0.996533 2.804288]\n",
      "[0.840000 0.822222 0.988889 2.180431]\n",
      "[0.900000 0.888889 0.997511 2.535940]\n",
      "[0.840000 0.822222 0.988178 2.180431]\n",
      "[0.900000 0.888889 0.993467 2.535940]\n",
      "15 1.000000 0.840000 0.906000 0.001924 1.000000 0.822222 0.895556 0.002375 1.000000 0.988178 0.994698 0.000012 nan nan nan nan\n",
      "[0.880000 0.866667 0.994933 2.412176]\n",
      "[0.880000 0.866667 0.992844 2.412176]\n",
      "[0.840000 0.822222 0.980133 2.180431]\n",
      "[0.920000 0.911111 0.994889 2.666155]\n",
      "[0.820000 0.800000 0.991156 2.071265]\n",
      "[0.800000 0.777778 0.988089 1.966015]\n",
      "[0.820000 0.800000 0.991111 2.071265]\n",
      "[0.920000 0.911111 0.993822 2.666155]\n",
      "[0.780000 0.755556 0.986889 1.864377]\n",
      "[0.840000 0.822222 0.993689 2.180431]\n",
      "20 0.920000 0.780000 0.850000 0.002100 0.911111 0.755556 0.833333 0.002593 0.994933 0.980133 0.990756 0.000019 2.666155 1.864377 2.249044 0.070189\n",
      "[0.780000 0.755556 0.987244 1.864377]\n",
      "[0.840000 0.822222 0.993911 2.180431]\n",
      "[0.780000 0.755556 0.987467 1.864377]\n",
      "[0.900000 0.888889 0.998400 2.535940]\n",
      "[0.820000 0.800000 0.995244 2.071265]\n",
      "[0.880000 0.866667 0.994844 2.412176]\n",
      "[0.900000 0.888889 0.996489 2.535940]\n",
      "[0.780000 0.755556 0.982756 1.864377]\n",
      "[0.840000 0.822222 0.995022 2.180431]\n",
      "[0.860000 0.844444 0.994400 2.293900]\n",
      "25 0.900000 0.780000 0.838000 0.002036 0.888889 0.755556 0.820000 0.002514 0.998400 0.982756 0.992578 0.000022 2.535940 1.864377 2.180321 0.063094\n"
     ]
    }
   ],
   "source": [
    "for freq in [10 , 15 , 20 , 25]:\n",
    "    #for iter_classifier in iter_classifiers:\n",
    "        #estimators.append(iter_classifier)\n",
    "    \n",
    "    acc_s = []\n",
    "    pre_s = []\n",
    "    rec_s = []\n",
    "    f1s_s = []\n",
    "    kap_s = []\n",
    "\n",
    "    auc_s = []\n",
    "\n",
    "    itr_s = []\n",
    "\n",
    "\n",
    "    for t in range(10): #循环20次 取平均值 作为最终结果\n",
    "        voting = VotingClassifier(estimators=estimators , voting='soft' , n_jobs=-1)\n",
    "\n",
    "        train_X_ , train_y , val_X_ , val_y = combine(freq=freq)\n",
    "\n",
    "        #提取特征\n",
    "        train_X = feature_extraction_sub_band_power(train_X_)\n",
    "        val_X = feature_extraction_sub_band_power(val_X_)\n",
    "\n",
    "        voting.fit(train_X , train_y)\n",
    "\n",
    "        acc , pre, rec , f1s , kap = f1_score_(val_X , val_y , voting)\n",
    "\n",
    "        auc = roc_auc(val_y , voting.predict_proba(val_X))\n",
    "\n",
    "        itr = itrr(acc)\n",
    "\n",
    "        acc_s.append(acc)\n",
    "        #pre_s.append(pre)\n",
    "        #rec_s.append(rec)\n",
    "        #f1s_s.append(f1s)\n",
    "        kap_s.append(kap)\n",
    "        auc_s.append(auc)\n",
    "        itr_s.append(itr)\n",
    "\n",
    "        print('[%.6f %.6f %.6f %.6f]' % (acc , kap , auc , itr) )\n",
    "\n",
    "    print('%d %.6f %.6f %.6f %.6f %.6f %.6f %.6f %.6f %.6f %.6f %.6f %.6f %.6f %.6f %.6f %.6f' % (freq , np.max(acc_s) , np.min(acc_s) , np.mean(acc_s) , np.var(acc_s) , np.max(kap_s) , np.min(kap_s) , np.mean(kap_s) , np.var(kap_s) ,np.max(auc_s) , np.min(auc_s) , np.mean(auc_s) , np.var(auc_s) ,np.max(itr_s) , np.min(itr_s) , np.mean(itr_s) , np.var(itr_s)) )"
   ]
  },
  {
   "cell_type": "code",
   "execution_count": 93,
   "metadata": {},
   "outputs": [
    {
     "name": "stdout",
     "output_type": "stream",
     "text": [
      "[0.860000 0.844444 0.974178 2.293900]\n",
      "[0.760000 0.733333 0.987022 1.766106]\n",
      "[0.780000 0.755556 0.984933 1.864377]\n",
      "[0.760000 0.733333 0.961378 1.766106]\n",
      "[0.880000 0.866667 0.992933 2.412176]\n",
      "[0.780000 0.755556 0.987244 1.864377]\n",
      "[0.880000 0.866667 0.980800 2.412176]\n",
      "[0.820000 0.800000 0.990933 2.071265]\n",
      "[0.780000 0.755556 0.974222 1.864377]\n",
      "[0.800000 0.777778 0.974267 1.966015]\n",
      "10 0.880000 0.760000 0.810000 0.002020 0.866667 0.733333 0.788889 0.002494 0.992933 0.961378 0.980791 0.000085 2.412176 1.766106 2.028087 0.058909\n",
      "[0.920000 0.911111 0.998667 2.666155]\n",
      "[0.960000 0.955556 0.993956 2.952839]\n",
      "[0.880000 0.866667 0.990178 2.412176]\n",
      "[0.880000 0.866667 0.990133 2.412176]\n",
      "[0.900000 0.888889 0.997022 2.535940]\n",
      "[0.840000 0.822222 0.993600 2.180431]\n",
      "[0.900000 0.888889 0.991111 2.535940]\n",
      "[0.960000 0.955556 0.996978 2.952839]\n",
      "[0.820000 0.800000 0.984044 2.071265]\n",
      "[0.960000 0.955556 0.998667 2.952839]\n",
      "15 0.960000 0.820000 0.902000 0.002196 0.955556 0.800000 0.891111 0.002711 0.998667 0.984044 0.993436 0.000020 2.952839 2.071265 2.567260 0.090151\n",
      "[0.860000 0.844444 0.992400 2.293900]\n",
      "[0.880000 0.866667 0.997422 2.412176]\n",
      "[0.860000 0.844444 0.988711 2.293900]\n",
      "[0.820000 0.800000 0.992711 2.071265]\n",
      "[0.900000 0.888889 0.997511 2.535940]\n",
      "[0.840000 0.822222 0.993378 2.180431]\n",
      "[0.840000 0.822222 0.990489 2.180431]\n",
      "[0.860000 0.844444 0.991289 2.293900]\n",
      "[0.820000 0.800000 0.993467 2.071265]\n",
      "[0.840000 0.822222 0.993244 2.180431]\n",
      "20 0.900000 0.820000 0.852000 0.000576 0.888889 0.800000 0.835556 0.000711 0.997511 0.988711 0.993062 0.000007 2.535940 2.071265 2.251364 0.019224\n",
      "[0.800000 0.777778 0.981156 1.966015]\n",
      "[0.800000 0.777778 0.988978 1.966015]\n",
      "[0.740000 0.711111 0.977378 1.671001]\n",
      "[0.820000 0.800000 0.992178 2.071265]\n",
      "[0.780000 0.755556 0.977111 1.864377]\n",
      "[0.920000 0.911111 0.998311 2.666155]\n",
      "[0.920000 0.911111 0.994800 2.666155]\n",
      "[0.860000 0.844444 0.994444 2.293900]\n",
      "[0.880000 0.866667 0.996978 2.412176]\n",
      "[0.800000 0.777778 0.983556 1.966015]\n",
      "25 0.920000 0.740000 0.832000 0.003296 0.911111 0.711111 0.813333 0.004069 0.998311 0.977111 0.988489 0.000059 2.666155 1.671001 2.154307 0.104086\n"
     ]
    }
   ],
   "source": [
    "for freq in [10 , 15 , 20 , 25]:\n",
    "    #for iter_classifier in iter_classifiers:\n",
    "        #estimators.append(iter_classifier)\n",
    "    \n",
    "    acc_s = []\n",
    "    pre_s = []\n",
    "    rec_s = []\n",
    "    f1s_s = []\n",
    "    kap_s = []\n",
    "\n",
    "    auc_s = []\n",
    "\n",
    "    itr_s = []\n",
    "\n",
    "\n",
    "    for t in range(10): #循环20次 取平均值 作为最终结果\n",
    "        voting = BaggingClassifier(base_estimator=lgbm)\n",
    "\n",
    "        train_X_ , train_y , val_X_ , val_y = combine(freq=freq)\n",
    "\n",
    "        #提取特征\n",
    "        train_X = feature_extraction_sub_band_power(train_X_)\n",
    "        val_X = feature_extraction_sub_band_power(val_X_)\n",
    "\n",
    "        voting.fit(train_X , train_y)\n",
    "\n",
    "        acc , pre, rec , f1s , kap = f1_score_(val_X , val_y , voting)\n",
    "\n",
    "        auc = roc_auc(val_y , voting.predict_proba(val_X))\n",
    "\n",
    "        itr = itrr(acc)\n",
    "\n",
    "        acc_s.append(acc)\n",
    "        #pre_s.append(pre)\n",
    "        #rec_s.append(rec)\n",
    "        #f1s_s.append(f1s)\n",
    "        kap_s.append(kap)\n",
    "        auc_s.append(auc)\n",
    "        itr_s.append(itr)\n",
    "\n",
    "        print('[%.6f %.6f %.6f %.6f]' % (acc , kap , auc , itr) )\n",
    "\n",
    "    print('%d %.6f %.6f %.6f %.6f %.6f %.6f %.6f %.6f %.6f %.6f %.6f %.6f %.6f %.6f %.6f %.6f' % (freq , np.max(acc_s) , np.min(acc_s) , np.mean(acc_s) , np.var(acc_s) , np.max(kap_s) , np.min(kap_s) , np.mean(kap_s) , np.var(kap_s) ,np.max(auc_s) , np.min(auc_s) , np.mean(auc_s) , np.var(auc_s) ,np.max(itr_s) , np.min(itr_s) , np.mean(itr_s) , np.var(itr_s)) )"
   ]
  },
  {
   "cell_type": "code",
   "execution_count": 94,
   "metadata": {},
   "outputs": [
    {
     "name": "stdout",
     "output_type": "stream",
     "text": [
      "[0.880000 0.866667 0.894044 2.412176]\n",
      "[0.740000 0.711111 0.811778 1.671001]\n",
      "[0.800000 0.777778 0.909822 1.966015]\n",
      "[0.660000 0.622222 0.866578 1.319335]\n",
      "[0.860000 0.844444 0.951200 2.293900]\n",
      "[0.780000 0.755556 0.902289 1.864377]\n",
      "[0.920000 0.911111 0.944933 2.666155]\n",
      "[0.780000 0.755556 0.897111 1.864377]\n",
      "[0.660000 0.622222 0.826289 1.319335]\n",
      "[0.820000 0.800000 0.879711 2.071265]\n",
      "10 0.920000 0.660000 0.790000 0.006740 0.911111 0.622222 0.766667 0.008321 0.951200 0.811778 0.888376 0.001818 2.666155 1.319335 1.944794 0.174742\n",
      "[0.820000 0.800000 0.911867 2.071265]\n",
      "[0.840000 0.822222 0.929000 2.180431]\n",
      "[0.920000 0.911111 0.969822 2.666155]\n",
      "[0.840000 0.822222 0.925467 2.180431]\n",
      "[0.880000 0.866667 0.921867 2.412176]\n",
      "[0.800000 0.777778 0.892444 1.966015]\n",
      "[0.920000 0.911111 0.943467 2.666155]\n",
      "[0.840000 0.822222 0.921467 2.180431]\n",
      "[0.840000 0.822222 0.927333 2.180431]\n",
      "[0.880000 0.866667 0.920978 2.412176]\n",
      "15 0.920000 0.800000 0.858000 0.001476 0.911111 0.777778 0.842222 0.001822 0.969822 0.892444 0.926371 0.000362 2.666155 1.966015 2.291566 0.051365\n",
      "[0.780000 0.755556 0.875000 1.864377]\n",
      "[0.780000 0.755556 0.919556 1.864377]\n",
      "[0.800000 0.777778 0.854711 1.966015]\n",
      "[0.780000 0.755556 0.893778 1.864377]\n",
      "[0.780000 0.755556 0.892333 1.864377]\n",
      "[0.860000 0.844444 0.950778 2.293900]\n",
      "[0.780000 0.755556 0.884267 1.864377]\n",
      "[0.800000 0.777778 0.892244 1.966015]\n",
      "[0.720000 0.688889 0.851756 1.578898]\n",
      "[0.860000 0.844444 0.948578 2.293900]\n",
      "20 0.860000 0.720000 0.794000 0.001524 0.844444 0.688889 0.771111 0.001881 0.950778 0.851756 0.896300 0.001059 2.293900 1.578898 1.942061 0.041079\n",
      "[0.780000 0.755556 0.913822 1.864377]\n",
      "[0.820000 0.800000 0.914844 2.071265]\n",
      "[0.800000 0.777778 0.905711 1.966015]\n",
      "[0.880000 0.866667 0.957444 2.412176]\n",
      "[0.820000 0.800000 0.910867 2.071265]\n",
      "[0.820000 0.800000 0.918933 2.071265]\n",
      "[0.960000 0.955556 0.982111 2.952839]\n",
      "[0.880000 0.866667 0.939667 2.412176]\n",
      "[0.760000 0.733333 0.917289 1.766106]\n",
      "[0.800000 0.777778 0.901733 1.966015]\n",
      "25 0.960000 0.760000 0.832000 0.003136 0.955556 0.733333 0.813333 0.003872 0.982111 0.901733 0.926242 0.000595 2.952839 1.766106 2.155350 0.109699\n"
     ]
    }
   ],
   "source": [
    "for freq in [10 , 15 , 20 , 25]:\n",
    "    #for iter_classifier in iter_classifiers:\n",
    "        #estimators.append(iter_classifier)\n",
    "    \n",
    "    acc_s = []\n",
    "    pre_s = []\n",
    "    rec_s = []\n",
    "    f1s_s = []\n",
    "    kap_s = []\n",
    "\n",
    "    auc_s = []\n",
    "\n",
    "    itr_s = []\n",
    "\n",
    "\n",
    "    for t in range(10): #循环20次 取平均值 作为最终结果\n",
    "        voting = StackingClassifier(classifiers=[xgb , gbc , rf] , meta_classifier=lgbm)\n",
    "\n",
    "        train_X_ , train_y , val_X_ , val_y = combine(freq=freq)\n",
    "\n",
    "        #提取特征\n",
    "        train_X = feature_extraction_sub_band_power(train_X_)\n",
    "        val_X = feature_extraction_sub_band_power(val_X_)\n",
    "        # pca = PCA()\n",
    "    \n",
    "        \n",
    "        voting.fit(train_X , train_y)\n",
    "\n",
    "        acc , pre, rec , f1s , kap = f1_score_(val_X , val_y , voting)\n",
    "\n",
    "        auc = roc_auc(val_y , voting.predict_proba(val_X))\n",
    "\n",
    "        itr = itrr(acc)\n",
    "\n",
    "        acc_s.append(acc)\n",
    "        #pre_s.append(pre)\n",
    "        #rec_s.append(rec)\n",
    "        #f1s_s.append(f1s)\n",
    "        kap_s.append(kap)\n",
    "        auc_s.append(auc)\n",
    "        itr_s.append(itr)\n",
    "\n",
    "        print('[%.6f %.6f %.6f %.6f]' % (acc , kap , auc , itr) )\n",
    "\n",
    "    print('%d %.6f %.6f %.6f %.6f %.6f %.6f %.6f %.6f %.6f %.6f %.6f %.6f %.6f %.6f %.6f %.6f' % (freq , np.max(acc_s) , np.min(acc_s) , np.mean(acc_s) , np.var(acc_s) , np.max(kap_s) , np.min(kap_s) , np.mean(kap_s) , np.var(kap_s) ,np.max(auc_s) , np.min(auc_s) , np.mean(auc_s) , np.var(auc_s) ,np.max(itr_s) , np.min(itr_s) , np.mean(itr_s) , np.var(itr_s)) )"
   ]
  },
  {
   "cell_type": "code",
   "execution_count": null,
   "metadata": {
    "collapsed": true
   },
   "outputs": [],
   "source": []
  },
  {
   "cell_type": "code",
   "execution_count": null,
   "metadata": {
    "collapsed": true
   },
   "outputs": [],
   "source": []
  },
  {
   "cell_type": "code",
   "execution_count": null,
   "metadata": {
    "collapsed": true
   },
   "outputs": [],
   "source": []
  },
  {
   "cell_type": "code",
   "execution_count": null,
   "metadata": {
    "collapsed": true
   },
   "outputs": [],
   "source": []
  },
  {
   "cell_type": "code",
   "execution_count": null,
   "metadata": {
    "collapsed": true,
    "scrolled": true
   },
   "outputs": [],
   "source": [
    "'''\n",
    "for freq in [20]:\n",
    "    for t in range(20): #每种频率随机测试 20 次\n",
    "        #读取数据\n",
    "        train_X_ , train_y , val_X_ , val_y = combine(freq=freq) #10 15 20 25 hz\n",
    "\n",
    "        #提取特征\n",
    "        train_X = feature_extraction_sub_band_power(train_X_)\n",
    "        val_X = feature_extraction_sub_band_power(val_X_)\n",
    "\n",
    "        #初始化所有分类器\n",
    "        svc = SVC(probability=True)\n",
    "        rf =  RandomForestClassifier()\n",
    "        adaboost = AdaBoostClassifier()\n",
    "        xgb = xgboost.XGBClassifier()\n",
    "        lgbm = lightgbm.LGBMClassifier()\n",
    "        gbc = GradientBoostingClassifier()\n",
    "        knn = KNeighborsClassifier()\n",
    "        dt = DecisionTreeClassifier()\n",
    "        lda = LDA()\n",
    "        nb = GaussianNB()\n",
    "        mlp = MLPClassifier()\n",
    "\n",
    "        classifiers = [xgb , lgbm , gbc , rf , svc , dt , lda , adaboost , mlp , nb , knn ]\n",
    "\n",
    "        voting = VotingClassifier(estimators=[('xgboost' , xgb) , ('lightgbm' , lgbm) , ('gradientboosting' , gbc) ,\n",
    "                                 ('randomforest' , rf) , ('svm' , svc) , ('decisiontree' , dt) , ('lda' , lda) ,\n",
    "                                 ('adaboost' , adaboost) , ('mlp' , mlp) , ('naive bayes' , nb) , ('kneighbors' , knn)] ,\n",
    "                    voting='soft' , n_jobs=-1)\n",
    "\n",
    "        #特征选择\n",
    "        chosen_idx = choose_common_feature_idx(train_X , train_y , classifiers=classifiers , use_ratio=0.25)\n",
    "\n",
    "        #chosen_idx=np.array(list(range(train_X.shape[1])))\n",
    "\n",
    "        train_X_chosen = train_X[: , chosen_idx]    \n",
    "\n",
    "        voting.fit(train_X_chosen , train_y)    \n",
    "        \n",
    "        val_X_chosen = val_X[: , chosen_idx]\n",
    "\n",
    "        con_mat_heatmap(val_X_chosen , val_y , voting , color=None ,\n",
    "                        #png_path = 'v1_paper_pic/sub-band power/有特征选择/%shz/%s.png' % (freq , t+1) )\n",
    "                        png_path = 'c://Users/qq122/Desktop/v1_paper_pic/sub-band power/有特征选择/%shz/%s.png' % (freq , t+1) )\n",
    "                        '''"
   ]
  },
  {
   "cell_type": "code",
   "execution_count": null,
   "metadata": {
    "collapsed": true
   },
   "outputs": [],
   "source": []
  }
 ],
 "metadata": {
  "kernelspec": {
   "display_name": "Python 3",
   "language": "python",
   "name": "python3"
  },
  "language_info": {
   "codemirror_mode": {
    "name": "ipython",
    "version": 3
   },
   "file_extension": ".py",
   "mimetype": "text/x-python",
   "name": "python",
   "nbconvert_exporter": "python",
   "pygments_lexer": "ipython3",
   "version": "3.6.1"
  }
 },
 "nbformat": 4,
 "nbformat_minor": 2
}
