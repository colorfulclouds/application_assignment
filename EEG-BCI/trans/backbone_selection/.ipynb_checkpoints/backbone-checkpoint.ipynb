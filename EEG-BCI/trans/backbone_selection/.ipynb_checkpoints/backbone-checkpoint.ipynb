{
 "cells": [
  {
   "cell_type": "code",
   "execution_count": 1,
   "metadata": {
    "collapsed": true
   },
   "outputs": [],
   "source": [
    "import gumpy as gp\n",
    "import numpy as np\n",
    "import pywt\n",
    "\n",
    "import seaborn as sns #绘制confusion matrix heatmap\n",
    "\n",
    "import sklearn\n",
    "import os\n",
    "\n",
    "\n",
    "import warnings\n",
    "import time\n",
    "warnings.simplefilter('ignore') #忽略警告"
   ]
  },
  {
   "cell_type": "code",
   "execution_count": 2,
   "metadata": {
    "collapsed": true
   },
   "outputs": [],
   "source": [
    "import scipy\n",
    "import scipy.io as sio\n",
    "\n",
    "import scipy.signal\n",
    "\n",
    "from scipy import linalg\n",
    "\n",
    "import pandas as pd\n",
    "\n",
    "from sklearn.decomposition import PCA\n",
    "from sklearn.discriminant_analysis import LinearDiscriminantAnalysis\n",
    "from sklearn.manifold import TSNE\n",
    "#分类器\n",
    "from sklearn.svm import SVC\n",
    "from sklearn.ensemble import RandomForestClassifier\n",
    "from sklearn.ensemble import AdaBoostClassifier\n",
    "from sklearn.ensemble import GradientBoostingClassifier\n",
    "from sklearn.neighbors import KNeighborsClassifier\n",
    "from sklearn.tree import DecisionTreeClassifier\n",
    "from sklearn.lda import LDA\n",
    "from sklearn.naive_bayes import GaussianNB\n",
    "from sklearn.neural_network import MLPClassifier\n",
    "\n",
    "import xgboost\n",
    "import lightgbm\n",
    "\n",
    "\n",
    "#模型调节\n",
    "from mlxtend.feature_selection import SequentialFeatureSelector #特征选择函数 选择合适的feature\n",
    "\n",
    "#结果可视化\n",
    "from sklearn.metrics import classification_report , confusion_matrix #混淆矩阵\n",
    "\n",
    "#相关指标\n",
    "from sklearn.metrics import f1_score\n",
    "from sklearn.metrics import accuracy_score\n",
    "from sklearn.metrics import recall_score\n",
    "from sklearn.metrics import precision_score\n",
    "\n",
    "from sklearn.metrics import cohen_kappa_score\n",
    "\n",
    "from sklearn.metrics import roc_auc_score\n",
    "\n",
    "#二分类其多分类化\n",
    "#from sklearn.multiclass import OneVsOneClassifier\n",
    "#from sklearn.multiclass import OneVsRestClassifier\n",
    "\n",
    "#from sklearn.preprocessing import StandardScaler\n",
    "#from sklearn.cluster import KMeans\n",
    "\n",
    "#距离函数 度量向量距离\n",
    "from sklearn.metrics.pairwise import manhattan_distances\n",
    "from sklearn.metrics.pairwise import euclidean_distances\n",
    "from sklearn.metrics.pairwise import cosine_distances\n",
    "from sklearn.metrics.pairwise import cosine_similarity #余弦相似度\n",
    "\n",
    "#one-hot使用\n",
    "#from keras.utils import to_categorical\n",
    "\n",
    "from sklearn.preprocessing import label_binarize\n",
    "\n",
    "#绘图\n",
    "import matplotlib.pyplot as plt\n",
    "\n",
    "import scipy.linalg as la\n",
    "\n",
    "import gc\n",
    "\n",
    "%matplotlib inline"
   ]
  },
  {
   "cell_type": "code",
   "execution_count": 3,
   "metadata": {
    "collapsed": true
   },
   "outputs": [],
   "source": [
    "from statsmodels.tsa.ar_model import AR #自回归模型\n",
    "from python_speech_features import mfcc as pmfcc"
   ]
  },
  {
   "cell_type": "code",
   "execution_count": 4,
   "metadata": {
    "collapsed": true
   },
   "outputs": [],
   "source": [
    "sample_rate = 256 #hz\n",
    "origin_channel = 16 #5 channel eeg\n",
    "\n",
    "#采集的通道\n",
    "#共16 channel\n",
    "#未使用的channel使用none代替\n",
    "#reference:a study on performance increasing in ssvep based bci application\n",
    "SAMPLE_CHANNEL = ['Pz' , 'PO3' , 'PO4' , 'O1' , 'O2' , 'Oz' , 'O9' , 'FP2' ,\n",
    "                  'C4' , 'C6' , 'CP3' , 'CP1' ,\n",
    "                  'CPZ' , 'CP2' , 'CP4' , 'PO8']\n",
    "\n",
    "LABEL2STR = {0:'sen' , 1:'hong' , 2:'zhao',\n",
    "             3:'fen' , 4:'xiao' , 5:'yu' , \n",
    "             6:'bin' , 7:'wang' , 8:'wei' , \n",
    "             9:'fei'}\n",
    "\n",
    "# 减去前多少秒数据 second\n",
    "# 减去后多少秒数据 second\n",
    "CLIP_FORWARD = 1\n",
    "CLIP_BACKWARD = 1\n",
    "\n",
    "# 单个小段的实验时长\n",
    "trial_time = 3 #second\n",
    "\n",
    "trial_offset = 0 #second\n",
    "start_trial_time = 0 #真正的实验开始时刻\n",
    "end_trial_time = 2 #真正的实验结束时刻(<trial_time)\n",
    "\n",
    "#是否进行归一化\n",
    "#reference:a study on performance increasing in ssvep based bci application\n",
    "#IS_NORMALIZE = True\n",
    "\n",
    "#是否进行滤波\n",
    "#IS_FILTER = False\n",
    "#EEG频率范围\n",
    "#reference:a study on performance increasing in ssvep based bci application\n",
    "LO_FREQ = 0.5\n",
    "HI_FREQ = 40\n",
    "\n",
    "#是否陷波\n",
    "#IS_NOTCH = False\n",
    "NOTCH_FREQ = 50 #陷波 工频\n",
    "\n"
   ]
  },
  {
   "cell_type": "code",
   "execution_count": 5,
   "metadata": {
    "collapsed": true
   },
   "outputs": [],
   "source": [
    "def load_data(filename):\n",
    "    \n",
    "    data = sio.loadmat(file_name=filename)['data_received'] #length*16 matrix\n",
    "    \n",
    "    data = data[CLIP_FORWARD * sample_rate : - CLIP_BACKWARD * sample_rate] #首部 尾部 进行裁剪\n",
    "    \n",
    "    return data"
   ]
  },
  {
   "cell_type": "code",
   "execution_count": 6,
   "metadata": {
    "collapsed": true
   },
   "outputs": [],
   "source": [
    "def separate(data , label , overlap_length = 128):\n",
    "    '''\n",
    "    最长重叠长度为size长 256*3 个数据点\n",
    "    '''\n",
    "    train_data = []\n",
    "    train_labels = []\n",
    "\n",
    "    size = sample_rate * trial_time #一小段 256*3 个数据点\n",
    "    data_length = data.shape[0]\n",
    "\n",
    "    idx = 0\n",
    "\n",
    "    while idx<data_length-size:\n",
    "        train_data.append(data[idx : idx+size , :])\n",
    "        train_labels.append(label)\n",
    "\n",
    "        idx = idx + (size - overlap_length)\n",
    "\n",
    "    return np.array(train_data) , np.array(train_labels)"
   ]
  },
  {
   "cell_type": "code",
   "execution_count": 7,
   "metadata": {
    "collapsed": true
   },
   "outputs": [],
   "source": [
    "def train_val(data , ratio = 0.9):\n",
    "    '''\n",
    "    将数据分为 训练集 和 验证集\n",
    "    '''\n",
    "    \n",
    "    seg = int(ratio * data.shape[0])\n",
    "    \n",
    "    return data[ : seg] , data[seg : ]\n",
    "\n",
    "def shuffle_t_v(filenames):\n",
    "    # np.random.shuffle(filenames)\n",
    "    \n",
    "    return np.random.choice(filenames , size=10) #20次的计算准确率中 每次随机选择10个样本进行训练测试\n",
    "\n",
    "def combine(freq):\n",
    "    '''\n",
    "    训练数据与验证数据\n",
    "    :freq: 指定闪烁的频率\n",
    "    \n",
    "    '''\n",
    "    \n",
    "    if freq not in [6 , 7.5 , 8.5 , 10]:\n",
    "        print('freq must in {6,7.5,8.5,10}')\n",
    "        return \n",
    "    \n",
    "    ratio = 0.9 #训练集的占比\n",
    "    overlap_length = 2*256 #重叠2秒数据\n",
    "    \n",
    "    #保证随机性 进行置乱\n",
    "    person_0_filenames = shuffle_t_v( os.listdir('circle/0/%s/' % freq) )\n",
    "    person_1_filenames = shuffle_t_v( os.listdir('circle/1/%s/' % freq) )\n",
    "    person_2_filenames = shuffle_t_v( os.listdir('circle/2/%s/' % freq) )\n",
    "    person_3_filenames = shuffle_t_v( os.listdir('circle/3/%s/' % freq) )\n",
    "    person_4_filenames = shuffle_t_v( os.listdir('circle/4/%s/' % freq) )\n",
    "    person_5_filenames = shuffle_t_v( os.listdir('circle/5/%s/' % freq) )\n",
    "    person_6_filenames = shuffle_t_v( os.listdir('circle/6/%s/' % freq) )\n",
    "    person_7_filenames = shuffle_t_v( os.listdir('circle/7/%s/' % freq) )\n",
    "    person_8_filenames = shuffle_t_v( os.listdir('circle/8/%s/' % freq) )\n",
    "\n",
    "    #打开信号文件 并 合并\n",
    "    person_0 = np.concatenate([load_data('circle/0/%s/' % freq + filename) for filename in person_0_filenames] , axis = 0)\n",
    "    person_1 = np.concatenate([load_data('circle/1/%s/' % freq + filename) for filename in person_1_filenames] , axis = 0)\n",
    "    person_2 = np.concatenate([load_data('circle/2/%s/' % freq + filename) for filename in person_2_filenames] , axis = 0)\n",
    "    person_3 = np.concatenate([load_data('circle/3/%s/' % freq + filename) for filename in person_3_filenames] , axis = 0)\n",
    "    person_4 = np.concatenate([load_data('circle/4/%s/' % freq + filename) for filename in person_4_filenames] , axis = 0)\n",
    "    person_5 = np.concatenate([load_data('circle/5/%s/' % freq + filename) for filename in person_5_filenames] , axis = 0)\n",
    "    person_6 = np.concatenate([load_data('circle/6/%s/' % freq + filename) for filename in person_6_filenames] , axis = 0)\n",
    "    person_7 = np.concatenate([load_data('circle/7/%s/' % freq + filename) for filename in person_7_filenames] , axis = 0)\n",
    "    person_8 = np.concatenate([load_data('circle/8/%s/' % freq + filename) for filename in person_8_filenames] , axis = 0)\n",
    "    \n",
    "    person_0_train , person_0_val = train_val(person_0)\n",
    "    person_1_train , person_1_val = train_val(person_1)\n",
    "    person_2_train , person_2_val = train_val(person_2)\n",
    "    person_3_train , person_3_val = train_val(person_3)\n",
    "    person_4_train , person_4_val = train_val(person_4)\n",
    "    person_5_train , person_5_val = train_val(person_5)\n",
    "    person_6_train , person_6_val = train_val(person_6)\n",
    "    person_7_train , person_7_val = train_val(person_7)\n",
    "    person_8_train , person_8_val = train_val(person_8)\n",
    "    \n",
    "    #数据分段阶段\n",
    "    \n",
    "    #============\n",
    "    #训练数据分段\n",
    "    train_person_data_0 , train_person_labels_0 = separate(person_0_train , label = 0 , overlap_length=overlap_length)\n",
    "    train_person_data_1 , train_person_labels_1 = separate(person_1_train , label = 1 , overlap_length=overlap_length)\n",
    "    train_person_data_2 , train_person_labels_2 = separate(person_2_train , label = 2 , overlap_length=overlap_length)\n",
    "    train_person_data_3 , train_person_labels_3 = separate(person_3_train , label = 3 , overlap_length=overlap_length)\n",
    "    train_person_data_4 , train_person_labels_4 = separate(person_4_train , label = 4 , overlap_length=overlap_length)\n",
    "    train_person_data_5 , train_person_labels_5 = separate(person_5_train , label = 5 , overlap_length=overlap_length)\n",
    "    train_person_data_6 , train_person_labels_6 = separate(person_6_train , label = 6 , overlap_length=overlap_length)\n",
    "    train_person_data_7 , train_person_labels_7 = separate(person_7_train , label = 7 , overlap_length=overlap_length)\n",
    "    train_person_data_8 , train_person_labels_8 = separate(person_8_train , label = 8 , overlap_length=overlap_length)\n",
    "\n",
    "    #合并数据\n",
    "    train_data = np.concatenate((train_person_data_0 , train_person_data_1 , train_person_data_2 ,\n",
    "                                 train_person_data_3 , train_person_data_4 , train_person_data_5 ,\n",
    "                                 train_person_data_6 , train_person_data_7 , train_person_data_8 ,\n",
    "                                 ))\n",
    "    \n",
    "    train_labels = np.concatenate((train_person_labels_0 , train_person_labels_1 , train_person_labels_2 ,\n",
    "                                   train_person_labels_3 , train_person_labels_4 , train_person_labels_5 ,\n",
    "                                   train_person_labels_6 , train_person_labels_7 , train_person_labels_8 ,\n",
    "                                    ))\n",
    "    \n",
    "    #产生索引并置乱\n",
    "    idx_train_data = list(range(train_data.shape[0]))\n",
    "    np.random.shuffle(idx_train_data)\n",
    "\n",
    "    #将训练数据置乱\n",
    "    train_data = train_data[idx_train_data]\n",
    "    train_labels = train_labels[idx_train_data]\n",
    "    \n",
    "    #============\n",
    "    #验证数据分段\n",
    "    val_person_data_0 , val_person_labels_0 = separate(person_0_val , label = 0 , overlap_length=0)\n",
    "    val_person_data_1 , val_person_labels_1 = separate(person_1_val , label = 1 , overlap_length=0)\n",
    "    val_person_data_2 , val_person_labels_2 = separate(person_2_val , label = 2 , overlap_length=0)\n",
    "    val_person_data_3 , val_person_labels_3 = separate(person_3_val , label = 3 , overlap_length=0)\n",
    "    val_person_data_4 , val_person_labels_4 = separate(person_4_val , label = 4 , overlap_length=0)\n",
    "    val_person_data_5 , val_person_labels_5 = separate(person_5_val , label = 5 , overlap_length=0)\n",
    "    val_person_data_6 , val_person_labels_6 = separate(person_6_val , label = 6 , overlap_length=0)\n",
    "    val_person_data_7 , val_person_labels_7 = separate(person_7_val , label = 7 , overlap_length=0)\n",
    "    val_person_data_8 , val_person_labels_8 = separate(person_8_val , label = 8 , overlap_length=0)\n",
    "    \n",
    "    #合并数据\n",
    "    val_data = np.concatenate((val_person_data_0 , val_person_data_1 , val_person_data_2 ,\n",
    "                               val_person_data_3 , val_person_data_4 , val_person_data_5 ,\n",
    "                               val_person_data_6 , val_person_data_7 , val_person_data_8 ,\n",
    "                               ))\n",
    "    \n",
    "    val_labels = np.concatenate((val_person_labels_0 , val_person_labels_1 , val_person_labels_2 ,\n",
    "                                 val_person_labels_3 , val_person_labels_4 , val_person_labels_5 ,\n",
    "                                 val_person_labels_6 , val_person_labels_7 , val_person_labels_8 ,\n",
    "                                 ))\n",
    "    \n",
    "    #产生索引并置乱\n",
    "    idx_val_data = list(range(val_data.shape[0]))\n",
    "    np.random.shuffle(idx_val_data)\n",
    "\n",
    "    #将训练数据置乱\n",
    "    val_data = val_data[idx_val_data]\n",
    "    val_labels = val_labels[idx_val_data]\n",
    "    \n",
    "    return train_data , train_labels , val_data , val_labels\n",
    "\n",
    "def shuffle(data , labels):\n",
    "    idx_data = list(range(data.shape[0]))\n",
    "    np.random.shuffle(idx_data)\n",
    "\n",
    "    data = data[idx_data]\n",
    "    labels = labels[idx_data]\n",
    "    \n",
    "    return data , labels"
   ]
  },
  {
   "cell_type": "markdown",
   "metadata": {},
   "source": [
    "# SBP"
   ]
  },
  {
   "cell_type": "code",
   "execution_count": 8,
   "metadata": {
    "collapsed": true
   },
   "outputs": [],
   "source": [
    "def butter_worth(data , lowcut , highcut , order=6):\n",
    "    nyq = 0.5 * sample_rate\n",
    "    \n",
    "    lo = lowcut / nyq\n",
    "    hi = highcut / nyq\n",
    "    \n",
    "    b,a = scipy.signal.butter(order , [lo , hi] , btype='bandpass')\n",
    "\n",
    "    return np.array([scipy.signal.filtfilt(b , a , data[: , i]) for i in range(data.shape[1])]).reshape((-1 , origin_channel))\n",
    "\n",
    "def alpha_subBP_features(data):\n",
    "    alpha1 = butter_worth(data , 8.5 , 11.5)\n",
    "    alpha2 = butter_worth(data , 9.0 , 12.5)    \n",
    "    alpha3 = butter_worth(data , 9.5 , 13.5)   #11.5 后\n",
    "    alpha4 = butter_worth(data , 8.0 , 10.5)   \n",
    "    \n",
    "    return np.array([alpha1 , alpha2 , alpha3 , alpha4])\n",
    "\n",
    "def beta_subBP_features(data):\n",
    "    beta1 = butter_worth(data , 15.0 , 30.0) #14.0 前\n",
    "    beta2 = butter_worth(data , 16.0 , 17.0)    \n",
    "    beta3 = butter_worth(data , 17.0 , 18.0)    \n",
    "    beta4 = butter_worth(data , 18.0 , 19.0)    \n",
    "    \n",
    "    return np.array([beta1 , beta2 , beta3 , beta4])\n",
    "\n",
    "def powermean(data):\n",
    "    #官方demo跳4秒 前4秒为准备阶段\n",
    "    return np.power(data[ : , 0] , 2).mean(), \\\n",
    "            np.power(data[ : , 1] , 2).mean(), \\\n",
    "            np.power(data[ : , 2] , 2).mean(), \\\n",
    "            np.power(data[ : , 3] , 2).mean(), \\\n",
    "            np.power(data[ : , 4] , 2).mean(), \\\n",
    "            np.power(data[ : , 5] , 2).mean(), \\\n",
    "            np.power(data[ : , 6] , 2).mean(), \\\n",
    "            np.power(data[ : , 7] , 2).mean(), \\\n",
    "            np.power(data[ : , 8] , 2).mean(), \\\n",
    "            np.power(data[ : , 9] , 2).mean(), \\\n",
    "            np.power(data[ : , 10] , 2).mean(), \\\n",
    "            np.power(data[ : , 11] , 2).mean(), \\\n",
    "            np.power(data[ : , 12] , 2).mean(), \\\n",
    "            np.power(data[ : , 13] , 2).mean(), \\\n",
    "            np.power(data[ : , 14] , 2).mean(), \\\n",
    "            np.power(data[ : , 15] , 2).mean()       \n",
    "            \n",
    "def log_subBP_feature_extraction(alpha , beta):\n",
    "    #alpha\n",
    "    power_1_a = powermean(alpha[0])\n",
    "    power_2_a = powermean(alpha[1])\n",
    "    power_3_a = powermean(alpha[2])\n",
    "    power_4_a = powermean(alpha[3])\n",
    "    \n",
    "    #beta\n",
    "    power_1_b = powermean(beta[0])\n",
    "    power_2_b = powermean(beta[1])\n",
    "    power_3_b = powermean(beta[2])\n",
    "    power_4_b = powermean(beta[3])\n",
    "    \n",
    "    X= np.array(\n",
    "        [np.log(power_1_a) ,\n",
    "         np.log(power_2_a) ,\n",
    "         np.log(power_3_a) ,\n",
    "         np.log(power_4_a) ,\n",
    "         np.log(power_1_b) ,\n",
    "         np.log(power_2_b) ,\n",
    "         np.log(power_3_b) ,\n",
    "         np.log(power_4_b)\n",
    "        ]\n",
    "        ).flatten()\n",
    "\n",
    "    return X\n",
    "\n",
    "\n",
    "def feature_extraction_sub_band_power(data):\n",
    "    n_features = 128\n",
    "    X = np.zeros((data.shape[0] , n_features))\n",
    "    \n",
    "    for i , datum in enumerate(data):\n",
    "        alpha = alpha_subBP_features(datum)\n",
    "        beta = beta_subBP_features(datum)\n",
    "            \n",
    "        X[i, :] = log_subBP_feature_extraction(alpha , beta)\n",
    "\n",
    "    return X"
   ]
  },
  {
   "cell_type": "markdown",
   "metadata": {},
   "source": [
    "# MFCC"
   ]
  },
  {
   "cell_type": "code",
   "execution_count": 9,
   "metadata": {
    "collapsed": true
   },
   "outputs": [],
   "source": [
    "def mfcc(data):\n",
    "    \n",
    "    X = []\n",
    "   \n",
    "    for i in range(16):\n",
    "        X.append( pmfcc( data[: , i] , samplerate=256).reshape([1 , -1]).squeeze() )\n",
    "        \n",
    "    return np.array( X ).reshape([1 , -1]).squeeze()\n",
    "\n",
    "def feature_extraction_mfcc(data):\n",
    "    X = []\n",
    "    \n",
    "    for datum in data:\n",
    "        X.append( mfcc(datum) )\n",
    "\n",
    "    return np.array(X)"
   ]
  },
  {
   "cell_type": "markdown",
   "metadata": {},
   "source": [
    "# AR"
   ]
  },
  {
   "cell_type": "code",
   "execution_count": 10,
   "metadata": {
    "collapsed": true
   },
   "outputs": [],
   "source": [
    "def ar(data):\n",
    "    X = []\n",
    "    \n",
    "    for i in range(16):\n",
    "        X.append( AR(data[: , i]).fit().params.reshape([1 , -1]).squeeze() )\n",
    "        \n",
    "    return np.array(X).reshape([1 , -1]).squeeze()\n",
    "\n",
    "def feature_extraction_ar(data):\n",
    "    X = []\n",
    "    \n",
    "    for datum in data:\n",
    "        X.append( ar(datum) )\n",
    "    \n",
    "    return np.array(X)"
   ]
  },
  {
   "cell_type": "code",
   "execution_count": 11,
   "metadata": {},
   "outputs": [
    {
     "name": "stdout",
     "output_type": "stream",
     "text": [
      "(2241, 768, 16) (2241,) (81, 768, 16) (81,)\n"
     ]
    }
   ],
   "source": [
    "train_X_ , train_y , val_X_ , val_y = combine(freq = 6) #6 7.5 8.5 10 hz\n",
    "print(train_X_.shape , train_y.shape , val_X_.shape , val_y.shape)\n"
   ]
  },
  {
   "cell_type": "code",
   "execution_count": 12,
   "metadata": {
    "collapsed": true
   },
   "outputs": [],
   "source": [
    "train_X = feature_extraction_mfcc(train_X_)\n",
    "val_X = feature_extraction_mfcc(val_X_)"
   ]
  },
  {
   "cell_type": "code",
   "execution_count": null,
   "metadata": {},
   "outputs": [
    {
     "name": "stdout",
     "output_type": "stream",
     "text": [
      "(2241, 53040) (2241,) (81, 53040) (81,)\n"
     ]
    }
   ],
   "source": [
    "print(train_X.shape , train_y.shape , val_X.shape , val_y.shape)"
   ]
  },
  {
   "cell_type": "code",
   "execution_count": 68,
   "metadata": {
    "collapsed": true
   },
   "outputs": [],
   "source": [
    "#PCA降维\n",
    "pca = PCA(n_components=256)\n",
    "pca.fit(train_X)\n",
    "\n",
    "train_X = pca.transform(train_X)\n",
    "val_X = pca.transform(val_X)"
   ]
  },
  {
   "cell_type": "code",
   "execution_count": 27,
   "metadata": {
    "collapsed": true
   },
   "outputs": [],
   "source": [
    "#LDA降维\n",
    "lda = LinearDiscriminantAnalysis(n_components=512)\n",
    "lda.fit(train_X , train_y)\n",
    "\n",
    "train_X = lda.transform(train_X)\n",
    "val_X = lda.transform(val_X)"
   ]
  },
  {
   "cell_type": "code",
   "execution_count": null,
   "metadata": {
    "collapsed": true
   },
   "outputs": [],
   "source": [
    "#tSNE降维\n",
    "#LDA降维\n",
    "tsne = TSNE(n_components=256)\n",
    "tsne.fit(train_X , train_y)\n",
    "\n",
    "train_X = tsne.transform(train_X)\n",
    "val_X = tsne.transform(val_X)"
   ]
  },
  {
   "cell_type": "code",
   "execution_count": 29,
   "metadata": {},
   "outputs": [
    {
     "data": {
      "text/plain": [
       "0.6666666666666666"
      ]
     },
     "execution_count": 29,
     "metadata": {},
     "output_type": "execute_result"
    }
   ],
   "source": [
    "#不行\n",
    "lgbm = lightgbm.LGBMClassifier()\n",
    "lgbm.fit(train_X , train_y)\n",
    "lgbm.score(val_X , val_y)"
   ]
  },
  {
   "cell_type": "code",
   "execution_count": 30,
   "metadata": {},
   "outputs": [
    {
     "data": {
      "text/plain": [
       "0.5432098765432098"
      ]
     },
     "execution_count": 30,
     "metadata": {},
     "output_type": "execute_result"
    }
   ],
   "source": [
    "#不行\n",
    "xgb = xgboost.XGBClassifier()\n",
    "xgb.fit(train_X , train_y)\n",
    "xgb.score(val_X , val_y)"
   ]
  },
  {
   "cell_type": "code",
   "execution_count": 31,
   "metadata": {
    "scrolled": true
   },
   "outputs": [
    {
     "data": {
      "text/plain": [
       "0.5802469135802469"
      ]
     },
     "execution_count": 31,
     "metadata": {},
     "output_type": "execute_result"
    }
   ],
   "source": [
    "#不行\n",
    "gbdt = GradientBoostingClassifier()\n",
    "gbdt.fit(train_X , train_y)\n",
    "gbdt.score(val_X , val_y)"
   ]
  },
  {
   "cell_type": "code",
   "execution_count": 32,
   "metadata": {},
   "outputs": [
    {
     "data": {
      "text/plain": [
       "0.5679012345679012"
      ]
     },
     "execution_count": 32,
     "metadata": {},
     "output_type": "execute_result"
    }
   ],
   "source": [
    "rf = RandomForestClassifier()\n",
    "rf.fit(train_X , train_y)\n",
    "rf.score(val_X , val_y)"
   ]
  },
  {
   "cell_type": "code",
   "execution_count": 33,
   "metadata": {},
   "outputs": [
    {
     "data": {
      "text/plain": [
       "0.4444444444444444"
      ]
     },
     "execution_count": 33,
     "metadata": {},
     "output_type": "execute_result"
    }
   ],
   "source": [
    "#不行\n",
    "svc = SVC(probability=True)\n",
    "svc.fit(train_X , train_y)\n",
    "svc.score(val_X , val_y)"
   ]
  },
  {
   "cell_type": "code",
   "execution_count": 34,
   "metadata": {},
   "outputs": [
    {
     "data": {
      "text/plain": [
       "0.6419753086419753"
      ]
     },
     "execution_count": 34,
     "metadata": {},
     "output_type": "execute_result"
    }
   ],
   "source": [
    "knn = KNeighborsClassifier()\n",
    "knn.fit(train_X , train_y)\n",
    "knn.score(val_X , val_y)"
   ]
  },
  {
   "cell_type": "code",
   "execution_count": 35,
   "metadata": {},
   "outputs": [
    {
     "data": {
      "text/plain": [
       "0.5432098765432098"
      ]
     },
     "execution_count": 35,
     "metadata": {},
     "output_type": "execute_result"
    }
   ],
   "source": [
    "nb = GaussianNB()\n",
    "nb.fit(train_X , train_y)\n",
    "nb.score(val_X , val_y)"
   ]
  },
  {
   "cell_type": "code",
   "execution_count": null,
   "metadata": {},
   "outputs": [
    {
     "name": "stdout",
     "output_type": "stream",
     "text": [
      "freq:6.000000 classifier:0 avg_times:47.729483 avg_accus:0.733951\n",
      "freq:6.000000 classifier:1 avg_times:53.301252 avg_accus:0.700617\n",
      "freq:6.000000 classifier:2 avg_times:60.414503 avg_accus:0.732716\n",
      "freq:6.000000 classifier:3 avg_times:46.607525 avg_accus:0.677778\n",
      "freq:6.000000 classifier:4 avg_times:46.750078 avg_accus:0.620988\n",
      "freq:6.000000 classifier:5 avg_times:46.247913 avg_accus:0.617284\n",
      "freq:6.000000 classifier:6 avg_times:46.388816 avg_accus:0.259259\n",
      "freq:7.500000 classifier:0 avg_times:57.321772 avg_accus:0.720988\n",
      "freq:7.500000 classifier:1 avg_times:56.974473 avg_accus:0.707407\n",
      "freq:7.500000 classifier:2 avg_times:58.069407 avg_accus:0.732716\n",
      "freq:7.500000 classifier:3 avg_times:43.764980 avg_accus:0.685185\n",
      "freq:7.500000 classifier:4 avg_times:44.119794 avg_accus:0.661111\n",
      "freq:7.500000 classifier:5 avg_times:43.725553 avg_accus:0.603086\n",
      "freq:7.500000 classifier:6 avg_times:43.624124 avg_accus:0.237654\n",
      "freq:8.500000 classifier:0 avg_times:54.658695 avg_accus:0.761111\n",
      "freq:8.500000 classifier:1 avg_times:53.620374 avg_accus:0.693827\n",
      "freq:8.500000 classifier:2 avg_times:56.680635 avg_accus:0.766667\n",
      "freq:8.500000 classifier:3 avg_times:43.966621 avg_accus:0.710494\n",
      "freq:8.500000 classifier:4 avg_times:44.410546 avg_accus:0.635802\n",
      "freq:8.500000 classifier:5 avg_times:44.010931 avg_accus:0.600617\n",
      "freq:8.500000 classifier:6 avg_times:44.023298 avg_accus:0.244444\n",
      "freq:10.000000 classifier:0 avg_times:55.360349 avg_accus:0.746914\n",
      "freq:10.000000 classifier:1 avg_times:53.986090 avg_accus:0.708642\n",
      "freq:10.000000 classifier:2 avg_times:56.766109 avg_accus:0.712346\n",
      "freq:10.000000 classifier:3 avg_times:44.041224 avg_accus:0.711728\n",
      "freq:10.000000 classifier:4 avg_times:44.340448 avg_accus:0.637037\n",
      "freq:10.000000 classifier:5 avg_times:43.948590 avg_accus:0.632099\n",
      "freq:10.000000 classifier:6 avg_times:44.018324 avg_accus:0.217901\n"
     ]
    }
   ],
   "source": [
    "classifiers = [lightgbm.LGBMClassifier , xgboost.XGBClassifier , GradientBoostingClassifier , RandomForestClassifier ,\\\n",
    "               SVC , KNeighborsClassifier , GaussianNB]\n",
    "\n",
    "for freq in [6 , 7.5 , 8.5 , 10]:\n",
    "    for idx , classifier in enumerate(classifiers):\n",
    "        \n",
    "        all_times = []\n",
    "        all_accus = []\n",
    "        \n",
    "        for i in range(20):\n",
    "            start = time.clock() #开始计时\n",
    "\n",
    "            train_X_ , train_y , val_X_ , val_y = combine(freq = freq) #6 7.5 8.5 10 hz\n",
    "            \n",
    "            train_X = feature_extraction_sub_band_power(train_X_)\n",
    "            val_X = feature_extraction_sub_band_power(val_X_)\n",
    "            \n",
    "            cls = classifier()\n",
    "            cls.fit(train_X , train_y)\n",
    "            score = cls.score(val_X , val_y)\n",
    "            \n",
    "            elapsed = (time.clock() - start) #终止计时并获得时长\n",
    "            \n",
    "            all_times.append(elapsed)\n",
    "            all_accus.append(score)\n",
    "            \n",
    "        print('freq:%f classifier:%d avg_times:%f avg_accus:%f' % (freq , idx , np.average(all_times) , np.average(all_accus)))"
   ]
  },
  {
   "cell_type": "code",
   "execution_count": null,
   "metadata": {
    "collapsed": true
   },
   "outputs": [],
   "source": []
  },
  {
   "cell_type": "code",
   "execution_count": 11,
   "metadata": {},
   "outputs": [
    {
     "name": "stdout",
     "output_type": "stream",
     "text": [
      "freq:6.000000 classifier:0 avg_times:138.282516 avg_accus:0.711111\n",
      "freq:6.000000 classifier:1 avg_times:141.269782 avg_accus:0.726543\n",
      "freq:6.000000 classifier:2 avg_times:146.849259 avg_accus:0.740741\n",
      "freq:6.000000 classifier:3 avg_times:119.093152 avg_accus:0.694444\n",
      "freq:6.000000 classifier:4 avg_times:122.441336 avg_accus:0.401852\n",
      "freq:6.000000 classifier:5 avg_times:119.057277 avg_accus:0.735802\n",
      "freq:6.000000 classifier:6 avg_times:120.345698 avg_accus:0.432716\n",
      "freq:7.500000 classifier:0 avg_times:158.640500 avg_accus:0.816667\n",
      "freq:7.500000 classifier:1 avg_times:138.361899 avg_accus:0.776543\n",
      "freq:7.500000 classifier:2 avg_times:142.713647 avg_accus:0.781481\n",
      "freq:7.500000 classifier:3 avg_times:114.939179 avg_accus:0.752469\n",
      "freq:7.500000 classifier:4 avg_times:118.310052 avg_accus:0.443210\n",
      "freq:7.500000 classifier:5 avg_times:115.028141 avg_accus:0.791975\n",
      "freq:7.500000 classifier:6 avg_times:115.089906 avg_accus:0.419136\n",
      "freq:8.500000 classifier:0 avg_times:150.309882 avg_accus:0.750000\n",
      "freq:8.500000 classifier:1 avg_times:133.819583 avg_accus:0.821605\n",
      "freq:8.500000 classifier:2 avg_times:138.932495 avg_accus:0.801852\n",
      "freq:8.500000 classifier:3 avg_times:114.834705 avg_accus:0.798148\n",
      "freq:8.500000 classifier:4 avg_times:117.949626 avg_accus:0.394444\n",
      "freq:8.500000 classifier:5 avg_times:115.108707 avg_accus:0.797531\n",
      "freq:8.500000 classifier:6 avg_times:115.059153 avg_accus:0.473457\n",
      "freq:10.000000 classifier:0 avg_times:150.614540 avg_accus:0.758025\n",
      "freq:10.000000 classifier:1 avg_times:133.658844 avg_accus:0.824691\n",
      "freq:10.000000 classifier:2 avg_times:139.062813 avg_accus:0.775926\n",
      "freq:10.000000 classifier:3 avg_times:115.045819 avg_accus:0.791975\n",
      "freq:10.000000 classifier:4 avg_times:120.932248 avg_accus:0.405556\n",
      "freq:10.000000 classifier:5 avg_times:118.575255 avg_accus:0.761111\n",
      "freq:10.000000 classifier:6 avg_times:118.068743 avg_accus:0.454938\n"
     ]
    }
   ],
   "source": [
    "classifiers = [lightgbm.LGBMClassifier , xgboost.XGBClassifier , GradientBoostingClassifier , RandomForestClassifier ,\\\n",
    "               SVC , KNeighborsClassifier , GaussianNB]\n",
    "\n",
    "for freq in [6 , 7.5 , 8.5 , 10]:\n",
    "    for idx , classifier in enumerate(classifiers):\n",
    "        \n",
    "        all_times = []\n",
    "        all_accus = []\n",
    "        \n",
    "        for i in range(20):\n",
    "            start = time.clock() #开始计时\n",
    "\n",
    "            train_X_ , train_y , val_X_ , val_y = combine(freq = freq) #6 7.5 8.5 10 hz\n",
    "            \n",
    "            train_X = feature_extraction_mfcc(train_X_)\n",
    "            val_X = feature_extraction_mfcc(val_X_)\n",
    "            \n",
    "            #训练PCA\n",
    "            pca = PCA(n_components=256)\n",
    "            pca.fit(train_X)\n",
    "            \n",
    "            train_X = pca.transform(train_X)\n",
    "            val_X = pca.transform(val_X)\n",
    "            \n",
    "            cls = classifier()\n",
    "            cls.fit(train_X , train_y)\n",
    "            score = cls.score(val_X , val_y)\n",
    "            \n",
    "            elapsed = (time.clock() - start) #终止计时并获得时长\n",
    "            \n",
    "            all_times.append(elapsed)\n",
    "            all_accus.append(score)\n",
    "            \n",
    "        print('freq:%f classifier:%d avg_times:%f avg_accus:%f' % (freq , idx , np.average(all_times) , np.average(all_accus)))"
   ]
  },
  {
   "cell_type": "code",
   "execution_count": null,
   "metadata": {
    "collapsed": true
   },
   "outputs": [],
   "source": []
  },
  {
   "cell_type": "code",
   "execution_count": 11,
   "metadata": {},
   "outputs": [
    {
     "name": "stdout",
     "output_type": "stream",
     "text": [
      "freq:6.000000 classifier:0 avg_times:134.992096 avg_accus:0.930864\n",
      "freq:6.000000 classifier:1 avg_times:147.874691 avg_accus:0.929630\n",
      "freq:6.000000 classifier:2 avg_times:150.530140 avg_accus:0.909259\n",
      "freq:6.000000 classifier:3 avg_times:113.705355 avg_accus:0.895679\n",
      "freq:6.000000 classifier:4 avg_times:117.483545 avg_accus:0.438889\n",
      "freq:6.000000 classifier:5 avg_times:117.254820 avg_accus:0.584568\n",
      "freq:6.000000 classifier:6 avg_times:118.716282 avg_accus:0.502469\n",
      "freq:7.500000 classifier:0 avg_times:163.936999 avg_accus:0.904321\n",
      "freq:7.500000 classifier:1 avg_times:143.222265 avg_accus:0.930247\n",
      "freq:7.500000 classifier:2 avg_times:151.596896 avg_accus:0.887037\n",
      "freq:7.500000 classifier:3 avg_times:117.628849 avg_accus:0.892593\n",
      "freq:7.500000 classifier:4 avg_times:116.416074 avg_accus:0.385185\n",
      "freq:7.500000 classifier:5 avg_times:113.121343 avg_accus:0.630247\n",
      "freq:7.500000 classifier:6 avg_times:113.059178 avg_accus:0.467284\n",
      "freq:8.500000 classifier:0 avg_times:155.864547 avg_accus:0.940123\n",
      "freq:8.500000 classifier:1 avg_times:137.112486 avg_accus:0.910494\n",
      "freq:8.500000 classifier:2 avg_times:143.457934 avg_accus:0.917901\n",
      "freq:8.500000 classifier:3 avg_times:113.560114 avg_accus:0.896296\n",
      "freq:8.500000 classifier:4 avg_times:116.798431 avg_accus:0.372222\n",
      "freq:8.500000 classifier:5 avg_times:113.608715 avg_accus:0.648765\n",
      "freq:8.500000 classifier:6 avg_times:113.315608 avg_accus:0.674691\n",
      "freq:10.000000 classifier:0 avg_times:156.133034 avg_accus:0.909877\n",
      "freq:10.000000 classifier:1 avg_times:137.074591 avg_accus:0.894444\n",
      "freq:10.000000 classifier:2 avg_times:142.754315 avg_accus:0.946296\n",
      "freq:10.000000 classifier:3 avg_times:111.228376 avg_accus:0.903704\n",
      "freq:10.000000 classifier:4 avg_times:118.333631 avg_accus:0.477160\n",
      "freq:10.000000 classifier:5 avg_times:114.622959 avg_accus:0.656173\n",
      "freq:10.000000 classifier:6 avg_times:113.377671 avg_accus:0.653086\n"
     ]
    }
   ],
   "source": [
    "classifiers = [lightgbm.LGBMClassifier , xgboost.XGBClassifier , GradientBoostingClassifier , RandomForestClassifier ,\\\n",
    "               SVC , KNeighborsClassifier , GaussianNB]\n",
    "\n",
    "for freq in [6 , 7.5 , 8.5 , 10]:\n",
    "    for idx , classifier in enumerate(classifiers):\n",
    "        \n",
    "        all_times = []\n",
    "        all_accus = []\n",
    "        \n",
    "        for i in range(20):\n",
    "            start = time.clock() #开始计时\n",
    "\n",
    "            train_X_ , train_y , val_X_ , val_y = combine(freq = freq) #6 7.5 8.5 10 hz\n",
    "            \n",
    "            train_X = feature_extraction_ar(train_X_)\n",
    "            val_X = feature_extraction_ar(val_X_)\n",
    "            \n",
    "            cls = classifier()\n",
    "            cls.fit(train_X , train_y)\n",
    "            score = cls.score(val_X , val_y)\n",
    "            \n",
    "            elapsed = (time.clock() - start) #终止计时并获得时长\n",
    "            \n",
    "            all_times.append(elapsed)\n",
    "            all_accus.append(score)\n",
    "            \n",
    "        print('freq:%f classifier:%d avg_times:%f avg_accus:%f' % (freq , idx , np.average(all_times) , np.average(all_accus)))"
   ]
  }
 ],
 "metadata": {
  "kernelspec": {
   "display_name": "Python 3",
   "language": "python",
   "name": "python3"
  },
  "language_info": {
   "codemirror_mode": {
    "name": "ipython",
    "version": 3
   },
   "file_extension": ".py",
   "mimetype": "text/x-python",
   "name": "python",
   "nbconvert_exporter": "python",
   "pygments_lexer": "ipython3",
   "version": "3.6.1"
  }
 },
 "nbformat": 4,
 "nbformat_minor": 2
}
