{
 "cells": [
  {
   "cell_type": "code",
   "execution_count": 29,
   "metadata": {
    "collapsed": true
   },
   "outputs": [],
   "source": [
    "import os\n",
    "import shutil"
   ]
  },
  {
   "cell_type": "code",
   "execution_count": 49,
   "metadata": {},
   "outputs": [],
   "source": [
    "people='4/'\n",
    "root = ['6','7.5','8.5','10']\n",
    "dirr = ['b','c','d','e','f','g','h']#,'i']\n",
    "plus = { 'b':5 , 'c':10 ,'d':15 , 'e':20 , 'f':25, 'g':30, 'h':35, 'i':40 }\n",
    "\n",
    "for r in root:\n",
    "    for d in dirr:\n",
    "        filenames = os.listdir(people+r+d+'/')\n",
    "        \n",
    "        newfilenames = []\n",
    "        for f in filenames:\n",
    "            newfilenames.append( '%d.mat' % ( int(f.split('.')[0]) + plus[d] ) )\n",
    "        \n",
    "        for i in range(5):\n",
    "            os.rename(people+r+d+'/'+ filenames[i] , people+r+d+'/'+newfilenames[i] )"
   ]
  },
  {
   "cell_type": "code",
   "execution_count": 60,
   "metadata": {},
   "outputs": [],
   "source": [
    "people='8/'\n",
    "root = ['6','7.5','8.5','10']\n",
    "dirr = ['b','c']#,'d','e','f']#,'g','h']#,'i']\n",
    "\n",
    "for r in root:\n",
    "    for d in dirr:\n",
    "        filenames = os.listdir(people+r+d+'/')\n",
    "        \n",
    "        for i in range(5):\n",
    "            shutil.move(people+r+d+'/'+filenames[i] , people+r+'a'+'/')"
   ]
  },
  {
   "cell_type": "code",
   "execution_count": 50,
   "metadata": {},
   "outputs": [
    {
     "data": {
      "text/plain": [
       "'1/6a/6.mat'"
      ]
     },
     "execution_count": 50,
     "metadata": {},
     "output_type": "execute_result"
    }
   ],
   "source": [
    "shutil.move('1/6b/6.mat','1/6a/')"
   ]
  },
  {
   "cell_type": "code",
   "execution_count": 26,
   "metadata": {},
   "outputs": [
    {
     "data": {
      "text/plain": [
       "['1.mat', '2.mat', '3.mat', '4.mat', '5.mat']"
      ]
     },
     "execution_count": 26,
     "metadata": {},
     "output_type": "execute_result"
    }
   ],
   "source": [
    "filenames"
   ]
  },
  {
   "cell_type": "code",
   "execution_count": 27,
   "metadata": {
    "collapsed": true
   },
   "outputs": [],
   "source": [
    "newfilenames = []\n",
    "for f in filenames:\n",
    "    newfilenames.append( '%d.mat' % ( int(f.split('.')[0]) + plus[d] ) )"
   ]
  },
  {
   "cell_type": "code",
   "execution_count": 28,
   "metadata": {},
   "outputs": [
    {
     "data": {
      "text/plain": [
       "['6.mat', '7.mat', '8.mat', '9.mat', '10.mat']"
      ]
     },
     "execution_count": 28,
     "metadata": {},
     "output_type": "execute_result"
    }
   ],
   "source": [
    "newfilenames"
   ]
  },
  {
   "cell_type": "code",
   "execution_count": null,
   "metadata": {
    "collapsed": true
   },
   "outputs": [],
   "source": [
    "for i in range(5):\n",
    "    os.rename(people+r+d+'/'+ filenames[i] , people+r+d+'/'+newfilenames[i] )"
   ]
  },
  {
   "cell_type": "code",
   "execution_count": null,
   "metadata": {
    "collapsed": true
   },
   "outputs": [],
   "source": []
  }
 ],
 "metadata": {
  "kernelspec": {
   "display_name": "Python 3",
   "language": "python",
   "name": "python3"
  },
  "language_info": {
   "codemirror_mode": {
    "name": "ipython",
    "version": 3
   },
   "file_extension": ".py",
   "mimetype": "text/x-python",
   "name": "python",
   "nbconvert_exporter": "python",
   "pygments_lexer": "ipython3",
   "version": "3.6.1"
  }
 },
 "nbformat": 4,
 "nbformat_minor": 2
}
