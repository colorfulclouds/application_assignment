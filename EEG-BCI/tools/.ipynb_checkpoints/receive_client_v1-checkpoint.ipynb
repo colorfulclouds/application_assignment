{
 "cells": [
  {
   "cell_type": "code",
   "execution_count": 438,
   "metadata": {
    "collapsed": true
   },
   "outputs": [],
   "source": [
    "import socket\n",
    "import numpy as np\n",
    "import struct\n",
    "import scipy.io as sio\n",
    "import matplotlib as plt\n",
    "\n",
    "# 非jupyter删除下句\n",
    "%matplotlib inline"
   ]
  },
  {
   "cell_type": "code",
   "execution_count": 430,
   "metadata": {
    "collapsed": true
   },
   "outputs": [],
   "source": [
    "SERVER_IP = '127.0.0.1'\n",
    "SERVER_PORT = 6666\n",
    "BYTE_ORDER = 'little' #小端模式\n",
    "\n",
    "#=======\n",
    "# TODO\n",
    "sampling_rate = 256\n",
    "number_of_scans = 8\n",
    "sampling_time = 20\n",
    "#=======\n",
    "FLOAT_SIZE = 4\n",
    "\n",
    "BLOCK_ORDER = number_of_scans\n",
    "CHANNELS = 16\n",
    "\n",
    "BUFFER_SIZE = BLOCK_ORDER * CHANNELS * FLOAT_SIZE\n",
    "\n",
    "# 一次接收总长度 与server对应\n",
    "# 未使用 保留\n",
    "# receive_total_length = sampling_rate * sampling_time * channels * float_size #regular value: 327680(256*20*16*4)"
   ]
  },
  {
   "cell_type": "code",
   "execution_count": 431,
   "metadata": {
    "collapsed": true
   },
   "outputs": [],
   "source": [
    "sock = socket.socket(socket.AF_INET , socket.SOCK_STREAM)"
   ]
  },
  {
   "cell_type": "code",
   "execution_count": 439,
   "metadata": {},
   "outputs": [
    {
     "ename": "NameError",
     "evalue": "name 'SERVER_IP' is not defined",
     "output_type": "error",
     "traceback": [
      "\u001b[1;31m---------------------------------------------------------------------------\u001b[0m",
      "\u001b[1;31mNameError\u001b[0m                                 Traceback (most recent call last)",
      "\u001b[1;32m<ipython-input-439-daa7bec18cef>\u001b[0m in \u001b[0;36m<module>\u001b[1;34m()\u001b[0m\n\u001b[0;32m      1\u001b[0m \u001b[1;32mtry\u001b[0m\u001b[1;33m:\u001b[0m\u001b[1;33m\u001b[0m\u001b[0m\n\u001b[1;32m----> 2\u001b[1;33m     \u001b[0msock\u001b[0m\u001b[1;33m.\u001b[0m\u001b[0mconnect\u001b[0m\u001b[1;33m(\u001b[0m\u001b[1;33m(\u001b[0m\u001b[0mSERVER_IP\u001b[0m \u001b[1;33m,\u001b[0m \u001b[0mSERVER_PORT\u001b[0m\u001b[1;33m)\u001b[0m\u001b[1;33m)\u001b[0m\u001b[1;33m\u001b[0m\u001b[0m\n\u001b[0m\u001b[0;32m      3\u001b[0m \u001b[1;32mexcept\u001b[0m \u001b[0mConnectionRefusedError\u001b[0m\u001b[1;33m:\u001b[0m\u001b[1;33m\u001b[0m\u001b[0m\n\u001b[0;32m      4\u001b[0m     \u001b[0mprint\u001b[0m\u001b[1;33m(\u001b[0m\u001b[1;34m'no server!'\u001b[0m\u001b[1;33m)\u001b[0m\u001b[1;33m\u001b[0m\u001b[0m\n",
      "\u001b[1;31mNameError\u001b[0m: name 'SERVER_IP' is not defined"
     ]
    }
   ],
   "source": [
    "try:\n",
    "    sock.connect((SERVER_IP , SERVER_PORT))\n",
    "except ConnectionRefusedError:\n",
    "    print('no server!')"
   ]
  },
  {
   "cell_type": "code",
   "execution_count": 423,
   "metadata": {
    "collapsed": true
   },
   "outputs": [],
   "source": [
    "def byte2float(ret_bytes):\n",
    "    data = []\n",
    "        \n",
    "    for i in range( int(len(ret_bytes) / FLOAT_SIZE) ):\n",
    "        data.append( struct.unpack('f' , ret_bytes[i*4 : i*4+4]) )\n",
    "\n",
    "    return np.array(data).reshape((16 , -1)).T\n",
    "    \n",
    "def _dynamic_func_demo(dynamic_eeg_data):\n",
    "    # TODO\n",
    "    pass\n",
    "    \n",
    "def recv_eeg(is_save = False , save_format = 'mat' , save_name = '1'):\n",
    "    eeg_data = []\n",
    "    \n",
    "    while True:\n",
    "        ret_bytes = sock.recv(BUFFER_SIZE)\n",
    "        \n",
    "        if len(ret_bytes) == 0:\n",
    "            break\n",
    "        \n",
    "        dynamic_eeg_data = byte2float(ret_bytes)\n",
    "        \n",
    "        #=============\n",
    "        #=============\n",
    "        # TODO\n",
    "        # 使用dynamic_eeg_data 进行实时操作\n",
    "        #=============\n",
    "        # \n",
    "        _dynamic_func_demo(dynamic_eeg_data)\n",
    "        #=============\n",
    "        #=============\n",
    "        \n",
    "        eeg_data.append(dynamic_eeg_data)\n",
    "    \n",
    "    eeg_data = np.concatenate( np.array(eeg_data) )\n",
    "    \n",
    "    if is_save:\n",
    "        if save_format == 'mat':\n",
    "            sio.savemat(file_name = save_name+'.mat' , mdict={'data_received' : eeg_data})\n",
    "        elif save_format == 'npy':\n",
    "            np.save(file = save_name , arr = eeg_data)\n",
    "        else:\n",
    "            print('format error')\n",
    "    \n",
    "    return eeg_data"
   ]
  },
  {
   "cell_type": "code",
   "execution_count": 424,
   "metadata": {
    "collapsed": true
   },
   "outputs": [],
   "source": [
    "test = recv_eeg()"
   ]
  },
  {
   "cell_type": "code",
   "execution_count": 434,
   "metadata": {},
   "outputs": [
    {
     "data": {
      "text/plain": [
       "(5120, 16)"
      ]
     },
     "execution_count": 434,
     "metadata": {},
     "output_type": "execute_result"
    }
   ],
   "source": [
    "test.shape"
   ]
  },
  {
   "cell_type": "code",
   "execution_count": null,
   "metadata": {
    "collapsed": true
   },
   "outputs": [],
   "source": []
  }
 ],
 "metadata": {
  "kernelspec": {
   "display_name": "Python 3",
   "language": "python",
   "name": "python3"
  },
  "language_info": {
   "codemirror_mode": {
    "name": "ipython",
    "version": 3
   },
   "file_extension": ".py",
   "mimetype": "text/x-python",
   "name": "python",
   "nbconvert_exporter": "python",
   "pygments_lexer": "ipython3",
   "version": "3.6.1"
  }
 },
 "nbformat": 4,
 "nbformat_minor": 2
}
