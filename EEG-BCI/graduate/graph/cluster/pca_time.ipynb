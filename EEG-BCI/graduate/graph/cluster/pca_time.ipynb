{
 "cells": [
  {
   "cell_type": "code",
   "execution_count": 1,
   "metadata": {},
   "outputs": [],
   "source": [
    "import numpy as np\n",
    "import matplotlib.pyplot as plt\n",
    "import seaborn as sns\n",
    "import pandas as pd\n",
    "\n",
    "import matplotlib.pylab as pylab\n",
    "import scipy.io\n",
    "import matplotlib.patches as mpathes\n",
    "\n",
    "#import pygal\n",
    "\n",
    "# This import registers the 3D projection, but is otherwise unused.\n",
    "from mpl_toolkits.mplot3d import Axes3D  # noqa: F401 unused import\n",
    "\n",
    "%matplotlib inline"
   ]
  },
  {
   "cell_type": "code",
   "execution_count": 2,
   "metadata": {},
   "outputs": [],
   "source": [
    "incre_rms = np.array([0.07583042, 0.07515859, 0.07600063, 0.07672203, 0.07849378,\n",
    "       0.07442374, 0.0741365 , 0.07720608, 0.07467419])\n",
    "\n",
    "incre_cnn = np.array([5.20942191, 5.21092565, 5.20594528, 5.21395184, 5.21867043,\n",
    "       5.2176777 , 5.21259789, 5.21066482, 5.21792331])"
   ]
  },
  {
   "cell_type": "markdown",
   "metadata": {},
   "source": [
    "# rms"
   ]
  },
  {
   "cell_type": "markdown",
   "metadata": {},
   "source": [
    "## kmeans"
   ]
  },
  {
   "cell_type": "code",
   "execution_count": 3,
   "metadata": {},
   "outputs": [],
   "source": [
    "freq6 = [0.10130159999999999,\n",
    "        0.05342350000000007,\n",
    "        0.05576400000000015,\n",
    "        0.0581252000000001,\n",
    "        0.05251340000000004,\n",
    "        0.06086780000000003,\n",
    "        0.05571959999999976,\n",
    "        0.059011200000000485,\n",
    "        0.07991809999999955,\n",
    "        0.062011599999999945]\n",
    "freq75=[0.05817270000000008,\n",
    "       0.08149359999999994,\n",
    "       0.059247299999999115,\n",
    "       0.05620579999999897,\n",
    "       0.055149200000000675,\n",
    "       0.061507399999998214,\n",
    "       0.0563015999999994,\n",
    "       0.06002769999999913,\n",
    "       0.06583189999999917,\n",
    "       0.06783400000000128]\n",
    "freq85=[0.059105800000001096,\n",
    "       0.05554889999999979,\n",
    "       0.055105600000000976,\n",
    "       0.058534600000001547,\n",
    "       0.054522899999998486,\n",
    "       0.08237730000000454,\n",
    "       0.05830269999999871,\n",
    "       0.056932199999998545,\n",
    "       0.05595610000000306,\n",
    "       0.07316969999999756]\n",
    "freq10=[0.06489899999999693,\n",
    "       0.05827729999999676,\n",
    "       0.05426230000000132,\n",
    "       0.0574912999999988,\n",
    "       0.05886270000000238,\n",
    "       0.07408780000000093,\n",
    "       0.052542300000002484,\n",
    "       0.05333519999999936,\n",
    "       0.0622253999999991,\n",
    "       0.07095400000000396]\n",
    "\n",
    "p_r_k = np.array([freq6 , freq75 , freq85 , freq10]).mean(axis=0)"
   ]
  },
  {
   "cell_type": "markdown",
   "metadata": {},
   "source": [
    "## dbscan"
   ]
  },
  {
   "cell_type": "code",
   "execution_count": 4,
   "metadata": {},
   "outputs": [],
   "source": [
    "freq6=[0.1062566999999035,\n",
    "       0.08094520000008742,\n",
    "       0.14718729999981406,\n",
    "       0.14259139999990111,\n",
    "       0.07972799999993185,\n",
    "       0.09684479999987161,\n",
    "       0.16166219999990972,\n",
    "       0.1912568000000192,\n",
    "       0.08953200000019024,\n",
    "       0.11913890000005267]\n",
    "freq75=[0.22936110000000554,\n",
    "       0.17856090000009317,\n",
    "       0.10031030000027386,\n",
    "       0.083932200000163,\n",
    "       0.1942364000001362,\n",
    "       0.18148059999998623,\n",
    "       0.08742009999991751,\n",
    "       0.09671769999977187,\n",
    "       0.19740679999995336,\n",
    "       0.17767579999986083]\n",
    "freq85=[0.09096279999994294,\n",
    "       0.09035789999984445,\n",
    "       0.23159949999990204,\n",
    "       0.1691441999998915,\n",
    "       0.13225099999999657,\n",
    "       0.09921389999999519,\n",
    "       0.1216106999997919,\n",
    "       0.13202319999982137,\n",
    "       0.19226049999997485,\n",
    "       0.10341429999994034]\n",
    "freq10=[0.10139379999986886,\n",
    "       0.1777159999999185,\n",
    "       0.13026300000001356,\n",
    "       0.10519670000007864,\n",
    "       0.23039220000009664,\n",
    "       0.2665902000001097,\n",
    "       0.11438199999997778,\n",
    "       0.10743359999992208,\n",
    "       0.10690490000001773,\n",
    "       0.26464519999990443]\n",
    "\n",
    "p_r_d = np.array([freq6 , freq75 , freq85 , freq10]).mean(axis=0)"
   ]
  },
  {
   "cell_type": "code",
   "execution_count": null,
   "metadata": {},
   "outputs": [],
   "source": []
  },
  {
   "cell_type": "markdown",
   "metadata": {},
   "source": [
    "## gmm"
   ]
  },
  {
   "cell_type": "code",
   "execution_count": 5,
   "metadata": {},
   "outputs": [],
   "source": [
    "freq6=[0.08241759999998521,\n",
    "       0.015134300000028134,\n",
    "       0.0289231000000143,\n",
    "       0.023854000000000042,\n",
    "       0.022182100000009086,\n",
    "       0.03201599999999871,\n",
    "       0.022762099999994234,\n",
    "       0.051728199999985236,\n",
    "       0.041735600000009754,\n",
    "       0.02740389999999593]\n",
    "freq75=[0.019673799999992525,\n",
    "       0.020010499999983722,\n",
    "       0.015458100000046215,\n",
    "       0.025538500000010345,\n",
    "       0.04285289999998554,\n",
    "       0.06579019999998081,\n",
    "       0.04554140000001894,\n",
    "       0.017135499999994863,\n",
    "       0.033181500000011965,\n",
    "       0.12022669999998925]\n",
    "freq85=[0.025323500000013155,\n",
    "       0.022815800000017816,\n",
    "       0.042875400000014,\n",
    "       0.029562599999991335,\n",
    "       0.020626399999997602,\n",
    "       0.029462300000034247,\n",
    "       0.022504800000007208,\n",
    "       0.01773520000000417,\n",
    "       0.02280489999998281,\n",
    "       0.018960399999997435]\n",
    "freq10=[0.03509079999997766,\n",
    "       0.014724200000017618,\n",
    "       0.015131800000006024,\n",
    "       0.036639900000011494,\n",
    "       0.015318400000012389,\n",
    "       0.02573560000001862,\n",
    "       0.019795899999962785,\n",
    "       0.015454099999999471,\n",
    "       0.026887000000016315,\n",
    "       0.01422139999999672]\n",
    "\n",
    "p_r_g = np.array([freq6 , freq75 , freq85 , freq10]).mean(axis=0)"
   ]
  },
  {
   "cell_type": "code",
   "execution_count": 23,
   "metadata": {},
   "outputs": [
    {
     "data": {
      "image/png": "[encoded data removed]",
      "text/plain": [
       "<Figure size 322x230 with 1 Axes>"
      ]
     },
     "metadata": {
      "needs_background": "light"
     },
     "output_type": "display_data"
    }
   ],
   "source": [
    "freq = [2,3,4,5,6,7,8,9,10]\n",
    "plt.figure(figsize=(2.8,2.0) , dpi=115) #2.2,2.0) , dpi=115\n",
    "\n",
    "plt.plot(freq , incre_rms , marker='o' , label='增量学习')\n",
    "plt.plot(freq , p_r_k[1:] , marker='s' , label='K-Means')\n",
    "#plt.plot(freq , p_r_d[1:] , marker='p' , label='DBSCAN')\n",
    "plt.plot(freq , p_r_g[1:] , marker='*' , color='#D62728' ,label='GMM')\n",
    "\n",
    "#plt.legend(loc=6)\n",
    "plt.ylabel('时间(s)',fontsize=10.5)\n",
    "plt.xlabel('会话',fontsize=10.5)\n",
    "\n",
    "plt.xticks(freq)\n",
    "\n",
    "plt.title('PCA_RMS',fontsize=10.5)\n",
    "\n",
    "plt.grid() #去掉网格线\n",
    "plt.show()\n",
    "plt.close()"
   ]
  },
  {
   "cell_type": "markdown",
   "metadata": {},
   "source": [
    "# cnn_ae"
   ]
  },
  {
   "cell_type": "markdown",
   "metadata": {},
   "source": [
    "## kmeans"
   ]
  },
  {
   "cell_type": "code",
   "execution_count": 24,
   "metadata": {},
   "outputs": [],
   "source": [
    "freq6=[0.0753941,\n",
    "      0.052319400000000016,\n",
    "      0.05688499999999941,\n",
    "      0.056189400000000056,\n",
    "      0.052195899999999185,\n",
    "      0.0734204000000016,\n",
    "      0.05586730000000095,\n",
    "      0.05709639999999894,\n",
    "      0.0708675999999997,\n",
    "      0.0701552999999997]\n",
    "freq75=[0.0722994,\n",
    "      0.06674129999999989,\n",
    "      0.06572109999999931,\n",
    "      0.05355470000000029,\n",
    "      0.056180099999998845,\n",
    "      0.06207389999999968,\n",
    "      0.054061100000000195,\n",
    "      0.0563053,\n",
    "      0.0579351999999993,\n",
    "      0.0749139999999997]\n",
    "freq85=[0.0628644,\n",
    "      0.05546169999999995,\n",
    "      0.05574060000000003,\n",
    "      0.05531630000000032,\n",
    "      0.05247789999999952,\n",
    "      0.05499709999999958,\n",
    "      0.05462890000000087,\n",
    "      0.05609880000000089,\n",
    "      0.05444060000000306,\n",
    "      0.05840520000000282]\n",
    "freq10=[0.0599142,\n",
    "      0.052649600000000074,\n",
    "      0.05377960000000037,\n",
    "      0.05757499999999993,\n",
    "      0.053131300000000437,\n",
    "      0.053506100000001666,\n",
    "      0.05088759999999937,\n",
    "      0.060484000000002425,\n",
    "      0.06926409999999805,\n",
    "      0.05443299999999596]\n",
    "\n",
    "p_c_k = np.array([freq6 , freq75 , freq85 , freq10]).mean(axis=0)"
   ]
  },
  {
   "cell_type": "code",
   "execution_count": null,
   "metadata": {},
   "outputs": [],
   "source": []
  },
  {
   "cell_type": "markdown",
   "metadata": {},
   "source": [
    "## dbscan"
   ]
  },
  {
   "cell_type": "code",
   "execution_count": 25,
   "metadata": {},
   "outputs": [],
   "source": [
    "freq6=[0.1616505,\n",
    "      0.05138419999999977,\n",
    "      0.05140600000000006,\n",
    "      0.05253049999999959,\n",
    "      0.050622399999999956,\n",
    "      0.05780739999999973,\n",
    "      0.050758500000000595,\n",
    "      0.051918799999999266,\n",
    "      0.05831420000000165,\n",
    "      0.06277470000000207]\n",
    "freq75=[0.062116099999999994,\n",
    "      0.061544199999999716,\n",
    "      0.056537899999999475,\n",
    "      0.056002399999999675,\n",
    "      0.07525409999999866,\n",
    "      0.06081110000000045,\n",
    "      0.054519599999999,\n",
    "      0.057719600000000426,\n",
    "      0.057130999999998267,\n",
    "      0.060195300000000174]\n",
    "freq85=[0.0545924,\n",
    "      0.051638199999999745,\n",
    "      0.04976510000000012,\n",
    "      0.05906779999999934,\n",
    "      0.05707379999999951,\n",
    "      0.051959000000001865,\n",
    "      0.05439819999999962,\n",
    "      0.07176580000000143,\n",
    "      0.05528500000000136,\n",
    "      0.055821800000000366]\n",
    "freq10=[0.06262419999999999,\n",
    "      0.05738469999999962,\n",
    "      0.048268499999999825,\n",
    "      0.05417589999999972,\n",
    "      0.04891699999999943,\n",
    "      0.05273009999999978,\n",
    "      0.047446100000001934,\n",
    "      0.05375770000000202,\n",
    "      0.060860300000001644,\n",
    "      0.053096699999997554]\n",
    "\n",
    "p_c_d = np.array([freq6 , freq75 , freq85 , freq10]).mean(axis=0)"
   ]
  },
  {
   "cell_type": "code",
   "execution_count": null,
   "metadata": {},
   "outputs": [],
   "source": []
  },
  {
   "cell_type": "markdown",
   "metadata": {},
   "source": [
    "## gmm"
   ]
  },
  {
   "cell_type": "code",
   "execution_count": 26,
   "metadata": {},
   "outputs": [],
   "source": [
    "freq6=[0.0324387,\n",
    "      0.03578440000000027,\n",
    "      0.04120349999999995,\n",
    "      0.02459220000000073,\n",
    "      0.035348300000000776,\n",
    "      0.024231499999999073,\n",
    "      0.0280832999999987,\n",
    "      0.021119500000001068,\n",
    "      0.01786639999999906,\n",
    "      0.018795799999999474]\n",
    "freq75=[0.0678126,\n",
    "      0.03427680000000022,\n",
    "      0.04269630000000024,\n",
    "      0.05559379999999958,\n",
    "      0.03333750000000002,\n",
    "      0.044654599999999434,\n",
    "      0.029496499999998704,\n",
    "      0.0315171000000003,\n",
    "      0.028586100000001835,\n",
    "      0.042093600000001175]\n",
    "freq85=[0.0280181,\n",
    "     0.0500642 ,\n",
    "      0.040785699999999814,\n",
    "      0.03184029999999982,\n",
    "      0.03619000000000128,\n",
    "      0.023475800000001712,\n",
    "      0.04252379999999967,\n",
    "      0.01981810000000017,\n",
    "      0.043502300000000105,\n",
    "      0.025501500000000732]\n",
    "freq10=[0.0369429,\n",
    "      0.018053500000000167,\n",
    "      0.019675999999999583,\n",
    "      0.019109300000001106,\n",
    "      0.034386200000000144,\n",
    "      0.0304883000000018,\n",
    "     0.042941000000000784 ,\n",
    "      0.027709700000002613,\n",
    "      0.01950869999999938,\n",
    "      0.03717490000000012]\n",
    "\n",
    "p_c_g = np.array([freq6 , freq75 , freq85 , freq10]).mean(axis=0)"
   ]
  },
  {
   "cell_type": "code",
   "execution_count": 28,
   "metadata": {},
   "outputs": [
    {
     "data": {
      "image/png": "[encoded data removed]",
      "text/plain": [
       "<Figure size 322x230 with 1 Axes>"
      ]
     },
     "metadata": {
      "needs_background": "light"
     },
     "output_type": "display_data"
    }
   ],
   "source": [
    "freq = [2,3,4,5,6,7,8,9,10]\n",
    "plt.figure(figsize=(2.8,2.0) , dpi=115) #2.2,2.0) , dpi=115\n",
    "\n",
    "#plt.plot(freq , incre_cnn , marker='o' , label='增量学习')\n",
    "plt.plot(freq , p_c_k[1:] , marker='s' , label='K-Means')\n",
    "#plt.plot(freq , p_c_d[1:] , marker='p' , label='DBSCAN')\n",
    "plt.plot(freq , p_c_g[1:] , marker='*' ,color='#D62728', label='GMM')\n",
    "\n",
    "#plt.legend(loc=3)\n",
    "plt.ylabel('时间(s)',fontsize=10.5)\n",
    "plt.xlabel('会话',fontsize=10.5)\n",
    "\n",
    "plt.xticks(freq)\n",
    "\n",
    "plt.title('PCA_CNN-AE' , fontsize=10.5)\n",
    "\n",
    "plt.grid() #去掉网格线\n",
    "plt.show()\n",
    "plt.close()"
   ]
  },
  {
   "cell_type": "code",
   "execution_count": null,
   "metadata": {},
   "outputs": [],
   "source": []
  },
  {
   "cell_type": "code",
   "execution_count": null,
   "metadata": {},
   "outputs": [],
   "source": []
  }
 ],
 "metadata": {
  "kernelspec": {
   "display_name": "Python 3",
   "language": "python",
   "name": "python3"
  },
  "language_info": {
   "codemirror_mode": {
    "name": "ipython",
    "version": 3
   },
   "file_extension": ".py",
   "mimetype": "text/x-python",
   "name": "python",
   "nbconvert_exporter": "python",
   "pygments_lexer": "ipython3",
   "version": "3.6.10"
  }
 },
 "nbformat": 4,
 "nbformat_minor": 4
}
