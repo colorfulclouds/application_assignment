{
 "cells": [
  {
   "cell_type": "code",
   "execution_count": 10,
   "metadata": {},
   "outputs": [],
   "source": [
    "import numpy as np\n",
    "import matplotlib.pyplot as plt\n",
    "import seaborn as sns\n",
    "import pandas as pd\n",
    "\n",
    "import matplotlib.pylab as pylab\n",
    "import scipy.io\n",
    "import matplotlib.patches as mpathes\n",
    "\n",
    "#import pygal\n",
    "\n",
    "# This import registers the 3D projection, but is otherwise unused.\n",
    "from mpl_toolkits.mplot3d import Axes3D  # noqa: F401 unused import\n",
    "\n",
    "%matplotlib inline"
   ]
  },
  {
   "cell_type": "code",
   "execution_count": 11,
   "metadata": {},
   "outputs": [],
   "source": [
    "incre_rms = np.array([0.07583042, 0.07515859, 0.07600063, 0.07672203, 0.07849378,\n",
    "       0.07442374, 0.0741365 , 0.07720608, 0.07467419])\n",
    "\n",
    "incre_cnn = np.array([5.20942191, 5.21092565, 5.20594528, 5.21395184, 5.21867043,\n",
    "       5.2176777 , 5.21259789, 5.21066482, 5.21792331])"
   ]
  },
  {
   "cell_type": "markdown",
   "metadata": {},
   "source": [
    "# rms"
   ]
  },
  {
   "cell_type": "markdown",
   "metadata": {},
   "source": [
    "## kmeans"
   ]
  },
  {
   "cell_type": "code",
   "execution_count": 12,
   "metadata": {},
   "outputs": [],
   "source": [
    "frqe6=[0.0469891,\n",
    "      0.045040699999999934,\n",
    "      0.05377579999999993,\n",
    "     0.0443302000000001 ,\n",
    "      0.044810899999999876,\n",
    "      0.04307020000000028,\n",
    "      0.045813199999999554,\n",
    "      0.0509385,\n",
    "      0.04652039999999946,\n",
    "      0.049921699999999625]\n",
    "frqe75=[0.05052659999999953,\n",
    "      0.06562860000000015,\n",
    "      0.04862259999999985,\n",
    "      0.04769749999999995,\n",
    "      0.04564149999999856,\n",
    "      0.04400839999999917,\n",
    "      0.04533649999999945,\n",
    "      0.04179790000000061,\n",
    "      0.04332020000000014,\n",
    "      0.045362199999999575]\n",
    "frqe85=[0.043044999999999334,\n",
    "      0.046910700000001526,\n",
    "      0.04363899999999887,\n",
    "      0.043397099999999966,\n",
    "      0.044230800000001125,\n",
    "      0.04367829999999984,\n",
    "      0.044799500000003434,\n",
    "      0.04231919999999789,\n",
    "      0.04263010000000378,\n",
    "      0.04196190000000044]\n",
    "frqe10=[0.043859699999998725,\n",
    "      0.04267750000000348,\n",
    "      0.04048309999999944,\n",
    "      0.0450614999999992,\n",
    "      0.0410125999999984,\n",
    "      0.043004199999998605,\n",
    "      0.04277429999999782,\n",
    "      0.04182419999999709,\n",
    "      0.0449867000000026,\n",
    "      0.043029600000000556]\n",
    "\n",
    "l_r_k = np.array([frqe6 , frqe75 , frqe85 , frqe10]).mean(axis=0)"
   ]
  },
  {
   "cell_type": "code",
   "execution_count": null,
   "metadata": {},
   "outputs": [],
   "source": []
  },
  {
   "cell_type": "markdown",
   "metadata": {},
   "source": [
    "## dbscan"
   ]
  },
  {
   "cell_type": "code",
   "execution_count": 13,
   "metadata": {},
   "outputs": [],
   "source": [
    "frqe6=[0.08003570000005311,\n",
    "      0.08667140000011386,\n",
    "      0.08637109999995118,\n",
    "      0.07220090000009804,\n",
    "      0.07377999999994245,\n",
    "      0.20257969999988745,\n",
    "      0.07566120000024057,\n",
    "      0.07866500000000087,\n",
    "      0.06796510000003764,\n",
    "      0.09772559999987607]\n",
    "frqe75=[0.06475640000007843,\n",
    "      0.08817399999998088,\n",
    "     0.08058159999995951 ,\n",
    "      0.08402550000005249,\n",
    "      0.07777280000004794,\n",
    "      0.06979389999992236,\n",
    "      0.09415779999994811,\n",
    "      0.07283819999997831,\n",
    "      0.08398710000005849,\n",
    "      0.06909470000005058]\n",
    "frqe85=[0.06759159999978692,\n",
    "      0.07676979999996547,\n",
    "      0.0748862000000372,\n",
    "      0.0714290000003075,\n",
    "      0.07746739999993224,\n",
    "      0.1154845999999452,\n",
    "      0.07976819999998952,\n",
    "      0.07157340000003387,\n",
    "      0.06209539999986191,\n",
    "      0.06455909999999676]\n",
    "frqe10=[0.07013129999995726,\n",
    "      0.07128760000000511,\n",
    "      0.06114299999967443,\n",
    "      0.0593724000000293,\n",
    "      0.06902940000009039,\n",
    "      0.08307719999993424,\n",
    "      0.10152889999994841,\n",
    "      0.06778090000011616,\n",
    "      0.09347539999976107,\n",
    "      0.0727902000000995]\n",
    "\n",
    "l_r_d = np.array([frqe6 , frqe75 , frqe85 , frqe10]).mean(axis=0)"
   ]
  },
  {
   "cell_type": "code",
   "execution_count": null,
   "metadata": {},
   "outputs": [],
   "source": []
  },
  {
   "cell_type": "markdown",
   "metadata": {},
   "source": [
    "## gmm"
   ]
  },
  {
   "cell_type": "code",
   "execution_count": 14,
   "metadata": {},
   "outputs": [],
   "source": [
    "frqe6=[0.015922900000006734,\n",
    "      0.016042799999993917,\n",
    "     0.01758010000000354 ,\n",
    "      0.0162850999999975,\n",
    "      0.017107099999996933,\n",
    "      0.015527099999999905,\n",
    "      0.020075100000006785,\n",
    "      0.015537999999999386,\n",
    "      0.0157136000000051,\n",
    "      0.01821329999999932]\n",
    "frqe75=[0.01579140000001189,\n",
    "      0.01622879999999327,\n",
    "      0.015363000000007787,\n",
    "     0.015630199999989713 ,\n",
    "      0.017320699999984868,\n",
    "      0.015359099999997738,\n",
    "     0.015495499999985896 ,\n",
    "      0.015493499999990945,\n",
    "      0.01582700000000159,\n",
    "      0.016261199999988207]\n",
    "frqe85=[0.019315899999995167,\n",
    "      0.018373000000011075,\n",
    "      0.01843929999998295,\n",
    "      0.016721000000003983,\n",
    "      0.015259600000007367,\n",
    "      0.01608379999998988,\n",
    "      0.015066300000000865,\n",
    "      0.015385899999998287,\n",
    "      0.01566259999999886,\n",
    "      0.015781100000012316]\n",
    "frqe10=[0.018725299999985623,\n",
    "      0.019162699999995425,\n",
    "      0.01963239999999189,\n",
    "      0.01859210000000644,\n",
    "      0.016242199999993545,\n",
    "      0.016054900000000316,\n",
    "      0.017096200000011663,\n",
    "      0.015821299999998928,\n",
    "      0.01566710000000171,\n",
    "      0.015944199999992748]\n",
    "\n",
    "l_r_g = np.array([frqe6 , frqe75 , frqe85 , frqe10]).mean(axis=0)"
   ]
  },
  {
   "cell_type": "code",
   "execution_count": 18,
   "metadata": {},
   "outputs": [
    {
     "data": {
      "image/png": "[encoded data removed]",
      "text/plain": [
       "<Figure size 432x288 with 1 Axes>"
      ]
     },
     "metadata": {
      "needs_background": "light"
     },
     "output_type": "display_data"
    }
   ],
   "source": [
    "freq = [2,3,4,5,6,7,8,9,10]\n",
    "\n",
    "plt.plot(freq , incre_rms , marker='o' , label='incremental')\n",
    "plt.plot(freq , l_r_k[1:] , marker='s' , label='kmeans')\n",
    "plt.plot(freq , l_r_d[1:] , marker='p' , label='dbscan')\n",
    "plt.plot(freq , l_r_g[1:] , marker='*' , label='gmm')\n",
    "\n",
    "plt.legend(loc=3)\n",
    "plt.ylabel('Time(s)')\n",
    "plt.xlabel('Session')\n",
    "\n",
    "plt.xticks(freq)\n",
    "\n",
    "plt.title('LDA_RMS')\n",
    "\n",
    "plt.grid() #去掉网格线\n",
    "plt.show()\n",
    "plt.close()"
   ]
  },
  {
   "cell_type": "markdown",
   "metadata": {},
   "source": [
    "# cnn-ae"
   ]
  },
  {
   "cell_type": "markdown",
   "metadata": {},
   "source": [
    "## kmeans"
   ]
  },
  {
   "cell_type": "code",
   "execution_count": 19,
   "metadata": {},
   "outputs": [],
   "source": [
    "frqe6=[0.0716697,\n",
    "      0.050294399999999406,\n",
    "      0.049805700000000286,\n",
    "      0.049567200000000255,\n",
    "     0.046796999999999755 ,\n",
    "      0.0581788999999997,\n",
    "      0.04967110000000119,\n",
    "     0.04804269999999988 ,\n",
    "     0.05779929999999567 ,\n",
    "      0.06012959999999978]\n",
    "frqe75=[0.0678909,\n",
    "     0.0548801000000001 ,\n",
    "      0.050948899999998964,\n",
    "      0.05312240000000035,\n",
    "     0.04688020000000215 ,\n",
    "     0.04928559999999926 ,\n",
    "     0.05052309999999949 ,\n",
    "     0.049712400000000656 ,\n",
    "      0.05480930000000228,\n",
    "      0.06546910000000139]\n",
    "frqe85=[0.055306999999999995,\n",
    "     0.049395700000000264 ,\n",
    "      0.04749730000000074,\n",
    "     0.050298399999999965 ,\n",
    "     0.048638799999999094 ,\n",
    "      0.049214400000000325,\n",
    "      0.0490365999999991,\n",
    "      0.04981849999999888,\n",
    "      0.04958329999999833,\n",
    "      0.0510130999999987]\n",
    "frqe10=[0.062126799999999996,\n",
    "     0.05073250000000007 ,\n",
    "      0.048028200000000076,\n",
    "      0.0511436999999999,\n",
    "     0.04829999999999934 ,\n",
    "     0.04873169999999938 ,\n",
    "     0.049480700000000155 ,\n",
    "      0.04934400000000139,\n",
    "      0.05213369999999884,\n",
    "      0.04856690000000086]\n",
    "\n",
    "l_c_k = np.array([frqe6 , frqe75 , frqe85 , frqe10]).mean(axis=0)"
   ]
  },
  {
   "cell_type": "code",
   "execution_count": null,
   "metadata": {},
   "outputs": [],
   "source": []
  },
  {
   "cell_type": "markdown",
   "metadata": {},
   "source": [
    "## dbscan"
   ]
  },
  {
   "cell_type": "code",
   "execution_count": 20,
   "metadata": {},
   "outputs": [],
   "source": [
    "frqe6=[0.1353649,\n",
    "      0.07470029999999994,\n",
    "      0.05068250000000063,\n",
    "      0.13643409999999978,\n",
    "      0.05998650000000083,\n",
    "      0.05397879999999944,\n",
    "      0.05096179999999961,\n",
    "     0.04736459999999987 ,\n",
    "      0.054262000000001365,\n",
    "      0.05162070000000085]\n",
    "frqe75=[0.0870048,\n",
    "      0.06951799999999997,\n",
    "      0.0553543000000003,\n",
    "      0.05592950000000041,\n",
    "      0.05391709999999961,\n",
    "      0.05309720000000162,\n",
    "      0.058676300000000126,\n",
    "      0.053559400000001034,\n",
    "      0.058619899999996505,\n",
    "      0.0610861000000007]\n",
    "frqe85=[0.0548569,\n",
    "      0.05093190000000014,\n",
    "      0.04821769999999859,\n",
    "      0.05382150000000063,\n",
    "     0.049544300000000874 ,\n",
    "      0.050747499999999945,\n",
    "      0.04822809999999933,\n",
    "      0.053429400000000626,\n",
    "      0.04823050000000251,\n",
    "      0.055984299999998655]\n",
    "frqe10=[0.056990299999999994,\n",
    "      0.05055929999999975,\n",
    "      0.04840089999999986,\n",
    "      0.15729850000000045,\n",
    "      0.048312199999999805,\n",
    "      0.04917909999999992,\n",
    "      0.048079800000000006,\n",
    "      0.04992799999999953,\n",
    "      0.05280420000000419,\n",
    "      0.049037399999999565]\n",
    "\n",
    "l_c_d = np.array([frqe6 , frqe75 , frqe85 , frqe10]).mean(axis=0)"
   ]
  },
  {
   "cell_type": "code",
   "execution_count": null,
   "metadata": {},
   "outputs": [],
   "source": []
  },
  {
   "cell_type": "markdown",
   "metadata": {},
   "source": [
    "## gmm"
   ]
  },
  {
   "cell_type": "code",
   "execution_count": 21,
   "metadata": {},
   "outputs": [],
   "source": [
    "freq6=[0.1221087,\n",
    "      0.0410096000000002,\n",
    "      0.05775349999999957,\n",
    "      0.03435599999999983,\n",
    "      0.08408850000000001,\n",
    "     0.035053300000001286 ,\n",
    "    0.026360899999998466  ,\n",
    "     0.028252000000001942 ,\n",
    "     0.026544900000001093 ,\n",
    "     0.025365999999998223 ]\n",
    "freq75=[0.0274266,\n",
    "      0.023601200000000322,\n",
    "      0.022774099999999464,\n",
    "     0.030176199999999653 ,\n",
    "      0.031598300000000634,\n",
    "      0.02576460000000047,\n",
    "      0.04398639999999965,\n",
    "      0.0214932000000001,\n",
    "      0.024052900000000932,\n",
    "      0.026205000000000922]\n",
    "freq85=[0.030942,\n",
    "      0.022821200000000097,\n",
    "      0.025923900000000444,\n",
    "      0.024764099999998734,\n",
    "      0.03991030000000073,\n",
    "      0.02326249999999952,\n",
    "      0.02760919999999878,\n",
    "      0.03255659999999949,\n",
    "      0.022651200000002092,\n",
    "      0.02737120000000104]\n",
    "freq10=[0.030183599999999998,\n",
    "      0.023428100000000285,\n",
    "      0.02276279999999975,\n",
    "      0.022137199999999524,\n",
    "      0.03274309999999936,\n",
    "      0.030506300000000763,\n",
    "      0.05166100000000107,\n",
    "      0.030187199999998526,\n",
    "      0.031187499999997925,\n",
    "      0.02504689999999954]\n",
    "\n",
    "l_c_g = np.array([frqe6 , frqe75 , frqe85 , frqe10]).mean(axis=0)"
   ]
  },
  {
   "cell_type": "code",
   "execution_count": 22,
   "metadata": {},
   "outputs": [
    {
     "data": {
      "image/png": "[encoded data removed]",
      "text/plain": [
       "<Figure size 432x288 with 1 Axes>"
      ]
     },
     "metadata": {
      "needs_background": "light"
     },
     "output_type": "display_data"
    }
   ],
   "source": [
    "freq = [2,3,4,5,6,7,8,9,10]\n",
    "\n",
    "plt.plot(freq , incre_cnn , marker='o' , label='incremental')\n",
    "plt.plot(freq , l_c_k[1:] , marker='s' , label='kmeans')\n",
    "plt.plot(freq , l_c_d[1:] , marker='p' , label='dbscan')\n",
    "plt.plot(freq , l_c_g[1:] , marker='*' , label='gmm')\n",
    "\n",
    "plt.legend(loc=3)\n",
    "plt.ylabel('Time(s)')\n",
    "plt.xlabel('Session')\n",
    "\n",
    "plt.xticks(freq)\n",
    "\n",
    "plt.title('LDA_CNN-AE')\n",
    "\n",
    "plt.grid() #去掉网格线\n",
    "plt.show()\n",
    "plt.close()"
   ]
  },
  {
   "cell_type": "code",
   "execution_count": null,
   "metadata": {},
   "outputs": [],
   "source": []
  }
 ],
 "metadata": {
  "kernelspec": {
   "display_name": "Python 3",
   "language": "python",
   "name": "python3"
  },
  "language_info": {
   "codemirror_mode": {
    "name": "ipython",
    "version": 3
   },
   "file_extension": ".py",
   "mimetype": "text/x-python",
   "name": "python",
   "nbconvert_exporter": "python",
   "pygments_lexer": "ipython3",
   "version": "3.6.10"
  }
 },
 "nbformat": 4,
 "nbformat_minor": 4
}
