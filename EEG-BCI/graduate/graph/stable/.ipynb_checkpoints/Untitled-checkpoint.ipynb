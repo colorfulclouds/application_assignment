{
 "cells": [
  {
   "cell_type": "code",
   "execution_count": 2,
   "metadata": {},
   "outputs": [],
   "source": [
    "import numpy as np\n",
    "import matplotlib.pyplot as plt\n",
    "import seaborn as sns\n",
    "import pandas as pd\n",
    "\n",
    "import matplotlib.pylab as pylab\n",
    "import scipy.io\n",
    "\n",
    "import pygal\n",
    "\n",
    "# This import registers the 3D projection, but is otherwise unused.\n",
    "from mpl_toolkits.mplot3d import Axes3D  # noqa: F401 unused import\n",
    "\n",
    "%matplotlib inline"
   ]
  },
  {
   "cell_type": "markdown",
   "metadata": {},
   "source": [
    "# x_base_sbp"
   ]
  },
  {
   "cell_type": "code",
   "execution_count": null,
   "metadata": {},
   "outputs": [],
   "source": [
    "#accuracy\n",
    "sfreq_6 = np.array([[0.5048309178],\n",
    "                    [0.8164251207],\n",
    "                    [0.5845410628],\n",
    "                    [0.6980676328],\n",
    "                    [0.8526570048],\n",
    "                    [0.8474879227],\n",
    "                    [0.8503864734],\n",
    "                    [0.8985507246],\n",
    "                    [0.9082125603],\n",
    "                    [0.9105314009]])\n",
    "                \n",
    "sfreq_7_5 =np.array([[0.483091787],\n",
    "                    [0.838164251],\n",
    "                    [0.949275362],\n",
    "                    [0.719806763],\n",
    "                    [0.727391304],\n",
    "                    [0.753623188],\n",
    "                    [0.757053140],\n",
    "                    [0.768115942],\n",
    "                    [0.961352657],\n",
    "                    [0.923188405]])\n",
    "                \n",
    "sfreq_8_5 =np.array([[0.642512077],\n",
    "                    [0.611111111],\n",
    "                    [0.480676328],\n",
    "                    [0.611111111],\n",
    "                    [0.753623188],\n",
    "                    [0.876811594],\n",
    "                    [0.858502415],\n",
    "                    [0.929951690],\n",
    "                    [0.835748792],\n",
    "                    [0.895700483]])\n",
    "                \n",
    "sfreq_10 = np.array([[0.507246376],\n",
    "                    [0.702898550],\n",
    "                    [0.690821256],\n",
    "                    [0.637681159],\n",
    "                    [0.719806763],\n",
    "                    [0.971014492],\n",
    "                    [0.904734299],\n",
    "                    [1.0],\n",
    "                    [0.900531400],\n",
    "                    [0.893086419]])"
   ]
  }
 ],
 "metadata": {
  "kernelspec": {
   "display_name": "Python 3",
   "language": "python",
   "name": "python3"
  },
  "language_info": {
   "codemirror_mode": {
    "name": "ipython",
    "version": 3
   },
   "file_extension": ".py",
   "mimetype": "text/x-python",
   "name": "python",
   "nbconvert_exporter": "python",
   "pygments_lexer": "ipython3",
   "version": "3.6.10"
  }
 },
 "nbformat": 4,
 "nbformat_minor": 4
}
