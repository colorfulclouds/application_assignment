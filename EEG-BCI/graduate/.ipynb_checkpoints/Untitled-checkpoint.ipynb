{
 "cells": [
  {
   "cell_type": "code",
   "execution_count": 1,
   "metadata": {},
   "outputs": [],
   "source": [
    "s=[\n",
    "'MFCC',\n",
    "   'SVM',\n",
    "  'EGM',\n",
    "  'HOG',\n",
    "  'LBP',\n",
    "  'DNA',\n",
    "  'EC',\n",
    "  'EO',\n",
    "  'SMR',\n",
    "  'SI',\n",
    "  'VEP',\n",
    "  'CSP',\n",
    "  'RMS',\n",
    "  'SBP',\n",
    "  'AR',\n",
    "  'AE',\n",
    "  'CNN',\n",
    "  'RNN',\n",
    "  'PCA',\n",
    "  'LDA',\n",
    "  'kNN',\n",
    "  'RSVP',\n",
    "  'CEREBRE',\n",
    "  'ERP',\n",
    "  'LSTM',\n",
    "  'MCC',\n",
    "  'RQK',\n",
    "  'FZAR',\n",
    "  'SSVEP',\n",
    "  'BCI',\n",
    "  'LED',\n",
    "  'PCB',\n",
    "  'FFT',\n",
    "  'FC',\n",
    "  'ReLU',\n",
    "  'MSE',\n",
    "  'SMO',\n",
    "  'OVO',\n",
    "  'OVR',\n",
    "  'CART',\n",
    "  'OOB',\n",
    "  'BP',\n",
    "  'BN',\n",
    "  'PReLU',\n",
    "  'CReLU',\n",
    "  'GRU',\n",
    "  'BGD',\n",
    "  'SSE',\n",
    "  'MSC',\n",
    "  'DBSCAN',\n",
    "  'GMM',\n",
    "  'EM',\n",
    "  'OFID',\n",
    "  'DWT']"
   ]
  },
  {
   "cell_type": "code",
   "execution_count": 2,
   "metadata": {},
   "outputs": [],
   "source": [
    "s.sort()"
   ]
  },
  {
   "cell_type": "code",
   "execution_count": 3,
   "metadata": {},
   "outputs": [
    {
     "data": {
      "text/plain": [
       "['AE',\n",
       " 'AR',\n",
       " 'BCI',\n",
       " 'BGD',\n",
       " 'BN',\n",
       " 'BP',\n",
       " 'CART',\n",
       " 'CEREBRE',\n",
       " 'CNN',\n",
       " 'CReLU',\n",
       " 'CSP',\n",
       " 'DBSCAN',\n",
       " 'DNA',\n",
       " 'DWT',\n",
       " 'EC',\n",
       " 'EGM',\n",
       " 'EM',\n",
       " 'EO',\n",
       " 'ERP',\n",
       " 'FC',\n",
       " 'FFT',\n",
       " 'FZAR',\n",
       " 'GMM',\n",
       " 'GRU',\n",
       " 'HOG',\n",
       " 'LBP',\n",
       " 'LDA',\n",
       " 'LED',\n",
       " 'LSTM',\n",
       " 'MCC',\n",
       " 'MFCC',\n",
       " 'MSC',\n",
       " 'MSE',\n",
       " 'OFID',\n",
       " 'OOB',\n",
       " 'OVO',\n",
       " 'OVR',\n",
       " 'PCA',\n",
       " 'PCB',\n",
       " 'PReLU',\n",
       " 'RMS',\n",
       " 'RNN',\n",
       " 'RQK',\n",
       " 'RSVP',\n",
       " 'ReLU',\n",
       " 'SBP',\n",
       " 'SI',\n",
       " 'SMO',\n",
       " 'SMR',\n",
       " 'SSE',\n",
       " 'SSVEP',\n",
       " 'SVM',\n",
       " 'VEP',\n",
       " 'kNN']"
      ]
     },
     "execution_count": 3,
     "metadata": {},
     "output_type": "execute_result"
    }
   ],
   "source": [
    "s"
   ]
  },
  {
   "cell_type": "code",
   "execution_count": 4,
   "metadata": {},
   "outputs": [
    {
     "data": {
      "text/plain": [
       "54"
      ]
     },
     "execution_count": 4,
     "metadata": {},
     "output_type": "execute_result"
    }
   ],
   "source": [
    "len(s)"
   ]
  },
  {
   "cell_type": "code",
   "execution_count": null,
   "metadata": {},
   "outputs": [],
   "source": []
  }
 ],
 "metadata": {
  "kernelspec": {
   "display_name": "Python 3",
   "language": "python",
   "name": "python3"
  },
  "language_info": {
   "codemirror_mode": {
    "name": "ipython",
    "version": 3
   },
   "file_extension": ".py",
   "mimetype": "text/x-python",
   "name": "python",
   "nbconvert_exporter": "python",
   "pygments_lexer": "ipython3",
   "version": "3.6.10"
  }
 },
 "nbformat": 4,
 "nbformat_minor": 4
}
