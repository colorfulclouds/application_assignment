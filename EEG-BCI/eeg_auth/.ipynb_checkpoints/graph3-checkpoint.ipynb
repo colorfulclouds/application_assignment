{
 "cells": [
  {
   "cell_type": "code",
   "execution_count": 8,
   "metadata": {
    "collapsed": true
   },
   "outputs": [],
   "source": [
    "import matplotlib.pyplot as plt\n",
    "import seaborn as sns\n",
    "import numpy as np\n",
    "import pandas as pd\n",
    "\n",
    "%matplotlib inline"
   ]
  },
  {
   "cell_type": "code",
   "execution_count": null,
   "metadata": {
    "collapsed": true
   },
   "outputs": [],
   "source": [
    "'''\n",
    "fig, ax = plt.subplots()\n",
    "\n",
    "ax.boxplot(rf_stacking_SBP_10 , meanline = True , showmeans = True , positions = [2.1, 3.1] ,widths=0.1)\n",
    "ax.boxplot(rf_stacking_SBP_15 , meanline = True , showmeans = True , positions = [2.2, 3.2] ,widths=0.1 )\n",
    "ax.boxplot(rf_stacking_SBP_20 , meanline = True , showmeans = True , positions = [2.3, 3.3] ,widths=0.1 )\n",
    "ax.boxplot(rf_stacking_SBP_25 , meanline = True , showmeans = True , positions = [2.4, 3.4] ,widths=0.1 )\n",
    "\n",
    "ax.set_xticklabels(['rf' , 'stacking'])\n",
    "plt.title('rf_stacking_SBP')\n",
    "\n",
    "plt.show()\n",
    "\n",
    "'''"
   ]
  },
  {
   "cell_type": "code",
   "execution_count": 79,
   "metadata": {
    "collapsed": true
   },
   "outputs": [],
   "source": [
    "def gene(str1 , str2 , data1 , data2 , data3 , data4):\n",
    "    str1s = [str1]*10\n",
    "    str2s = [str2]*10\n",
    "    \n",
    "    alls = str1s + str2s\n",
    "    \n",
    "    df = pd.DataFrame({'method':alls , '10hz': data1.ravel() , '15hz': data2.ravel(), '20hz':data3.ravel() , '25hz':data4.ravel() })\n",
    "    \n",
    "    return df\n",
    "\n",
    "def draw(str1 , str2 , str3 , data1 , data2 , data3 , data4):\n",
    "    dd = pd.melt(gene(str1 , str2 , data1 , data2 , data3 , data4) , id_vars=['method'],value_vars=['10hz','15hz','20hz','25hz'],var_name='Frequency')\n",
    "    sns.boxplot(x='method',y='value',data=dd,hue='Frequency' , palette=\"Set3\")\n",
    "    plt.ylabel('')\n",
    "    plt.xlabel('')\n",
    "    plt.title(str1+'_'+str2+'_'+str3)"
   ]
  },
  {
   "cell_type": "code",
   "execution_count": 56,
   "metadata": {
    "collapsed": true
   },
   "outputs": [],
   "source": [
    "rf_stacking_SBP_10=np.array([[0.780000 , 0.880000],\n",
    "                             [0.740000 , 0.740000],\n",
    "                             [0.820000 , 0.800000],\n",
    "                             [0.820000 , 0.660000],\n",
    "                             [0.700000 , 0.860000],\n",
    "                             [0.760000 , 0.780000],\n",
    "                             [0.720000 , 0.920000],\n",
    "                             [0.780000 , 0.780000],\n",
    "                             [0.800000 , 0.660000],\n",
    "                             [0.740000 , 0.820000]         \n",
    "             ])\n",
    "rf_stacking_SBP_15=np.array([[0.860000 , 0.780000],\n",
    "                             [0.840000 , 0.780000],\n",
    "                             [0.860000 , 0.800000],\n",
    "                             [0.860000 , 0.780000],\n",
    "                             [0.880000 , 0.780000],\n",
    "                             [0.840000 , 0.860000],\n",
    "                             [0.820000 , 0.780000],\n",
    "                             [0.840000 , 0.800000],\n",
    "                             [0.920000 , 0.720000],\n",
    "                             [0.760000 , 0.860000]         \n",
    "             ])\n",
    "rf_stacking_SBP_20=np.array([[0.760000 , 0.860000],\n",
    "                             [0.840000 , 0.880000],\n",
    "                             [0.820000 , 0.860000],\n",
    "                             [0.920000 , 0.820000],\n",
    "                             [0.740000 , 0.900000],\n",
    "                             [0.860000 , 0.840000],\n",
    "                             [0.800000 , 0.840000],\n",
    "                             [0.820000 , 0.860000],\n",
    "                             [0.740000 , 0.820000],\n",
    "                             [0.720000 , 0.840000]         \n",
    "             ])\n",
    "rf_stacking_SBP_25=np.array([[0.800000 , 0.780000],\n",
    "                             [0.760000 , 0.820000],\n",
    "                             [0.760000 , 0.800000],\n",
    "                             [0.880000 , 0.880000],\n",
    "                             [0.880000 , 0.820000],\n",
    "                             [0.860000 , 0.820000],\n",
    "                             [0.840000 , 0.960000],\n",
    "                             [0.900000 , 0.880000],\n",
    "                             [0.760000 , 0.760000],\n",
    "                             [0.840000 , 0.800000]         \n",
    "             ])\n"
   ]
  },
  {
   "cell_type": "code",
   "execution_count": 80,
   "metadata": {
    "scrolled": true
   },
   "outputs": [
    {
     "data": {
      "image/png": "[encoded data removed]",
      "text/plain": [
       "<Figure size 432x288 with 1 Axes>"
      ]
     },
     "metadata": {},
     "output_type": "display_data"
    }
   ],
   "source": [
    "draw('rf' , 'stacking' , 'SBP' , rf_stacking_SBP_10 , rf_stacking_SBP_15 , rf_stacking_SBP_20 , rf_stacking_SBP_25)"
   ]
  },
  {
   "cell_type": "code",
   "execution_count": null,
   "metadata": {
    "collapsed": true
   },
   "outputs": [],
   "source": []
  },
  {
   "cell_type": "code",
   "execution_count": 60,
   "metadata": {
    "collapsed": true
   },
   "outputs": [],
   "source": [
    "lgbm_voting_SBP_10=np.array([[0.880000 , 0.820000],\n",
    "                             [0.740000 , 0.840000],\n",
    "                             [0.820000 , 0.820000],\n",
    "                             [0.880000 , 0.840000],\n",
    "                             [0.820000 , 0.820000],\n",
    "                             [0.800000 , 0.840000],\n",
    "                             [0.840000 , 0.860000],\n",
    "                             [0.780000 , 0.840000],\n",
    "                             [0.840000 , 0.880000],\n",
    "                             [0.800000 , 0.780000]         \n",
    "             ])\n",
    "lgbm_voting_SBP_15=np.array([[0.920000 , 1.000000],\n",
    "                             [0.880000 , 0.900000],\n",
    "                             [0.920000 , 0.900000],\n",
    "                             [0.800000 , 0.920000],\n",
    "                             [0.860000 , 0.920000],\n",
    "                             [0.820000 , 0.940000],\n",
    "                             [0.860000 , 0.840000],\n",
    "                             [0.880000 , 0.900000],\n",
    "                             [0.740000 , 0.840000],\n",
    "                             [0.920000 , 0.900000]         \n",
    "             ])\n",
    "lgbm_voting_SBP_20=np.array([[0.900000 , 0.880000],\n",
    "                             [0.940000 , 0.880000],\n",
    "                             [0.920000 , 0.840000],\n",
    "                             [0.880000 , 0.920000],\n",
    "                             [0.880000 , 0.820000],\n",
    "                             [0.940000 , 0.800000],\n",
    "                             [0.760000 , 0.820000],\n",
    "                             [0.900000 , 0.920000],\n",
    "                             [0.820000 , 0.780000],\n",
    "                             [0.720000 , 0.840000]         \n",
    "             ])\n",
    "lgbm_voting_SBP_25=np.array([[0.780000 , 0.780000],\n",
    "                             [0.880000 , 0.840000],\n",
    "                             [0.840000 , 0.780000],\n",
    "                             [0.880000 , 0.900000],\n",
    "                             [0.920000 , 0.820000],\n",
    "                             [0.840000 , 0.880000],\n",
    "                             [0.800000 , 0.900000],\n",
    "                             [0.920000 , 0.780000],\n",
    "                             [0.840000 , 0.840000],\n",
    "                             [0.840000 , 0.860000]         \n",
    "             ])"
   ]
  },
  {
   "cell_type": "code",
   "execution_count": 61,
   "metadata": {},
   "outputs": [
    {
     "data": {
      "image/png": "[encoded data removed]",
      "text/plain": [
       "<Figure size 432x288 with 1 Axes>"
      ]
     },
     "metadata": {},
     "output_type": "display_data"
    }
   ],
   "source": [
    "draw('lgbm' , 'voting' , 'SBP' , lgbm_voting_SBP_10 , lgbm_voting_SBP_15 , lgbm_voting_SBP_20 , lgbm_voting_SBP_25)"
   ]
  },
  {
   "cell_type": "code",
   "execution_count": 62,
   "metadata": {
    "collapsed": true
   },
   "outputs": [],
   "source": [
    "lgbm_stacking_SBP_10=np.array([[0.880000 , 0.880000],\n",
    "                               [0.740000 , 0.740000],\n",
    "                               [0.820000 , 0.800000],\n",
    "                               [0.880000 , 0.660000],\n",
    "                               [0.820000 , 0.860000],\n",
    "                               [0.800000 , 0.780000],\n",
    "                               [0.840000 , 0.920000],\n",
    "                               [0.780000 , 0.780000],\n",
    "                               [0.840000 , 0.660000],\n",
    "                               [0.800000 , 0.820000]         \n",
    "             ])\n",
    "lgbm_stacking_SBP_15=np.array([[0.920000 ,0.820000],\n",
    "                               [0.880000 ,0.840000],\n",
    "                               [0.920000 ,0.920000],\n",
    "                               [0.800000 ,0.840000],\n",
    "                               [0.860000 ,0.880000],\n",
    "                               [0.820000 ,0.800000],\n",
    "                               [0.860000 ,0.920000],\n",
    "                               [0.880000 ,0.840000],\n",
    "                               [0.740000 ,0.840000],\n",
    "                               [0.920000 ,0.880000]         \n",
    "             ])\n",
    "lgbm_stacking_SBP_20=np.array([[0.900000 , 0.780000],\n",
    "                               [0.940000 , 0.780000],\n",
    "                               [0.920000 , 0.800000],\n",
    "                               [0.880000 , 0.780000],\n",
    "                               [0.880000 , 0.780000],\n",
    "                               [0.940000 , 0.860000],\n",
    "                               [0.760000 , 0.780000],\n",
    "                               [0.900000 , 0.800000],\n",
    "                               [0.820000 , 0.720000],\n",
    "                               [0.720000 , 0.860000]         \n",
    "             ])\n",
    "lgbm_stacking_SBP_25=np.array([[0.780000 , 0.780000],\n",
    "                               [0.880000 , 0.820000],\n",
    "                               [0.840000 , 0.800000],\n",
    "                               [0.880000 , 0.880000],\n",
    "                               [0.920000 , 0.820000],\n",
    "                               [0.840000 , 0.820000],\n",
    "                               [0.800000 , 0.960000],\n",
    "                               [0.920000 , 0.880000],\n",
    "                               [0.840000 , 0.760000],\n",
    "                               [0.840000 , 0.800000]         \n",
    "             ])\n"
   ]
  },
  {
   "cell_type": "code",
   "execution_count": 63,
   "metadata": {},
   "outputs": [
    {
     "data": {
      "image/png": "[encoded data removed]",
      "text/plain": [
       "<Figure size 432x288 with 1 Axes>"
      ]
     },
     "metadata": {},
     "output_type": "display_data"
    }
   ],
   "source": [
    "draw('lgbm' , 'stacking' , 'SBP' , lgbm_stacking_SBP_10 , lgbm_stacking_SBP_15 , lgbm_stacking_SBP_20 , lgbm_stacking_SBP_25)"
   ]
  },
  {
   "cell_type": "code",
   "execution_count": null,
   "metadata": {
    "collapsed": true
   },
   "outputs": [],
   "source": []
  },
  {
   "cell_type": "code",
   "execution_count": 65,
   "metadata": {
    "collapsed": true
   },
   "outputs": [],
   "source": [
    "rf_stacking_DWT_10=np.array([[0.200000 , 0.800000],\n",
    "                             [0.400000 , 0.500000],\n",
    "                             [0.320000 , 0.700000],\n",
    "                             [0.200000 , 0.700000],\n",
    "                             [0.500000 , 0.600000],\n",
    "                             [0.300000 , 0.640000],\n",
    "                             [0.300000 , 0.760000],\n",
    "                             [0.280000 , 0.720000],\n",
    "                             [0.360000 , 0.780000],\n",
    "                             [0.300000 , 0.700000]         \n",
    "             ])\n",
    "rf_stacking_DWT_15=np.array([[0.860000 , 0.900000],\n",
    "                             [0.400000 , 0.900000],\n",
    "                             [0.820000 , 0.780000],\n",
    "                             [0.400000 , 0.900000],\n",
    "                             [0.600000 , 0.800000],\n",
    "                             [0.880000 , 0.880000],\n",
    "                             [0.360000 , 0.800000],\n",
    "                             [0.400000 , 0.700000],\n",
    "                             [0.400000 , 0.900000],\n",
    "                             [0.920000 , 0.800000]         \n",
    "             ]) \n",
    "rf_stacking_DWT_20=np.array([[0.220000 , 0.280000],\n",
    "                             [0.300000 , 0.540000],\n",
    "                             [0.300000 , 0.720000],\n",
    "                             [0.300000 , 0.620000],\n",
    "                             [0.360000 , 0.700000],\n",
    "                             [0.200000 , 0.720000],\n",
    "                             [0.300000 , 0.720000],\n",
    "                             [0.300000 , 0.280000],\n",
    "                             [0.300000 , 0.600000],\n",
    "                             [0.440000 , 0.720000]         \n",
    "             ]) \n",
    "rf_stacking_DWT_25=np.array([[0.840000 , 0.860000],\n",
    "                             [0.500000 , 0.860000],\n",
    "                             [0.640000 , 0.900000],\n",
    "                             [0.580000 , 0.800000],\n",
    "                             [0.760000 , 0.900000],\n",
    "                             [0.480000 , 0.840000],\n",
    "                             [0.500000 , 0.860000],\n",
    "                             [0.500000 , 0.880000],\n",
    "                             [0.560000 , 0.900000],\n",
    "                             [0.700000 , 0.840000]         \n",
    "             ])"
   ]
  },
  {
   "cell_type": "code",
   "execution_count": 66,
   "metadata": {},
   "outputs": [
    {
     "data": {
      "image/png": "[encoded data removed]",
      "text/plain": [
       "<Figure size 432x288 with 1 Axes>"
      ]
     },
     "metadata": {},
     "output_type": "display_data"
    }
   ],
   "source": [
    "draw('rf' , 'stacking' , 'DWT' , rf_stacking_DWT_10 , rf_stacking_DWT_15 , rf_stacking_DWT_20 , rf_stacking_DWT_25)"
   ]
  },
  {
   "cell_type": "code",
   "execution_count": null,
   "metadata": {
    "collapsed": true
   },
   "outputs": [],
   "source": []
  },
  {
   "cell_type": "code",
   "execution_count": 67,
   "metadata": {
    "collapsed": true
   },
   "outputs": [],
   "source": [
    "lgbm_voting_DWT_10=np.array([[0.600000 , 0.500000],\n",
    "                             [0.600000 , 0.620000],\n",
    "                             [0.700000 , 0.400000],\n",
    "                             [0.500000 , 0.600000],\n",
    "                             [0.620000 , 0.300000],\n",
    "                             [0.680000 , 0.760000],\n",
    "                             [0.400000 , 0.600000],\n",
    "                             [0.720000 , 0.380000],\n",
    "                             [0.800000 , 0.500000],\n",
    "                             [0.500000 , 0.440000]         \n",
    "             ])\n",
    "lgbm_voting_DWT_15=np.array([[0.740000 ,0.900000],\n",
    "                             [0.860000 ,0.720000],\n",
    "                             [0.900000 ,0.880000],\n",
    "                             [0.680000 ,0.900000],\n",
    "                             [0.820000 ,0.820000],\n",
    "                             [0.800000 ,0.900000],\n",
    "                             [0.800000 ,0.900000],\n",
    "                             [0.780000 ,0.640000],\n",
    "                             [0.960000 ,0.860000],\n",
    "                             [0.900000 ,0.800000]         \n",
    "             ])\n",
    "lgbm_voting_DWT_20=np.array([[0.700000 , 0.720000],\n",
    "                             [0.580000 , 0.600000],\n",
    "                             [0.200000 , 0.720000],\n",
    "                             [0.740000 , 0.500000],\n",
    "                             [0.740000 , 0.700000],\n",
    "                             [0.720000 , 0.700000],\n",
    "                             [0.200000 , 0.280000],\n",
    "                             [0.560000 , 0.280000],\n",
    "                             [0.700000 , 0.580000],\n",
    "                             [0.600000 , 0.700000]         \n",
    "             ])\n",
    "lgbm_voting_DWT_25=np.array([[0.820000 , 0.780000],\n",
    "                             [0.900000 , 0.760000],\n",
    "                             [1.000000 , 0.700000],\n",
    "                             [0.840000 , 0.800000],\n",
    "                             [0.900000 , 0.700000],\n",
    "                             [0.900000 , 0.900000],\n",
    "                             [0.900000 , 0.800000],\n",
    "                             [0.800000 , 0.900000],\n",
    "                             [0.860000 , 0.780000],\n",
    "                             [0.900000 , 0.900000]         \n",
    "             ])"
   ]
  },
  {
   "cell_type": "code",
   "execution_count": 68,
   "metadata": {},
   "outputs": [
    {
     "data": {
      "image/png": "[encoded data removed]",
      "text/plain": [
       "<Figure size 432x288 with 1 Axes>"
      ]
     },
     "metadata": {},
     "output_type": "display_data"
    }
   ],
   "source": [
    "draw('lgbm' , 'voting' , 'DWT' , lgbm_voting_DWT_10 , lgbm_voting_DWT_15 , lgbm_voting_DWT_20 , lgbm_voting_DWT_25)"
   ]
  },
  {
   "cell_type": "code",
   "execution_count": null,
   "metadata": {
    "collapsed": true
   },
   "outputs": [],
   "source": []
  },
  {
   "cell_type": "code",
   "execution_count": 69,
   "metadata": {
    "collapsed": true
   },
   "outputs": [],
   "source": [
    "lgbm_stacking_DWT_10=np.array([[0.600000 , 0.800000],\n",
    "                               [0.600000 , 0.500000],\n",
    "                               [0.700000 , 0.700000],\n",
    "                               [0.500000 , 0.700000],\n",
    "                               [0.620000 , 0.600000],\n",
    "                               [0.680000 , 0.640000],\n",
    "                               [0.400000 , 0.760000],\n",
    "                               [0.720000 , 0.720000],\n",
    "                               [0.800000 , 0.780000],\n",
    "                               [0.500000 , 0.700000]         \n",
    "             ])\n",
    "lgbm_stacking_DWT_15=np.array([[0.740000 , 0.900000],\n",
    "                               [0.860000 , 0.900000],\n",
    "                               [0.900000 , 0.780000],\n",
    "                               [0.680000 , 0.900000],\n",
    "                               [0.820000 , 0.800000],\n",
    "                               [0.800000 , 0.880000],\n",
    "                               [0.800000 , 0.800000],\n",
    "                               [0.780000 , 0.700000],\n",
    "                               [0.960000 , 0.900000],\n",
    "                               [0.900000 , 0.800000]         \n",
    "             ])\n",
    "lgbm_stacking_DWT_20=np.array([[0.700000 , 0.280000],\n",
    "                               [0.580000 , 0.540000],\n",
    "                               [0.200000 , 0.720000],\n",
    "                               [0.740000 , 0.620000],\n",
    "                               [0.740000 , 0.700000],\n",
    "                               [0.720000 , 0.720000],\n",
    "                               [0.200000 , 0.720000],\n",
    "                               [0.560000 , 0.280000],\n",
    "                               [0.700000 , 0.600000],\n",
    "                               [0.600000 , 0.720000]         \n",
    "             ])\n",
    "lgbm_stacking_DWT_25=np.array([[0.820000 , 0.860000],\n",
    "                               [0.900000 , 0.860000],\n",
    "                               [1.000000 , 0.900000],\n",
    "                               [0.840000 , 0.800000],\n",
    "                               [0.900000 , 0.900000],\n",
    "                               [0.900000 , 0.840000],\n",
    "                               [0.900000 , 0.860000],\n",
    "                               [0.800000 , 0.880000],\n",
    "                               [0.860000 , 0.900000],\n",
    "                               [0.900000 , 0.840000]         \n",
    "             ])\n"
   ]
  },
  {
   "cell_type": "code",
   "execution_count": 70,
   "metadata": {},
   "outputs": [
    {
     "data": {
      "image/png": "[encoded data removed]",
      "text/plain": [
       "<Figure size 432x288 with 1 Axes>"
      ]
     },
     "metadata": {},
     "output_type": "display_data"
    }
   ],
   "source": [
    "draw('lgbm' , 'stacking' , 'DWT' , lgbm_stacking_DWT_10 , lgbm_stacking_DWT_15 , lgbm_stacking_DWT_20 , lgbm_stacking_DWT_25)"
   ]
  },
  {
   "cell_type": "code",
   "execution_count": null,
   "metadata": {
    "collapsed": true
   },
   "outputs": [],
   "source": []
  },
  {
   "cell_type": "code",
   "execution_count": 72,
   "metadata": {
    "collapsed": true
   },
   "outputs": [],
   "source": [
    "rf_stacking_RMS_10=np.array([[0.533333 , 0.466667],\n",
    "                             [0.533333 , 0.466667],\n",
    "                             [0.466667 , 0.333333],\n",
    "                             [0.333333 , 0.533333],\n",
    "                             [0.500000 , 0.600000],\n",
    "                             [0.566667 , 0.400000],\n",
    "                             [0.533333 , 0.400000],\n",
    "                             [0.333333 , 0.500000],\n",
    "                             [0.533333 , 0.433333],\n",
    "                             [0.533333 , 0.333333]         \n",
    "             ])\n",
    "rf_stacking_RMS_15=np.array([[0.333333 , 0.266667],\n",
    "                             [0.366667 , 0.466667],\n",
    "                             [0.366667 , 0.466667],\n",
    "                             [0.533333 , 0.466667],\n",
    "                             [0.333333 , 0.433333],\n",
    "                             [0.333333 , 0.400000],\n",
    "                             [0.233333 , 0.466667],\n",
    "                             [0.366667 , 0.400000],\n",
    "                             [0.333333 , 0.566667],\n",
    "                             [0.366667 , 0.300000]         \n",
    "             ])\n",
    "rf_stacking_RMS_20=np.array([[0.600000 , 0.566667],\n",
    "                             [0.700000 , 0.666667],\n",
    "                             [0.600000 , 0.666667],\n",
    "                             [0.600000 , 0.633333],\n",
    "                             [0.533333 , 0.600000],\n",
    "                             [0.666667 , 0.700000],\n",
    "                             [0.466667 , 0.400000],\n",
    "                             [0.633333 , 0.466667],\n",
    "                             [0.566667 , 0.466667],\n",
    "                             [0.400000 , 0.500000]         \n",
    "             ])\n",
    "rf_stacking_RMS_25=np.array([[0.566667 , 0.400000],\n",
    "                             [0.566667 , 0.666667],\n",
    "                             [0.466667 , 0.566667],\n",
    "                             [0.533333 , 0.566667],\n",
    "                             [0.533333 , 0.600000],\n",
    "                             [0.433333 , 0.400000],\n",
    "                             [0.266667 , 0.400000],\n",
    "                             [0.666667 , 0.400000],\n",
    "                             [0.600000 , 0.533333],\n",
    "                             [0.500000 , 0.466667]         \n",
    "             ])\n"
   ]
  },
  {
   "cell_type": "code",
   "execution_count": 73,
   "metadata": {},
   "outputs": [
    {
     "data": {
      "image/png": "[encoded data removed]",
      "text/plain": [
       "<Figure size 432x288 with 1 Axes>"
      ]
     },
     "metadata": {},
     "output_type": "display_data"
    }
   ],
   "source": [
    "draw('rf' , 'stacking' , 'RMS' , rf_stacking_RMS_10 , rf_stacking_RMS_15 , rf_stacking_RMS_20 , rf_stacking_RMS_25)"
   ]
  },
  {
   "cell_type": "code",
   "execution_count": 74,
   "metadata": {
    "collapsed": true
   },
   "outputs": [],
   "source": [
    "lgbm_voting_RMS_10=np.array([[0.500000 , 0.400000],\n",
    "                             [0.500000 , 0.366667],\n",
    "                             [0.333333 , 0.466667],\n",
    "                             [0.466667 , 0.600000],\n",
    "                             [0.433333 , 0.300000],\n",
    "                             [0.566667 , 0.466667],\n",
    "                             [0.466667 , 0.333333],\n",
    "                             [0.566667 , 0.533333],\n",
    "                             [0.566667 , 0.400000],\n",
    "                             [0.466667 , 0.533333]         \n",
    "             ])\n",
    "lgbm_voting_RMS_15=np.array([[0.400000 , 0.366667],\n",
    "                             [0.466667 , 0.466667],\n",
    "                             [0.466667 , 0.500000],\n",
    "                             [0.266667 , 0.400000],\n",
    "                             [0.466667 , 0.400000],\n",
    "                             [0.466667 , 0.500000],\n",
    "                             [0.500000 , 0.466667],\n",
    "                             [0.400000 , 0.500000],\n",
    "                             [0.433333 , 0.533333],\n",
    "                             [0.466667 , 0.433333]         \n",
    "             ])\n",
    "\n",
    "lgbm_voting_RMS_20=np.array([[0.466667 , 0.500000],\n",
    "                             [0.466667 , 0.700000],\n",
    "                             [0.466667 , 0.366667],\n",
    "                             [0.633333 , 0.566667],\n",
    "                             [0.566667 , 0.600000],\n",
    "                             [0.400000 , 0.600000],\n",
    "                             [0.533333 , 0.466667],\n",
    "                             [0.566667 , 0.433333],\n",
    "                             [0.600000 , 0.433333],\n",
    "                             [0.533333 , 0.600000]         \n",
    "             ])\n",
    "\n",
    "lgbm_voting_RMS_25=np.array([[0.566667 , 0.366667],\n",
    "                             [0.533333 , 0.433333],\n",
    "                             [0.533333 , 0.400000],\n",
    "                             [0.566667 , 0.533333],\n",
    "                             [0.466667 , 0.533333],\n",
    "                             [0.433333 , 0.466667],\n",
    "                             [0.433333 , 0.466667],\n",
    "                             [0.600000 , 0.433333],\n",
    "                             [0.333333 , 0.366667],\n",
    "                             [0.633333 , 0.466667]         \n",
    "             ])\n",
    "\n"
   ]
  },
  {
   "cell_type": "code",
   "execution_count": 76,
   "metadata": {},
   "outputs": [
    {
     "data": {
      "image/png": "[encoded data removed]",
      "text/plain": [
       "<Figure size 432x288 with 1 Axes>"
      ]
     },
     "metadata": {},
     "output_type": "display_data"
    }
   ],
   "source": [
    "draw('lgbm' , 'voting' , 'RMS' , lgbm_voting_RMS_10 , lgbm_voting_RMS_15 , lgbm_voting_RMS_20 , lgbm_voting_RMS_25)"
   ]
  },
  {
   "cell_type": "code",
   "execution_count": 77,
   "metadata": {
    "collapsed": true
   },
   "outputs": [],
   "source": [
    "lgbm_stacking_RMS_10=np.array([[0.500000 , 0.466667],\n",
    "                              [0.500000 , 0.466667],\n",
    "                              [0.333333 , 0.333333],\n",
    "                              [0.466667 , 0.533333],\n",
    "                              [0.433333 , 0.600000],\n",
    "                              [0.566667 , 0.400000],\n",
    "                              [0.466667 , 0.400000],\n",
    "                              [0.566667 , 0.500000],\n",
    "                              [0.566667 , 0.433333],\n",
    "                              [0.466667 , 0.333333]         \n",
    "             ])\n",
    "lgbm_stacking_RMS_15=np.array([[0.400000 , 0.266667],\n",
    "                              [0.466667 , 0.466667],\n",
    "                              [0.466667 , 0.466667],\n",
    "                              [0.266667 , 0.466667],\n",
    "                              [0.466667 , 0.433333],\n",
    "                              [0.466667 , 0.400000],\n",
    "                              [0.500000 , 0.466667],\n",
    "                              [0.400000 , 0.400000],\n",
    "                              [0.433333 , 0.566667],\n",
    "                              [0.466667 , 0.300000]         \n",
    "             ])\n",
    "lgbm_stacking_RMS_20=np.array([[0.466667 , 0.566667],\n",
    "                              [0.466667 , 0.666667],\n",
    "                              [0.466667 , 0.666667],\n",
    "                              [0.633333 , 0.633333],\n",
    "                              [0.566667 , 0.600000],\n",
    "                              [0.400000 , 0.700000],\n",
    "                              [0.533333 , 0.400000],\n",
    "                              [0.566667 , 0.466667],\n",
    "                              [0.600000 , 0.466667],\n",
    "                              [0.533333 , 0.500000]         \n",
    "             ])\n",
    "lgbm_stacking_RMS_25=np.array([[0.566667 , 0.400000],\n",
    "                              [0.533333 , 0.666667],\n",
    "                              [0.533333 , 0.566667],\n",
    "                              [0.566667 , 0.566667],\n",
    "                              [0.466667 , 0.600000],\n",
    "                              [0.433333 , 0.400000],\n",
    "                              [0.433333 , 0.400000],\n",
    "                              [0.600000 , 0.400000],\n",
    "                              [0.333333 , 0.533333],\n",
    "                              [0.633333 , 0.466667]         \n",
    "             ])\n"
   ]
  },
  {
   "cell_type": "code",
   "execution_count": 78,
   "metadata": {},
   "outputs": [
    {
     "data": {
      "image/png": "[encoded data removed]",
      "text/plain": [
       "<Figure size 432x288 with 1 Axes>"
      ]
     },
     "metadata": {},
     "output_type": "display_data"
    }
   ],
   "source": [
    "draw('lgbm' , 'stacking' , 'RMS' , lgbm_stacking_RMS_10 , lgbm_stacking_RMS_15 , lgbm_stacking_RMS_20 , lgbm_stacking_RMS_25)"
   ]
  },
  {
   "cell_type": "code",
   "execution_count": null,
   "metadata": {
    "collapsed": true
   },
   "outputs": [],
   "source": []
  },
  {
   "cell_type": "code",
   "execution_count": null,
   "metadata": {
    "collapsed": true
   },
   "outputs": [],
   "source": []
  }
 ],
 "metadata": {
  "kernelspec": {
   "display_name": "Python 3",
   "language": "python",
   "name": "python3"
  },
  "language_info": {
   "codemirror_mode": {
    "name": "ipython",
    "version": 3
   },
   "file_extension": ".py",
   "mimetype": "text/x-python",
   "name": "python",
   "nbconvert_exporter": "python",
   "pygments_lexer": "ipython3",
   "version": "3.6.1"
  }
 },
 "nbformat": 4,
 "nbformat_minor": 2
}
