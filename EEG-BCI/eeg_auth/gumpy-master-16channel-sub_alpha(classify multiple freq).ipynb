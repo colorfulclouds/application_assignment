{
 "cells": [
  {
   "cell_type": "code",
   "execution_count": 1,
   "metadata": {},
   "outputs": [
    {
     "name": "stderr",
     "output_type": "stream",
     "text": [
      "C:\\Anaconda3\\lib\\site-packages\\sklearn\\ensemble\\weight_boosting.py:29: DeprecationWarning: numpy.core.umath_tests is an internal NumPy module and should not be imported. It will be removed in a future NumPy release.\n",
      "  from numpy.core.umath_tests import inner1d\n"
     ]
    }
   ],
   "source": [
    "import gumpy as gp\n",
    "import numpy as np\n",
    "import pywt\n",
    "\n",
    "import sklearn\n",
    "import os"
   ]
  },
  {
   "cell_type": "code",
   "execution_count": 2,
   "metadata": {},
   "outputs": [
    {
     "name": "stderr",
     "output_type": "stream",
     "text": [
      "C:\\Anaconda3\\lib\\site-packages\\h5py\\__init__.py:34: FutureWarning: Conversion of the second argument of issubdtype from `float` to `np.floating` is deprecated. In future, it will be treated as `np.float64 == np.dtype(float).type`.\n",
      "  from ._conv import register_converters as _register_converters\n",
      "Using TensorFlow backend.\n"
     ]
    }
   ],
   "source": [
    "import scipy\n",
    "import scipy.io as sio\n",
    "\n",
    "from scipy import linalg\n",
    "\n",
    "import pandas as pd\n",
    "\n",
    "from sklearn.svm import SVC\n",
    "from sklearn.ensemble import RandomForestClassifier\n",
    "from sklearn.ensemble import AdaBoostClassifier\n",
    "\n",
    "from sklearn.metrics import classification_report , confusion_matrix #混淆矩阵\n",
    "\n",
    "import xgboost\n",
    "import lightgbm\n",
    "\n",
    "from sklearn.cluster import KMeans\n",
    "\n",
    "#one-hot使用\n",
    "from keras.utils import to_categorical\n",
    "\n",
    "import matplotlib.pyplot as plt\n",
    "import gc\n",
    "\n",
    "%matplotlib inline"
   ]
  },
  {
   "cell_type": "code",
   "execution_count": null,
   "metadata": {
    "collapsed": true
   },
   "outputs": [],
   "source": []
  },
  {
   "cell_type": "code",
   "execution_count": 4,
   "metadata": {
    "collapsed": true
   },
   "outputs": [],
   "source": [
    "sample_rate = 256 #hz\n",
    "origin_channel = 16 #5 channel eeg\n",
    "\n",
    "#采集的通道\n",
    "#共16 channel\n",
    "#未使用的channel使用none代替\n",
    "#reference:a study on performance increasing in ssvep based bci application\n",
    "SAMPLE_CHANNEL = ['Pz' , 'PO3' , 'PO4' , 'O1' , 'O2' , 'Oz' , 'O9' , 'FP2' ,\n",
    "                  'C4' , 'C6' , 'CP3' , 'CP1' ,\n",
    "                  'CPZ' , 'CP2' , 'CP4' , 'PO8']\n",
    "\n",
    "LABEL2STR = {0:'person_0' , 1:'person_1' , 2:'person_2'}\n",
    "\n",
    "# 减去前多少秒数据 second\n",
    "# 减去后多少秒数据 second\n",
    "CLIP_FORWARD = 2\n",
    "CLIP_BACKWARD = 1\n",
    "\n",
    "# 单个小段的实验时长\n",
    "trial_time = 3 #second\n",
    "trial_offset = 0 #second\n",
    "start_trial_time = 0 #真正的实验开始时刻\n",
    "end_trial_time = 2 #真正的实验结束时刻(<trial_time)\n",
    "\n",
    "#是否进行归一化\n",
    "#reference:a study on performance increasing in ssvep based bci application\n",
    "#IS_NORMALIZE = True\n",
    "\n",
    "#是否进行滤波\n",
    "#IS_FILTER = False\n",
    "#EEG频率范围\n",
    "#reference:a study on performance increasing in ssvep based bci application\n",
    "LO_FREQ = 0.5\n",
    "HI_FREQ = 40\n",
    "\n",
    "#是否陷波\n",
    "#IS_NOTCH = False\n",
    "NOTCH_FREQ = 50 #陷波 工频\n",
    "\n"
   ]
  },
  {
   "cell_type": "code",
   "execution_count": null,
   "metadata": {
    "collapsed": true
   },
   "outputs": [],
   "source": []
  },
  {
   "cell_type": "code",
   "execution_count": 80,
   "metadata": {
    "collapsed": true
   },
   "outputs": [],
   "source": [
    "class EEG(gp.data.Dataset):\n",
    "    def __init__(self , base_dir='none' , identifier='none' , **kwargs):\n",
    "        super(EEG, self).__init__(**kwargs)\n",
    "        \n",
    "        self.base_dir = 'none'\n",
    "        self.data_id = 'none'\n",
    "        self.data_dir = 'none'\n",
    "        self.data_type = 'EEG'\n",
    "        self.data_name = 'EEG'\n",
    "        \n",
    "        \n",
    "        # length of a trial (in seconds)\n",
    "        self.trial_len = trial_time\n",
    "        # motor imagery appears in interval (in seconds)\n",
    "        self.mi_interval = [start_trial_time , end_trial_time]\n",
    "        # idle perior prior to start of signal (in seconds)\n",
    "        self.trial_offset = trial_offset\n",
    "        # total length of a trial (in seconds)\n",
    "        self.trial_total = self.trial_len\n",
    "        # sampling frequency (in Hz)\n",
    "        self.sampling_freq = sample_rate #gtec为256\n",
    "    \n",
    "    def _sep(self , data , label):\n",
    "        train_data = []\n",
    "        train_labels = []\n",
    "\n",
    "        size = self.sampling_freq * self.trial_len\n",
    "        data_length = data.shape[0]\n",
    "\n",
    "        idx = 0\n",
    "        \n",
    "        while idx<data_length-size:\n",
    "            train_data.append(data[idx : idx+size , :])\n",
    "            train_labels.append(label)\n",
    "\n",
    "            #no overlap\n",
    "            idx = idx + size\n",
    "        \n",
    "        return np.array(train_data) , np.array(train_labels)\n",
    "    \n",
    "    def _butter_worth(self , data):\n",
    "        b,a = scipy.signal.butter(4 , [LO_FREQ / sample_rate , HI_FREQ / sample_rate] , btype='bandpass')\n",
    "    \n",
    "        return np.array([scipy.signal.filtfilt(b , a , data[: , i]) for i in range(data.shape[1])]).reshape((-1 , origin_channel))\n",
    "    \n",
    "    def _notch(self , data):\n",
    "        cutoff = NOTCH_FREQ #50\n",
    "        Q = 30\n",
    "\n",
    "        nyq = 0.5 * sample_rate\n",
    "        w0 = cutoff / nyq\n",
    "\n",
    "        b , a = scipy.signal.iirnotch(w0 , Q)\n",
    "\n",
    "        return np.array([scipy.signal.filtfilt(b , a , data[: , i]) for i in range(data.shape[1])]).reshape((-1 , origin_channel))\n",
    "    \n",
    "    def _normalize(self , data):\n",
    "        mean = np.mean(data, axis=0)\n",
    "        std_dev = np.std(data, axis=0)\n",
    "        \n",
    "        return (data - mean) / std_dev\n",
    "    \n",
    "    def _load_data(self , filename):\n",
    "        data = sio.loadmat(file_name=filename)['data_received'] #length*16 matrix\n",
    "        \n",
    "        #此通道没有采集 置为0\n",
    "        for i in range(len(SAMPLE_CHANNEL)):\n",
    "            if SAMPLE_CHANNEL[i] == 'none':\n",
    "                data[: , i] = 0.0\n",
    "        \n",
    "        #删除前x秒和后x秒数据\n",
    "        data = data[CLIP_FORWARD * self.sampling_freq : - CLIP_BACKWARD * self.sampling_freq]\n",
    "                \n",
    "        return data\n",
    "    \n",
    "    def _concatenate(self , eeg_matrix):\n",
    "        return np.concatenate(eeg_matrix , axis=0)\n",
    "    \n",
    "    def _combine(self):\n",
    "        person_0_filenames = os.listdir('real_data/eeg_11.24/circle/3/10hz/')\n",
    "        person_1_filenames = os.listdir('real_data/eeg_11.24/circle/3/15hz/')\n",
    "        person_2_filenames = os.listdir('real_data/eeg_11.24/circle/3/20hz/')\n",
    "        person_3_filenames = os.listdir('real_data/eeg_11.24/circle/3/25hz/')\n",
    "\n",
    "\n",
    "        person_0 = [self._load_data('real_data/eeg_11.24/circle/3/10hz/' + filename) for filename in person_0_filenames]\n",
    "        person_1 = [self._load_data('real_data/eeg_11.24/circle/3/15hz/' + filename) for filename in person_1_filenames]\n",
    "        person_2 = [self._load_data('real_data/eeg_11.24/circle/3/20hz/' + filename) for filename in person_2_filenames]\n",
    "        person_3 = [self._load_data('real_data/eeg_11.24/circle/3/25hz/' + filename) for filename in person_3_filenames]\n",
    "\n",
    "\n",
    "        person_0 = self._concatenate(person_0)\n",
    "        person_1 = self._concatenate(person_1)\n",
    "        person_2 = self._concatenate(person_2)\n",
    "        person_3 = self._concatenate(person_3)\n",
    "\n",
    "        #数据分段\n",
    "        train_person_data_0 , train_person_labels_0 = self._sep(person_0 , label = 0)\n",
    "        train_person_data_1 , train_person_labels_1 = self._sep(person_1 , label = 1)\n",
    "        train_person_data_2 , train_person_labels_2 = self._sep(person_2 , label = 2)\n",
    "        train_person_data_3 , train_person_labels_3 = self._sep(person_3 , label = 3)\n",
    "\n",
    "\n",
    "        #产生索引并置乱\n",
    "        idx_train_data = list(range(len(train_person_data_0) + len(train_person_data_1)+ len(train_person_data_2)+ len(train_person_data_3)))\n",
    "        \n",
    "        np.random.shuffle(idx_train_data)\n",
    "\n",
    "        #合并数据\n",
    "        train_data = np.concatenate((train_person_data_0 , train_person_data_1 , train_person_data_2 , train_person_data_3))\n",
    "        train_labels = np.concatenate((train_person_labels_0 , train_person_labels_1 , train_person_labels_2 , train_person_labels_3))\n",
    "\n",
    "        #将训练数据打乱\n",
    "        train_data = train_data[idx_train_data]\n",
    "        train_labels = train_labels[idx_train_data] ##self.labels\n",
    "        \n",
    "        #只使用下面的成员\n",
    "        self.data = train_data\n",
    "        self.labels = train_labels\n",
    "                \n",
    "        #=================\n",
    "        #=================\n",
    "        #合并为sequence\n",
    "        train_data_sequence = np.reshape(train_data , newshape=(-1 , origin_channel)) #length*channel\n",
    "\n",
    "        train_data_count = train_data.shape[0]\n",
    "\n",
    "        #trial索引\n",
    "        trial_idx = np.array([i*(self.sampling_freq * self.trial_len) for i in range(train_data_count)]) ##self.trial\n",
    "        \n",
    "        #构建子类成员\n",
    "        self.raw_data = train_data_sequence\n",
    "        self.trials = trial_idx\n",
    "        \n",
    "        #=================\n",
    "        \n",
    "        \n",
    "    def load(self, **kwargs):\n",
    "        self._combine()\n",
    "     "
   ]
  },
  {
   "cell_type": "code",
   "execution_count": 81,
   "metadata": {
    "collapsed": true
   },
   "outputs": [],
   "source": [
    "dataset = EEG()\n",
    "dataset.load()"
   ]
  },
  {
   "cell_type": "code",
   "execution_count": 82,
   "metadata": {},
   "outputs": [
    {
     "name": "stdout",
     "output_type": "stream",
     "text": [
      "(224, 768, 16) (224,)\n"
     ]
    }
   ],
   "source": [
    "print(dataset.data.shape , dataset.labels.shape)"
   ]
  },
  {
   "cell_type": "code",
   "execution_count": 8,
   "metadata": {
    "collapsed": true
   },
   "outputs": [],
   "source": [
    "def butter_worth(data , lo , hi , order=6):\n",
    "    b,a = scipy.signal.butter(order , [lo / sample_rate , hi / sample_rate] , btype='bandpass')\n",
    "\n",
    "    return np.array([scipy.signal.filtfilt(b , a , data[: , i]) for i in range(data.shape[1])]).reshape((-1 , origin_channel))"
   ]
  },
  {
   "cell_type": "code",
   "execution_count": 9,
   "metadata": {
    "collapsed": true
   },
   "outputs": [],
   "source": [
    "def alpha_subBP_features(data):\n",
    "    alpha1 = butter_worth(data , 8.5 , 11.5)\n",
    "    alpha2 = butter_worth(data , 9.0 , 12.5)    \n",
    "    alpha3 = butter_worth(data , 9.5 , 11.5)    \n",
    "    alpha4 = butter_worth(data , 8.0 , 10.5)   \n",
    "    \n",
    "    return np.array([alpha1 , alpha2 , alpha3 , alpha4])\n",
    "\n",
    "def beta_subBP_features(data):\n",
    "    beta1 = butter_worth(data , 14.0 , 30.0)\n",
    "    beta2 = butter_worth(data , 16.0 , 17.0)    \n",
    "    beta3 = butter_worth(data , 17.0 , 18.0)    \n",
    "    beta4 = butter_worth(data , 18.0 , 19.0)    \n",
    "    \n",
    "    return np.array([beta1 , beta2 , beta3 , beta4])\n",
    "\n",
    "def powermean(data):\n",
    "    #官方demo跳4秒 前4秒为准备阶段\n",
    "    return np.power(data[ : , 0] , 2).mean(), \\\n",
    "            np.power(data[ : , 1] , 2).mean(), \\\n",
    "            np.power(data[ : , 2] , 2).mean(), \\\n",
    "            np.power(data[ : , 3] , 2).mean(), \\\n",
    "            np.power(data[ : , 4] , 2).mean(), \\\n",
    "            np.power(data[ : , 5] , 2).mean(), \\\n",
    "            np.power(data[ : , 6] , 2).mean(), \\\n",
    "            np.power(data[ : , 7] , 2).mean(), \\\n",
    "            np.power(data[ : , 8] , 2).mean(), \\\n",
    "            np.power(data[ : , 9] , 2).mean(), \\\n",
    "            np.power(data[ : , 10] , 2).mean(), \\\n",
    "            np.power(data[ : , 11] , 2).mean(), \\\n",
    "            np.power(data[ : , 12] , 2).mean(), \\\n",
    "            np.power(data[ : , 13] , 2).mean(), \\\n",
    "            np.power(data[ : , 14] , 2).mean(), \\\n",
    "            np.power(data[ : , 15] , 2).mean()       "
   ]
  },
  {
   "cell_type": "code",
   "execution_count": 10,
   "metadata": {
    "collapsed": true
   },
   "outputs": [],
   "source": [
    "def log_subBP_feature_extraction(alpha , beta):\n",
    "    \n",
    "    power_1_a = powermean(alpha[0])\n",
    "    power_2_a = powermean(alpha[1])\n",
    "    power_3_a = powermean(alpha[2])\n",
    "    power_4_a = powermean(alpha[3])\n",
    "    \n",
    "    power_1_b = powermean(beta[0])\n",
    "    power_2_b = powermean(beta[1])\n",
    "    power_3_b = powermean(beta[2])\n",
    "    power_4_b = powermean(beta[3])\n",
    "    \n",
    "    X= np.array(\n",
    "        [np.log(power_1_a) ,\n",
    "         np.log(power_2_a) ,\n",
    "         np.log(power_3_a) ,\n",
    "         np.log(power_4_a) ,\n",
    "         np.log(power_1_b) ,\n",
    "         np.log(power_2_b) ,\n",
    "         np.log(power_3_b) ,\n",
    "         np.log(power_4_b)\n",
    "        ]\n",
    "        ).flatten()\n",
    "\n",
    "    return X"
   ]
  },
  {
   "cell_type": "code",
   "execution_count": 11,
   "metadata": {
    "collapsed": true
   },
   "outputs": [],
   "source": [
    "def feature_extraction(data):\n",
    "    n_features = 128\n",
    "    X = np.zeros((data.shape[0] , n_features))\n",
    "    \n",
    "    for i , datum in enumerate(data):\n",
    "        alpha = alpha_subBP_features(datum)\n",
    "        beta = beta_subBP_features(datum)\n",
    "            \n",
    "        X[i, :] = log_subBP_feature_extraction(alpha , beta)\n",
    "\n",
    "    return X"
   ]
  },
  {
   "cell_type": "code",
   "execution_count": 83,
   "metadata": {},
   "outputs": [
    {
     "name": "stderr",
     "output_type": "stream",
     "text": [
      "C:\\Anaconda3\\lib\\site-packages\\scipy\\signal\\_arraytools.py:45: FutureWarning: Using a non-tuple sequence for multidimensional indexing is deprecated; use `arr[tuple(seq)]` instead of `arr[seq]`. In the future this will be interpreted as an array index, `arr[np.array(seq)]`, which will result either in an error or a different result.\n",
      "  b = a[a_slice]\n"
     ]
    }
   ],
   "source": [
    "feature = feature_extraction(dataset.data)"
   ]
  },
  {
   "cell_type": "code",
   "execution_count": 84,
   "metadata": {},
   "outputs": [
    {
     "name": "stdout",
     "output_type": "stream",
     "text": [
      "(224, 128) (224,)\n"
     ]
    }
   ],
   "source": [
    "print(feature.shape , dataset.labels.shape)"
   ]
  },
  {
   "cell_type": "code",
   "execution_count": null,
   "metadata": {
    "collapsed": true
   },
   "outputs": [],
   "source": []
  },
  {
   "cell_type": "code",
   "execution_count": 85,
   "metadata": {
    "collapsed": true
   },
   "outputs": [],
   "source": [
    "train_val_seg = 200\n",
    "\n",
    "def confusion_mat(feature , labels , model):\n",
    "    label_0 = 0\n",
    "    label_1 = 0\n",
    "    label_2 = 0\n",
    "    #\n",
    "    #调整一下 4种频率 4种label\n",
    "    #\n",
    "    for i in labels[train_val_seg : ]:\n",
    "        if i == 0:\n",
    "            label_0 = label_0+1\n",
    "        elif i == 1:\n",
    "            label_1 = label_1+1\n",
    "        elif i == 2:\n",
    "            label_2 = label_2+1\n",
    "            \n",
    "    print('real label_0:%d label_1:%d label_2:%d' % (label_0 , label_1 , label_2))\n",
    "    \n",
    "    print(confusion_matrix(labels[train_val_seg : ] , model.predict(feature[train_val_seg : ])))"
   ]
  },
  {
   "cell_type": "code",
   "execution_count": null,
   "metadata": {
    "collapsed": true
   },
   "outputs": [],
   "source": []
  },
  {
   "cell_type": "code",
   "execution_count": 86,
   "metadata": {
    "collapsed": true
   },
   "outputs": [],
   "source": [
    "svc = SVC(verbose=True)"
   ]
  },
  {
   "cell_type": "code",
   "execution_count": 87,
   "metadata": {},
   "outputs": [
    {
     "name": "stdout",
     "output_type": "stream",
     "text": [
      "[LibSVM]"
     ]
    },
    {
     "data": {
      "text/plain": [
       "SVC(C=1.0, cache_size=200, class_weight=None, coef0=0.0,\n",
       "  decision_function_shape=None, degree=3, gamma='auto', kernel='rbf',\n",
       "  max_iter=-1, probability=False, random_state=None, shrinking=True,\n",
       "  tol=0.001, verbose=True)"
      ]
     },
     "execution_count": 87,
     "metadata": {},
     "output_type": "execute_result"
    }
   ],
   "source": [
    "svc.fit(feature[ : train_val_seg] , dataset.labels[ : train_val_seg])"
   ]
  },
  {
   "cell_type": "code",
   "execution_count": 88,
   "metadata": {},
   "outputs": [
    {
     "data": {
      "text/plain": [
       "0.375"
      ]
     },
     "execution_count": 88,
     "metadata": {},
     "output_type": "execute_result"
    }
   ],
   "source": [
    "svc.score(feature[train_val_seg : ] , dataset.labels[train_val_seg : ])"
   ]
  },
  {
   "cell_type": "code",
   "execution_count": 89,
   "metadata": {},
   "outputs": [
    {
     "name": "stdout",
     "output_type": "stream",
     "text": [
      "real label_0:7 label_1:4 label_2:8\n",
      "[[5 0 1 1]\n",
      " [3 0 1 0]\n",
      " [3 0 4 1]\n",
      " [1 4 0 0]]\n"
     ]
    }
   ],
   "source": [
    "confusion_mat(feature , dataset.labels , svc)"
   ]
  },
  {
   "cell_type": "code",
   "execution_count": 90,
   "metadata": {
    "collapsed": true
   },
   "outputs": [],
   "source": [
    "# print(classification_report(dataset.labels[train_val_seg:] , svc.predict(feature[train_val_seg:])))"
   ]
  },
  {
   "cell_type": "code",
   "execution_count": null,
   "metadata": {
    "collapsed": true
   },
   "outputs": [],
   "source": []
  },
  {
   "cell_type": "code",
   "execution_count": 91,
   "metadata": {
    "collapsed": true
   },
   "outputs": [],
   "source": [
    "rf = RandomForestClassifier()"
   ]
  },
  {
   "cell_type": "code",
   "execution_count": 92,
   "metadata": {},
   "outputs": [
    {
     "data": {
      "text/plain": [
       "RandomForestClassifier(bootstrap=True, class_weight=None, criterion='gini',\n",
       "            max_depth=None, max_features='auto', max_leaf_nodes=None,\n",
       "            min_impurity_split=1e-07, min_samples_leaf=1,\n",
       "            min_samples_split=2, min_weight_fraction_leaf=0.0,\n",
       "            n_estimators=10, n_jobs=1, oob_score=False, random_state=None,\n",
       "            verbose=0, warm_start=False)"
      ]
     },
     "execution_count": 92,
     "metadata": {},
     "output_type": "execute_result"
    }
   ],
   "source": [
    "rf.fit(feature[:train_val_seg] , dataset.labels[:train_val_seg])"
   ]
  },
  {
   "cell_type": "code",
   "execution_count": 93,
   "metadata": {},
   "outputs": [
    {
     "data": {
      "text/plain": [
       "0.25"
      ]
     },
     "execution_count": 93,
     "metadata": {},
     "output_type": "execute_result"
    }
   ],
   "source": [
    "rf.score(feature[train_val_seg:] , dataset.labels[train_val_seg:])"
   ]
  },
  {
   "cell_type": "code",
   "execution_count": 94,
   "metadata": {},
   "outputs": [
    {
     "name": "stdout",
     "output_type": "stream",
     "text": [
      "real label_0:7 label_1:4 label_2:8\n",
      "[[2 1 4 0]\n",
      " [2 1 1 0]\n",
      " [4 1 2 1]\n",
      " [1 2 1 1]]\n"
     ]
    }
   ],
   "source": [
    "confusion_mat(feature , dataset.labels , rf)"
   ]
  },
  {
   "cell_type": "code",
   "execution_count": null,
   "metadata": {
    "collapsed": true
   },
   "outputs": [],
   "source": []
  },
  {
   "cell_type": "code",
   "execution_count": 95,
   "metadata": {
    "collapsed": true
   },
   "outputs": [],
   "source": [
    "adaboost = AdaBoostClassifier()"
   ]
  },
  {
   "cell_type": "code",
   "execution_count": 96,
   "metadata": {},
   "outputs": [
    {
     "data": {
      "text/plain": [
       "AdaBoostClassifier(algorithm='SAMME.R', base_estimator=None,\n",
       "          learning_rate=1.0, n_estimators=50, random_state=None)"
      ]
     },
     "execution_count": 96,
     "metadata": {},
     "output_type": "execute_result"
    }
   ],
   "source": [
    "adaboost.fit(feature[:train_val_seg] , dataset.labels[:train_val_seg])"
   ]
  },
  {
   "cell_type": "code",
   "execution_count": 97,
   "metadata": {},
   "outputs": [
    {
     "data": {
      "text/plain": [
       "0.4166666666666667"
      ]
     },
     "execution_count": 97,
     "metadata": {},
     "output_type": "execute_result"
    }
   ],
   "source": [
    "adaboost.score(feature[train_val_seg:] , dataset.labels[train_val_seg:])"
   ]
  },
  {
   "cell_type": "code",
   "execution_count": 98,
   "metadata": {},
   "outputs": [
    {
     "name": "stdout",
     "output_type": "stream",
     "text": [
      "real label_0:7 label_1:4 label_2:8\n",
      "[[2 0 3 2]\n",
      " [0 3 1 0]\n",
      " [3 2 3 0]\n",
      " [0 2 1 2]]\n"
     ]
    }
   ],
   "source": [
    "confusion_mat(feature , dataset.labels , adaboost)"
   ]
  },
  {
   "cell_type": "code",
   "execution_count": null,
   "metadata": {
    "collapsed": true
   },
   "outputs": [],
   "source": []
  },
  {
   "cell_type": "code",
   "execution_count": 99,
   "metadata": {
    "collapsed": true
   },
   "outputs": [],
   "source": [
    "xgb = xgboost.XGBClassifier()"
   ]
  },
  {
   "cell_type": "code",
   "execution_count": 100,
   "metadata": {},
   "outputs": [
    {
     "data": {
      "text/plain": [
       "XGBClassifier(base_score=0.5, booster='gbtree', colsample_bylevel=1,\n",
       "       colsample_bytree=1, gamma=0, learning_rate=0.1, max_delta_step=0,\n",
       "       max_depth=3, min_child_weight=1, missing=None, n_estimators=100,\n",
       "       n_jobs=1, nthread=None, objective='multi:softprob', random_state=0,\n",
       "       reg_alpha=0, reg_lambda=1, scale_pos_weight=1, seed=None,\n",
       "       silent=True, subsample=1)"
      ]
     },
     "execution_count": 100,
     "metadata": {},
     "output_type": "execute_result"
    }
   ],
   "source": [
    "xgb.fit(feature[:train_val_seg] , dataset.labels[:train_val_seg])"
   ]
  },
  {
   "cell_type": "code",
   "execution_count": 101,
   "metadata": {},
   "outputs": [
    {
     "name": "stderr",
     "output_type": "stream",
     "text": [
      "C:\\Anaconda3\\lib\\site-packages\\sklearn\\preprocessing\\label.py:171: DeprecationWarning: The truth value of an empty array is ambiguous. Returning False, but in future this will result in an error. Use `array.size > 0` to check that an array is not empty.\n",
      "  if diff:\n"
     ]
    },
    {
     "data": {
      "text/plain": [
       "0.20833333333333334"
      ]
     },
     "execution_count": 101,
     "metadata": {},
     "output_type": "execute_result"
    }
   ],
   "source": [
    "xgb.score(feature[train_val_seg:] , dataset.labels[train_val_seg:])"
   ]
  },
  {
   "cell_type": "code",
   "execution_count": 102,
   "metadata": {},
   "outputs": [
    {
     "name": "stdout",
     "output_type": "stream",
     "text": [
      "real label_0:7 label_1:4 label_2:8\n",
      "[[1 5 1 0]\n",
      " [0 1 2 1]\n",
      " [4 0 3 1]\n",
      " [1 4 0 0]]\n"
     ]
    },
    {
     "name": "stderr",
     "output_type": "stream",
     "text": [
      "C:\\Anaconda3\\lib\\site-packages\\sklearn\\preprocessing\\label.py:171: DeprecationWarning: The truth value of an empty array is ambiguous. Returning False, but in future this will result in an error. Use `array.size > 0` to check that an array is not empty.\n",
      "  if diff:\n"
     ]
    }
   ],
   "source": [
    "confusion_mat(feature , dataset.labels , xgb)"
   ]
  },
  {
   "cell_type": "code",
   "execution_count": null,
   "metadata": {
    "collapsed": true
   },
   "outputs": [],
   "source": []
  },
  {
   "cell_type": "code",
   "execution_count": 103,
   "metadata": {
    "collapsed": true
   },
   "outputs": [],
   "source": [
    "lgbm = lightgbm.LGBMClassifier()"
   ]
  },
  {
   "cell_type": "code",
   "execution_count": 104,
   "metadata": {},
   "outputs": [
    {
     "data": {
      "text/plain": [
       "LGBMClassifier(boosting_type='gbdt', class_weight=None, colsample_bytree=1.0,\n",
       "        importance_type='split', learning_rate=0.1, max_depth=-1,\n",
       "        min_child_samples=20, min_child_weight=0.001, min_split_gain=0.0,\n",
       "        n_estimators=100, n_jobs=-1, num_leaves=31, objective=None,\n",
       "        random_state=None, reg_alpha=0.0, reg_lambda=0.0, silent=True,\n",
       "        subsample=1.0, subsample_for_bin=200000, subsample_freq=0)"
      ]
     },
     "execution_count": 104,
     "metadata": {},
     "output_type": "execute_result"
    }
   ],
   "source": [
    "lgbm.fit(feature[:train_val_seg] , dataset.labels[:train_val_seg])"
   ]
  },
  {
   "cell_type": "code",
   "execution_count": 105,
   "metadata": {},
   "outputs": [
    {
     "name": "stderr",
     "output_type": "stream",
     "text": [
      "C:\\Anaconda3\\lib\\site-packages\\sklearn\\preprocessing\\label.py:171: DeprecationWarning: The truth value of an empty array is ambiguous. Returning False, but in future this will result in an error. Use `array.size > 0` to check that an array is not empty.\n",
      "  if diff:\n"
     ]
    },
    {
     "data": {
      "text/plain": [
       "0.16666666666666666"
      ]
     },
     "execution_count": 105,
     "metadata": {},
     "output_type": "execute_result"
    }
   ],
   "source": [
    "lgbm.score(feature[train_val_seg:] , dataset.labels[train_val_seg:])"
   ]
  },
  {
   "cell_type": "code",
   "execution_count": 106,
   "metadata": {},
   "outputs": [
    {
     "name": "stdout",
     "output_type": "stream",
     "text": [
      "real label_0:7 label_1:4 label_2:8\n",
      "[[1 4 2 0]\n",
      " [1 0 2 1]\n",
      " [5 0 2 1]\n",
      " [1 2 1 1]]\n"
     ]
    },
    {
     "name": "stderr",
     "output_type": "stream",
     "text": [
      "C:\\Anaconda3\\lib\\site-packages\\sklearn\\preprocessing\\label.py:171: DeprecationWarning: The truth value of an empty array is ambiguous. Returning False, but in future this will result in an error. Use `array.size > 0` to check that an array is not empty.\n",
      "  if diff:\n"
     ]
    }
   ],
   "source": [
    "confusion_mat(feature , dataset.labels , lgbm)"
   ]
  },
  {
   "cell_type": "code",
   "execution_count": null,
   "metadata": {
    "collapsed": true
   },
   "outputs": [],
   "source": []
  },
  {
   "cell_type": "markdown",
   "metadata": {},
   "source": [
    "# Alpha and Beta sub-bands"
   ]
  },
  {
   "cell_type": "code",
   "execution_count": null,
   "metadata": {
    "collapsed": true
   },
   "outputs": [],
   "source": []
  },
  {
   "cell_type": "code",
   "execution_count": 167,
   "metadata": {},
   "outputs": [
    {
     "name": "stderr",
     "output_type": "stream",
     "text": [
      "C:\\Anaconda3\\lib\\site-packages\\scipy\\signal\\_arraytools.py:45: FutureWarning: Using a non-tuple sequence for multidimensional indexing is deprecated; use `arr[tuple(seq)]` instead of `arr[seq]`. In the future this will be interpreted as an array index, `arr[np.array(seq)]`, which will result either in an error or a different result.\n",
      "  b = a[a_slice]\n"
     ]
    }
   ],
   "source": []
  },
  {
   "cell_type": "code",
   "execution_count": 168,
   "metadata": {},
   "outputs": [
    {
     "name": "stderr",
     "output_type": "stream",
     "text": [
      "C:\\Anaconda3\\lib\\site-packages\\scipy\\signal\\_arraytools.py:45: FutureWarning: Using a non-tuple sequence for multidimensional indexing is deprecated; use `arr[tuple(seq)]` instead of `arr[seq]`. In the future this will be interpreted as an array index, `arr[np.array(seq)]`, which will result either in an error or a different result.\n",
      "  b = a[a_slice]\n"
     ]
    }
   ],
   "source": [
    "\n",
    "\n",
    "beta_bands = np.array(beta_subBP_features(dataset))"
   ]
  },
  {
   "cell_type": "markdown",
   "metadata": {},
   "source": [
    "## Method 1: logarithmic sub-band power"
   ]
  },
  {
   "cell_type": "code",
   "execution_count": 170,
   "metadata": {
    "collapsed": true
   },
   "outputs": [],
   "source": [
    "def log_subBP_feature_extraction(alpha , beta , trials , fs , w):\n",
    "    n_features = 40\n",
    "    X = np.zeros((len(trials) , n_features))\n",
    "    \n",
    "    for t , trial in enumerate(trials):\n",
    "        # trial是一个scalar\n",
    "        # t也是一个scalar\n",
    "        power_1_a = powermean(alpha[0], trial, fs, w)\n",
    "        power_2_a = powermean(alpha[1], trial, fs, w)\n",
    "        power_3_a = powermean(alpha[2], trial, fs, w)\n",
    "        power_4_a = powermean(alpha[3], trial, fs, w)\n",
    "        \n",
    "        power_1_b = powermean(beta[0], trial, fs, w)\n",
    "        \n",
    "        X[t, :] = np.array(\n",
    "            [np.log(power_1_a) ,\n",
    "             np.log(power_2_a) ,\n",
    "             np.log(power_3_a) ,\n",
    "             np.log(power_4_a) ,\n",
    "             np.log(power_1_b) ]).flatten()\n",
    "\n",
    "    return X"
   ]
  },
  {
   "cell_type": "code",
   "execution_count": null,
   "metadata": {
    "collapsed": true
   },
   "outputs": [],
   "source": []
  },
  {
   "cell_type": "markdown",
   "metadata": {},
   "source": [
    "## Method 2: DWT\n",
    "## no use"
   ]
  },
  {
   "cell_type": "code",
   "execution_count": 75,
   "metadata": {
    "collapsed": true
   },
   "outputs": [],
   "source": [
    "def dwt_features(data , trials , level , sampling_freq , w , n , wavelet):\n",
    "    n_features = 24\n",
    "    \n",
    "    X = np.zeros((len(trials) , n_features))\n",
    "    \n",
    "    for t , trial in enumerate(trials):\n",
    "        signals = data[trial + w[0] : trial + w[1]]\n",
    "        \n",
    "        coeffs_Pz  = pywt.wavedec(data = signals[:,0], wavelet=wavelet, level=level)\n",
    "        coeffs_PO3 = pywt.wavedec(data = signals[:,1], wavelet=wavelet, level=level)\n",
    "        coeffs_PO4 = pywt.wavedec(data = signals[:,2], wavelet=wavelet, level=level)\n",
    "        coeffs_O1  = pywt.wavedec(data = signals[:,3], wavelet=wavelet, level=level)\n",
    "        coeffs_O2  = pywt.wavedec(data = signals[:,4], wavelet=wavelet, level=level)\n",
    "        coeffs_Oz  = pywt.wavedec(data = signals[:,5], wavelet=wavelet, level=level)\n",
    "        coeffs_O9  = pywt.wavedec(data = signals[:,6], wavelet=wavelet, level=level)\n",
    "        coeffs_FP2 = pywt.wavedec(data = signals[:,7], wavelet=wavelet, level=level)\n",
    "\n",
    "        X[t, :] = np.array([\n",
    "            np.std(coeffs_Pz [n]),   \n",
    "            np.std(coeffs_PO3[n]),  \n",
    "            np.std(coeffs_PO4[n]),   \n",
    "            np.std(coeffs_O1 [n]),  \n",
    "            np.std(coeffs_O2 [n]),  \n",
    "            np.std(coeffs_Oz [n]),   \n",
    "            np.std(coeffs_O9 [n]),  \n",
    "            np.std(coeffs_FP2[n]),  \n",
    "            \n",
    "            np.mean(coeffs_Pz [n]**2),\n",
    "            np.mean(coeffs_PO3[n]**2 ),\n",
    "            np.mean(coeffs_PO4[n]**2 ),\n",
    "            np.mean(coeffs_O1 [n]**2 ),\n",
    "            np.mean(coeffs_O2 [n]**2),\n",
    "            np.mean(coeffs_Oz [n]**2 ),\n",
    "            np.mean(coeffs_O9 [n]**2 ),\n",
    "            np.mean(coeffs_FP2[n]**2),\n",
    "            \n",
    "            np.mean(coeffs_Pz [n]),\n",
    "            np.mean(coeffs_PO3[n]), \n",
    "            np.mean(coeffs_PO4[n]),\n",
    "            np.mean(coeffs_O1 [n]),\n",
    "            np.mean(coeffs_O2 [n]),\n",
    "            np.mean(coeffs_Oz [n]),\n",
    "            np.mean(coeffs_O9 [n]),\n",
    "            np.mean(coeffs_FP2[n])]).flatten()\n",
    "        \n",
    "        return X"
   ]
  },
  {
   "cell_type": "code",
   "execution_count": 76,
   "metadata": {
    "collapsed": true
   },
   "outputs": [
    {
     "ename": "NameError",
     "evalue": "name 'btr_data' is not defined",
     "output_type": "error",
     "traceback": [
      "\u001b[1;31m---------------------------------------------------------------------------\u001b[0m",
      "\u001b[1;31mNameError\u001b[0m                                 Traceback (most recent call last)",
      "\u001b[1;32m<ipython-input-76-702add6714e9>\u001b[0m in \u001b[0;36m<module>\u001b[1;34m()\u001b[0m\n\u001b[0;32m      7\u001b[0m     \u001b[0mfs\u001b[0m \u001b[1;33m=\u001b[0m \u001b[0mdataset\u001b[0m\u001b[1;33m.\u001b[0m\u001b[0msampling_freq\u001b[0m\u001b[1;33m\u001b[0m\u001b[0m\n\u001b[0;32m      8\u001b[0m \u001b[1;33m\u001b[0m\u001b[0m\n\u001b[1;32m----> 9\u001b[1;33m     \u001b[0mfeatures1\u001b[0m \u001b[1;33m=\u001b[0m \u001b[0mnp\u001b[0m\u001b[1;33m.\u001b[0m\u001b[0marray\u001b[0m\u001b[1;33m(\u001b[0m\u001b[0mdwt_features\u001b[0m\u001b[1;33m(\u001b[0m\u001b[0mbtr_data\u001b[0m \u001b[1;33m,\u001b[0m \u001b[0mtrials\u001b[0m \u001b[1;33m,\u001b[0m \u001b[1;36m5\u001b[0m \u001b[1;33m,\u001b[0m \u001b[0mfs\u001b[0m \u001b[1;33m,\u001b[0m \u001b[0mw\u001b[0m \u001b[1;33m,\u001b[0m \u001b[1;36m3\u001b[0m \u001b[1;33m,\u001b[0m \u001b[1;34m'db4'\u001b[0m\u001b[1;33m)\u001b[0m\u001b[1;33m)\u001b[0m\u001b[1;33m\u001b[0m\u001b[0m\n\u001b[0m\u001b[0;32m     10\u001b[0m     \u001b[0mfeatures2\u001b[0m \u001b[1;33m=\u001b[0m \u001b[0mnp\u001b[0m\u001b[1;33m.\u001b[0m\u001b[0marray\u001b[0m\u001b[1;33m(\u001b[0m\u001b[0mdwt_features\u001b[0m\u001b[1;33m(\u001b[0m\u001b[0mbtr_data\u001b[0m \u001b[1;33m,\u001b[0m \u001b[0mtrials\u001b[0m \u001b[1;33m,\u001b[0m \u001b[1;36m5\u001b[0m \u001b[1;33m,\u001b[0m \u001b[0mfs\u001b[0m \u001b[1;33m,\u001b[0m \u001b[0mw\u001b[0m \u001b[1;33m,\u001b[0m \u001b[1;36m4\u001b[0m \u001b[1;33m,\u001b[0m \u001b[1;34m'db4'\u001b[0m\u001b[1;33m)\u001b[0m\u001b[1;33m)\u001b[0m\u001b[1;33m\u001b[0m\u001b[0m\n\u001b[0;32m     11\u001b[0m \u001b[1;33m\u001b[0m\u001b[0m\n",
      "\u001b[1;31mNameError\u001b[0m: name 'btr_data' is not defined"
     ]
    }
   ],
   "source": [
    "# 全trial\n",
    "# 后续使用log特征\n",
    "if False:\n",
    "    w = [0 , sample_rate*trial_time]\n",
    "    \n",
    "    trials = dataset.trials\n",
    "    fs = dataset.sampling_freq\n",
    "    \n",
    "    features1 = np.array(dwt_features(btr_data , trials , 5 , fs , w , 3 , 'db4'))\n",
    "    features2 = np.array(dwt_features(btr_data , trials , 5 , fs , w , 4 , 'db4'))   \n",
    "    \n",
    "    features = np.concatenate((features1.T , features2.T)).T\n",
    "    features -= np.mean(features)\n",
    "    features_ = gp.signal.normalize(features , 'min_max')"
   ]
  },
  {
   "cell_type": "code",
   "execution_count": 34,
   "metadata": {},
   "outputs": [
    {
     "data": {
      "text/plain": [
       "(44, 50)"
      ]
     },
     "execution_count": 34,
     "metadata": {},
     "output_type": "execute_result"
    }
   ],
   "source": [
    "features.shape"
   ]
  },
  {
   "cell_type": "markdown",
   "metadata": {},
   "source": [
    "## Sequential Feature Selection"
   ]
  },
  {
   "cell_type": "code",
   "execution_count": 177,
   "metadata": {
    "scrolled": false
   },
   "outputs": [
    {
     "name": "stderr",
     "output_type": "stream",
     "text": [
      "[Parallel(n_jobs=-1)]: Done  25 tasks      | elapsed:    1.8s\n",
      "[Parallel(n_jobs=-1)]: Done  80 out of  80 | elapsed:    2.0s finished\n",
      "\n",
      "[2018-11-28 16:11:38] Features: 1/12 -- score: 0.5066666666666667[Parallel(n_jobs=-1)]: Done  25 tasks      | elapsed:    1.6s\n",
      "[Parallel(n_jobs=-1)]: Done  79 out of  79 | elapsed:    1.7s finished\n",
      "[Parallel(n_jobs=-1)]: Done   1 out of   1 | elapsed:    0.7s finished\n",
      "\n",
      "[2018-11-28 16:11:44] Features: 2/12 -- score: 0.5845238095238094[Parallel(n_jobs=-1)]: Done  25 tasks      | elapsed:    1.6s\n",
      "[Parallel(n_jobs=-1)]: Done  63 out of  78 | elapsed:    1.7s remaining:    0.3s\n",
      "[Parallel(n_jobs=-1)]: Done  78 out of  78 | elapsed:    1.7s finished\n",
      "[Parallel(n_jobs=-1)]: Done   2 out of   2 | elapsed:    0.9s finished\n",
      "\n",
      "[2018-11-28 16:11:50] Features: 3/12 -- score: 0.6316666666666666[Parallel(n_jobs=-1)]: Done  25 tasks      | elapsed:    1.6s\n",
      "[Parallel(n_jobs=-1)]: Done  77 out of  77 | elapsed:    1.8s finished\n",
      "[Parallel(n_jobs=-1)]: Done   3 out of   3 | elapsed:    1.0s finished\n",
      "\n",
      "[2018-11-28 16:11:56] Features: 4/12 -- score: 0.660952380952381[Parallel(n_jobs=-1)]: Done  25 tasks      | elapsed:    1.7s\n",
      "[Parallel(n_jobs=-1)]: Done  61 out of  76 | elapsed:    1.8s remaining:    0.4s\n",
      "[Parallel(n_jobs=-1)]: Done  76 out of  76 | elapsed:    1.8s finished\n",
      "[Parallel(n_jobs=-1)]: Done   4 out of   4 | elapsed:    1.0s remaining:    0.0s\n",
      "[Parallel(n_jobs=-1)]: Done   4 out of   4 | elapsed:    1.0s finished\n",
      "\n",
      "[2018-11-28 16:12:02] Features: 5/12 -- score: 0.7107142857142857[Parallel(n_jobs=-1)]: Done  25 tasks      | elapsed:    1.7s\n",
      "[Parallel(n_jobs=-1)]: Done  75 out of  75 | elapsed:    1.9s finished\n",
      "[Parallel(n_jobs=-1)]: Done   2 out of   5 | elapsed:    0.9s remaining:    1.4s\n",
      "[Parallel(n_jobs=-1)]: Done   5 out of   5 | elapsed:    1.2s remaining:    0.0s\n",
      "[Parallel(n_jobs=-1)]: Done   5 out of   5 | elapsed:    1.2s finished\n",
      "\n",
      "[2018-11-28 16:12:09] Features: 6/12 -- score: 0.7357142857142858[Parallel(n_jobs=-1)]: Done  25 tasks      | elapsed:    1.7s\n",
      "[Parallel(n_jobs=-1)]: Done  74 out of  74 | elapsed:    1.8s finished\n",
      "[Parallel(n_jobs=-1)]: Done   3 out of   6 | elapsed:    1.0s remaining:    1.0s\n",
      "[Parallel(n_jobs=-1)]: Done   6 out of   6 | elapsed:    1.2s finished\n",
      "\n",
      "[2018-11-28 16:12:15] Features: 7/12 -- score: 0.7423809523809524[Parallel(n_jobs=-1)]: Done  25 tasks      | elapsed:    1.7s\n",
      "[Parallel(n_jobs=-1)]: Done  73 out of  73 | elapsed:    1.8s finished\n",
      "[Parallel(n_jobs=-1)]: Done   4 out of   7 | elapsed:    1.0s remaining:    0.7s\n",
      "[Parallel(n_jobs=-1)]: Done   7 out of   7 | elapsed:    1.1s finished\n",
      "\n",
      "[2018-11-28 16:12:21] Features: 8/12 -- score: 0.7490476190476191[Parallel(n_jobs=-1)]: Done  25 tasks      | elapsed:    1.7s\n",
      "[Parallel(n_jobs=-1)]: Done  57 out of  72 | elapsed:    1.7s remaining:    0.4s\n",
      "[Parallel(n_jobs=-1)]: Done  72 out of  72 | elapsed:    1.8s finished\n",
      "[Parallel(n_jobs=-1)]: Done   3 out of   8 | elapsed:    1.0s remaining:    1.8s\n",
      "[Parallel(n_jobs=-1)]: Done   8 out of   8 | elapsed:    1.4s remaining:    0.0s\n",
      "[Parallel(n_jobs=-1)]: Done   8 out of   8 | elapsed:    1.4s finished\n",
      "\n",
      "[2018-11-28 16:12:28] Features: 9/12 -- score: 0.7490476190476191[Parallel(n_jobs=-1)]: Done  25 tasks      | elapsed:    1.7s\n",
      "[Parallel(n_jobs=-1)]: Done  71 out of  71 | elapsed:    1.8s finished\n",
      "[Parallel(n_jobs=-1)]: Done   4 out of   9 | elapsed:    1.0s remaining:    1.3s\n",
      "[Parallel(n_jobs=-1)]: Done   9 out of   9 | elapsed:    1.4s remaining:    0.0s\n",
      "[Parallel(n_jobs=-1)]: Done   9 out of   9 | elapsed:    1.4s finished\n",
      "\n",
      "[2018-11-28 16:12:34] Features: 10/12 -- score: 0.7490476190476191[Parallel(n_jobs=-1)]: Done  25 tasks      | elapsed:    1.7s\n",
      "[Parallel(n_jobs=-1)]: Done  55 out of  70 | elapsed:    1.8s remaining:    0.4s\n",
      "[Parallel(n_jobs=-1)]: Done  70 out of  70 | elapsed:    1.8s finished\n",
      "[Parallel(n_jobs=-1)]: Done   7 out of  10 | elapsed:    1.3s remaining:    0.5s\n",
      "[Parallel(n_jobs=-1)]: Done  10 out of  10 | elapsed:    1.4s finished\n",
      "\n",
      "[2018-11-28 16:12:41] Features: 11/12 -- score: 0.7490476190476191[Parallel(n_jobs=-1)]: Done  25 tasks      | elapsed:    1.6s\n",
      "[Parallel(n_jobs=-1)]: Done  69 out of  69 | elapsed:    1.7s finished\n",
      "[Parallel(n_jobs=-1)]: Done   2 out of  11 | elapsed:    0.8s remaining:    4.2s\n",
      "[Parallel(n_jobs=-1)]: Done   8 out of  11 | elapsed:    1.3s remaining:    0.4s\n",
      "[Parallel(n_jobs=-1)]: Done  11 out of  11 | elapsed:    1.5s finished\n",
      "\n",
      "[2018-11-28 16:12:47] Features: 12/12 -- score: 0.769047619047619"
     ]
    },
    {
     "data": {
      "image/png": "[encoded data removed]",
      "text/plain": [
       "<matplotlib.figure.Figure at 0x16ce02216a0>"
      ]
     },
     "metadata": {},
     "output_type": "display_data"
    }
   ],
   "source": [
    "# Sequential Feature Selection Algorithm\n",
    "#使用log 特征\n",
    "\n",
    "feature_idx, cv_scores, algorithm , SequentialFeatureSelector , LinearDiscriminantAnalysis = gp.features.sequential_feature_selector(features, dataset.labels, 'LDA',  12 , 10, 'SFFS')\n",
    "\n",
    "#选取6-12个特征 具体的特征个数在6-12之间\n",
    "# feature_idx, cv_scores, algorithm , SequentialFeatureSelector , LinearDiscriminantAnalysis = gp.features.sequential_feature_selector(features, labels, 'LDA', (6,12) , 10, 'SFFS')"
   ]
  },
  {
   "cell_type": "code",
   "execution_count": 178,
   "metadata": {},
   "outputs": [
    {
     "data": {
      "text/plain": [
       "0.769047619047619"
      ]
     },
     "execution_count": 178,
     "metadata": {},
     "output_type": "execute_result"
    }
   ],
   "source": [
    "cv_scores"
   ]
  },
  {
   "cell_type": "code",
   "execution_count": 179,
   "metadata": {},
   "outputs": [
    {
     "data": {
      "text/plain": [
       "'Sequential Forward Floating Selection (SFFS)'"
      ]
     },
     "execution_count": 179,
     "metadata": {},
     "output_type": "execute_result"
    }
   ],
   "source": [
    "algorithm"
   ]
  },
  {
   "cell_type": "markdown",
   "metadata": {},
   "source": [
    "## PCA"
   ]
  },
  {
   "cell_type": "code",
   "execution_count": 180,
   "metadata": {
    "collapsed": true
   },
   "outputs": [],
   "source": [
    "PCA = gp.features.PCA_dim_red(features , 0.95)"
   ]
  },
  {
   "cell_type": "code",
   "execution_count": 181,
   "metadata": {},
   "outputs": [
    {
     "data": {
      "text/plain": [
       "(135, 2)"
      ]
     },
     "execution_count": 181,
     "metadata": {},
     "output_type": "execute_result"
    }
   ],
   "source": [
    "PCA.shape"
   ]
  },
  {
   "cell_type": "markdown",
   "metadata": {},
   "source": [
    "## training and classification"
   ]
  },
  {
   "cell_type": "code",
   "execution_count": 182,
   "metadata": {
    "collapsed": true
   },
   "outputs": [],
   "source": [
    "split_features = gp.split.shuffle_Split(features , dataset.labels , n_splits=10 , test_size=0.2 , random_state=0)"
   ]
  },
  {
   "cell_type": "code",
   "execution_count": 183,
   "metadata": {
    "collapsed": true
   },
   "outputs": [],
   "source": [
    "X_train = split_features[0]\n",
    "X_test = split_features[1]\n",
    "\n",
    "Y_train = split_features[2]\n",
    "Y_test = split_features[3]"
   ]
  },
  {
   "cell_type": "code",
   "execution_count": 184,
   "metadata": {},
   "outputs": [
    {
     "data": {
      "text/plain": [
       "(108, 80)"
      ]
     },
     "execution_count": 184,
     "metadata": {},
     "output_type": "execute_result"
    }
   ],
   "source": [
    "X_train.shape"
   ]
  },
  {
   "cell_type": "code",
   "execution_count": 185,
   "metadata": {},
   "outputs": [
    {
     "data": {
      "text/plain": [
       "(27, 80)"
      ]
     },
     "execution_count": 185,
     "metadata": {},
     "output_type": "execute_result"
    }
   ],
   "source": [
    "X_test.shape"
   ]
  },
  {
   "cell_type": "code",
   "execution_count": 186,
   "metadata": {},
   "outputs": [
    {
     "data": {
      "image/png": "[encoded data removed]",
      "text/plain": [
       "<matplotlib.figure.Figure at 0x16ce7a1c128>"
      ]
     },
     "metadata": {},
     "output_type": "display_data"
    }
   ],
   "source": [
    "# PCA and plot in low-dimension\n",
    "\n",
    "gp.plot.PCA('3D' , features , X_train , Y_train)"
   ]
  },
  {
   "cell_type": "code",
   "execution_count": null,
   "metadata": {
    "collapsed": true
   },
   "outputs": [],
   "source": []
  },
  {
   "cell_type": "code",
   "execution_count": 187,
   "metadata": {
    "collapsed": true
   },
   "outputs": [],
   "source": [
    "results , clf = gp.classify('LDA' , X_train , Y_train , X_test , Y_test)"
   ]
  },
  {
   "cell_type": "code",
   "execution_count": 188,
   "metadata": {},
   "outputs": [
    {
     "name": "stdout",
     "output_type": "stream",
     "text": [
      "             precision    recall  f1-score   support\n",
      "\n",
      "          0       0.40      0.67      0.50         6\n",
      "          1       0.60      0.50      0.55        12\n",
      "          2       0.43      0.33      0.38         9\n",
      "\n",
      "avg / total       0.50      0.48      0.48        27\n",
      "\n",
      "48.148148148148145\n"
     ]
    }
   ],
   "source": [
    "print(results)\n",
    "print(results.accuracy)"
   ]
  },
  {
   "cell_type": "code",
   "execution_count": 189,
   "metadata": {},
   "outputs": [
    {
     "data": {
      "image/png": "[encoded data removed]",
      "text/plain": [
       "<matplotlib.figure.Figure at 0x16ce7a172b0>"
      ]
     },
     "metadata": {},
     "output_type": "display_data"
    }
   ],
   "source": [
    "gp.plot.confusion_matrix(Y_test , results.pred)"
   ]
  },
  {
   "cell_type": "code",
   "execution_count": 97,
   "metadata": {},
   "outputs": [
    {
     "data": {
      "text/plain": [
       "array([2, 3, 2, 0, 0, 2, 1, 1, 2, 3, 2])"
      ]
     },
     "execution_count": 97,
     "metadata": {},
     "output_type": "execute_result"
    }
   ],
   "source": [
    "results.pred"
   ]
  },
  {
   "cell_type": "code",
   "execution_count": null,
   "metadata": {
    "collapsed": true
   },
   "outputs": [],
   "source": []
  },
  {
   "cell_type": "code",
   "execution_count": 98,
   "metadata": {},
   "outputs": [
    {
     "name": "stderr",
     "output_type": "stream",
     "text": [
      "C:\\Anaconda3\\lib\\site-packages\\sklearn\\discriminant_analysis.py:387: UserWarning: Variables are collinear.\n",
      "  warnings.warn(\"Variables are collinear.\")\n",
      "C:\\Anaconda3\\lib\\site-packages\\sklearn\\discriminant_analysis.py:695: UserWarning: Variables are collinear\n",
      "  warnings.warn(\"Variables are collinear\")\n",
      "C:\\Anaconda3\\lib\\site-packages\\sklearn\\preprocessing\\label.py:171: DeprecationWarning: The truth value of an empty array is ambiguous. Returning False, but in future this will result in an error. Use `array.size > 0` to check that an array is not empty.\n",
      "  if diff:\n"
     ]
    }
   ],
   "source": [
    "results , _ = gp.classification.vote(X_train , Y_train , X_test , Y_test , 'hard' , False , (6,12))\n"
   ]
  },
  {
   "cell_type": "code",
   "execution_count": 99,
   "metadata": {},
   "outputs": [
    {
     "name": "stdout",
     "output_type": "stream",
     "text": [
      "             precision    recall  f1-score   support\n",
      "\n",
      "          0       0.20      0.50      0.29         2\n",
      "          1       0.00      0.00      0.00         4\n",
      "          2       0.00      0.00      0.00         3\n",
      "          3       0.00      0.00      0.00         2\n",
      "\n",
      "avg / total       0.04      0.09      0.05        11\n",
      "\n",
      "9.090909090909092\n"
     ]
    }
   ],
   "source": [
    "print(results)\n",
    "print(results.accuracy)"
   ]
  },
  {
   "cell_type": "code",
   "execution_count": null,
   "metadata": {
    "collapsed": true
   },
   "outputs": [],
   "source": [
    " "
   ]
  },
  {
   "cell_type": "code",
   "execution_count": 100,
   "metadata": {},
   "outputs": [
    {
     "data": {
      "image/png": "[encoded data removed]",
      "text/plain": [
       "<matplotlib.figure.Figure at 0x1a180252c18>"
      ]
     },
     "metadata": {},
     "output_type": "display_data"
    }
   ],
   "source": [
    "gp.plot.confusion_matrix(results.pred , Y_test)"
   ]
  },
  {
   "cell_type": "code",
   "execution_count": null,
   "metadata": {
    "collapsed": true
   },
   "outputs": [],
   "source": []
  },
  {
   "cell_type": "code",
   "execution_count": 54,
   "metadata": {
    "collapsed": true
   },
   "outputs": [],
   "source": []
  },
  {
   "cell_type": "code",
   "execution_count": null,
   "metadata": {
    "collapsed": true
   },
   "outputs": [],
   "source": [
    "##查看数据信息\n",
    "#一个trial的信号数据 index\n",
    "display_idx = 20\n",
    "\n",
    "plt.figure(figsize=(16,8))\n",
    "plt.clf()\n",
    "plt.plot(dataset.data[display_idx , 0:768 , 0 , 0], label='AF3')\n",
    "plt.legend()\n",
    "plt.title(\"Filtered Data{%s}\" % LABEL2STR[dataset.labels[display_idx]])"
   ]
  }
 ],
 "metadata": {
  "kernelspec": {
   "display_name": "Python 3",
   "language": "python",
   "name": "python3"
  },
  "language_info": {
   "codemirror_mode": {
    "name": "ipython",
    "version": 3
   },
   "file_extension": ".py",
   "mimetype": "text/x-python",
   "name": "python",
   "nbconvert_exporter": "python",
   "pygments_lexer": "ipython3",
   "version": "3.6.1"
  }
 },
 "nbformat": 4,
 "nbformat_minor": 2
}
