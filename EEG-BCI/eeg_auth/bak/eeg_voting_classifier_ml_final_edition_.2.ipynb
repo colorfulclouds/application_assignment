{
 "cells": [
  {
   "cell_type": "code",
   "execution_count": 55,
   "metadata": {
    "collapsed": true
   },
   "outputs": [],
   "source": [
    "import gumpy as gp\n",
    "import numpy as np\n",
    "import pywt\n",
    "\n",
    "import sklearn\n",
    "import os\n",
    "\n",
    "import warnings\n",
    "\n",
    "warnings.simplefilter('ignore') #忽略警告"
   ]
  },
  {
   "cell_type": "code",
   "execution_count": 56,
   "metadata": {},
   "outputs": [],
   "source": [
    "import scipy\n",
    "import scipy.io as sio\n",
    "\n",
    "from scipy import linalg\n",
    "\n",
    "import pandas as pd\n",
    "\n",
    "#分类器\n",
    "from sklearn.svm import SVC\n",
    "from sklearn.ensemble import RandomForestClassifier\n",
    "from sklearn.ensemble import AdaBoostClassifier\n",
    "from sklearn.ensemble import GradientBoostingClassifier\n",
    "from sklearn.neighbors import KNeighborsClassifier\n",
    "from sklearn.tree import DecisionTreeClassifier\n",
    "from sklearn.lda import LDA\n",
    "from sklearn.naive_bayes import GaussianNB\n",
    "from sklearn.neural_network import MLPClassifier\n",
    "\n",
    "import xgboost\n",
    "import lightgbm\n",
    "\n",
    "#模型集成\n",
    "from sklearn.ensemble import VotingClassifier\n",
    "from sklearn.ensemble import BaggingClassifier\n",
    "\n",
    "#模型调节\n",
    "from sklearn.model_selection import GridSearchCV #参数搜索\n",
    "from mlxtend.feature_selection import SequentialFeatureSelector #特征选择函数 选择合适的feature\n",
    "\n",
    "#结果可视化\n",
    "from sklearn.metrics import classification_report , confusion_matrix #混淆矩阵\n",
    "\n",
    "\n",
    "#二分类其多分类化\n",
    "#from sklearn.multiclass import OneVsOneClassifier\n",
    "#from sklearn.multiclass import OneVsRestClassifier\n",
    "\n",
    "#from sklearn.preprocessing import StandardScaler\n",
    "#from sklearn.cluster import KMeans\n",
    "\n",
    "#距离函数 度量向量距离\n",
    "from sklearn.metrics.pairwise import manhattan_distances\n",
    "from sklearn.metrics.pairwise import euclidean_distances\n",
    "from sklearn.metrics.pairwise import cosine_distances\n",
    "from sklearn.metrics.pairwise import cosine_similarity #余弦相似度\n",
    "\n",
    "#one-hot使用\n",
    "from keras.utils import to_categorical\n",
    "\n",
    "#绘图\n",
    "import matplotlib.pyplot as plt\n",
    "\n",
    "import scipy.linalg as la\n",
    "\n",
    "import gc\n",
    "\n",
    "%matplotlib inline"
   ]
  },
  {
   "cell_type": "code",
   "execution_count": null,
   "metadata": {
    "collapsed": true
   },
   "outputs": [],
   "source": []
  },
  {
   "cell_type": "code",
   "execution_count": 57,
   "metadata": {
    "collapsed": true
   },
   "outputs": [],
   "source": [
    "sample_rate = 256 #hz\n",
    "origin_channel = 16 #5 channel eeg\n",
    "\n",
    "#采集的通道\n",
    "#共16 channel\n",
    "#未使用的channel使用none代替\n",
    "#reference:a study on performance increasing in ssvep based bci application\n",
    "SAMPLE_CHANNEL = ['Pz' , 'PO3' , 'PO4' , 'O1' , 'O2' , 'Oz' , 'O9' , 'FP2' ,\n",
    "                  'C4' , 'C6' , 'CP3' , 'CP1' ,\n",
    "                  'CPZ' , 'CP2' , 'CP4' , 'PO8']\n",
    "\n",
    "LABEL2STR = {0:'sen' , 1:'hong' , 2:'zhao',\n",
    "             3:'fen' , 4:'xiao' , 5:'yu' , \n",
    "             6:'bin' , 7:'wang' , 8:'wei' , \n",
    "             9:'fei'}\n",
    "\n",
    "# 减去前多少秒数据 second\n",
    "# 减去后多少秒数据 second\n",
    "CLIP_FORWARD = 2\n",
    "CLIP_BACKWARD = 1\n",
    "\n",
    "# 单个小段的实验时长\n",
    "trial_time = 3 #second\n",
    "\n",
    "trial_offset = 0 #second\n",
    "start_trial_time = 0 #真正的实验开始时刻\n",
    "end_trial_time = 2 #真正的实验结束时刻(<trial_time)\n",
    "\n",
    "#是否进行归一化\n",
    "#reference:a study on performance increasing in ssvep based bci application\n",
    "#IS_NORMALIZE = True\n",
    "\n",
    "#是否进行滤波\n",
    "#IS_FILTER = False\n",
    "#EEG频率范围\n",
    "#reference:a study on performance increasing in ssvep based bci application\n",
    "LO_FREQ = 0.5\n",
    "HI_FREQ = 40\n",
    "\n",
    "#是否陷波\n",
    "#IS_NOTCH = False\n",
    "NOTCH_FREQ = 50 #陷波 工频\n",
    "\n"
   ]
  },
  {
   "cell_type": "markdown",
   "metadata": {},
   "source": [
    "# load data step"
   ]
  },
  {
   "cell_type": "code",
   "execution_count": 58,
   "metadata": {
    "collapsed": true
   },
   "outputs": [],
   "source": [
    "# defined\n",
    "\n",
    "#def butter_worth(data , lowcut , highcut , order=6):\n",
    "#    nyq = 0.5 * sample_rate\n",
    "#    \n",
    "#    lo = lowcut / nyq\n",
    "#    hi = highcut / nyq\n",
    "#    \n",
    "#    b,a = scipy.signal.butter(order , [lo , hi] , btype='bandpass')\n",
    "#\n",
    "#    return np.array([scipy.signal.filtfilt(b , a , data[: , i]) for i in range(data.shape[1])]).reshape((-1 , origin_channel))"
   ]
  },
  {
   "cell_type": "code",
   "execution_count": 59,
   "metadata": {
    "collapsed": true
   },
   "outputs": [],
   "source": [
    "def load_data(filename):\n",
    "    \n",
    "    #extra_overlap = 1500\n",
    "    \n",
    "    data = sio.loadmat(file_name=filename)['data_received'] #length*16 matrix\n",
    "\n",
    "    #此通道没有采集 置为0\n",
    "    #全通道均使用时 不需要\n",
    "    #for i in range(len(SAMPLE_CHANNEL)):\n",
    "    #    if SAMPLE_CHANNEL[i] == 'none':\n",
    "    #        data[: , i] = 0.0\n",
    "\n",
    "    #删除前x秒和后x秒数据\n",
    "    \n",
    "    \n",
    "    #是否进行裁剪 【如果进行裁剪 由于sen的第一次数据 将extra_overlap调整为1500】\n",
    "    data = data[CLIP_FORWARD * sample_rate : - CLIP_BACKWARD * sample_rate]\n",
    "    \n",
    "    \n",
    "    #data = np.concatenate((data , data[ -extra_overlap : , :]) , axis=0)\n",
    "    #\n",
    "    #data_filter = butter_worth(data , 0.5 , 40 , order=3)\n",
    "    #\n",
    "    #return data_filter[extra_overlap : , :] #将边界效应去掉\n",
    "\n",
    "    return data"
   ]
  },
  {
   "cell_type": "code",
   "execution_count": 60,
   "metadata": {
    "collapsed": true
   },
   "outputs": [],
   "source": [
    "def separate(data , label , overlap_length = 128):\n",
    "    '''\n",
    "    最长重叠长度为size长 256*3 个数据点\n",
    "    '''\n",
    "    train_data = []\n",
    "    train_labels = []\n",
    "\n",
    "    size = sample_rate * trial_time #一小段 256*3 个数据点\n",
    "    data_length = data.shape[0]\n",
    "\n",
    "    idx = 0\n",
    "\n",
    "    while idx<data_length-size:\n",
    "        train_data.append(data[idx : idx+size , :])\n",
    "        train_labels.append(label)\n",
    "\n",
    "        idx = idx + (size - overlap_length)\n",
    "\n",
    "    return np.array(train_data) , np.array(train_labels)"
   ]
  },
  {
   "cell_type": "code",
   "execution_count": 67,
   "metadata": {},
   "outputs": [
    {
     "data": {
      "text/plain": [
       "['10', '15', '20', '25']"
      ]
     },
     "execution_count": 67,
     "metadata": {},
     "output_type": "execute_result"
    }
   ],
   "source": [
    "os.listdir('real_data/eeg_final/circle/0/')"
   ]
  },
  {
   "cell_type": "code",
   "execution_count": null,
   "metadata": {
    "collapsed": true
   },
   "outputs": [],
   "source": [
    "'real_data/eeg_final/circle/0/10/'"
   ]
  },
  {
   "cell_type": "code",
   "execution_count": 87,
   "metadata": {
    "collapsed": true
   },
   "outputs": [],
   "source": [
    "def train_val(data , ratio = 0.9):\n",
    "    '''\n",
    "    将数据分为 训练集 和 验证集\n",
    "    '''\n",
    "    \n",
    "    seg = int(ratio * data.shape[0])\n",
    "    \n",
    "    return data[ : seg] , data[seg : ]\n",
    "\n",
    "\n",
    "def combine(freq = 10):\n",
    "    '''\n",
    "    训练数据与验证数据\n",
    "    :freq: 指定闪烁的频率\n",
    "    \n",
    "    '''\n",
    "    \n",
    "    if freq not in [10 , 15 , 20 , 25]:\n",
    "        print('freq must in 10,15,20,25')\n",
    "        return \n",
    "    \n",
    "    ratio = 0.9 #训练集的占比\n",
    "    overlap_length = 2*256 #重叠2秒数据\n",
    "    \n",
    "    person_0_filenames = os.listdir('real_data/eeg_final/circle/0/%s/' % freq)\n",
    "    person_1_filenames = os.listdir('real_data/eeg_final/circle/1/%s/' % freq)\n",
    "    person_2_filenames = os.listdir('real_data/eeg_final/circle/2/%s/' % freq)\n",
    "    person_3_filenames = os.listdir('real_data/eeg_final/circle/3/%s/' % freq)\n",
    "    person_4_filenames = os.listdir('real_data/eeg_final/circle/4/%s/' % freq)\n",
    "    person_5_filenames = os.listdir('real_data/eeg_final/circle/5/%s/' % freq)\n",
    "    person_6_filenames = os.listdir('real_data/eeg_final/circle/6/%s/' % freq)\n",
    "    person_7_filenames = os.listdir('real_data/eeg_final/circle/7/%s/' % freq)\n",
    "    person_8_filenames = os.listdir('real_data/eeg_final/circle/8/%s/' % freq)\n",
    "    person_9_filenames = os.listdir('real_data/eeg_final/circle/9/%s/' % freq)\n",
    "    \n",
    "\n",
    "    #打开信号文件 并 合并\n",
    "    person_0 = np.concatenate([load_data('real_data/eeg_final/circle/0/%s/' % freq + filename) for filename in person_0_filenames] , axis = 0)\n",
    "    person_1 = np.concatenate([load_data('real_data/eeg_final/circle/1/%s/' % freq + filename) for filename in person_1_filenames] , axis = 0)\n",
    "    person_2 = np.concatenate([load_data('real_data/eeg_final/circle/2/%s/' % freq + filename) for filename in person_2_filenames] , axis = 0)\n",
    "    person_3 = np.concatenate([load_data('real_data/eeg_final/circle/3/%s/' % freq + filename) for filename in person_3_filenames] , axis = 0)\n",
    "    person_4 = np.concatenate([load_data('real_data/eeg_final/circle/4/%s/' % freq + filename) for filename in person_4_filenames] , axis = 0)\n",
    "    person_5 = np.concatenate([load_data('real_data/eeg_final/circle/5/%s/' % freq + filename) for filename in person_5_filenames] , axis = 0)\n",
    "    person_6 = np.concatenate([load_data('real_data/eeg_final/circle/6/%s/' % freq + filename) for filename in person_6_filenames] , axis = 0)\n",
    "    person_7 = np.concatenate([load_data('real_data/eeg_final/circle/7/%s/' % freq + filename) for filename in person_7_filenames] , axis = 0)\n",
    "    person_8 = np.concatenate([load_data('real_data/eeg_final/circle/8/%s/' % freq + filename) for filename in person_8_filenames] , axis = 0)\n",
    "    person_9 = np.concatenate([load_data('real_data/eeg_final/circle/9/%s/' % freq + filename) for filename in person_9_filenames] , axis = 0)\n",
    "    \n",
    "    person_0_train , person_0_val = train_val(person_0)\n",
    "    person_1_train , person_1_val = train_val(person_1)\n",
    "    person_2_train , person_2_val = train_val(person_2)\n",
    "    person_3_train , person_3_val = train_val(person_3)\n",
    "    person_4_train , person_4_val = train_val(person_4)\n",
    "    person_5_train , person_5_val = train_val(person_5)\n",
    "    person_6_train , person_6_val = train_val(person_6)\n",
    "    person_7_train , person_7_val = train_val(person_7)\n",
    "    person_8_train , person_8_val = train_val(person_8)\n",
    "    person_9_train , person_9_val = train_val(person_9)\n",
    "    \n",
    "    #数据分段阶段\n",
    "    \n",
    "    #============\n",
    "    #训练数据分段\n",
    "    train_person_data_0 , train_person_labels_0 = separate(person_0_train , label = 0 , overlap_length=overlap_length)\n",
    "    train_person_data_1 , train_person_labels_1 = separate(person_1_train , label = 1 , overlap_length=overlap_length)\n",
    "    train_person_data_2 , train_person_labels_2 = separate(person_2_train , label = 2 , overlap_length=overlap_length)\n",
    "    train_person_data_3 , train_person_labels_3 = separate(person_3_train , label = 3 , overlap_length=overlap_length)\n",
    "    train_person_data_4 , train_person_labels_4 = separate(person_4_train , label = 4 , overlap_length=overlap_length)\n",
    "    train_person_data_5 , train_person_labels_5 = separate(person_5_train , label = 5 , overlap_length=overlap_length)\n",
    "    train_person_data_6 , train_person_labels_6 = separate(person_6_train , label = 6 , overlap_length=overlap_length)\n",
    "    train_person_data_7 , train_person_labels_7 = separate(person_7_train , label = 7 , overlap_length=overlap_length)\n",
    "    train_person_data_8 , train_person_labels_8 = separate(person_8_train , label = 8 , overlap_length=overlap_length)\n",
    "    train_person_data_9 , train_person_labels_9 = separate(person_9_train , label = 9 , overlap_length=overlap_length)\n",
    "\n",
    "    #合并数据\n",
    "    train_data = np.concatenate((train_person_data_0 , train_person_data_1 , train_person_data_2 ,\n",
    "                                 train_person_data_3 , train_person_data_4 , train_person_data_5 ,\n",
    "                                 train_person_data_6 , train_person_data_7 , train_person_data_8 ,\n",
    "                                 train_person_data_9 ))\n",
    "    \n",
    "    train_labels = np.concatenate((train_person_labels_0 , train_person_labels_1 , train_person_labels_2 ,\n",
    "                                   train_person_labels_3 , train_person_labels_4 , train_person_labels_5 ,\n",
    "                                   train_person_labels_6 , train_person_labels_7 , train_person_labels_8 ,\n",
    "                                   train_person_labels_9 ))\n",
    "    \n",
    "    #产生索引并置乱\n",
    "    idx_train_data = list(range(train_data.shape[0]))\n",
    "    np.random.shuffle(idx_train_data)\n",
    "\n",
    "    #将训练数据置乱\n",
    "    train_data = train_data[idx_train_data]\n",
    "    train_labels = train_labels[idx_train_data]\n",
    "    \n",
    "    #============\n",
    "    #验证数据分段\n",
    "    val_person_data_0 , val_person_labels_0 = separate(person_0_val , label = 0 , overlap_length=0)\n",
    "    val_person_data_1 , val_person_labels_1 = separate(person_1_val , label = 1 , overlap_length=0)\n",
    "    val_person_data_2 , val_person_labels_2 = separate(person_2_val , label = 2 , overlap_length=0)\n",
    "    val_person_data_3 , val_person_labels_3 = separate(person_3_val , label = 3 , overlap_length=0)\n",
    "    val_person_data_4 , val_person_labels_4 = separate(person_4_val , label = 4 , overlap_length=0)\n",
    "    val_person_data_5 , val_person_labels_5 = separate(person_5_val , label = 5 , overlap_length=0)\n",
    "    val_person_data_6 , val_person_labels_6 = separate(person_6_val , label = 6 , overlap_length=0)\n",
    "    val_person_data_7 , val_person_labels_7 = separate(person_7_val , label = 7 , overlap_length=0)\n",
    "    val_person_data_8 , val_person_labels_8 = separate(person_8_val , label = 8 , overlap_length=0)\n",
    "    val_person_data_9 , val_person_labels_9 = separate(person_9_val , label = 9 , overlap_length=0)\n",
    "    \n",
    "    #合并数据\n",
    "    val_data = np.concatenate((val_person_data_0 , val_person_data_1 , val_person_data_2 ,\n",
    "                               val_person_data_3 , val_person_data_4 , val_person_data_5 ,\n",
    "                               val_person_data_6 , val_person_data_7 , val_person_data_8 ,\n",
    "                               val_person_data_9 ))\n",
    "    \n",
    "    val_labels = np.concatenate((val_person_labels_0 , val_person_labels_1 , val_person_labels_2 ,\n",
    "                                 val_person_labels_3 , val_person_labels_4 , val_person_labels_5 ,\n",
    "                                 val_person_labels_6 , val_person_labels_7 , val_person_labels_8 ,\n",
    "                                 val_person_labels_9 ))\n",
    "\n",
    "    #产生索引并置乱\n",
    "    idx_val_data = list(range(val_data.shape[0]))\n",
    "    np.random.shuffle(idx_val_data)\n",
    "\n",
    "    #将训练数据置乱\n",
    "    val_data = val_data[idx_val_data]\n",
    "    val_labels = val_labels[idx_val_data]\n",
    "    \n",
    "    return train_data , train_labels , val_data , val_labels"
   ]
  },
  {
   "cell_type": "code",
   "execution_count": 88,
   "metadata": {
    "collapsed": true
   },
   "outputs": [],
   "source": [
    "def shuffle(train_data , train_labels , val_data , val_labels):\n",
    "    #置乱一次数据\n",
    "    idx_train_data = list(range(train_data.shape[0]))\n",
    "    np.random.shuffle(idx_train_data)\n",
    "    \n",
    "    idx_val_data = list(range(val_data.shape[0]))\n",
    "    np.random.shuffle(idx_val_data)\n",
    "    \n",
    "    return train_data[idx_train_data] , train_labels[idx_train_data] , val_data[idx_val_data] , val_labels[idx_val_data]"
   ]
  },
  {
   "cell_type": "code",
   "execution_count": 89,
   "metadata": {},
   "outputs": [],
   "source": [
    "train_X_ , train_y , val_X_ , val_y = combine(freq = 10) #10 15 20 25 hz"
   ]
  },
  {
   "cell_type": "code",
   "execution_count": 90,
   "metadata": {},
   "outputs": [
    {
     "name": "stdout",
     "output_type": "stream",
     "text": [
      "(1500, 768, 16) (1500,) (50, 768, 16) (50,)\n"
     ]
    }
   ],
   "source": [
    "#如果没有进行前后裁剪 则输出数据会变多\n",
    "\n",
    "print(train_X_.shape , train_y.shape , val_X_.shape , val_y.shape)"
   ]
  },
  {
   "cell_type": "markdown",
   "metadata": {},
   "source": [
    "# extract feature step"
   ]
  },
  {
   "cell_type": "markdown",
   "metadata": {},
   "source": [
    "## method 1 sub band power"
   ]
  },
  {
   "cell_type": "code",
   "execution_count": 91,
   "metadata": {
    "collapsed": true
   },
   "outputs": [],
   "source": [
    "def butter_worth(data , lowcut , highcut , order=6):\n",
    "    nyq = 0.5 * sample_rate\n",
    "    \n",
    "    lo = lowcut / nyq\n",
    "    hi = highcut / nyq\n",
    "    \n",
    "    b,a = scipy.signal.butter(order , [lo , hi] , btype='bandpass')\n",
    "\n",
    "    return np.array([scipy.signal.filtfilt(b , a , data[: , i]) for i in range(data.shape[1])]).reshape((-1 , origin_channel))"
   ]
  },
  {
   "cell_type": "code",
   "execution_count": 92,
   "metadata": {
    "collapsed": true
   },
   "outputs": [],
   "source": [
    "def alpha_subBP_features(data):\n",
    "    alpha1 = butter_worth(data , 8.5 , 11.5)\n",
    "    alpha2 = butter_worth(data , 9.0 , 12.5)    \n",
    "    alpha3 = butter_worth(data , 9.5 , 13.5)   #11.5 后\n",
    "    alpha4 = butter_worth(data , 8.0 , 10.5)   \n",
    "    \n",
    "    return np.array([alpha1 , alpha2 , alpha3 , alpha4])\n",
    "\n",
    "def beta_subBP_features(data):\n",
    "    beta1 = butter_worth(data , 15.0 , 30.0) #14.0 前\n",
    "    beta2 = butter_worth(data , 16.0 , 17.0)    \n",
    "    beta3 = butter_worth(data , 17.0 , 18.0)    \n",
    "    beta4 = butter_worth(data , 18.0 , 19.0)    \n",
    "    \n",
    "    return np.array([beta1 , beta2 , beta3 , beta4])\n",
    "\n",
    "def powermean(data):\n",
    "    #官方demo跳4秒 前4秒为准备阶段\n",
    "    return np.power(data[ : , 0] , 2).mean(), \\\n",
    "            np.power(data[ : , 1] , 2).mean(), \\\n",
    "            np.power(data[ : , 2] , 2).mean(), \\\n",
    "            np.power(data[ : , 3] , 2).mean(), \\\n",
    "            np.power(data[ : , 4] , 2).mean(), \\\n",
    "            np.power(data[ : , 5] , 2).mean(), \\\n",
    "            np.power(data[ : , 6] , 2).mean(), \\\n",
    "            np.power(data[ : , 7] , 2).mean(), \\\n",
    "            np.power(data[ : , 8] , 2).mean(), \\\n",
    "            np.power(data[ : , 9] , 2).mean(), \\\n",
    "            np.power(data[ : , 10] , 2).mean(), \\\n",
    "            np.power(data[ : , 11] , 2).mean(), \\\n",
    "            np.power(data[ : , 12] , 2).mean(), \\\n",
    "            np.power(data[ : , 13] , 2).mean(), \\\n",
    "            np.power(data[ : , 14] , 2).mean(), \\\n",
    "            np.power(data[ : , 15] , 2).mean()       "
   ]
  },
  {
   "cell_type": "code",
   "execution_count": 93,
   "metadata": {
    "collapsed": true
   },
   "outputs": [],
   "source": [
    "def log_subBP_feature_extraction(alpha , beta):\n",
    "    #alpha\n",
    "    power_1_a = powermean(alpha[0])\n",
    "    power_2_a = powermean(alpha[1])\n",
    "    power_3_a = powermean(alpha[2])\n",
    "    power_4_a = powermean(alpha[3])\n",
    "    \n",
    "    #beta\n",
    "    power_1_b = powermean(beta[0])\n",
    "    power_2_b = powermean(beta[1])\n",
    "    power_3_b = powermean(beta[2])\n",
    "    power_4_b = powermean(beta[3])\n",
    "    \n",
    "    X= np.array(\n",
    "        [np.log(power_1_a) ,\n",
    "         np.log(power_2_a) ,\n",
    "         np.log(power_3_a) ,\n",
    "         np.log(power_4_a) ,\n",
    "         np.log(power_1_b) ,\n",
    "         np.log(power_2_b) ,\n",
    "         np.log(power_3_b) ,\n",
    "         np.log(power_4_b)\n",
    "        ]\n",
    "        ).flatten()\n",
    "\n",
    "    return X"
   ]
  },
  {
   "cell_type": "code",
   "execution_count": 94,
   "metadata": {
    "collapsed": true
   },
   "outputs": [],
   "source": [
    "def feature_extraction_sub_band_power(data):\n",
    "    n_features = 128\n",
    "    X = np.zeros((data.shape[0] , n_features))\n",
    "    \n",
    "    for i , datum in enumerate(data):\n",
    "        alpha = alpha_subBP_features(datum)\n",
    "        beta = beta_subBP_features(datum)\n",
    "            \n",
    "        X[i, :] = log_subBP_feature_extraction(alpha , beta)\n",
    "\n",
    "    return X"
   ]
  },
  {
   "cell_type": "code",
   "execution_count": 95,
   "metadata": {
    "collapsed": true
   },
   "outputs": [],
   "source": [
    "train_X = feature_extraction_sub_band_power(train_X_)\n",
    "val_X = feature_extraction_sub_band_power(val_X_)"
   ]
  },
  {
   "cell_type": "code",
   "execution_count": 97,
   "metadata": {},
   "outputs": [
    {
     "name": "stdout",
     "output_type": "stream",
     "text": [
      "(1500, 128) (1500,) (50, 128) (50,)\n"
     ]
    }
   ],
   "source": [
    "print(train_X.shape , train_y.shape , val_X.shape , val_y.shape)"
   ]
  },
  {
   "cell_type": "markdown",
   "metadata": {
    "collapsed": true
   },
   "source": [
    "## method 2 DWT"
   ]
  },
  {
   "cell_type": "code",
   "execution_count": 18,
   "metadata": {
    "collapsed": true
   },
   "outputs": [],
   "source": [
    "def feature_extraction_dwt_meta(data , n):\n",
    "    n_features = 48\n",
    "    \n",
    "    X = np.zeros((data.shape[0] , n_features))\n",
    "    \n",
    "    level = 5\n",
    "    wavelet = 'db4'\n",
    "    \n",
    "    #n=3 or 4\n",
    "    \n",
    "    for i , datum in enumerate(data):\n",
    "        coeffs_Pz  = pywt.wavedec(data = datum[:,0], wavelet=wavelet, level=level)\n",
    "        coeffs_PO3 = pywt.wavedec(data = datum[:,1], wavelet=wavelet, level=level)\n",
    "        coeffs_PO4 = pywt.wavedec(data = datum[:,2], wavelet=wavelet, level=level)\n",
    "        coeffs_O1  = pywt.wavedec(data = datum[:,3], wavelet=wavelet, level=level)\n",
    "        coeffs_O2  = pywt.wavedec(data = datum[:,4], wavelet=wavelet, level=level)\n",
    "        coeffs_Oz  = pywt.wavedec(data = datum[:,5], wavelet=wavelet, level=level)\n",
    "        coeffs_O9  = pywt.wavedec(data = datum[:,6], wavelet=wavelet, level=level)\n",
    "        coeffs_FP2 = pywt.wavedec(data = datum[:,7], wavelet=wavelet, level=level)\n",
    "        coeffs_C4  = pywt.wavedec(data = datum[:,8], wavelet=wavelet, level=level)\n",
    "        coeffs_C6  = pywt.wavedec(data = datum[:,9], wavelet=wavelet, level=level)\n",
    "        coeffs_CP3 = pywt.wavedec(data = datum[:,10], wavelet=wavelet, level=level)\n",
    "        coeffs_CP1 = pywt.wavedec(data = datum[:,11], wavelet=wavelet, level=level)\n",
    "        coeffs_CPZ = pywt.wavedec(data = datum[:,12], wavelet=wavelet, level=level)\n",
    "        coeffs_CP2 = pywt.wavedec(data = datum[:,13], wavelet=wavelet, level=level)\n",
    "        coeffs_CP4 = pywt.wavedec(data = datum[:,14], wavelet=wavelet, level=level)\n",
    "        coeffs_PO8 = pywt.wavedec(data = datum[:,15], wavelet=wavelet, level=level)\n",
    "\n",
    "        X[i , :] = np.array([\n",
    "            np.std(coeffs_Pz [n]),   \n",
    "            np.std(coeffs_PO3[n]),  \n",
    "            np.std(coeffs_PO4[n]),   \n",
    "            np.std(coeffs_O1 [n]),  \n",
    "            np.std(coeffs_O2 [n]),  \n",
    "            np.std(coeffs_Oz [n]),   \n",
    "            np.std(coeffs_O9 [n]),  \n",
    "            np.std(coeffs_FP2[n]),  \n",
    "            np.std(coeffs_C4 [n]),\n",
    "            np.std(coeffs_C6 [n]),\n",
    "            np.std(coeffs_CP3[n]),\n",
    "            np.std(coeffs_CP1[n]),\n",
    "            np.std(coeffs_CPZ[n]),\n",
    "            np.std(coeffs_CP2[n]),\n",
    "            np.std(coeffs_CP4[n]),\n",
    "            np.std(coeffs_PO8[n]),\n",
    "            \n",
    "            np.mean(coeffs_Pz [n]**2),\n",
    "            np.mean(coeffs_PO3[n]**2),\n",
    "            np.mean(coeffs_PO4[n]**2),\n",
    "            np.mean(coeffs_O1 [n]**2),\n",
    "            np.mean(coeffs_O2 [n]**2),\n",
    "            np.mean(coeffs_Oz [n]**2),\n",
    "            np.mean(coeffs_O9 [n]**2),\n",
    "            np.mean(coeffs_FP2[n]**2),            \n",
    "            np.mean(coeffs_C4 [n]**2),\n",
    "            np.mean(coeffs_C6 [n]**2),\n",
    "            np.mean(coeffs_CP3[n]**2),\n",
    "            np.mean(coeffs_CP1[n]**2),\n",
    "            np.mean(coeffs_CPZ[n]**2),\n",
    "            np.mean(coeffs_CP2[n]**2),\n",
    "            np.mean(coeffs_CP4[n]**2),\n",
    "            np.mean(coeffs_PO8[n]**2),\n",
    "            \n",
    "            np.mean(coeffs_Pz [n]),\n",
    "            np.mean(coeffs_PO3[n]), \n",
    "            np.mean(coeffs_PO4[n]),\n",
    "            np.mean(coeffs_O1 [n]),\n",
    "            np.mean(coeffs_O2 [n]),\n",
    "            np.mean(coeffs_Oz [n]),\n",
    "            np.mean(coeffs_O9 [n]),\n",
    "            np.mean(coeffs_FP2[n]),        \n",
    "            np.mean(coeffs_C4 [n]),\n",
    "            np.mean(coeffs_C6 [n]),\n",
    "            np.mean(coeffs_CP3[n]),\n",
    "            np.mean(coeffs_CP1[n]),\n",
    "            np.mean(coeffs_CPZ[n]),\n",
    "            np.mean(coeffs_CP2[n]),\n",
    "            np.mean(coeffs_CP4[n]),\n",
    "            np.mean(coeffs_PO8[n])]).flatten()\n",
    "        \n",
    "    return X\n",
    "\n",
    "def normalize(data , normalization_type = 'mean_std'):\n",
    "    \n",
    "    def _norm_mean_std(data):\n",
    "        _mean = np.mean(data , axis=0)\n",
    "        _std = np.std(data , axis=0)\n",
    "        \n",
    "        return (data - _mean) / _std\n",
    "    \n",
    "    def _norm_min_max(data):\n",
    "        return (data - np.min(data)) / (np.max(data) - np.min(data))\n",
    "    \n",
    "    if normalization_type == 'mean_std':\n",
    "        return _norm_mean_std(data)\n",
    "    elif normalization_type == 'min_max':\n",
    "        return _norm_min_max(data)\n",
    "    else:\n",
    "        raise Exception('wrong normalization type')\n",
    "    \n",
    "def feature_extraction_dwt(data , is_normalize = True):\n",
    "    data_3 = feature_extraction_dwt_meta(data , 3) #4\n",
    "    data_4 = feature_extraction_dwt_meta(data , 4) #5\n",
    "    \n",
    "    data_concat = np.concatenate((data_3 , data_4) , axis = -1)\n",
    "    \n",
    "    if is_normalize:\n",
    "        return normalize(data_concat)\n",
    "    else:\n",
    "        return data_concat"
   ]
  },
  {
   "cell_type": "code",
   "execution_count": 363,
   "metadata": {
    "collapsed": true
   },
   "outputs": [],
   "source": [
    "train_X = feature_extraction_dwt(train_X_)\n",
    "\n",
    "val_X = feature_extraction_dwt(val_X_)"
   ]
  },
  {
   "cell_type": "code",
   "execution_count": 365,
   "metadata": {},
   "outputs": [
    {
     "name": "stdout",
     "output_type": "stream",
     "text": [
      "(360, 96) (360,) (12, 96) (12,)\n"
     ]
    }
   ],
   "source": [
    "print(train_X.shape , train_y.shape , val_X.shape , val_y.shape)"
   ]
  },
  {
   "cell_type": "code",
   "execution_count": 277,
   "metadata": {
    "collapsed": true
   },
   "outputs": [],
   "source": [
    "#coeff 长度为6\n",
    "#coeff  = pywt.wavedec(data = train_X_[0 , : , 0] , wavelet='db4', level=5)\n"
   ]
  },
  {
   "cell_type": "markdown",
   "metadata": {},
   "source": [
    "# method 3 CSP"
   ]
  },
  {
   "cell_type": "code",
   "execution_count": 292,
   "metadata": {
    "collapsed": true
   },
   "outputs": [],
   "source": [
    "def covarianceMatrix(A):\n",
    "    \"\"\"\n",
    "    协方差矩阵\n",
    "    \n",
    "    A如果为 通道数*数据点 则 np.dot(A , A.T)\n",
    "    \"\"\"\n",
    "    #Ca = np.cov(A)\n",
    "    A_dot_A_T = np.dot(A.T , A.T.T)\n",
    "    \n",
    "    return A_dot_A_T / np.trace(A_dot_A_T)"
   ]
  },
  {
   "cell_type": "code",
   "execution_count": 293,
   "metadata": {
    "collapsed": true
   },
   "outputs": [],
   "source": [
    "def spatialFilter(Ra,Rb):\n",
    "    \"\"\"\n",
    "    获取空间过滤器\n",
    "    \n",
    "    :Ra: 平均协方差矩阵\n",
    "    :Rb: 平均协方差矩阵    \n",
    "    \"\"\"\n",
    "\n",
    "    R = Ra + Rb    \n",
    "    E,U = la.eig(R) #E:特征值 U:特征向量\n",
    "\n",
    "    ord = np.argsort(E) #升序索引\n",
    "    ord = ord[::-1] #降序索引\n",
    "    E = E[ord]\n",
    "    U = U[:,ord]\n",
    "\n",
    "    #白化矩阵\n",
    "    P = np.dot(np.sqrt(la.inv(np.diag(E))) , np.transpose(U)) #矩阵的逆 ...\n",
    "\n",
    "    #转换平均协方差矩阵\n",
    "    Sa = np.dot(P , np.dot(Ra,np.transpose(P)))\n",
    "    Sb = np.dot(P , np.dot(Rb,np.transpose(P)))\n",
    "\n",
    "    #求广义特征值和特征向量 并进行排序（降序）\n",
    "    E1,U1 = la.eig(Sa,Sb)\n",
    "    ord1 = np.argsort(E1)\n",
    "    ord1 = ord1[::-1]\n",
    "    E1 = E1[ord1]\n",
    "    U1 = U1[:,ord1]\n",
    "\n",
    "    #计算投影矩阵（空间滤波器）\n",
    "    SFa = np.dot(np.transpose(U1),P)\n",
    "    \n",
    "    return SFa"
   ]
  },
  {
   "cell_type": "code",
   "execution_count": 294,
   "metadata": {
    "collapsed": true
   },
   "outputs": [],
   "source": [
    "def mean_covarianceMatrix(A):\n",
    "    '''\n",
    "    计算平均协方差矩阵\n",
    "    '''\n",
    "    Rx = covarianceMatrix(A[0])\n",
    "    \n",
    "    for i in range(1 , len(A)):\n",
    "        Rx += covarianceMatrix(A[i])\n",
    "\n",
    "    return Rx / len(A)\n",
    "    \n",
    "def CSP(task_a , task_b):\n",
    "    \"\"\"\n",
    "    :task_a: 一个segment信号矩阵\n",
    "    :task_b: 一个segment信号矩阵\n",
    "    \n",
    "    获取CSP特征\n",
    "    \"\"\"\n",
    "    mean_cov_a = mean_covarianceMatrix(task_a)\n",
    "    mean_cov_b = mean_covarianceMatrix(task_b)\n",
    "\n",
    "    filters = spatialFilter(mean_cov_a , mean_cov_b)\n",
    "\n",
    "    return np.array(filters)"
   ]
  },
  {
   "cell_type": "code",
   "execution_count": 295,
   "metadata": {
    "collapsed": true
   },
   "outputs": [],
   "source": [
    "def combine_CSP():\n",
    "    '''\n",
    "    CSP使用的读取数据函数\n",
    "    '''\n",
    "    ratio = 0.9 #训练集的占比\n",
    "    overlap_length = 2*256 #重叠2秒数据\n",
    "    \n",
    "    person_0_filenames = os.listdir('real_data/eeg_11.24/circle/1/10hz/')\n",
    "    person_1_filenames = os.listdir('real_data/eeg_11.24/circle/2/10hz/')\n",
    "    person_2_filenames = os.listdir('real_data/eeg_11.24/circle/3/10hz/')\n",
    "\n",
    "    #打开信号文件 并 合并\n",
    "    person_0 = np.concatenate([load_data('real_data/eeg_11.24/circle/1/10hz/' + filename) for filename in person_0_filenames] , axis = 0)\n",
    "    person_1 = np.concatenate([load_data('real_data/eeg_11.24/circle/2/10hz/' + filename) for filename in person_1_filenames] , axis = 0)\n",
    "    person_2 = np.concatenate([load_data('real_data/eeg_11.24/circle/3/10hz/' + filename) for filename in person_2_filenames] , axis = 0)\n",
    "\n",
    "    person_0_train , person_0_val = train_val(person_0)\n",
    "    person_1_train , person_1_val = train_val(person_1)\n",
    "    person_2_train , person_2_val = train_val(person_2)\n",
    "    \n",
    "    '''++++'''\n",
    "    #数据分段阶段\n",
    "    \n",
    "    #============\n",
    "    #训练数据分段\n",
    "    train_person_data_0 , train_person_labels_0 = separate(person_0_train , label = 0 , overlap_length=overlap_length)\n",
    "    train_person_data_1 , train_person_labels_1 = separate(person_1_train , label = 1 , overlap_length=overlap_length)\n",
    "    train_person_data_2 , train_person_labels_2 = separate(person_2_train , label = 2 , overlap_length=overlap_length)\n",
    "\n",
    "    #合并数据\n",
    "    #train_data = np.concatenate((train_person_data_0 , train_person_data_1 , train_person_data_2))\n",
    "    #train_labels = np.concatenate((train_person_labels_0 , train_person_labels_1 , train_person_labels_2))\n",
    "    \n",
    "    #============\n",
    "    #验证数据分段\n",
    "    val_person_data_0 , val_person_labels_0 = separate(person_0_val , label = 0 , overlap_length=0)\n",
    "    val_person_data_1 , val_person_labels_1 = separate(person_1_val , label = 1 , overlap_length=0)\n",
    "    val_person_data_2 , val_person_labels_2 = separate(person_2_val , label = 2 , overlap_length=0)\n",
    "    \n",
    "    #合并数据\n",
    "    val_data = np.concatenate((val_person_data_0 , val_person_data_1 , val_person_data_2))\n",
    "    val_labels = np.concatenate((val_person_labels_0 , val_person_labels_1 , val_person_labels_2))\n",
    "\n",
    "    '''++++'''\n",
    "    \n",
    "    return [train_person_data_0 , train_person_data_1 , train_person_data_2] , val_data , val_labels\n",
    "    "
   ]
  },
  {
   "cell_type": "code",
   "execution_count": 296,
   "metadata": {
    "collapsed": true
   },
   "outputs": [],
   "source": [
    "def get_ovo_idx(data):\n",
    "    '''\n",
    "    获取不同label的数据组合情况 ovo方式\n",
    "    '''\n",
    "    ovo_idx = []\n",
    "\n",
    "    for i in range(len(data) - 1):\n",
    "        for j in range(i+1 , len(data)):\n",
    "            ovo_idx.append( (i , j) )\n",
    "         \n",
    "    return ovo_idx"
   ]
  },
  {
   "cell_type": "code",
   "execution_count": 297,
   "metadata": {
    "collapsed": true
   },
   "outputs": [],
   "source": [
    "def get_spatial_filter(data):\n",
    "    '''\n",
    "    only tasks_train\n",
    "    只从训练数据中产生spatial filter matrix\n",
    "    '''\n",
    "    # ovo方式 需要两两信号的空间滤波器\n",
    "    ovo_idx = get_ovo_idx(data) #获取两两组合的信号索引对\n",
    "    sf_s = [] #多少个两两信号对 就有多少的空间滤波器\n",
    "    \n",
    "    for i , j in ovo_idx:\n",
    "        sf = CSP(data[i] , data[j])\n",
    "        \n",
    "        sf_s.append(sf)\n",
    "        \n",
    "    return sf_s #3*channels*channels"
   ]
  },
  {
   "cell_type": "code",
   "execution_count": 341,
   "metadata": {
    "collapsed": true
   },
   "outputs": [],
   "source": [
    "'''\n",
    "丢弃虚部\n",
    "'''\n",
    "\n",
    "def CSP_feature(data , sf , label):\n",
    "    '''\n",
    "    训练数据使用\n",
    "    '''\n",
    "    m = 2 # or 3\n",
    "    double_m = 2*m # 4 or 6\n",
    "    \n",
    "    sum_var_z_iterator = 0\n",
    "    sum_var_z = []\n",
    "    \n",
    "    z = []\n",
    "    \n",
    "    for datum in data:\n",
    "        var = np.var(np.dot(sf , datum.T).T.real) #768*16 > 1\n",
    "        \n",
    "        if double_m > 0:\n",
    "            sum_var_z_iterator = sum_var_z_iterator + var\n",
    "            \n",
    "            sum_var_z.append(sum_var_z_iterator)\n",
    "            \n",
    "            double_m = double_m - 1\n",
    "        \n",
    "        z.append(var) #只取实部\n",
    "        \n",
    "    z = np.array(z)\n",
    "    \n",
    "    z_csp = []\n",
    "    \n",
    "    for var_z in sum_var_z:\n",
    "        z_csp.append(z/var_z)\n",
    "       \n",
    "    z_csp = np.array(z_csp) #4*mm mm为样本数量\n",
    "    \n",
    "    z_csp = z_csp.T #mm*4\n",
    "    \n",
    "    #传入机器学习算法\n",
    "    return np.log(z_csp) , np.array([label] * len(data))\n",
    "\n",
    "\n",
    "def CSP_feature_v(data , sf):\n",
    "    '''\n",
    "    验证数据使用\n",
    "    '''\n",
    "    m = 2 # or 3\n",
    "    double_m = 2*m # 4 or 6\n",
    "    \n",
    "    sum_var_z_iterator = 0\n",
    "    sum_var_z = []\n",
    "    \n",
    "    z = []\n",
    "    \n",
    "    for datum in data:\n",
    "        var = np.var(np.dot(sf , datum.T).T.real) #768*16 > 1\n",
    "        \n",
    "        if double_m > 0:\n",
    "            sum_var_z_iterator = sum_var_z_iterator + var\n",
    "            \n",
    "            sum_var_z.append(sum_var_z_iterator)\n",
    "            \n",
    "            double_m = double_m - 1\n",
    "        \n",
    "        z.append(var) #只取实部\n",
    "    \n",
    "    z = np.array(z)\n",
    "    \n",
    "    z_csp = []\n",
    "    \n",
    "    for var_z in sum_var_z:\n",
    "        z_csp.append(z/var_z)\n",
    "       \n",
    "    z_csp = np.array(z_csp) #4*mm mm为样本数量\n",
    "    \n",
    "    z_csp = z_csp.T #mm*4\n",
    "            \n",
    "    #传入机器学习算法\n",
    "    return np.log(z_csp)"
   ]
  },
  {
   "cell_type": "code",
   "execution_count": 317,
   "metadata": {
    "collapsed": true
   },
   "outputs": [],
   "source": [
    "def feature_extraction_CSP(data , sf_s):\n",
    "    '''\n",
    "    训练数据使用\n",
    "    :data: 数据\n",
    "    :sf_s: spatial filter列表（ovo形式）\n",
    "    '''\n",
    "    ovo_idx = get_ovo_idx(data)\n",
    "    z_x = {}\n",
    "      \n",
    "    for sf_idx , (i , j) in enumerate(ovo_idx):\n",
    "        #两个脑电信号数据向共同的空间滤波器 投影\n",
    "        #标签使用各自的索引\n",
    "        z_i , labels_i = CSP_feature(data[i] , sf_s[sf_idx] , i)\n",
    "        z_j , labels_j = CSP_feature(data[j] , sf_s[sf_idx] , j)\n",
    "        \n",
    "        z = np.concatenate((z_i , z_j))\n",
    "        labels = np.concatenate((labels_i , labels_j))\n",
    "        \n",
    "        #数据置乱\n",
    "        idx_z = list(range(z.shape[0]))\n",
    "        np.random.shuffle(idx_z)\n",
    "\n",
    "        #将训练数据置乱\n",
    "        z = z[idx_z]\n",
    "        labels = labels[idx_z]\n",
    "        \n",
    "        z_x[(i , j)] = (z , labels)\n",
    "        \n",
    "    return z_x\n",
    "\n",
    "def feature_extraction_CSP_v(data , sf_s):\n",
    "    '''\n",
    "    测试数据使用\n",
    "    :data: 数据\n",
    "    :sf_s: spatial filter列表（ovo形式）\n",
    "    '''\n",
    "    ovo_idx = get_ovo_idx(tasks_train) #勿修改\n",
    "    \n",
    "    z_v = {}\n",
    "      \n",
    "    for sf_idx , (i , j) in enumerate(ovo_idx):\n",
    "        z = CSP_feature_v(data , sf_s[sf_idx])\n",
    "        \n",
    "        z_v[(i , j)] = z\n",
    "        \n",
    "    return z_v"
   ]
  },
  {
   "cell_type": "code",
   "execution_count": 318,
   "metadata": {
    "collapsed": true
   },
   "outputs": [],
   "source": [
    "def ovo_train(Classifier_Meta_Class , z_x):\n",
    "    '''\n",
    "    :Classifier_Meta_Class: 分类器元类（构造函数）\n",
    "    :z_x: 向空间滤波器投影后的训练数据\n",
    "    '''\n",
    "    # 有几个信号对 就训练多少分类器\n",
    "    models = {}\n",
    "    \n",
    "    for key , _ in z_x.items():\n",
    "        model = Classifier_Meta_Class() #创建一个分类器\n",
    "        \n",
    "        model.fit(z_x[key][0] , z_x[key][1])\n",
    "        \n",
    "        models[key] = model\n",
    "    \n",
    "    return models\n",
    "\n",
    "def ovo_predict(models , z_v):\n",
    "    '''\n",
    "    :models: 训练好的模型\n",
    "    :z_v: CSP特征的验证集\n",
    "    '''\n",
    "    \n",
    "    labels_hat = {}\n",
    "    \n",
    "    for key , _ in models.items():\n",
    "        labels_hat[key] = models[key].predict(z_v[key])\n",
    "            \n",
    "    labels_mat = np.concatenate( [np.expand_dims(value , axis=0) for _ , value in labels_hat.items()] )\n",
    "    \n",
    "    return np.array( [ np.argmax( np.bincount(labels_mat[: , j]) ) for j in range(labels_mat.shape[1]) ] )\n",
    "    \n",
    "def con_mat_v(_real_labels , _labels):\n",
    "    '''\n",
    "    打印训练结果(CSP edition)\n",
    "    '''\n",
    "    print('CSP')\n",
    "    print('val score:%f' % ( np.sum(np.equal(_real_labels , _labels)) / len(_real_labels) ) )\n",
    "    print('real')\n",
    "    \n",
    "    print(confusion_matrix(_real_labels , _labels))\n",
    "    print(classification_report(_real_labels , _labels))\n",
    "    \n"
   ]
  },
  {
   "cell_type": "code",
   "execution_count": 342,
   "metadata": {
    "collapsed": true
   },
   "outputs": [],
   "source": [
    "tasks_train , val_data , val_labels = combine_CSP()"
   ]
  },
  {
   "cell_type": "code",
   "execution_count": 343,
   "metadata": {
    "collapsed": true
   },
   "outputs": [],
   "source": [
    "sf_s = get_spatial_filter(tasks_train) #由训练数据获取空间滤波器"
   ]
  },
  {
   "cell_type": "code",
   "execution_count": 344,
   "metadata": {
    "collapsed": true
   },
   "outputs": [],
   "source": [
    "#训练数据 投影\n",
    "z_x = feature_extraction_CSP(tasks_train , sf_s) #训练数据向空间滤波器投影"
   ]
  },
  {
   "cell_type": "code",
   "execution_count": 345,
   "metadata": {
    "collapsed": true
   },
   "outputs": [],
   "source": [
    "#验证阶段\n",
    "\n",
    "#验证数据 投影\n",
    "z_v = feature_extraction_CSP_v(val_data , sf_s)"
   ]
  },
  {
   "cell_type": "code",
   "execution_count": 346,
   "metadata": {
    "collapsed": true
   },
   "outputs": [],
   "source": [
    "classifiers_meta_class = [xgboost.XGBClassifier , lightgbm.LGBMClassifier , GradientBoostingClassifier ,\n",
    "                          RandomForestClassifier , SVC , DecisionTreeClassifier , LDA , AdaBoostClassifier ,\n",
    "                          MLPClassifier , GaussianNB , KNeighborsClassifier ]\n",
    "\n",
    "def ensemble_voting_CSP_train(data):\n",
    "    '''\n",
    "    :data: 训练数据 向空间滤波器投影后的数据 z_x\n",
    "    '''\n",
    "    models = []\n",
    "    \n",
    "    for classifier_meta_class in classifiers_meta_class:\n",
    "        model = ovo_train(classifier_meta_class , data)\n",
    "        \n",
    "        models.append(model)\n",
    "        \n",
    "    return models\n",
    "\n",
    "def ensemble_voting_CSP_predict(data , models):\n",
    "    '''\n",
    "    :data: 验证数据 向空间滤波器投影后的数据 z_v\n",
    "    '''\n",
    "    \n",
    "    labels = []\n",
    "    \n",
    "    for model in models:\n",
    "        label = ovo_predict(model , data)\n",
    "        \n",
    "        labels.append(label)\n",
    "    \n",
    "    labels_mat = np.concatenate( [ np.expand_dims(value , axis=0) for value in labels ] )\n",
    "    \n",
    "    return np.array( [ np.argmax( np.bincount(labels_mat[: , j]) ) for j in range(labels_mat.shape[1]) ] )\n",
    "    "
   ]
  },
  {
   "cell_type": "code",
   "execution_count": null,
   "metadata": {
    "collapsed": true
   },
   "outputs": [],
   "source": []
  },
  {
   "cell_type": "code",
   "execution_count": 347,
   "metadata": {
    "collapsed": true
   },
   "outputs": [],
   "source": [
    "models = ensemble_voting_CSP_train(z_x)"
   ]
  },
  {
   "cell_type": "code",
   "execution_count": 348,
   "metadata": {
    "collapsed": true
   },
   "outputs": [],
   "source": [
    "z_v_y = ensemble_voting_CSP_predict(z_v , models)"
   ]
  },
  {
   "cell_type": "code",
   "execution_count": 349,
   "metadata": {},
   "outputs": [
    {
     "name": "stdout",
     "output_type": "stream",
     "text": [
      "CSP\n",
      "val score:0.416667\n",
      "real\n",
      "[[0 0 2]\n",
      " [0 0 5]\n",
      " [0 0 5]]\n",
      "             precision    recall  f1-score   support\n",
      "\n",
      "          0       0.00      0.00      0.00         2\n",
      "          1       0.00      0.00      0.00         5\n",
      "          2       0.42      1.00      0.59         5\n",
      "\n",
      "avg / total       0.17      0.42      0.25        12\n",
      "\n"
     ]
    }
   ],
   "source": [
    "con_mat_v(val_labels , z_v_y)"
   ]
  },
  {
   "cell_type": "markdown",
   "metadata": {},
   "source": [
    "# method 4 rms feature"
   ]
  },
  {
   "cell_type": "code",
   "execution_count": 286,
   "metadata": {
    "collapsed": true
   },
   "outputs": [],
   "source": [
    "def feature_extraction_RMS(data):\n",
    "    def rms(datum):\n",
    "        '''\n",
    "        :datum: 一段信号 shape : (3*256) * 16\n",
    "        '''\n",
    "        return [ np.sqrt(np.mean(np.square( d ))) for d in datum.T ]\n",
    "    \n",
    "    feature_rms = []\n",
    "    \n",
    "    for datum in data:\n",
    "        feature_rms.append(rms(datum))\n",
    "    \n",
    "    return np.array(feature_rms)"
   ]
  },
  {
   "cell_type": "markdown",
   "metadata": {},
   "source": [
    "# feature selection （CSP不使用）"
   ]
  },
  {
   "cell_type": "code",
   "execution_count": null,
   "metadata": {
    "collapsed": true
   },
   "outputs": [],
   "source": []
  },
  {
   "cell_type": "markdown",
   "metadata": {},
   "source": [
    "# classify step\n",
    "# ensemble voting"
   ]
  },
  {
   "cell_type": "code",
   "execution_count": 98,
   "metadata": {
    "collapsed": true
   },
   "outputs": [],
   "source": [
    "def con_mat(_feature , _labels , model):\n",
    "    '''\n",
    "    打印训练结果\n",
    "    '''\n",
    "    \n",
    "    print('val score:%f' % model.score(_feature , _labels))\n",
    "    print('real')\n",
    "    \n",
    "    print(confusion_matrix(_labels , model.predict(_feature)))\n",
    "    print(classification_report(_labels , model.predict(_feature)))\n",
    "    \n"
   ]
  },
  {
   "cell_type": "code",
   "execution_count": 99,
   "metadata": {
    "collapsed": true
   },
   "outputs": [],
   "source": [
    "def feature_selection(data , labels , model , num_features , cv=10):\n",
    "    '''\n",
    "    :model: classify model\n",
    "    :num_features: features count you expect(integer or tuple)\n",
    "    '''\n",
    "    \n",
    "    '''[8 20]'''\n",
    "    \n",
    "    sfs = SequentialFeatureSelector(model , k_features=num_features , cv=cv , verbose = 2 , n_jobs=-1) #all cpu cores\n",
    "    \n",
    "    sfs.fit(data , labels)\n",
    "    \n",
    "    #最优秀的特征索引\n",
    "    return sfs.k_feature_idx_\n",
    "\n",
    "\n",
    "\n",
    "def choose_common_feature_idx(num_features = (8 , 20) , num_features_threshold = 8):\n",
    "    '''\n",
    "    sub_band_power使用该函数 进行筛选特征\n",
    "    \n",
    "    :num_features:integer or tuple 期望的特征数量（待选择的数量）\n",
    "    :min_num_features: 特征数量阈值 小于时 停止选择\n",
    "    选择适合所有分类器的特征索引值\n",
    "    集合 与 运算\n",
    "    '''\n",
    "    \n",
    "    feature_idxes = set(list(range(train_X.shape[1]))) #初始化为所有的特征索引值\n",
    "    \n",
    "    for classifier in classifiers:\n",
    "        \n",
    "        idx = feature_selection(train_X , train_y , classifier , num_features)\n",
    "        idx = set(idx)\n",
    "        \n",
    "        #寻找共同的特征索引\n",
    "        #寻找之前先测试 如果小于阈值 直接停止\n",
    "        if len(feature_idxes & idx) < num_features_threshold:\n",
    "            break\n",
    "            \n",
    "        feature_idxes = feature_idxes & idx\n",
    "        \n",
    "    return np.array(list(feature_idxes))"
   ]
  },
  {
   "cell_type": "code",
   "execution_count": 100,
   "metadata": {
    "collapsed": true
   },
   "outputs": [],
   "source": [
    "#初始化所有分类器\n",
    "svc = SVC(probability=True)\n",
    "rf =  RandomForestClassifier()\n",
    "adaboost = AdaBoostClassifier()\n",
    "xgb = xgboost.XGBClassifier()\n",
    "lgbm = lightgbm.LGBMClassifier()\n",
    "gbc = GradientBoostingClassifier()\n",
    "knn = KNeighborsClassifier()\n",
    "dt = DecisionTreeClassifier()\n",
    "lda = LDA()\n",
    "nb = GaussianNB()\n",
    "mlp = MLPClassifier()\n",
    "\n",
    "classifiers = [xgb , lgbm , gbc , rf , svc , dt , lda , adaboost , mlp , nb , knn ]"
   ]
  },
  {
   "cell_type": "code",
   "execution_count": 41,
   "metadata": {
    "scrolled": true
   },
   "outputs": [
    {
     "name": "stderr",
     "output_type": "stream",
     "text": [
      "[Parallel(n_jobs=-1)]: Done  25 tasks      | elapsed:   14.3s\n",
      "[Parallel(n_jobs=-1)]: Done 128 out of 128 | elapsed:   19.1s finished\n",
      "\n",
      "[2018-12-20 15:03:46] Features: 1/20 -- score: 0.861111111111111[Parallel(n_jobs=-1)]: Done  25 tasks      | elapsed:   13.7s\n",
      "[Parallel(n_jobs=-1)]: Done 127 out of 127 | elapsed:   19.5s finished\n",
      "\n",
      "[2018-12-20 15:04:07] Features: 2/20 -- score: 0.9222222222222222[Parallel(n_jobs=-1)]: Done  25 tasks      | elapsed:   14.7s\n",
      "[Parallel(n_jobs=-1)]: Done 126 out of 126 | elapsed:   21.3s finished\n",
      "\n",
      "[2018-12-20 15:04:30] Features: 3/20 -- score: 0.9333333333333332[Parallel(n_jobs=-1)]: Done  25 tasks      | elapsed:   14.4s\n",
      "[Parallel(n_jobs=-1)]: Done 125 out of 125 | elapsed:   21.1s finished\n",
      "\n",
      "[2018-12-20 15:04:52] Features: 4/20 -- score: 0.9472222222222222[Parallel(n_jobs=-1)]: Done  25 tasks      | elapsed:   14.1s\n",
      "[Parallel(n_jobs=-1)]: Done 124 out of 124 | elapsed:   21.6s finished\n",
      "\n",
      "[2018-12-20 15:05:15] Features: 5/20 -- score: 0.9583333333333334[Parallel(n_jobs=-1)]: Done  25 tasks      | elapsed:   15.8s\n",
      "[Parallel(n_jobs=-1)]: Done 123 out of 123 | elapsed:   24.6s finished\n",
      "\n",
      "[2018-12-20 15:05:40] Features: 6/20 -- score: 0.9583333333333334[Parallel(n_jobs=-1)]: Done  25 tasks      | elapsed:   15.4s\n",
      "[Parallel(n_jobs=-1)]: Done 122 out of 122 | elapsed:   24.7s finished\n",
      "\n",
      "[2018-12-20 15:06:06] Features: 7/20 -- score: 0.9583333333333334[Parallel(n_jobs=-1)]: Done  25 tasks      | elapsed:   15.4s\n",
      "[Parallel(n_jobs=-1)]: Done 121 out of 121 | elapsed:   25.7s finished\n",
      "\n",
      "[2018-12-20 15:06:33] Features: 8/20 -- score: 0.9583333333333334[Parallel(n_jobs=-1)]: Done  25 tasks      | elapsed:   15.3s\n",
      "[Parallel(n_jobs=-1)]: Done 120 out of 120 | elapsed:   26.5s finished\n",
      "\n",
      "[2018-12-20 15:07:00] Features: 9/20 -- score: 0.9583333333333334[Parallel(n_jobs=-1)]: Done  25 tasks      | elapsed:   15.3s\n",
      "[Parallel(n_jobs=-1)]: Done 119 out of 119 | elapsed:   26.5s finished\n",
      "\n",
      "[2018-12-20 15:07:28] Features: 10/20 -- score: 0.9583333333333334[Parallel(n_jobs=-1)]: Done  25 tasks      | elapsed:   16.0s\n",
      "[Parallel(n_jobs=-1)]: Done 118 out of 118 | elapsed:   27.6s finished\n",
      "\n",
      "[2018-12-20 15:07:57] Features: 11/20 -- score: 0.9583333333333334[Parallel(n_jobs=-1)]: Done  25 tasks      | elapsed:   16.2s\n",
      "[Parallel(n_jobs=-1)]: Done 117 out of 117 | elapsed:   28.6s finished\n",
      "\n",
      "[2018-12-20 15:08:26] Features: 12/20 -- score: 0.9583333333333334[Parallel(n_jobs=-1)]: Done  25 tasks      | elapsed:   16.0s\n",
      "[Parallel(n_jobs=-1)]: Done 116 out of 116 | elapsed:   29.1s finished\n",
      "\n",
      "[2018-12-20 15:08:56] Features: 13/20 -- score: 0.9583333333333334[Parallel(n_jobs=-1)]: Done  25 tasks      | elapsed:   16.5s\n",
      "[Parallel(n_jobs=-1)]: Done 115 out of 115 | elapsed:   30.0s finished\n",
      "\n",
      "[2018-12-20 15:09:27] Features: 14/20 -- score: 0.9583333333333334[Parallel(n_jobs=-1)]: Done  25 tasks      | elapsed:   17.2s\n",
      "[Parallel(n_jobs=-1)]: Done 114 out of 114 | elapsed:   31.5s finished\n",
      "\n",
      "[2018-12-20 15:10:00] Features: 15/20 -- score: 0.9583333333333334[Parallel(n_jobs=-1)]: Done  25 tasks      | elapsed:   16.8s\n",
      "[Parallel(n_jobs=-1)]: Done 113 out of 113 | elapsed:   32.3s finished\n",
      "\n",
      "[2018-12-20 15:10:33] Features: 16/20 -- score: 0.9583333333333334[Parallel(n_jobs=-1)]: Done  25 tasks      | elapsed:   16.4s\n",
      "[Parallel(n_jobs=-1)]: Done 112 out of 112 | elapsed:   32.2s finished\n",
      "\n",
      "[2018-12-20 15:11:07] Features: 17/20 -- score: 0.9555555555555555[Parallel(n_jobs=-1)]: Done  25 tasks      | elapsed:   17.2s\n",
      "[Parallel(n_jobs=-1)]: Done 111 out of 111 | elapsed:   33.9s finished\n",
      "\n",
      "[2018-12-20 15:11:42] Features: 18/20 -- score: 0.9583333333333334[Parallel(n_jobs=-1)]: Done  25 tasks      | elapsed:   16.9s\n",
      "[Parallel(n_jobs=-1)]: Done 110 out of 110 | elapsed:   33.5s finished\n",
      "\n",
      "[2018-12-20 15:12:16] Features: 19/20 -- score: 0.9583333333333334[Parallel(n_jobs=-1)]: Done  25 tasks      | elapsed:   17.5s\n",
      "[Parallel(n_jobs=-1)]: Done 109 out of 109 | elapsed:   34.7s finished\n",
      "\n",
      "[2018-12-20 15:12:52] Features: 20/20 -- score: 0.9583333333333334[Parallel(n_jobs=-1)]: Done  25 tasks      | elapsed:   25.3s\n",
      "[Parallel(n_jobs=-1)]: Done 128 out of 128 | elapsed:  1.3min finished\n",
      "\n",
      "[2018-12-20 15:14:08] Features: 1/20 -- score: 0.8527777777777779[Parallel(n_jobs=-1)]: Done  25 tasks      | elapsed:   27.0s\n",
      "[Parallel(n_jobs=-1)]: Done 127 out of 127 | elapsed:  1.3min finished\n",
      "\n",
      "[2018-12-20 15:15:28] Features: 2/20 -- score: 0.9194444444444443[Parallel(n_jobs=-1)]: Done  25 tasks      | elapsed:   26.8s\n",
      "[Parallel(n_jobs=-1)]: Done 126 out of 126 | elapsed:  1.4min finished\n",
      "\n",
      "[2018-12-20 15:16:51] Features: 3/20 -- score: 0.95[Parallel(n_jobs=-1)]: Done  25 tasks      | elapsed:   29.1s\n",
      "[Parallel(n_jobs=-1)]: Done 125 out of 125 | elapsed:  1.4min finished\n",
      "\n",
      "[2018-12-20 15:18:18] Features: 4/20 -- score: 0.9527777777777778[Parallel(n_jobs=-1)]: Done  25 tasks      | elapsed:   28.8s\n",
      "[Parallel(n_jobs=-1)]: Done 124 out of 124 | elapsed:  1.4min finished\n",
      "\n",
      "[2018-12-20 15:19:42] Features: 5/20 -- score: 0.9527777777777778[Parallel(n_jobs=-1)]: Done  25 tasks      | elapsed:   27.8s\n",
      "[Parallel(n_jobs=-1)]: Done 123 out of 123 | elapsed:  1.4min finished\n",
      "\n",
      "[2018-12-20 15:21:04] Features: 6/20 -- score: 0.9527777777777778[Parallel(n_jobs=-1)]: Done  25 tasks      | elapsed:   27.9s\n",
      "[Parallel(n_jobs=-1)]: Done 122 out of 122 | elapsed:  1.4min finished\n",
      "\n",
      "[2018-12-20 15:22:27] Features: 7/20 -- score: 0.9527777777777778[Parallel(n_jobs=-1)]: Done  25 tasks      | elapsed:   28.4s\n",
      "[Parallel(n_jobs=-1)]: Done 121 out of 121 | elapsed:  1.4min finished\n",
      "\n",
      "[2018-12-20 15:23:51] Features: 8/20 -- score: 0.9555555555555555[Parallel(n_jobs=-1)]: Done  25 tasks      | elapsed:   29.3s\n",
      "[Parallel(n_jobs=-1)]: Done 120 out of 120 | elapsed:  1.4min finished\n",
      "\n",
      "[2018-12-20 15:25:17] Features: 9/20 -- score: 0.9555555555555555[Parallel(n_jobs=-1)]: Done  25 tasks      | elapsed:   30.9s\n",
      "[Parallel(n_jobs=-1)]: Done 119 out of 119 | elapsed:  1.4min finished\n",
      "\n",
      "[2018-12-20 15:26:45] Features: 10/20 -- score: 0.9555555555555555[Parallel(n_jobs=-1)]: Done  25 tasks      | elapsed:   29.6s\n",
      "[Parallel(n_jobs=-1)]: Done 118 out of 118 | elapsed:  1.5min finished\n",
      "\n",
      "[2018-12-20 15:28:15] Features: 11/20 -- score: 0.9555555555555555[Parallel(n_jobs=-1)]: Done  25 tasks      | elapsed:   30.1s\n",
      "[Parallel(n_jobs=-1)]: Done 117 out of 117 | elapsed:  1.4min finished\n",
      "\n",
      "[2018-12-20 15:29:42] Features: 12/20 -- score: 0.9555555555555555[Parallel(n_jobs=-1)]: Done  25 tasks      | elapsed:   31.6s\n",
      "[Parallel(n_jobs=-1)]: Done 116 out of 116 | elapsed:  1.5min finished\n",
      "\n",
      "[2018-12-20 15:31:16] Features: 13/20 -- score: 0.9555555555555555[Parallel(n_jobs=-1)]: Done  25 tasks      | elapsed:   32.2s\n",
      "[Parallel(n_jobs=-1)]: Done 115 out of 115 | elapsed:  1.6min finished\n",
      "\n",
      "[2018-12-20 15:32:50] Features: 14/20 -- score: 0.9555555555555555[Parallel(n_jobs=-1)]: Done  25 tasks      | elapsed:   33.1s\n",
      "[Parallel(n_jobs=-1)]: Done 114 out of 114 | elapsed:  1.5min finished\n",
      "\n",
      "[2018-12-20 15:34:23] Features: 15/20 -- score: 0.9555555555555555[Parallel(n_jobs=-1)]: Done  25 tasks      | elapsed:   32.7s\n",
      "[Parallel(n_jobs=-1)]: Done 113 out of 113 | elapsed:  1.6min finished\n",
      "\n",
      "[2018-12-20 15:36:01] Features: 16/20 -- score: 0.9583333333333334[Parallel(n_jobs=-1)]: Done  25 tasks      | elapsed:   33.0s\n",
      "[Parallel(n_jobs=-1)]: Done 112 out of 112 | elapsed:  1.5min finished\n",
      "\n",
      "[2018-12-20 15:37:35] Features: 17/20 -- score: 0.9555555555555555[Parallel(n_jobs=-1)]: Done  25 tasks      | elapsed:   32.5s\n",
      "[Parallel(n_jobs=-1)]: Done 111 out of 111 | elapsed:  1.5min finished\n",
      "\n",
      "[2018-12-20 15:39:08] Features: 18/20 -- score: 0.9555555555555555[Parallel(n_jobs=-1)]: Done  25 tasks      | elapsed:   32.5s\n",
      "[Parallel(n_jobs=-1)]: Done 110 out of 110 | elapsed:  1.5min finished\n",
      "\n",
      "[2018-12-20 15:40:40] Features: 19/20 -- score: 0.9555555555555555[Parallel(n_jobs=-1)]: Done  25 tasks      | elapsed:   33.9s\n",
      "[Parallel(n_jobs=-1)]: Done 109 out of 109 | elapsed:  1.6min finished\n",
      "\n",
      "[2018-12-20 15:42:18] Features: 20/20 -- score: 0.9555555555555555"
     ]
    }
   ],
   "source": [
    "chosen_idx = choose_common_feature_idx()"
   ]
  },
  {
   "cell_type": "code",
   "execution_count": 42,
   "metadata": {},
   "outputs": [
    {
     "data": {
      "text/plain": [
       "array([ 2, 34, 10, 11, 74, 13, 53, 22])"
      ]
     },
     "execution_count": 42,
     "metadata": {},
     "output_type": "execute_result"
    }
   ],
   "source": [
    "chosen_idx"
   ]
  },
  {
   "cell_type": "code",
   "execution_count": 101,
   "metadata": {
    "collapsed": true
   },
   "outputs": [],
   "source": [
    "#*****************\n",
    "#*****************\n",
    "chosen_idx=np.array(list(range(train_X.shape[1])))\n",
    "#*****************\n",
    "#*****************"
   ]
  },
  {
   "cell_type": "code",
   "execution_count": 102,
   "metadata": {
    "collapsed": true
   },
   "outputs": [],
   "source": [
    "train_X_chosen = train_X[: , chosen_idx]"
   ]
  },
  {
   "cell_type": "code",
   "execution_count": 103,
   "metadata": {},
   "outputs": [
    {
     "data": {
      "text/plain": [
       "(1500, 128)"
      ]
     },
     "execution_count": 103,
     "metadata": {},
     "output_type": "execute_result"
    }
   ],
   "source": [
    "train_X_chosen.shape"
   ]
  },
  {
   "cell_type": "code",
   "execution_count": 104,
   "metadata": {
    "collapsed": true
   },
   "outputs": [],
   "source": [
    "voting = VotingClassifier(estimators=[('xgboost' , xgb) , ('lightgbm' , lgbm) , ('gradientboosting' , gbc) ,\n",
    "                             ('randomforest' , rf) , ('svm' , svc) , ('decisiontree' , dt) , ('lda' , lda) ,\n",
    "                             ('adaboost' , adaboost) , ('mlp' , mlp) , ('naive bayes' , nb) , ('kneighbors' , knn)] ,\n",
    "                voting='soft' , n_jobs=-1)"
   ]
  },
  {
   "cell_type": "code",
   "execution_count": 105,
   "metadata": {},
   "outputs": [
    {
     "data": {
      "text/plain": [
       "VotingClassifier(estimators=[('xgboost', XGBClassifier(base_score=0.5, booster='gbtree', colsample_bylevel=1,\n",
       "       colsample_bytree=1, gamma=0, learning_rate=0.1, max_delta_step=0,\n",
       "       max_depth=3, min_child_weight=1, missing=None, n_estimators=100,\n",
       "       n_jobs=1, nthread=None, objective='binary:logistic', ra...owski',\n",
       "           metric_params=None, n_jobs=1, n_neighbors=5, p=2,\n",
       "           weights='uniform'))],\n",
       "         n_jobs=-1, voting='soft', weights=None)"
      ]
     },
     "execution_count": 105,
     "metadata": {},
     "output_type": "execute_result"
    }
   ],
   "source": [
    "voting.fit(train_X_chosen , train_y)"
   ]
  },
  {
   "cell_type": "code",
   "execution_count": null,
   "metadata": {
    "collapsed": true
   },
   "outputs": [],
   "source": []
  },
  {
   "cell_type": "code",
   "execution_count": 107,
   "metadata": {
    "collapsed": true
   },
   "outputs": [],
   "source": [
    "val_X_chosen = val_X[: , chosen_idx]"
   ]
  },
  {
   "cell_type": "code",
   "execution_count": 108,
   "metadata": {},
   "outputs": [
    {
     "data": {
      "text/plain": [
       "(50, 128)"
      ]
     },
     "execution_count": 108,
     "metadata": {},
     "output_type": "execute_result"
    }
   ],
   "source": [
    "val_X_chosen.shape"
   ]
  },
  {
   "cell_type": "code",
   "execution_count": 109,
   "metadata": {
    "scrolled": false
   },
   "outputs": [
    {
     "name": "stdout",
     "output_type": "stream",
     "text": [
      "val score:0.880000\n",
      "real\n",
      "[[5 0 0 0 0 0 0 0 0 0]\n",
      " [0 5 0 0 0 0 0 0 0 0]\n",
      " [0 0 4 0 0 0 1 0 0 0]\n",
      " [0 0 0 5 0 0 0 0 0 0]\n",
      " [0 0 0 0 3 1 0 1 0 0]\n",
      " [0 0 0 0 0 5 0 0 0 0]\n",
      " [0 0 0 0 0 0 5 0 0 0]\n",
      " [0 0 0 0 1 1 0 3 0 0]\n",
      " [0 0 0 0 0 0 0 1 4 0]\n",
      " [0 0 0 0 0 0 0 0 0 5]]\n",
      "             precision    recall  f1-score   support\n",
      "\n",
      "          0       1.00      1.00      1.00         5\n",
      "          1       1.00      1.00      1.00         5\n",
      "          2       1.00      0.80      0.89         5\n",
      "          3       1.00      1.00      1.00         5\n",
      "          4       0.75      0.60      0.67         5\n",
      "          5       0.71      1.00      0.83         5\n",
      "          6       0.83      1.00      0.91         5\n",
      "          7       0.60      0.60      0.60         5\n",
      "          8       1.00      0.80      0.89         5\n",
      "          9       1.00      1.00      1.00         5\n",
      "\n",
      "avg / total       0.89      0.88      0.88        50\n",
      "\n"
     ]
    }
   ],
   "source": [
    "con_mat(val_X_chosen , val_y , voting)"
   ]
  },
  {
   "cell_type": "code",
   "execution_count": 49,
   "metadata": {},
   "outputs": [
    {
     "data": {
      "text/plain": [
       "'测试阶段 进行分类器的测试 使用测试数据'"
      ]
     },
     "execution_count": 49,
     "metadata": {},
     "output_type": "execute_result"
    }
   ],
   "source": [
    "'''测试阶段 进行分类器的测试 使用测试数据'''\n",
    "\n",
    "test_data , test_labels = combine_test()\n",
    "\n",
    "test_X = feature_extraction_sub_band_power(test_data)\n",
    "\n",
    "#test_X = feature_extraction_dwt(test_data) #效果差\n",
    "\n",
    "\n",
    "'''测试阶段 进行分类器的测试 使用测试数据'''"
   ]
  },
  {
   "cell_type": "code",
   "execution_count": 50,
   "metadata": {
    "collapsed": true
   },
   "outputs": [],
   "source": [
    "test_X_chosen = test_X[: , chosen_idx]"
   ]
  },
  {
   "cell_type": "code",
   "execution_count": 51,
   "metadata": {},
   "outputs": [
    {
     "data": {
      "text/plain": [
       "(168, 8)"
      ]
     },
     "execution_count": 51,
     "metadata": {},
     "output_type": "execute_result"
    }
   ],
   "source": [
    "test_X_chosen.shape"
   ]
  },
  {
   "cell_type": "code",
   "execution_count": 52,
   "metadata": {},
   "outputs": [
    {
     "name": "stdout",
     "output_type": "stream",
     "text": [
      "val score:0.636905\n",
      "real\n",
      "[[52  2  2]\n",
      " [ 1 55  0]\n",
      " [ 0 56  0]]\n",
      "             precision    recall  f1-score   support\n",
      "\n",
      "          0       0.98      0.93      0.95        56\n",
      "          1       0.49      0.98      0.65        56\n",
      "          2       0.00      0.00      0.00        56\n",
      "\n",
      "avg / total       0.49      0.64      0.54       168\n",
      "\n"
     ]
    }
   ],
   "source": [
    "con_mat(test_X_chosen , test_labels , voting)"
   ]
  },
  {
   "cell_type": "code",
   "execution_count": null,
   "metadata": {
    "collapsed": true
   },
   "outputs": [],
   "source": []
  },
  {
   "cell_type": "code",
   "execution_count": 192,
   "metadata": {},
   "outputs": [
    {
     "data": {
      "text/plain": [
       "array([2, 1, 1, 2, 1, 2, 2, 2, 2, 2, 1, 1, 1, 2, 2, 2, 2, 1, 2, 2, 2, 2,\n",
       "       0, 2, 2, 1, 0, 2, 1, 2, 2, 2, 0, 1, 0, 1, 1, 2, 2, 2, 2, 2, 2, 2,\n",
       "       2, 1, 1, 1, 2, 1, 1, 2, 1, 2, 1, 0, 2, 1, 2, 2, 1, 2, 1, 2, 2, 0,\n",
       "       2, 2, 1, 2, 1, 1, 2, 1, 2, 2, 2, 2, 2, 1, 2, 2, 2, 2, 2, 2, 0, 2,\n",
       "       0, 2, 1, 1, 2, 2, 2, 2, 1, 2, 0, 2, 2, 1, 1, 2, 1, 0, 1, 0, 1, 1,\n",
       "       1, 2, 2, 2, 2, 1, 2, 2, 2, 0, 2, 0, 2, 2, 2, 2, 2, 2, 1, 1, 2, 1])"
      ]
     },
     "execution_count": 192,
     "metadata": {},
     "output_type": "execute_result"
    }
   ],
   "source": [
    "voting.predict(test_X_chosen)"
   ]
  },
  {
   "cell_type": "code",
   "execution_count": 193,
   "metadata": {},
   "outputs": [
    {
     "data": {
      "text/plain": [
       "array([0, 1, 1, 0, 1, 1, 0, 0, 1, 0, 1, 1, 1, 0, 1, 0, 1, 0, 0, 1, 1, 0,\n",
       "       1, 0, 0, 0, 0, 1, 1, 1, 0, 0, 0, 0, 0, 1, 1, 0, 1, 0, 0, 1, 0, 1,\n",
       "       0, 1, 0, 1, 0, 0, 1, 1, 1, 1, 1, 0, 1, 1, 1, 0, 1, 1, 1, 1, 1, 1,\n",
       "       0, 0, 1, 0, 0, 1, 0, 1, 1, 1, 0, 1, 1, 0, 1, 0, 0, 0, 0, 1, 1, 1,\n",
       "       0, 0, 1, 1, 0, 0, 0, 1, 1, 0, 0, 0, 0, 1, 1, 0, 1, 1, 1, 0, 1, 0,\n",
       "       1, 0, 0, 1, 1, 0, 0, 0, 1, 0, 0, 0, 1, 0, 1, 0, 0, 0, 0, 1, 1, 0])"
      ]
     },
     "execution_count": 193,
     "metadata": {},
     "output_type": "execute_result"
    }
   ],
   "source": [
    "test_labels"
   ]
  },
  {
   "cell_type": "markdown",
   "metadata": {},
   "source": [
    "### rms voting"
   ]
  },
  {
   "cell_type": "code",
   "execution_count": 777,
   "metadata": {},
   "outputs": [
    {
     "data": {
      "text/plain": [
       "VotingClassifier(estimators=[('xgboost', XGBClassifier(base_score=0.5, booster='gbtree', colsample_bylevel=1,\n",
       "       colsample_bytree=1, gamma=0, learning_rate=0.1, max_delta_step=0,\n",
       "       max_depth=3, min_child_weight=1, missing=None, n_estimators=100,\n",
       "       n_jobs=1, nthread=None, objective='binary:logistic', ra...owski',\n",
       "           metric_params=None, n_jobs=1, n_neighbors=5, p=2,\n",
       "           weights='uniform'))],\n",
       "         n_jobs=-1, voting='soft', weights=None)"
      ]
     },
     "execution_count": 777,
     "metadata": {},
     "output_type": "execute_result"
    }
   ],
   "source": [
    "voting.fit(feature_extraction_RMS(train_X_) , train_y)"
   ]
  },
  {
   "cell_type": "code",
   "execution_count": 778,
   "metadata": {},
   "outputs": [
    {
     "name": "stdout",
     "output_type": "stream",
     "text": [
      "val score:1.000000\n",
      "real\n",
      "[[2 0 0]\n",
      " [0 5 0]\n",
      " [0 0 5]]\n",
      "             precision    recall  f1-score   support\n",
      "\n",
      "          0       1.00      1.00      1.00         2\n",
      "          1       1.00      1.00      1.00         5\n",
      "          2       1.00      1.00      1.00         5\n",
      "\n",
      "avg / total       1.00      1.00      1.00        12\n",
      "\n"
     ]
    }
   ],
   "source": [
    "con_mat(feature_extraction_RMS(val_X_) , val_y , voting)"
   ]
  },
  {
   "cell_type": "markdown",
   "metadata": {},
   "source": [
    "# simple classifier test"
   ]
  },
  {
   "cell_type": "markdown",
   "metadata": {
    "collapsed": true
   },
   "source": [
    "## SVM"
   ]
  },
  {
   "cell_type": "code",
   "execution_count": 503,
   "metadata": {},
   "outputs": [
    {
     "data": {
      "text/plain": [
       "SVC(C=1.0, cache_size=200, class_weight=None, coef0=0.0,\n",
       "  decision_function_shape=None, degree=3, gamma='auto', kernel='rbf',\n",
       "  max_iter=-1, probability=True, random_state=None, shrinking=True,\n",
       "  tol=0.001, verbose=False)"
      ]
     },
     "execution_count": 503,
     "metadata": {},
     "output_type": "execute_result"
    }
   ],
   "source": [
    "svc.fit(train_X[ : , idx_good] , train_y)"
   ]
  },
  {
   "cell_type": "code",
   "execution_count": 224,
   "metadata": {},
   "outputs": [
    {
     "name": "stdout",
     "output_type": "stream",
     "text": [
      "val score:0.916667\n",
      "real\n",
      "[[1 0 1]\n",
      " [0 5 0]\n",
      " [0 0 5]]\n",
      "             precision    recall  f1-score   support\n",
      "\n",
      "          0       1.00      0.50      0.67         2\n",
      "          1       1.00      1.00      1.00         5\n",
      "          2       0.83      1.00      0.91         5\n",
      "\n",
      "avg / total       0.93      0.92      0.91        12\n",
      "\n"
     ]
    }
   ],
   "source": [
    "con_mat(val_X[: , idx_good] , val_y , svc)"
   ]
  },
  {
   "cell_type": "markdown",
   "metadata": {
    "collapsed": true
   },
   "source": [
    "## RandomForest"
   ]
  },
  {
   "cell_type": "code",
   "execution_count": 226,
   "metadata": {},
   "outputs": [
    {
     "data": {
      "text/plain": [
       "RandomForestClassifier(bootstrap=True, class_weight=None, criterion='gini',\n",
       "            max_depth=None, max_features='auto', max_leaf_nodes=None,\n",
       "            min_impurity_split=1e-07, min_samples_leaf=1,\n",
       "            min_samples_split=2, min_weight_fraction_leaf=0.0,\n",
       "            n_estimators=10, n_jobs=1, oob_score=False, random_state=None,\n",
       "            verbose=0, warm_start=False)"
      ]
     },
     "execution_count": 226,
     "metadata": {},
     "output_type": "execute_result"
    }
   ],
   "source": [
    "rf.fit(train_X[: , idx_good] , train_y)"
   ]
  },
  {
   "cell_type": "code",
   "execution_count": 228,
   "metadata": {},
   "outputs": [
    {
     "name": "stdout",
     "output_type": "stream",
     "text": [
      "val score:0.916667\n",
      "real\n",
      "[[1 0 1]\n",
      " [0 5 0]\n",
      " [0 0 5]]\n",
      "             precision    recall  f1-score   support\n",
      "\n",
      "          0       1.00      0.50      0.67         2\n",
      "          1       1.00      1.00      1.00         5\n",
      "          2       0.83      1.00      0.91         5\n",
      "\n",
      "avg / total       0.93      0.92      0.91        12\n",
      "\n"
     ]
    }
   ],
   "source": [
    "con_mat(val_X[: , idx_good] , val_y , rf)"
   ]
  },
  {
   "cell_type": "markdown",
   "metadata": {
    "collapsed": true
   },
   "source": [
    "## Adaboost"
   ]
  },
  {
   "cell_type": "code",
   "execution_count": 231,
   "metadata": {},
   "outputs": [
    {
     "data": {
      "text/plain": [
       "AdaBoostClassifier(algorithm='SAMME.R', base_estimator=None,\n",
       "          learning_rate=1.0, n_estimators=50, random_state=None)"
      ]
     },
     "execution_count": 231,
     "metadata": {},
     "output_type": "execute_result"
    }
   ],
   "source": [
    "adaboost.fit(train_X[: , idx_good] , train_y)"
   ]
  },
  {
   "cell_type": "code",
   "execution_count": 232,
   "metadata": {},
   "outputs": [
    {
     "name": "stdout",
     "output_type": "stream",
     "text": [
      "val score:0.833333\n",
      "real\n",
      "[[0 0 2]\n",
      " [0 5 0]\n",
      " [0 0 5]]\n",
      "             precision    recall  f1-score   support\n",
      "\n",
      "          0       0.00      0.00      0.00         2\n",
      "          1       1.00      1.00      1.00         5\n",
      "          2       0.71      1.00      0.83         5\n",
      "\n",
      "avg / total       0.71      0.83      0.76        12\n",
      "\n"
     ]
    },
    {
     "name": "stderr",
     "output_type": "stream",
     "text": [
      "C:\\Anaconda3\\lib\\site-packages\\sklearn\\metrics\\classification.py:1113: UndefinedMetricWarning: Precision and F-score are ill-defined and being set to 0.0 in labels with no predicted samples.\n",
      "  'precision', 'predicted', average, warn_for)\n"
     ]
    }
   ],
   "source": [
    "con_mat(val_X[: , idx_good] , val_y , adaboost)"
   ]
  },
  {
   "cell_type": "markdown",
   "metadata": {
    "collapsed": true
   },
   "source": [
    "## XGBoost"
   ]
  },
  {
   "cell_type": "code",
   "execution_count": 121,
   "metadata": {},
   "outputs": [
    {
     "data": {
      "text/plain": [
       "XGBClassifier(base_score=0.5, booster='gbtree', colsample_bylevel=1,\n",
       "       colsample_bytree=1, gamma=0, learning_rate=0.1, max_delta_step=0,\n",
       "       max_depth=3, min_child_weight=1, missing=None, n_estimators=100,\n",
       "       n_jobs=1, nthread=None, objective='multi:softprob', random_state=0,\n",
       "       reg_alpha=0, reg_lambda=1, scale_pos_weight=1, seed=None,\n",
       "       silent=True, subsample=1)"
      ]
     },
     "execution_count": 121,
     "metadata": {},
     "output_type": "execute_result"
    }
   ],
   "source": [
    "xgb.fit(train_X , train_y)"
   ]
  },
  {
   "cell_type": "code",
   "execution_count": 122,
   "metadata": {},
   "outputs": [
    {
     "name": "stdout",
     "output_type": "stream",
     "text": [
      "val score:0.583333\n",
      "real\n",
      "[[2 0 0]\n",
      " [0 5 0]\n",
      " [5 0 0]]\n",
      "             precision    recall  f1-score   support\n",
      "\n",
      "          0       0.29      1.00      0.44         2\n",
      "          1       1.00      1.00      1.00         5\n",
      "          2       0.00      0.00      0.00         5\n",
      "\n",
      "avg / total       0.46      0.58      0.49        12\n",
      "\n"
     ]
    },
    {
     "name": "stderr",
     "output_type": "stream",
     "text": [
      "C:\\Anaconda3\\lib\\site-packages\\sklearn\\preprocessing\\label.py:171: DeprecationWarning: The truth value of an empty array is ambiguous. Returning False, but in future this will result in an error. Use `array.size > 0` to check that an array is not empty.\n",
      "  if diff:\n",
      "C:\\Anaconda3\\lib\\site-packages\\sklearn\\preprocessing\\label.py:171: DeprecationWarning: The truth value of an empty array is ambiguous. Returning False, but in future this will result in an error. Use `array.size > 0` to check that an array is not empty.\n",
      "  if diff:\n",
      "C:\\Anaconda3\\lib\\site-packages\\sklearn\\preprocessing\\label.py:171: DeprecationWarning: The truth value of an empty array is ambiguous. Returning False, but in future this will result in an error. Use `array.size > 0` to check that an array is not empty.\n",
      "  if diff:\n",
      "C:\\Anaconda3\\lib\\site-packages\\sklearn\\metrics\\classification.py:1113: UndefinedMetricWarning: Precision and F-score are ill-defined and being set to 0.0 in labels with no predicted samples.\n",
      "  'precision', 'predicted', average, warn_for)\n"
     ]
    }
   ],
   "source": [
    "con_mat(val_X , val_y , xgb)"
   ]
  },
  {
   "cell_type": "markdown",
   "metadata": {
    "collapsed": true
   },
   "source": [
    "## LightGBM"
   ]
  },
  {
   "cell_type": "code",
   "execution_count": 124,
   "metadata": {},
   "outputs": [
    {
     "data": {
      "text/plain": [
       "LGBMClassifier(boosting_type='gbdt', class_weight=None, colsample_bytree=1.0,\n",
       "        importance_type='split', learning_rate=0.1, max_depth=-1,\n",
       "        min_child_samples=20, min_child_weight=0.001, min_split_gain=0.0,\n",
       "        n_estimators=100, n_jobs=-1, num_leaves=31, objective=None,\n",
       "        random_state=None, reg_alpha=0.0, reg_lambda=0.0, silent=True,\n",
       "        subsample=1.0, subsample_for_bin=200000, subsample_freq=0)"
      ]
     },
     "execution_count": 124,
     "metadata": {},
     "output_type": "execute_result"
    }
   ],
   "source": [
    "lgbm.fit(train_X , train_y)"
   ]
  },
  {
   "cell_type": "code",
   "execution_count": 125,
   "metadata": {},
   "outputs": [
    {
     "name": "stdout",
     "output_type": "stream",
     "text": [
      "val score:0.583333\n",
      "real\n",
      "[[2 0 0]\n",
      " [0 5 0]\n",
      " [5 0 0]]\n",
      "             precision    recall  f1-score   support\n",
      "\n",
      "          0       0.29      1.00      0.44         2\n",
      "          1       1.00      1.00      1.00         5\n",
      "          2       0.00      0.00      0.00         5\n",
      "\n",
      "avg / total       0.46      0.58      0.49        12\n",
      "\n"
     ]
    },
    {
     "name": "stderr",
     "output_type": "stream",
     "text": [
      "C:\\Anaconda3\\lib\\site-packages\\sklearn\\preprocessing\\label.py:171: DeprecationWarning: The truth value of an empty array is ambiguous. Returning False, but in future this will result in an error. Use `array.size > 0` to check that an array is not empty.\n",
      "  if diff:\n",
      "C:\\Anaconda3\\lib\\site-packages\\sklearn\\preprocessing\\label.py:171: DeprecationWarning: The truth value of an empty array is ambiguous. Returning False, but in future this will result in an error. Use `array.size > 0` to check that an array is not empty.\n",
      "  if diff:\n",
      "C:\\Anaconda3\\lib\\site-packages\\sklearn\\preprocessing\\label.py:171: DeprecationWarning: The truth value of an empty array is ambiguous. Returning False, but in future this will result in an error. Use `array.size > 0` to check that an array is not empty.\n",
      "  if diff:\n",
      "C:\\Anaconda3\\lib\\site-packages\\sklearn\\metrics\\classification.py:1113: UndefinedMetricWarning: Precision and F-score are ill-defined and being set to 0.0 in labels with no predicted samples.\n",
      "  'precision', 'predicted', average, warn_for)\n"
     ]
    }
   ],
   "source": [
    "con_mat(val_X , val_y , lgbm)"
   ]
  },
  {
   "cell_type": "markdown",
   "metadata": {
    "collapsed": true
   },
   "source": [
    "## GradientBoosting"
   ]
  },
  {
   "cell_type": "code",
   "execution_count": 127,
   "metadata": {},
   "outputs": [
    {
     "data": {
      "text/plain": [
       "GradientBoostingClassifier(criterion='friedman_mse', init=None,\n",
       "              learning_rate=0.1, loss='deviance', max_depth=3,\n",
       "              max_features=None, max_leaf_nodes=None,\n",
       "              min_impurity_split=1e-07, min_samples_leaf=1,\n",
       "              min_samples_split=2, min_weight_fraction_leaf=0.0,\n",
       "              n_estimators=100, presort='auto', random_state=None,\n",
       "              subsample=1.0, verbose=0, warm_start=False)"
      ]
     },
     "execution_count": 127,
     "metadata": {},
     "output_type": "execute_result"
    }
   ],
   "source": [
    "gbc.fit(train_X , train_y)"
   ]
  },
  {
   "cell_type": "code",
   "execution_count": 128,
   "metadata": {},
   "outputs": [
    {
     "name": "stdout",
     "output_type": "stream",
     "text": [
      "val score:0.583333\n",
      "real\n",
      "[[2 0 0]\n",
      " [0 5 0]\n",
      " [5 0 0]]\n",
      "             precision    recall  f1-score   support\n",
      "\n",
      "          0       0.29      1.00      0.44         2\n",
      "          1       1.00      1.00      1.00         5\n",
      "          2       0.00      0.00      0.00         5\n",
      "\n",
      "avg / total       0.46      0.58      0.49        12\n",
      "\n"
     ]
    },
    {
     "name": "stderr",
     "output_type": "stream",
     "text": [
      "C:\\Anaconda3\\lib\\site-packages\\sklearn\\metrics\\classification.py:1113: UndefinedMetricWarning: Precision and F-score are ill-defined and being set to 0.0 in labels with no predicted samples.\n",
      "  'precision', 'predicted', average, warn_for)\n"
     ]
    }
   ],
   "source": [
    "con_mat(val_X , val_y , gbc)"
   ]
  },
  {
   "cell_type": "markdown",
   "metadata": {
    "collapsed": true
   },
   "source": [
    "## KNeighbors"
   ]
  },
  {
   "cell_type": "code",
   "execution_count": 130,
   "metadata": {},
   "outputs": [
    {
     "data": {
      "text/plain": [
       "KNeighborsClassifier(algorithm='auto', leaf_size=30, metric='minkowski',\n",
       "           metric_params=None, n_jobs=1, n_neighbors=5, p=2,\n",
       "           weights='uniform')"
      ]
     },
     "execution_count": 130,
     "metadata": {},
     "output_type": "execute_result"
    }
   ],
   "source": [
    "knn.fit(train_X , train_y)"
   ]
  },
  {
   "cell_type": "code",
   "execution_count": 131,
   "metadata": {},
   "outputs": [
    {
     "name": "stdout",
     "output_type": "stream",
     "text": [
      "val score:0.416667\n",
      "real\n",
      "[[0 2 0]\n",
      " [0 5 0]\n",
      " [0 5 0]]\n",
      "             precision    recall  f1-score   support\n",
      "\n",
      "          0       0.00      0.00      0.00         2\n",
      "          1       0.42      1.00      0.59         5\n",
      "          2       0.00      0.00      0.00         5\n",
      "\n",
      "avg / total       0.17      0.42      0.25        12\n",
      "\n"
     ]
    },
    {
     "name": "stderr",
     "output_type": "stream",
     "text": [
      "C:\\Anaconda3\\lib\\site-packages\\sklearn\\metrics\\classification.py:1113: UndefinedMetricWarning: Precision and F-score are ill-defined and being set to 0.0 in labels with no predicted samples.\n",
      "  'precision', 'predicted', average, warn_for)\n"
     ]
    }
   ],
   "source": [
    "con_mat(val_X , val_y , knn)"
   ]
  },
  {
   "cell_type": "markdown",
   "metadata": {
    "collapsed": true
   },
   "source": [
    "## DecisionTree"
   ]
  },
  {
   "cell_type": "code",
   "execution_count": 133,
   "metadata": {},
   "outputs": [
    {
     "data": {
      "text/plain": [
       "DecisionTreeClassifier(class_weight=None, criterion='gini', max_depth=None,\n",
       "            max_features=None, max_leaf_nodes=None,\n",
       "            min_impurity_split=1e-07, min_samples_leaf=1,\n",
       "            min_samples_split=2, min_weight_fraction_leaf=0.0,\n",
       "            presort=False, random_state=None, splitter='best')"
      ]
     },
     "execution_count": 133,
     "metadata": {},
     "output_type": "execute_result"
    }
   ],
   "source": [
    "dt.fit(train_X , train_y)"
   ]
  },
  {
   "cell_type": "code",
   "execution_count": 134,
   "metadata": {},
   "outputs": [
    {
     "name": "stdout",
     "output_type": "stream",
     "text": [
      "val score:0.583333\n",
      "real\n",
      "[[2 0 0]\n",
      " [0 5 0]\n",
      " [5 0 0]]\n",
      "             precision    recall  f1-score   support\n",
      "\n",
      "          0       0.29      1.00      0.44         2\n",
      "          1       1.00      1.00      1.00         5\n",
      "          2       0.00      0.00      0.00         5\n",
      "\n",
      "avg / total       0.46      0.58      0.49        12\n",
      "\n"
     ]
    },
    {
     "name": "stderr",
     "output_type": "stream",
     "text": [
      "C:\\Anaconda3\\lib\\site-packages\\sklearn\\metrics\\classification.py:1113: UndefinedMetricWarning: Precision and F-score are ill-defined and being set to 0.0 in labels with no predicted samples.\n",
      "  'precision', 'predicted', average, warn_for)\n"
     ]
    }
   ],
   "source": [
    "con_mat(val_X , val_y , dt)"
   ]
  },
  {
   "cell_type": "markdown",
   "metadata": {
    "collapsed": true
   },
   "source": [
    "## LDA"
   ]
  },
  {
   "cell_type": "code",
   "execution_count": 136,
   "metadata": {},
   "outputs": [
    {
     "name": "stderr",
     "output_type": "stream",
     "text": [
      "C:\\Anaconda3\\lib\\site-packages\\sklearn\\discriminant_analysis.py:387: UserWarning: Variables are collinear.\n",
      "  warnings.warn(\"Variables are collinear.\")\n"
     ]
    },
    {
     "data": {
      "text/plain": [
       "LDA(n_components=None, priors=None, shrinkage=None, solver='svd',\n",
       "  store_covariance=False, tol=0.0001)"
      ]
     },
     "execution_count": 136,
     "metadata": {},
     "output_type": "execute_result"
    }
   ],
   "source": [
    "lda.fit(train_X , train_y)"
   ]
  },
  {
   "cell_type": "code",
   "execution_count": 137,
   "metadata": {},
   "outputs": [
    {
     "name": "stdout",
     "output_type": "stream",
     "text": [
      "val score:1.000000\n",
      "real\n",
      "[[2 0 0]\n",
      " [0 5 0]\n",
      " [0 0 5]]\n",
      "             precision    recall  f1-score   support\n",
      "\n",
      "          0       1.00      1.00      1.00         2\n",
      "          1       1.00      1.00      1.00         5\n",
      "          2       1.00      1.00      1.00         5\n",
      "\n",
      "avg / total       1.00      1.00      1.00        12\n",
      "\n"
     ]
    }
   ],
   "source": [
    "con_mat(val_X , val_y , lda)"
   ]
  },
  {
   "cell_type": "markdown",
   "metadata": {
    "collapsed": true
   },
   "source": [
    "## Naive Bayes"
   ]
  },
  {
   "cell_type": "code",
   "execution_count": 139,
   "metadata": {},
   "outputs": [
    {
     "data": {
      "text/plain": [
       "GaussianNB(priors=None)"
      ]
     },
     "execution_count": 139,
     "metadata": {},
     "output_type": "execute_result"
    }
   ],
   "source": [
    "nb.fit(train_X , train_y)"
   ]
  },
  {
   "cell_type": "code",
   "execution_count": 140,
   "metadata": {},
   "outputs": [
    {
     "name": "stdout",
     "output_type": "stream",
     "text": [
      "val score:0.416667\n",
      "real\n",
      "[[0 2 0]\n",
      " [0 5 0]\n",
      " [0 5 0]]\n",
      "             precision    recall  f1-score   support\n",
      "\n",
      "          0       0.00      0.00      0.00         2\n",
      "          1       0.42      1.00      0.59         5\n",
      "          2       0.00      0.00      0.00         5\n",
      "\n",
      "avg / total       0.17      0.42      0.25        12\n",
      "\n"
     ]
    },
    {
     "name": "stderr",
     "output_type": "stream",
     "text": [
      "C:\\Anaconda3\\lib\\site-packages\\sklearn\\metrics\\classification.py:1113: UndefinedMetricWarning: Precision and F-score are ill-defined and being set to 0.0 in labels with no predicted samples.\n",
      "  'precision', 'predicted', average, warn_for)\n"
     ]
    }
   ],
   "source": [
    "con_mat(val_X , val_y , nb)"
   ]
  },
  {
   "cell_type": "markdown",
   "metadata": {
    "collapsed": true
   },
   "source": [
    "## MLP"
   ]
  },
  {
   "cell_type": "code",
   "execution_count": 142,
   "metadata": {},
   "outputs": [
    {
     "data": {
      "text/plain": [
       "MLPClassifier(activation='relu', alpha=0.0001, batch_size='auto', beta_1=0.9,\n",
       "       beta_2=0.999, early_stopping=False, epsilon=1e-08,\n",
       "       hidden_layer_sizes=(100,), learning_rate='constant',\n",
       "       learning_rate_init=0.001, max_iter=200, momentum=0.9,\n",
       "       nesterovs_momentum=True, power_t=0.5, random_state=None,\n",
       "       shuffle=True, solver='adam', tol=0.0001, validation_fraction=0.1,\n",
       "       verbose=False, warm_start=False)"
      ]
     },
     "execution_count": 142,
     "metadata": {},
     "output_type": "execute_result"
    }
   ],
   "source": [
    "mlp.fit(train_X , train_y)"
   ]
  },
  {
   "cell_type": "code",
   "execution_count": 143,
   "metadata": {},
   "outputs": [
    {
     "name": "stdout",
     "output_type": "stream",
     "text": [
      "val score:0.416667\n",
      "real\n",
      "[[0 2 0]\n",
      " [0 5 0]\n",
      " [0 5 0]]\n",
      "             precision    recall  f1-score   support\n",
      "\n",
      "          0       0.00      0.00      0.00         2\n",
      "          1       0.42      1.00      0.59         5\n",
      "          2       0.00      0.00      0.00         5\n",
      "\n",
      "avg / total       0.17      0.42      0.25        12\n",
      "\n"
     ]
    },
    {
     "name": "stderr",
     "output_type": "stream",
     "text": [
      "C:\\Anaconda3\\lib\\site-packages\\sklearn\\metrics\\classification.py:1113: UndefinedMetricWarning: Precision and F-score are ill-defined and being set to 0.0 in labels with no predicted samples.\n",
      "  'precision', 'predicted', average, warn_for)\n"
     ]
    }
   ],
   "source": [
    "con_mat(val_X , val_y , mlp)"
   ]
  },
  {
   "cell_type": "code",
   "execution_count": null,
   "metadata": {
    "collapsed": true
   },
   "outputs": [],
   "source": []
  },
  {
   "cell_type": "markdown",
   "metadata": {
    "collapsed": true
   },
   "source": [
    "# 匹配法\n",
    " \n",
    "## 前向特征选择之后 使用匹配法进行"
   ]
  },
  {
   "cell_type": "code",
   "execution_count": 446,
   "metadata": {
    "collapsed": true
   },
   "outputs": [],
   "source": [
    "def train_val(data , ratio = 0.9):\n",
    "    '''\n",
    "    将数据分为 训练集 和 验证集\n",
    "    '''\n",
    "    \n",
    "    seg = int(ratio * data.shape[0])\n",
    "    \n",
    "    return data[ : seg] , data[seg : ]\n",
    "\n",
    "\n",
    "def combine_match():\n",
    "    '''\n",
    "    匹配法中使用\n",
    "    训练数据与验证数据\n",
    "    数据不进行置乱\n",
    "    '''\n",
    "    ratio = 0.9 #训练集的占比\n",
    "    overlap_length = 2*256 #重叠2秒数据\n",
    "    \n",
    "    person_0_filenames = os.listdir('real_data/eeg_11.24/circle/1/10hz/')\n",
    "    person_1_filenames = os.listdir('real_data/eeg_11.24/circle/2/10hz/')\n",
    "    person_2_filenames = os.listdir('real_data/eeg_11.24/circle/3/10hz/')\n",
    "\n",
    "    #打开信号文件 并 合并\n",
    "    person_0 = np.concatenate([load_data('real_data/eeg_11.24/circle/1/10hz/' + filename) for filename in person_0_filenames] , axis = 0)\n",
    "    person_1 = np.concatenate([load_data('real_data/eeg_11.24/circle/2/10hz/' + filename) for filename in person_1_filenames] , axis = 0)\n",
    "    person_2 = np.concatenate([load_data('real_data/eeg_11.24/circle/3/10hz/' + filename) for filename in person_2_filenames] , axis = 0)\n",
    "\n",
    "    person_0_train , person_0_val = train_val(person_0)\n",
    "    person_1_train , person_1_val = train_val(person_1)\n",
    "    person_2_train , person_2_val = train_val(person_2)\n",
    "    \n",
    "    #数据分段阶段\n",
    "    \n",
    "    #============\n",
    "    #训练数据分段\n",
    "    train_person_data_0 , train_person_labels_0 = separate(person_0_train , label = 0 , overlap_length=overlap_length)\n",
    "    train_person_data_1 , train_person_labels_1 = separate(person_1_train , label = 1 , overlap_length=overlap_length)\n",
    "    train_person_data_2 , train_person_labels_2 = separate(person_2_train , label = 2 , overlap_length=overlap_length)\n",
    "\n",
    "    #合并数据\n",
    "    train_data = [train_person_data_0 , train_person_data_1 , train_person_data_2]\n",
    "    train_labels = [train_person_labels_0 , train_person_labels_1 , train_person_labels_2]\n",
    "    \n",
    "    #============\n",
    "    #验证数据分段\n",
    "    val_person_data_0 , val_person_labels_0 = separate(person_0_val , label = 0 , overlap_length=0)\n",
    "    val_person_data_1 , val_person_labels_1 = separate(person_1_val , label = 1 , overlap_length=0)\n",
    "    val_person_data_2 , val_person_labels_2 = separate(person_2_val , label = 2 , overlap_length=0)\n",
    "    \n",
    "    #合并数据\n",
    "    val_data = [val_person_data_0 , val_person_data_1 , val_person_data_2]\n",
    "    val_labels = [val_person_labels_0 , val_person_labels_1 , val_person_labels_2]\n",
    "\n",
    "    return train_data , train_labels , val_data , val_labels\n",
    "\n",
    "\n",
    "def combine_test_m():\n",
    "    '''\n",
    "    匹配使用\n",
    "    测试模型效果\n",
    "    不引\n",
    "    '''\n",
    "    \n",
    "    person_0_filenames = os.listdir('real_data/model_validation/circle/1/10hz/')\n",
    "    person_1_filenames = os.listdir('real_data/model_validation/circle/2/10hz/')\n",
    "\n",
    "    #打开信号文件 并 合并\n",
    "    person_0 = np.concatenate([load_data('real_data/model_validation/circle/1/10hz/' + filename) for filename in person_0_filenames] , axis = 0)\n",
    "    person_1 = np.concatenate([load_data('real_data/model_validation/circle/2/10hz/' + filename) for filename in person_1_filenames] , axis = 0)\n",
    "    \n",
    "    #============\n",
    "    #训练数据分段\n",
    "    test_person_data_0 , test_person_labels_0 = separate(person_0 , label = 0 , overlap_length=0)\n",
    "    test_person_data_1 , test_person_labels_1 = separate(person_1 , label = 1 , overlap_length=0)\n",
    "\n",
    "    #合并数据\n",
    "    test_data = [test_person_data_0 ,   test_person_data_1] \n",
    "    test_labels = [test_person_labels_0 , test_person_labels_1]\n",
    "    \n",
    "    return test_data , test_labels\n",
    "\n",
    "\n",
    "def con_mat_m(_real_labels , _labels):\n",
    "    '''\n",
    "    匹配方法使用 可视化\n",
    "    :_real_labels: 真实label\n",
    "    :_labels: 预测的label\n",
    "    '''\n",
    "    \n",
    "    print('match')\n",
    "    print('val score:%f' % ( np.sum( np.equal( np.concatenate(_real_labels) , np.concatenate(_labels) ) ) / len( np.concatenate(_labels) ) ) )\n",
    "    print('real')\n",
    "    \n",
    "    print(confusion_matrix( np.concatenate(_real_labels) , np.concatenate(_labels) ))\n",
    "    print(classification_report( np.concatenate(_real_labels) , np.concatenate(_labels) ))"
   ]
  },
  {
   "cell_type": "code",
   "execution_count": 396,
   "metadata": {
    "collapsed": true
   },
   "outputs": [],
   "source": [
    "database_data , database_labels , oob_data , oob_labels = combine_match()"
   ]
  },
  {
   "cell_type": "markdown",
   "metadata": {},
   "source": [
    "## method 1 : sub-band power"
   ]
  },
  {
   "cell_type": "code",
   "execution_count": 408,
   "metadata": {
    "collapsed": true
   },
   "outputs": [],
   "source": [
    "#3 个元素 每个元素为一个受试者的特征信息\n",
    "database_data_sbp = [ feature_extraction_sub_band_power(database_datum) for database_datum in database_data ]\n",
    "\n",
    "oob_data_sbp = [ feature_extraction_sub_band_power(oob_datum) for oob_datum in oob_data ]"
   ]
  },
  {
   "cell_type": "code",
   "execution_count": 426,
   "metadata": {
    "collapsed": true
   },
   "outputs": [],
   "source": [
    "#相似度函数 越相似 相似度越小（为了容易使用欧氏距离与曼哈顿距离定义相似度） 直接使用距离来度量相似性\n",
    "\n",
    "def match(database_data_sbp , oob_data_sbp , distance_type = 'c'):\n",
    "    '''\n",
    "    :database_data_sbp: 充当数据库\n",
    "    :oob_data_sbp: 来进行匹配的\n",
    "    '''\n",
    "    \n",
    "    distances = [] \n",
    "    \n",
    "    if distance_type == 'o':\n",
    "        #欧氏距离\n",
    "        distance_method = euclidean_distances\n",
    "    elif distance_type == 'm':\n",
    "        #曼哈顿距离\n",
    "        distance_method = manhattan_distances\n",
    "    elif distance_type == 'c':\n",
    "        #余弦距离\n",
    "        distance_method = cosine_distances\n",
    "    else:\n",
    "        pass\n",
    "    \n",
    "    labels = [] #数据库中匹配的标记\n",
    "    \n",
    "    for oob_datum_sbp in oob_data_sbp: #\n",
    "        \n",
    "        labels_one_subject = []\n",
    "        for oob_datum_sbp_sub in oob_datum_sbp:\n",
    "            #进行匹配的 逐个计算\n",
    "            distance = []\n",
    "            for database_datum_sbp in database_data_sbp:\n",
    "                #与每一个受试者的特征进行距离计算\n",
    "                distance.append( np.mean( distance_method(oob_datum_sbp_sub , database_datum_sbp) ) ) #距离的平均值\n",
    "                \n",
    "            label = np.argmin(distance)\n",
    "            \n",
    "            labels_one_subject.append(label)\n",
    "        \n",
    "        labels.append(labels_one_subject)\n",
    "    \n",
    "    return labels"
   ]
  },
  {
   "cell_type": "code",
   "execution_count": 427,
   "metadata": {
    "collapsed": true
   },
   "outputs": [],
   "source": [
    "oob_labels_hat = match(database_data_sbp , oob_data_sbp)"
   ]
  },
  {
   "cell_type": "code",
   "execution_count": 428,
   "metadata": {},
   "outputs": [
    {
     "data": {
      "text/plain": [
       "[[0, 0], [1, 1, 1, 1, 1], [2, 2, 2, 0, 2]]"
      ]
     },
     "execution_count": 428,
     "metadata": {},
     "output_type": "execute_result"
    }
   ],
   "source": [
    "oob_labels_hat"
   ]
  },
  {
   "cell_type": "code",
   "execution_count": 429,
   "metadata": {},
   "outputs": [
    {
     "data": {
      "text/plain": [
       "[array([0, 0]), array([1, 1, 1, 1, 1]), array([2, 2, 2, 2, 2])]"
      ]
     },
     "execution_count": 429,
     "metadata": {},
     "output_type": "execute_result"
    }
   ],
   "source": [
    "oob_labels"
   ]
  },
  {
   "cell_type": "code",
   "execution_count": 445,
   "metadata": {},
   "outputs": [
    {
     "name": "stdout",
     "output_type": "stream",
     "text": [
      "match\n",
      "val score:0.916667\n",
      "real\n",
      "[[2 0 0]\n",
      " [0 5 0]\n",
      " [1 0 4]]\n",
      "             precision    recall  f1-score   support\n",
      "\n",
      "          0       0.67      1.00      0.80         2\n",
      "          1       1.00      1.00      1.00         5\n",
      "          2       1.00      0.80      0.89         5\n",
      "\n",
      "avg / total       0.94      0.92      0.92        12\n",
      "\n"
     ]
    }
   ],
   "source": [
    "#验证\n",
    "con_mat_m(oob_labels , oob_labels_hat)"
   ]
  },
  {
   "cell_type": "code",
   "execution_count": 447,
   "metadata": {
    "collapsed": true
   },
   "outputs": [],
   "source": [
    "#测试\n",
    "oob_test_data , oob_test_labels = combine_test_m()\n",
    "\n",
    "oob_test_data_sbp = [feature_extraction_sub_band_power(oob_test_datum) for oob_test_datum in oob_test_data]"
   ]
  },
  {
   "cell_type": "code",
   "execution_count": 448,
   "metadata": {
    "collapsed": true
   },
   "outputs": [],
   "source": [
    "oob_test_labels_hat = match(database_data_sbp , oob_test_data_sbp)"
   ]
  },
  {
   "cell_type": "code",
   "execution_count": 449,
   "metadata": {},
   "outputs": [
    {
     "name": "stdout",
     "output_type": "stream",
     "text": [
      "match\n",
      "val score:0.937500\n",
      "real\n",
      "[[49  3  4]\n",
      " [ 0 56  0]\n",
      " [ 0  0  0]]\n",
      "             precision    recall  f1-score   support\n",
      "\n",
      "          0       1.00      0.88      0.93        56\n",
      "          1       0.95      1.00      0.97        56\n",
      "          2       0.00      0.00      0.00         0\n",
      "\n",
      "avg / total       0.97      0.94      0.95       112\n",
      "\n"
     ]
    }
   ],
   "source": [
    "con_mat_m(oob_test_labels , oob_test_labels_hat)"
   ]
  },
  {
   "cell_type": "code",
   "execution_count": null,
   "metadata": {
    "collapsed": true
   },
   "outputs": [],
   "source": []
  },
  {
   "cell_type": "markdown",
   "metadata": {},
   "source": [
    "## method 2 : DWT"
   ]
  },
  {
   "cell_type": "code",
   "execution_count": null,
   "metadata": {
    "collapsed": true
   },
   "outputs": [],
   "source": []
  },
  {
   "cell_type": "code",
   "execution_count": null,
   "metadata": {
    "collapsed": true
   },
   "outputs": [],
   "source": []
  },
  {
   "cell_type": "code",
   "execution_count": null,
   "metadata": {
    "collapsed": true
   },
   "outputs": [],
   "source": []
  },
  {
   "cell_type": "markdown",
   "metadata": {},
   "source": [
    "## method 3 : RMS"
   ]
  },
  {
   "cell_type": "code",
   "execution_count": null,
   "metadata": {
    "collapsed": true
   },
   "outputs": [],
   "source": []
  },
  {
   "cell_type": "code",
   "execution_count": 168,
   "metadata": {
    "collapsed": true
   },
   "outputs": [],
   "source": [
    "class EEG(gp.data.Dataset):\n",
    "    def __init__(self , base_dir='none' , identifier='none' , **kwargs):\n",
    "        super(EEG, self).__init__(**kwargs)\n",
    "        \n",
    "        self.base_dir = 'none'\n",
    "        self.data_id = 'none'\n",
    "        self.data_dir = 'none'\n",
    "        self.data_type = 'EEG'\n",
    "        self.data_name = 'EEG'\n",
    "        \n",
    "        \n",
    "        # length of a trial (in seconds)\n",
    "        self.trial_len = trial_time\n",
    "        # motor imagery appears in interval (in seconds)\n",
    "        self.mi_interval = [start_trial_time , end_trial_time]\n",
    "        # idle perior prior to start of signal (in seconds)\n",
    "        self.trial_offset = trial_offset\n",
    "        # total length of a trial (in seconds)\n",
    "        self.trial_total = self.trial_len\n",
    "        # sampling frequency (in Hz)\n",
    "        self.sampling_freq = sample_rate #gtec为256\n",
    "    \n",
    "    def _sep(self , data , label):\n",
    "        train_data = []\n",
    "        train_labels = []\n",
    "\n",
    "        size = self.sampling_freq * self.trial_len\n",
    "        data_length = data.shape[0]\n",
    "\n",
    "        idx = 0\n",
    "        \n",
    "        while idx<data_length-size:\n",
    "            train_data.append(data[idx : idx+size , :])\n",
    "            train_labels.append(label)\n",
    "\n",
    "            #no overlap\n",
    "            idx = idx + size\n",
    "        \n",
    "        return np.array(train_data) , np.array(train_labels)\n",
    "    \n",
    "    def _butter_worth(self , data):\n",
    "        b,a = scipy.signal.butter(4 , [LO_FREQ / sample_rate , HI_FREQ / sample_rate] , btype='bandpass')\n",
    "    \n",
    "        return np.array([scipy.signal.filtfilt(b , a , data[: , i]) for i in range(data.shape[1])]).reshape((-1 , origin_channel))\n",
    "    \n",
    "    def _notch(self , data):\n",
    "        cutoff = NOTCH_FREQ #50\n",
    "        Q = 30\n",
    "\n",
    "        nyq = 0.5 * sample_rate\n",
    "        w0 = cutoff / nyq\n",
    "\n",
    "        b , a = scipy.signal.iirnotch(w0 , Q)\n",
    "\n",
    "        return np.array([scipy.signal.filtfilt(b , a , data[: , i]) for i in range(data.shape[1])]).reshape((-1 , origin_channel))\n",
    "    \n",
    "    def _normalize(self , data):\n",
    "        mean = np.mean(data, axis=0)\n",
    "        std_dev = np.std(data, axis=0)\n",
    "        \n",
    "        return (data - mean) / std_dev\n",
    "    \n",
    "    def _load_data(self , filename):\n",
    "        data = sio.loadmat(file_name=filename)['data_received'] #length*16 matrix\n",
    "        \n",
    "        #此通道没有采集 置为0\n",
    "        #全通道均使用时 不需要\n",
    "        #for i in range(len(SAMPLE_CHANNEL)):\n",
    "        #    if SAMPLE_CHANNEL[i] == 'none':\n",
    "        #        data[: , i] = 0.0\n",
    "        \n",
    "        #删除前x秒和后x秒数据\n",
    "        data = data[CLIP_FORWARD * self.sampling_freq : - CLIP_BACKWARD * self.sampling_freq]\n",
    "                \n",
    "        return data\n",
    "    \n",
    "    def _concatenate(self , eeg_matrix):\n",
    "        return np.concatenate(eeg_matrix , axis=0)\n",
    "    \n",
    "    def _combine(self):\n",
    "        person_0_filenames = os.listdir('real_data/eeg_11.24/circle/1/10hz/')\n",
    "        person_1_filenames = os.listdir('real_data/eeg_11.24/circle/2/10hz/')\n",
    "        person_2_filenames = os.listdir('real_data/eeg_11.24/circle/3/10hz/')\n",
    "\n",
    "        person_0 = [self._load_data('real_data/eeg_11.24/circle/1/10hz/' + filename) for filename in person_0_filenames]\n",
    "        person_1 = [self._load_data('real_data/eeg_11.24/circle/2/10hz/' + filename) for filename in person_1_filenames]\n",
    "        person_2 = [self._load_data('real_data/eeg_11.24/circle/3/10hz/' + filename) for filename in person_2_filenames]\n",
    "\n",
    "        person_0 = self._concatenate(person_0)\n",
    "        person_1 = self._concatenate(person_1)\n",
    "        person_2 = self._concatenate(person_2)\n",
    "       \n",
    "        #数据分段\n",
    "        train_person_data_0 , train_person_labels_0 = self._sep(person_0 , label = 0)\n",
    "        train_person_data_1 , train_person_labels_1 = self._sep(person_1 , label = 1)\n",
    "        train_person_data_2 , train_person_labels_2 = self._sep(person_2 , label = 2)\n",
    "\n",
    "        #产生索引并置乱\n",
    "        idx_train_data = list(range(len(train_person_data_0) + len(train_person_data_1)+ len(train_person_data_2)))\n",
    "        \n",
    "        np.random.shuffle(idx_train_data)\n",
    "\n",
    "        #合并数据\n",
    "        train_data = np.concatenate((train_person_data_0 , train_person_data_1 , train_person_data_2))\n",
    "        train_labels = np.concatenate((train_person_labels_0 , train_person_labels_1 , train_person_labels_2))\n",
    "\n",
    "        #将训练数据打乱\n",
    "        train_data = train_data[idx_train_data]\n",
    "        train_labels = train_labels[idx_train_data] ##self.labels\n",
    "        \n",
    "        #只使用下面的成员\n",
    "        self.data = train_data\n",
    "        self.labels = train_labels\n",
    "                \n",
    "        #=================\n",
    "        #=================\n",
    "        #合并为sequence\n",
    "        train_data_sequence = np.reshape(train_data , newshape=(-1 , origin_channel)) #length*channel\n",
    "\n",
    "        train_data_count = train_data.shape[0]\n",
    "\n",
    "        #trial索引\n",
    "        trial_idx = np.array([i*(self.sampling_freq * self.trial_len) for i in range(train_data_count)]) ##self.trial\n",
    "        \n",
    "        #构建子类成员\n",
    "        self.raw_data = train_data_sequence\n",
    "        self.trials = trial_idx\n",
    "        \n",
    "        #=================\n",
    "        \n",
    "        \n",
    "    def load(self, **kwargs):\n",
    "        self._combine()\n",
    "\n",
    "#引用方式       \n",
    "dataset = EEG()\n",
    "dataset.load()"
   ]
  }
 ],
 "metadata": {
  "kernelspec": {
   "display_name": "Python 3",
   "language": "python",
   "name": "python3"
  },
  "language_info": {
   "codemirror_mode": {
    "name": "ipython",
    "version": 3
   },
   "file_extension": ".py",
   "mimetype": "text/x-python",
   "name": "python",
   "nbconvert_exporter": "python",
   "pygments_lexer": "ipython3",
   "version": "3.6.1"
  }
 },
 "nbformat": 4,
 "nbformat_minor": 2
}
