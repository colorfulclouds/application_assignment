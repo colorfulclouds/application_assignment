{
 "cells": [
  {
   "cell_type": "code",
   "execution_count": 1,
   "metadata": {
    "collapsed": true
   },
   "outputs": [],
   "source": [
    "import numpy as np\n",
    "from scipy import linalg\n",
    "\n",
    "import pandas as pd\n",
    "\n",
    "\n",
    "from sklearn.cluster import KMeans\n",
    "from sklearn.cluster import DBSCAN\n",
    "from sklearn.mixture import GaussianMixture\n",
    "\n",
    "import matplotlib.pyplot as plt\n",
    "\n",
    "import gc\n",
    "\n",
    "%matplotlib inline"
   ]
  },
  {
   "cell_type": "code",
   "execution_count": 2,
   "metadata": {
    "collapsed": true
   },
   "outputs": [],
   "source": [
    "sample = 128 #hz\n",
    "trial_time = 3 #s\n",
    "\n",
    "origin_channel = 5 #5 channel eeg\n"
   ]
  },
  {
   "cell_type": "code",
   "execution_count": 3,
   "metadata": {
    "collapsed": true
   },
   "outputs": [],
   "source": [
    "def cov_mat(X):\n",
    "    return np.matmul(X , X.T)/np.trace(np.matmul(X , X.T))\n",
    "\n",
    "#计算每种样本的平均协方差矩阵\n",
    "def average_norm_cov_mat(data):\n",
    "    count = data.shape[0]\n",
    "    sum_mat = np.zeros(shape=(data[0].shape[0] , data[0].shape[0]))\n",
    "    \n",
    "    for i in range(count):\n",
    "        sum_mat += cov_mat(data[i])\n",
    "    \n",
    "    return sum_mat/count\n",
    "\n",
    "def load_data(file_name):\n",
    "    #pink and white\n",
    "    \n",
    "    temp = pd.read_csv(file_name)\n",
    "    \n",
    "    #删除前3秒和后2秒数据\n",
    "    temp = temp.iloc[ : temp.shape[0] - 2*128] #后2秒 2s sample:128hz\n",
    "    temp = temp.iloc[3*128 : ] #前3秒 3s sample:128hz\n",
    "    \n",
    "    for column in temp.columns:\n",
    "        temp[column] = (temp[column] - temp[column].mean())/temp[column].std() #norm\n",
    "    \n",
    "    #5 channels data\n",
    "    return temp[['AF3' , 'T7','Pz' , 'T8' , 'AF4']]\n",
    "\n",
    "def sep(one_data , label):\n",
    "    train_data = []\n",
    "    train_labels = []\n",
    "    \n",
    "    size = sample*trial_time #384\n",
    "    \n",
    "    for i in range(one_data.shape[0] - size):\n",
    "        train_data.append(one_data.iloc[i : i+size].values) #add one train sample\n",
    "        train_labels.append(label) #corresponding label\n",
    "    \n",
    "    return train_data , train_labels"
   ]
  },
  {
   "cell_type": "code",
   "execution_count": 4,
   "metadata": {
    "collapsed": true
   },
   "outputs": [],
   "source": [
    "def concat_eeg_csv(file_names):\n",
    "    #concat a big csv file\n",
    "    first_file = load_data(file_name = file_names[0])\n",
    "    \n",
    "    file_names.remove(file_names[0])\n",
    "    \n",
    "    for file_name in file_names:\n",
    "        first_file = first_file.append(load_data(file_name = file_name) , ignore_index = True)\n",
    "    \n",
    "    return first_file"
   ]
  },
  {
   "cell_type": "code",
   "execution_count": 1,
   "metadata": {
    "collapsed": true
   },
   "outputs": [],
   "source": [
    "#在进行聚类时 CSP算法后特征变为2维 新生成的特征为2维的\n",
    "\n",
    "m = 1 #选取最高m个特征向量 m最小为1\n",
    "def CSP_matrix(train_data_1 , train_data_2):\n",
    "    #计算投影矩阵\n",
    "    R_pink = average_norm_cov_mat(train_data_1)\n",
    "    R_white = average_norm_cov_mat(train_data_2)\n",
    "    \n",
    "    R = R_pink + R_white\n",
    "    \n",
    "    eigenvalues , U0 = np.linalg.eig(R)\n",
    "\n",
    "    sort_index = np.argsort(eigenvalues)\n",
    "    sort_index = sort_index[:: -1]\n",
    "\n",
    "    U0 = U0[: , sort_index]\n",
    "    eigenvalues = sorted(eigenvalues , reverse=True)\n",
    "\n",
    "    sigma = np.diag(eigenvalues)\n",
    "    \n",
    "    #白化矩阵\n",
    "    P = np.matmul(np.diag(np.power(eigenvalues , -0.5)) , U0.T)\n",
    "    \n",
    "    S_pink = np.matmul(np.matmul(P , R_pink) , P.T)\n",
    "    S_white = np.matmul(np.matmul(P , R_white) , P.T)\n",
    "    \n",
    "    E1 , US1 = np.linalg.eig(S_pink)\n",
    "    E2 , US2 = np.linalg.eig(S_white)\n",
    "\n",
    "    #E1+E2=I\n",
    "    #US1=US2\n",
    "    \n",
    "    sort_index_1 = np.argsort(E1)\n",
    "    sort_index_1 = sort_index_1[:: -1]\n",
    "    \n",
    "    E1 = sorted(E1 , reverse=True)\n",
    "    US1 = US1[: , sort_index_1]\n",
    "    \n",
    "    W_1 = np.matmul(US1[: , 0:m].T , P) #前2列特征向量\n",
    "    #=======================\n",
    "    sort_index_2 = np.argsort(E2)\n",
    "    sort_index_2 = sort_index_2[:: -1]\n",
    "    \n",
    "    E2 = sorted(E2 , reverse=True)\n",
    "    US2 = US2[: , sort_index_2]\n",
    "    \n",
    "    W_2 = np.matmul(US2[: , 0:m].T , P) #前2列特征向量\n",
    "    \n",
    "    return W_1 , W_2"
   ]
  },
  {
   "cell_type": "code",
   "execution_count": 12,
   "metadata": {
    "collapsed": true
   },
   "outputs": [],
   "source": [
    "#low pass filter\n",
    "#50Hz\n",
    "\n",
    "def low_pass(data):\n",
    "    point = 50 #highest freq = 50hz\n",
    "    length = sample * trial_time #256\n",
    "    \n",
    "    for i in range(data.shape[0]):\n",
    "        for j in range(data.shape[1]):\n",
    "            a = np.fft.fft(data[i][j]).real\n",
    "            b = np.fft.fft(data[i][j]).imag\n",
    "            a[point : length-point] = 0\n",
    "            b[point : length-point] = 0\n",
    "            #重建频谱\n",
    "            new_freq = [np.complex(a[i] , b[i]) for i in range(length)]\n",
    "            new_freq = np.array(new_freq)\n",
    "            \n",
    "            data[i][j] = np.fft.ifft(new_freq)\n",
    "        \n",
    "    return data\n"
   ]
  },
  {
   "cell_type": "code",
   "execution_count": 26,
   "metadata": {
    "collapsed": true
   },
   "outputs": [],
   "source": [
    "#使用白色\n",
    "#data_1 = concat_eeg_csv(['data/train_1/fei_white_1.csv' , 'data/train_1/fei_white_2.csv' , 'data/val_1/fei_white_3.csv'])\n",
    "#data_2 = concat_eeg_csv(['data/train_1/sen_white_1.csv' , 'data/train_1/sen_white_2.csv' , 'data/val_1/sen_white_3.csv'])\n",
    "\n",
    "#使用粉色\n",
    "data_1 = concat_eeg_csv(['data/train_1/fei_pink_1.csv' , 'data/train_1/fei_pink_2.csv' , 'data/val_1/fei_pink_3.csv'])\n",
    "data_2 = concat_eeg_csv(['data/train_1/sen_pink_1.csv' , 'data/train_1/sen_pink_2.csv' , 'data/val_1/sen_pink_3.csv'])\n",
    "\n",
    "train_data_1 , train_labels_1 = sep(data_1 , 0)\n",
    "train_data_2 , train_labels_2 = sep(data_2 , 1)\n",
    "\n",
    "train_data_1 = np.array(train_data_1)\n",
    "train_data_2 = np.array(train_data_2)\n",
    "\n",
    "train_labels_1 = np.array(train_labels_1)\n",
    "train_labels_2 = np.array(train_labels_2)\n",
    "\n",
    "train_data_1 = np.transpose(train_data_1 , axes=(0 , 2 , 1))\n",
    "train_data_2 = np.transpose(train_data_2 , axes=(0 , 2 , 1))"
   ]
  },
  {
   "cell_type": "code",
   "execution_count": 27,
   "metadata": {},
   "outputs": [
    {
     "name": "stdout",
     "output_type": "stream",
     "text": [
      "(13020, 5, 384) (37769, 5, 384)\n"
     ]
    }
   ],
   "source": [
    "print(train_data_1.shape , train_data_2.shape)"
   ]
  },
  {
   "cell_type": "code",
   "execution_count": 28,
   "metadata": {},
   "outputs": [
    {
     "name": "stderr",
     "output_type": "stream",
     "text": [
      "I:\\Anaconda3\\lib\\site-packages\\ipykernel\\__main__.py:18: ComplexWarning: Casting complex values to real discards the imaginary part\n"
     ]
    }
   ],
   "source": [
    "#=============\n",
    "#滤波阶段 此时一个小样本为3秒的数据量  此时大致认为信号为平稳的\n",
    "train_data_1 = low_pass(train_data_1)\n",
    "train_data_2 = low_pass(train_data_2)"
   ]
  },
  {
   "cell_type": "code",
   "execution_count": 32,
   "metadata": {
    "collapsed": true
   },
   "outputs": [],
   "source": [
    "W_1 , W_2 = CSP_matrix(train_data_1 , train_data_2)"
   ]
  },
  {
   "cell_type": "code",
   "execution_count": 33,
   "metadata": {},
   "outputs": [
    {
     "data": {
      "text/plain": [
       "array([[ 1.17557999, -1.6001874 ,  0.16565894,  0.44976101,  0.03979761]])"
      ]
     },
     "execution_count": 33,
     "metadata": {},
     "output_type": "execute_result"
    }
   ],
   "source": [
    "W_1"
   ]
  },
  {
   "cell_type": "code",
   "execution_count": 34,
   "metadata": {},
   "outputs": [
    {
     "data": {
      "text/plain": [
       "array([[-0.22585658, -0.67796765, -0.44420474, -0.82418679,  0.7018964 ]])"
      ]
     },
     "execution_count": 34,
     "metadata": {},
     "output_type": "execute_result"
    }
   ],
   "source": [
    "W_2"
   ]
  },
  {
   "cell_type": "code",
   "execution_count": 35,
   "metadata": {
    "collapsed": true
   },
   "outputs": [],
   "source": [
    "train_data = np.concatenate((train_data_1 , train_data_2))\n",
    "\n",
    "train_labels = np.concatenate((train_labels_1 , train_labels_2))\n",
    "\n",
    "train_data_features = []"
   ]
  },
  {
   "cell_type": "code",
   "execution_count": 36,
   "metadata": {},
   "outputs": [
    {
     "name": "stdout",
     "output_type": "stream",
     "text": [
      "(50789, 5, 384) (50789,)\n"
     ]
    }
   ],
   "source": [
    "print(train_data.shape , train_labels.shape)"
   ]
  },
  {
   "cell_type": "code",
   "execution_count": 19,
   "metadata": {
    "collapsed": true
   },
   "outputs": [],
   "source": [
    "def fetch_feature(xi):\n",
    "    #m = 2 #2*m features\n",
    "    #\n",
    "    #Z = np.matmul(W , xi)\n",
    "    #\n",
    "    #Z_pre_m = Z[0:m ,:]\n",
    "    #Z_after_m = Z[-m: , :]\n",
    "    #\n",
    "    #Zp = np.concatenate((Z_pre_m , Z_after_m))\n",
    "    #\n",
    "    #sigma_var_Zp = 0\n",
    "    #\n",
    "    #for i in range(2*m):\n",
    "    #    sigma_var_Zp += np.var(Zp[i])\n",
    "    #    \n",
    "    #fi = [np.log(np.var(Zpi)/sigma_var_Zp) for Zpi in Zp]\n",
    "    #\n",
    "    #fi = np.array(fi)\n",
    "    \n",
    "    #======\n",
    "    #特征维数较低时 例如低于100\n",
    "    #fi = np.concatenate([np.matmul(W_1 , xi) , np.matmul(W_2 , xi)])\n",
    "    #======\n",
    "    \n",
    "    \n",
    "    '''特征提取方式1'''\n",
    "    z1 = np.matmul(W_1 , xi) #m*384  #在聚类情况下 m等于1\n",
    "    z2 = np.matmul(W_2 , xi) #m*384\n",
    "    \n",
    "    #zz1 = np.sum(z1 , axis = 1)[0]\n",
    "    var_z1_1 = np.var(z1 , axis = 1)[0]\n",
    "    ##var_z1_2 = np.var(z1 , axis = 1)[1]\n",
    "    \n",
    "    #zz2 = np.sum(z2 , axis = 1)[0]\n",
    "    var_z2_1 = np.var(z2 , axis = 1)[0]\n",
    "    ##var_z2_2 = np.var(z2 , axis = 1)[1]\n",
    "    \n",
    "    #f1 = var_z1_1/(var_z1_1+var_z2_1)\n",
    "    #f2 = var_z2_1/(var_z1_1+var_z2_1)\n",
    "    ##f3 = var_z1_2/(var_z1_2+var_z2_2)\n",
    "    ##f4 = var_z2_2/(var_z1_2+var_z2_2)\n",
    "    \n",
    "    #return np.array([zz1 , zz2])\n",
    "    return np.array([var_z1_1 , var_z2_1])\n",
    "\n",
    "    #==========\n",
    "    \n",
    "    '''特征提取方式2'''\n",
    "    #z1 = np.matmul(W_1 , xi) #2*384\n",
    "    #z2 = np.matmul(W_2 , xi) #2*384\n",
    "    #return np.concatenate((z1 , z2))\n",
    "    "
   ]
  },
  {
   "cell_type": "code",
   "execution_count": 37,
   "metadata": {
    "collapsed": true
   },
   "outputs": [],
   "source": [
    "for i in range(train_data.shape[0]):\n",
    "    train_data_features.append(fetch_feature(train_data[i]))\n",
    "\n",
    "train_data_features = np.array(train_data_features)"
   ]
  },
  {
   "cell_type": "code",
   "execution_count": 21,
   "metadata": {},
   "outputs": [
    {
     "name": "stdout",
     "output_type": "stream",
     "text": [
      "(40377, 2) (40377,)\n"
     ]
    }
   ],
   "source": [
    "print(train_data_features.shape , train_labels.shape)"
   ]
  },
  {
   "cell_type": "code",
   "execution_count": 68,
   "metadata": {},
   "outputs": [
    {
     "data": {
      "text/plain": [
       "array([2.93915883, 0.05561935])"
      ]
     },
     "execution_count": 68,
     "metadata": {},
     "output_type": "execute_result"
    }
   ],
   "source": [
    "train_data_features[0]"
   ]
  },
  {
   "cell_type": "code",
   "execution_count": 69,
   "metadata": {},
   "outputs": [
    {
     "data": {
      "text/plain": [
       "array([5.303072  , 0.28528421])"
      ]
     },
     "execution_count": 69,
     "metadata": {},
     "output_type": "execute_result"
    }
   ],
   "source": [
    "train_data_features[100]"
   ]
  },
  {
   "cell_type": "code",
   "execution_count": 36,
   "metadata": {
    "collapsed": true
   },
   "outputs": [],
   "source": [
    "#===========\n",
    "#===========\n",
    "#开始聚类过程"
   ]
  },
  {
   "cell_type": "code",
   "execution_count": 38,
   "metadata": {},
   "outputs": [
    {
     "data": {
      "text/plain": [
       "GaussianMixture(covariance_type='full', init_params='kmeans', max_iter=100,\n",
       "        means_init=None, n_components=2, n_init=1, precisions_init=None,\n",
       "        random_state=None, reg_covar=1e-06, tol=0.001, verbose=0,\n",
       "        verbose_interval=10, warm_start=False, weights_init=None)"
      ]
     },
     "execution_count": 38,
     "metadata": {},
     "output_type": "execute_result"
    }
   ],
   "source": [
    "#==========\n",
    "#==========\n",
    "#gmm\n",
    "gmm = GaussianMixture(n_components=2)\n",
    "\n",
    "gmm.fit(train_data_features , train_labels)"
   ]
  },
  {
   "cell_type": "code",
   "execution_count": 39,
   "metadata": {},
   "outputs": [
    {
     "data": {
      "text/plain": [
       "<matplotlib.collections.PathCollection at 0x22600005748>"
      ]
     },
     "execution_count": 39,
     "metadata": {},
     "output_type": "execute_result"
    },
    {
     "data": {
      "image/png": "[encoded data removed]",
      "text/plain": [
       "<matplotlib.figure.Figure at 0x2263f9cf978>"
      ]
     },
     "metadata": {},
     "output_type": "display_data"
    }
   ],
   "source": [
    "plt.figure(figsize=(10 , 8))\n",
    "plt.scatter(train_data_features[: , 0] , train_data_features[: , 1]  , c = gmm.predict(train_data_features))\n",
    "#plt.title('cluster eeg(cluster label)')"
   ]
  },
  {
   "cell_type": "code",
   "execution_count": 40,
   "metadata": {},
   "outputs": [
    {
     "data": {
      "text/plain": [
       "<matplotlib.text.Text at 0x226003a2668>"
      ]
     },
     "execution_count": 40,
     "metadata": {},
     "output_type": "execute_result"
    },
    {
     "data": {
      "image/png": "[encoded data removed]",
      "text/plain": [
       "<matplotlib.figure.Figure at 0x226412c96a0>"
      ]
     },
     "metadata": {},
     "output_type": "display_data"
    }
   ],
   "source": [
    "plt.figure(figsize=(10 , 8))\n",
    "plt.scatter(train_data_features[: , 0] , train_data_features[: , 1] , c = train_labels)\n",
    "plt.title('cluster eeg(cluster label)')"
   ]
  },
  {
   "cell_type": "code",
   "execution_count": null,
   "metadata": {
    "collapsed": true
   },
   "outputs": [],
   "source": []
  }
 ],
 "metadata": {
  "kernelspec": {
   "display_name": "Python 3",
   "language": "python",
   "name": "python3"
  },
  "language_info": {
   "codemirror_mode": {
    "name": "ipython",
    "version": 3
   },
   "file_extension": ".py",
   "mimetype": "text/x-python",
   "name": "python",
   "nbconvert_exporter": "python",
   "pygments_lexer": "ipython3",
   "version": "3.6.1"
  }
 },
 "nbformat": 4,
 "nbformat_minor": 2
}
