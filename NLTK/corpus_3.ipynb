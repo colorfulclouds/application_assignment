{
 "cells": [
  {
   "cell_type": "code",
   "execution_count": 1,
   "metadata": {
    "collapsed": true
   },
   "outputs": [],
   "source": [
    "from nltk.corpus import wordnet as wn\n",
    "import nltk\n",
    "\n",
    "import matplotlib.pyplot as plt\n",
    "\n",
    "%matplotlib inline"
   ]
  },
  {
   "cell_type": "code",
   "execution_count": 3,
   "metadata": {},
   "outputs": [
    {
     "data": {
      "text/plain": [
       "[Synset('car.n.01')]"
      ]
     },
     "execution_count": 3,
     "metadata": {},
     "output_type": "execute_result"
    }
   ],
   "source": [
    "wn.synsets('motorcar')\n",
    "#同义词集"
   ]
  },
  {
   "cell_type": "code",
   "execution_count": 5,
   "metadata": {},
   "outputs": [
    {
     "data": {
      "text/plain": [
       "['car', 'auto', 'automobile', 'machine', 'motorcar']"
      ]
     },
     "execution_count": 5,
     "metadata": {},
     "output_type": "execute_result"
    }
   ],
   "source": [
    "wn.synset('car.n.01').lemma_names()"
   ]
  },
  {
   "cell_type": "code",
   "execution_count": 6,
   "metadata": {},
   "outputs": [
    {
     "data": {
      "text/plain": [
       "'a motor vehicle with four wheels; usually propelled by an internal combustion engine'"
      ]
     },
     "execution_count": 6,
     "metadata": {},
     "output_type": "execute_result"
    }
   ],
   "source": [
    "#一般定义和例句\n",
    "wn.synset('car.n.01').definition()"
   ]
  },
  {
   "cell_type": "code",
   "execution_count": 7,
   "metadata": {},
   "outputs": [
    {
     "data": {
      "text/plain": [
       "['he needs a car to get to work']"
      ]
     },
     "execution_count": 7,
     "metadata": {},
     "output_type": "execute_result"
    }
   ],
   "source": [
    "wn.synset('car.n.01').examples()"
   ]
  },
  {
   "cell_type": "code",
   "execution_count": 8,
   "metadata": {},
   "outputs": [
    {
     "data": {
      "text/plain": [
       "[Lemma('car.n.01.car'),\n",
       " Lemma('car.n.01.auto'),\n",
       " Lemma('car.n.01.automobile'),\n",
       " Lemma('car.n.01.machine'),\n",
       " Lemma('car.n.01.motorcar')]"
      ]
     },
     "execution_count": 8,
     "metadata": {},
     "output_type": "execute_result"
    }
   ],
   "source": [
    "wn.synset('car.n.01').lemmas()"
   ]
  },
  {
   "cell_type": "code",
   "execution_count": 15,
   "metadata": {},
   "outputs": [
    {
     "name": "stdout",
     "output_type": "stream",
     "text": [
      "['car', 'auto', 'automobile', 'machine', 'motorcar']\n",
      "['car', 'railcar', 'railway_car', 'railroad_car']\n",
      "['car', 'gondola']\n",
      "['car', 'elevator_car']\n",
      "['cable_car', 'car']\n"
     ]
    }
   ],
   "source": [
    "for synset in wn.synsets('car'):\n",
    "    print(synset.lemma_names())"
   ]
  },
  {
   "cell_type": "code",
   "execution_count": 16,
   "metadata": {},
   "outputs": [
    {
     "data": {
      "text/plain": [
       "[Lemma('car.n.01.car'),\n",
       " Lemma('car.n.02.car'),\n",
       " Lemma('car.n.03.car'),\n",
       " Lemma('car.n.04.car'),\n",
       " Lemma('cable_car.n.01.car')]"
      ]
     },
     "execution_count": 16,
     "metadata": {},
     "output_type": "execute_result"
    }
   ],
   "source": [
    "wn.lemmas('car')"
   ]
  },
  {
   "cell_type": "code",
   "execution_count": 20,
   "metadata": {},
   "outputs": [
    {
     "name": "stdout",
     "output_type": "stream",
     "text": [
      "['kiss', 'buss', 'osculation']\n",
      "['kiss']\n",
      "['kiss', 'candy_kiss']\n",
      "['kiss']\n",
      "['snog', 'kiss', 'buss', 'osculate']\n",
      "['kiss']\n"
     ]
    }
   ],
   "source": [
    "for syn in wn.synsets('kiss'):\n",
    "    print(syn.lemma_names())"
   ]
  },
  {
   "cell_type": "code",
   "execution_count": 21,
   "metadata": {
    "collapsed": true
   },
   "outputs": [],
   "source": [
    "motorcar = wn.synset('car.n.01')"
   ]
  },
  {
   "cell_type": "code",
   "execution_count": 22,
   "metadata": {
    "collapsed": true
   },
   "outputs": [],
   "source": [
    "types_of_motorcar = motorcar.hyponyms()\n",
    "#下位词"
   ]
  },
  {
   "cell_type": "code",
   "execution_count": 23,
   "metadata": {},
   "outputs": [
    {
     "data": {
      "text/plain": [
       "Synset('stanley_steamer.n.01')"
      ]
     },
     "execution_count": 23,
     "metadata": {},
     "output_type": "execute_result"
    }
   ],
   "source": [
    "types_of_motorcar[26]"
   ]
  },
  {
   "cell_type": "code",
   "execution_count": 29,
   "metadata": {
    "collapsed": true
   },
   "outputs": [
    {
     "data": {
      "text/plain": [
       "[<bound method Lemma.name of Lemma('ambulance.n.01.ambulance')>,\n",
       " <bound method Lemma.name of Lemma('beach_wagon.n.01.beach_wagon')>,\n",
       " <bound method Lemma.name of Lemma('beach_wagon.n.01.station_wagon')>,\n",
       " <bound method Lemma.name of Lemma('beach_wagon.n.01.wagon')>,\n",
       " <bound method Lemma.name of Lemma('beach_wagon.n.01.estate_car')>,\n",
       " <bound method Lemma.name of Lemma('beach_wagon.n.01.beach_waggon')>,\n",
       " <bound method Lemma.name of Lemma('beach_wagon.n.01.station_waggon')>,\n",
       " <bound method Lemma.name of Lemma('beach_wagon.n.01.waggon')>,\n",
       " <bound method Lemma.name of Lemma('bus.n.04.bus')>,\n",
       " <bound method Lemma.name of Lemma('bus.n.04.jalopy')>,\n",
       " <bound method Lemma.name of Lemma('bus.n.04.heap')>,\n",
       " <bound method Lemma.name of Lemma('cab.n.03.cab')>,\n",
       " <bound method Lemma.name of Lemma('cab.n.03.hack')>,\n",
       " <bound method Lemma.name of Lemma('cab.n.03.taxi')>,\n",
       " <bound method Lemma.name of Lemma('cab.n.03.taxicab')>,\n",
       " <bound method Lemma.name of Lemma('compact.n.03.compact')>,\n",
       " <bound method Lemma.name of Lemma('compact.n.03.compact_car')>,\n",
       " <bound method Lemma.name of Lemma('convertible.n.01.convertible')>,\n",
       " <bound method Lemma.name of Lemma('coupe.n.01.coupe')>,\n",
       " <bound method Lemma.name of Lemma('cruiser.n.01.cruiser')>,\n",
       " <bound method Lemma.name of Lemma('cruiser.n.01.police_cruiser')>,\n",
       " <bound method Lemma.name of Lemma('cruiser.n.01.patrol_car')>,\n",
       " <bound method Lemma.name of Lemma('cruiser.n.01.police_car')>,\n",
       " <bound method Lemma.name of Lemma('cruiser.n.01.prowl_car')>,\n",
       " <bound method Lemma.name of Lemma('cruiser.n.01.squad_car')>,\n",
       " <bound method Lemma.name of Lemma('electric.n.01.electric')>,\n",
       " <bound method Lemma.name of Lemma('electric.n.01.electric_automobile')>,\n",
       " <bound method Lemma.name of Lemma('electric.n.01.electric_car')>,\n",
       " <bound method Lemma.name of Lemma('gas_guzzler.n.01.gas_guzzler')>,\n",
       " <bound method Lemma.name of Lemma('hardtop.n.01.hardtop')>,\n",
       " <bound method Lemma.name of Lemma('hatchback.n.01.hatchback')>,\n",
       " <bound method Lemma.name of Lemma('horseless_carriage.n.01.horseless_carriage')>,\n",
       " <bound method Lemma.name of Lemma('hot_rod.n.01.hot_rod')>,\n",
       " <bound method Lemma.name of Lemma('hot_rod.n.01.hot-rod')>,\n",
       " <bound method Lemma.name of Lemma('jeep.n.01.jeep')>,\n",
       " <bound method Lemma.name of Lemma('jeep.n.01.landrover')>,\n",
       " <bound method Lemma.name of Lemma('limousine.n.01.limousine')>,\n",
       " <bound method Lemma.name of Lemma('limousine.n.01.limo')>,\n",
       " <bound method Lemma.name of Lemma('loaner.n.02.loaner')>,\n",
       " <bound method Lemma.name of Lemma('minicar.n.01.minicar')>,\n",
       " <bound method Lemma.name of Lemma('minivan.n.01.minivan')>,\n",
       " <bound method Lemma.name of Lemma('model_t.n.01.Model_T')>,\n",
       " <bound method Lemma.name of Lemma('pace_car.n.01.pace_car')>,\n",
       " <bound method Lemma.name of Lemma('racer.n.02.racer')>,\n",
       " <bound method Lemma.name of Lemma('racer.n.02.race_car')>,\n",
       " <bound method Lemma.name of Lemma('racer.n.02.racing_car')>,\n",
       " <bound method Lemma.name of Lemma('roadster.n.01.roadster')>,\n",
       " <bound method Lemma.name of Lemma('roadster.n.01.runabout')>,\n",
       " <bound method Lemma.name of Lemma('roadster.n.01.two-seater')>,\n",
       " <bound method Lemma.name of Lemma('sedan.n.01.sedan')>,\n",
       " <bound method Lemma.name of Lemma('sedan.n.01.saloon')>,\n",
       " <bound method Lemma.name of Lemma('sport_utility.n.01.sport_utility')>,\n",
       " <bound method Lemma.name of Lemma('sport_utility.n.01.sport_utility_vehicle')>,\n",
       " <bound method Lemma.name of Lemma('sport_utility.n.01.S.U.V.')>,\n",
       " <bound method Lemma.name of Lemma('sport_utility.n.01.SUV')>,\n",
       " <bound method Lemma.name of Lemma('sports_car.n.01.sports_car')>,\n",
       " <bound method Lemma.name of Lemma('sports_car.n.01.sport_car')>,\n",
       " <bound method Lemma.name of Lemma('stanley_steamer.n.01.Stanley_Steamer')>,\n",
       " <bound method Lemma.name of Lemma('stock_car.n.01.stock_car')>,\n",
       " <bound method Lemma.name of Lemma('subcompact.n.01.subcompact')>,\n",
       " <bound method Lemma.name of Lemma('subcompact.n.01.subcompact_car')>,\n",
       " <bound method Lemma.name of Lemma('touring_car.n.01.touring_car')>,\n",
       " <bound method Lemma.name of Lemma('touring_car.n.01.phaeton')>,\n",
       " <bound method Lemma.name of Lemma('touring_car.n.01.tourer')>,\n",
       " <bound method Lemma.name of Lemma('used-car.n.01.used-car')>,\n",
       " <bound method Lemma.name of Lemma('used-car.n.01.secondhand_car')>]"
      ]
     },
     "execution_count": 29,
     "metadata": {},
     "output_type": "execute_result"
    }
   ],
   "source": [
    "list([lemma.name for synset in types_of_motorcar for lemma in synset.lemmas()])"
   ]
  },
  {
   "cell_type": "code",
   "execution_count": 30,
   "metadata": {},
   "outputs": [
    {
     "data": {
      "text/plain": [
       "[Synset('motor_vehicle.n.01')]"
      ]
     },
     "execution_count": 30,
     "metadata": {},
     "output_type": "execute_result"
    }
   ],
   "source": [
    "motorcar.hypernyms()\n",
    "#上位词"
   ]
  },
  {
   "cell_type": "code",
   "execution_count": 33,
   "metadata": {},
   "outputs": [
    {
     "data": {
      "text/plain": [
       "2"
      ]
     },
     "execution_count": 33,
     "metadata": {},
     "output_type": "execute_result"
    }
   ],
   "source": [
    "len(motorcar.hypernym_paths())\n",
    "#2条到达路径"
   ]
  },
  {
   "cell_type": "code",
   "execution_count": 34,
   "metadata": {},
   "outputs": [
    {
     "data": {
      "text/plain": [
       "[Synset('entity.n.01')]"
      ]
     },
     "execution_count": 34,
     "metadata": {},
     "output_type": "execute_result"
    }
   ],
   "source": [
    "motorcar.root_hypernyms()\n",
    "#得到最上位词"
   ]
  },
  {
   "cell_type": "code",
   "execution_count": 36,
   "metadata": {},
   "outputs": [],
   "source": [
    "#nltk.app.wordnet()\n",
    "#图形化看wordnet的层次结构"
   ]
  },
  {
   "cell_type": "code",
   "execution_count": 41,
   "metadata": {},
   "outputs": [
    {
     "data": {
      "text/plain": [
       "[Synset('whale.n.02')]"
      ]
     },
     "execution_count": 41,
     "metadata": {},
     "output_type": "execute_result"
    }
   ],
   "source": [
    "right = wn.synset('right_whale.n.01')\n",
    "orca = wn.synset('orca.n.01')\n",
    "\n",
    "#相似度度量\n",
    "right.lowest_common_hypernyms(orca)"
   ]
  },
  {
   "cell_type": "code",
   "execution_count": 47,
   "metadata": {},
   "outputs": [
    {
     "data": {
      "text/plain": [
       "[[Synset('entity.n.01'),\n",
       "  Synset('physical_entity.n.01'),\n",
       "  Synset('object.n.01'),\n",
       "  Synset('whole.n.02'),\n",
       "  Synset('living_thing.n.01'),\n",
       "  Synset('organism.n.01'),\n",
       "  Synset('animal.n.01'),\n",
       "  Synset('chordate.n.01'),\n",
       "  Synset('vertebrate.n.01'),\n",
       "  Synset('mammal.n.01'),\n",
       "  Synset('placental.n.01'),\n",
       "  Synset('aquatic_mammal.n.01'),\n",
       "  Synset('cetacean.n.01'),\n",
       "  Synset('whale.n.02')]]"
      ]
     },
     "execution_count": 47,
     "metadata": {},
     "output_type": "execute_result"
    }
   ],
   "source": [
    "a = wn.synset('whale.n.02')\n",
    "a.hypernym_paths()"
   ]
  },
  {
   "cell_type": "code",
   "execution_count": 48,
   "metadata": {},
   "outputs": [
    {
     "data": {
      "text/plain": [
       "0.16666666666666666"
      ]
     },
     "execution_count": 48,
     "metadata": {},
     "output_type": "execute_result"
    }
   ],
   "source": [
    "right.path_similarity(orca)"
   ]
  },
  {
   "cell_type": "code",
   "execution_count": null,
   "metadata": {
    "collapsed": true
   },
   "outputs": [],
   "source": []
  }
 ],
 "metadata": {
  "kernelspec": {
   "display_name": "Python 3",
   "language": "python",
   "name": "python3"
  },
  "language_info": {
   "codemirror_mode": {
    "name": "ipython",
    "version": 3
   },
   "file_extension": ".py",
   "mimetype": "text/x-python",
   "name": "python",
   "nbconvert_exporter": "python",
   "pygments_lexer": "ipython3",
   "version": "3.6.1"
  }
 },
 "nbformat": 4,
 "nbformat_minor": 2
}
